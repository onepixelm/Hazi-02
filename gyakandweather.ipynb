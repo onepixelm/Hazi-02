{
  "nbformat": 4,
  "nbformat_minor": 0,
  "metadata": {
    "colab": {
      "name": "gyakandweather.ipynb",
      "version": "0.3.2",
      "provenance": [],
      "collapsed_sections": [],
      "include_colab_link": true
    },
    "kernelspec": {
      "name": "python3",
      "display_name": "Python 3"
    },
    "accelerator": "GPU"
  },
  "cells": [
    {
      "cell_type": "markdown",
      "metadata": {
        "id": "view-in-github",
        "colab_type": "text"
      },
      "source": [
        "<a href=\"https://colab.research.google.com/github/onepixelm/Hazi-02/blob/master/gyakandweather.ipynb\" target=\"_parent\"><img src=\"https://colab.research.google.com/assets/colab-badge.svg\" alt=\"Open In Colab\"/></a>"
      ]
    },
    {
      "metadata": {
        "id": "pVlQfnYehs9M",
        "colab_type": "text"
      },
      "cell_type": "markdown",
      "source": [
        "# http://bit.ly/dl-gyak\n"
      ]
    },
    {
      "metadata": {
        "id": "whj1huktEgAZ",
        "colab_type": "code",
        "outputId": "7fcaccf3-0469-4ffe-8690-89db79da9822",
        "colab": {
          "base_uri": "https://localhost:8080/",
          "height": 124
        }
      },
      "cell_type": "code",
      "source": [
        "!pip install unidecode"
      ],
      "execution_count": 0,
      "outputs": [
        {
          "output_type": "stream",
          "text": [
            "Collecting unidecode\n",
            "\u001b[?25l  Downloading https://files.pythonhosted.org/packages/59/ef/67085e30e8bbcdd76e2f0a4ad8151c13a2c5bce77c85f8cad6e1f16fb141/Unidecode-1.0.22-py2.py3-none-any.whl (235kB)\n",
            "\u001b[K    100% |████████████████████████████████| 235kB 7.1MB/s \n",
            "\u001b[?25hInstalling collected packages: unidecode\n",
            "Successfully installed unidecode-1.0.22\n"
          ],
          "name": "stdout"
        }
      ]
    },
    {
      "metadata": {
        "id": "kRp8znmBC3ZL",
        "colab_type": "code",
        "colab": {}
      },
      "cell_type": "code",
      "source": [
        "from keras.models import Sequential\n",
        "from keras.layers import Dense, Activation, Dropout, LSTM\n",
        "from urllib.request import urlretrieve\n",
        "import unidecode\n",
        "import numpy as np\n",
        "import random\n",
        "import sys\n",
        "import re, cgi"
      ],
      "execution_count": 0,
      "outputs": []
    },
    {
      "metadata": {
        "id": "Kx_WtXXpC3eb",
        "colab_type": "code",
        "colab": {}
      },
      "cell_type": "code",
      "source": [
        "url_book = \"http://mek.oszk.hu/00500/00500/00500.htm\"\n",
        "urlretrieve(url_book, \"book.html\")\n",
        "text = open('book.html', encoding='latin-1').read().lower()"
      ],
      "execution_count": 0,
      "outputs": []
    },
    {
      "metadata": {
        "id": "RlfOYnzCC3lZ",
        "colab_type": "code",
        "outputId": "f1413654-f71f-4078-978e-acb1e5445d98",
        "colab": {
          "base_uri": "https://localhost:8080/",
          "height": 35
        }
      },
      "cell_type": "code",
      "source": [
        "!ls"
      ],
      "execution_count": 0,
      "outputs": [
        {
          "output_type": "stream",
          "text": [
            "book.html  sample_data\n"
          ],
          "name": "stdout"
        }
      ]
    },
    {
      "metadata": {
        "id": "Se5UOauNC3sB",
        "colab_type": "code",
        "outputId": "5218fd32-330a-4789-bfeb-d65edc5ad007",
        "colab": {
          "base_uri": "https://localhost:8080/",
          "height": 35
        }
      },
      "cell_type": "code",
      "source": [
        "len(text)"
      ],
      "execution_count": 0,
      "outputs": [
        {
          "output_type": "execute_result",
          "data": {
            "text/plain": [
              "60911"
            ]
          },
          "metadata": {
            "tags": []
          },
          "execution_count": 7
        }
      ]
    },
    {
      "metadata": {
        "id": "7wV6ADzDC3xA",
        "colab_type": "code",
        "outputId": "6e172e55-7f93-451d-fbde-e0e16558c193",
        "colab": {
          "base_uri": "https://localhost:8080/",
          "height": 72
        }
      },
      "cell_type": "code",
      "source": [
        "tag_re = re.compile(r'(<!--.*?-->|<[^>]*.>)')\n",
        "no_tags = tag_re.sub('',text)\n",
        "text = cgi.escape(no_tags)"
      ],
      "execution_count": 0,
      "outputs": [
        {
          "output_type": "stream",
          "text": [
            "/usr/local/lib/python3.6/dist-packages/ipykernel_launcher.py:3: DeprecationWarning: cgi.escape is deprecated, use html.escape instead\n",
            "  This is separate from the ipykernel package so we can avoid doing imports until\n"
          ],
          "name": "stderr"
        }
      ]
    },
    {
      "metadata": {
        "id": "B2m21sdeC3qQ",
        "colab_type": "code",
        "colab": {}
      },
      "cell_type": "code",
      "source": [
        "def cleanStrings(inStr):\n",
        "  a = inStr.find('<')\n",
        "  b = inStr.find('>')\n",
        "  if a < 0 and b < 0:\n",
        "    return inStr\n",
        "  return cleanString(inStr[a:b-a])\n",
        "\n",
        "text = cleanStrings(text)"
      ],
      "execution_count": 0,
      "outputs": []
    },
    {
      "metadata": {
        "id": "i5cGTRaHC3iv",
        "colab_type": "code",
        "outputId": "17a41c11-8357-444d-adb4-58a16992ee7f",
        "colab": {
          "base_uri": "https://localhost:8080/",
          "height": 35
        }
      },
      "cell_type": "code",
      "source": [
        "print(\"Szoveg hossza:\", len(text))"
      ],
      "execution_count": 0,
      "outputs": [
        {
          "output_type": "stream",
          "text": [
            "Szoveg hossza: 51825\n"
          ],
          "name": "stdout"
        }
      ]
    },
    {
      "metadata": {
        "id": "udY8XXeRGj8n",
        "colab_type": "code",
        "colab": {}
      },
      "cell_type": "code",
      "source": [
        "js_text='var gemius_identifier = \"nA5K38S_R6j5UvHZZUaBxcUFjzOBaptU.eLGPQLqtjX.r7\"; function gemius_pending(i) { window[i] = window[i] || function() {var x = window[i+\"_pdata\"] = window[i+\"_pdata\"] || []; x[x.length]=arguments;};};gemius_pending(\"gemius_hit\"); gemius_pending(\"gemius_event\"); gemius_pending(\"pp_gemius_hit\"); gemius_pending(\"pp_gemius_event\");(function(d,t) {try {var gt=d.createElement(t),s=d.getElementsByTagName(t)[0],l=\"http\"+((location.protocol==\"https:\")?\"s\":\"\"); gt.setAttribute(\"async\",\"async\");gt.setAttribute(\"defer\",\"defer\"); gt.src=l+\"://gthu.hit.gemius.pl/gemius.js\"; s.parentNode.insertBefore(gt,s);} catch (e) {}})(document,\"script\");'\n",
        "    "
      ],
      "execution_count": 0,
      "outputs": []
    },
    {
      "metadata": {
        "id": "8nQbANQkGoWJ",
        "colab_type": "code",
        "colab": {}
      },
      "cell_type": "code",
      "source": [
        "text=text[:-661]"
      ],
      "execution_count": 0,
      "outputs": []
    },
    {
      "metadata": {
        "id": "I6o1X0r8G0r8",
        "colab_type": "code",
        "outputId": "fd9b990b-b59c-4689-9a7e-6289cd273907",
        "colab": {
          "base_uri": "https://localhost:8080/",
          "height": 35
        }
      },
      "cell_type": "code",
      "source": [
        "chars = sorted(list(set(text)))\n",
        "print(\"Elofordulo karakterek szama:\", len(chars))"
      ],
      "execution_count": 0,
      "outputs": [
        {
          "output_type": "stream",
          "text": [
            "Elofordulo karakterek szama: 48\n"
          ],
          "name": "stdout"
        }
      ]
    },
    {
      "metadata": {
        "id": "jpHjBZ0gHI2k",
        "colab_type": "code",
        "outputId": "9fb7c72b-9211-433e-8bd8-e2d472db7bab",
        "colab": {
          "base_uri": "https://localhost:8080/",
          "height": 849
        }
      },
      "cell_type": "code",
      "source": [
        "chars"
      ],
      "execution_count": 0,
      "outputs": [
        {
          "output_type": "execute_result",
          "data": {
            "text/plain": [
              "['\\n',\n",
              " ' ',\n",
              " '!',\n",
              " '\"',\n",
              " '&',\n",
              " '(',\n",
              " ')',\n",
              " ',',\n",
              " '-',\n",
              " '.',\n",
              " '2',\n",
              " '4',\n",
              " ':',\n",
              " ';',\n",
              " '?',\n",
              " 'a',\n",
              " 'b',\n",
              " 'c',\n",
              " 'd',\n",
              " 'e',\n",
              " 'f',\n",
              " 'g',\n",
              " 'h',\n",
              " 'i',\n",
              " 'j',\n",
              " 'k',\n",
              " 'l',\n",
              " 'm',\n",
              " 'n',\n",
              " 'o',\n",
              " 'p',\n",
              " 'r',\n",
              " 's',\n",
              " 't',\n",
              " 'u',\n",
              " 'v',\n",
              " 'w',\n",
              " 'y',\n",
              " 'z',\n",
              " 'á',\n",
              " 'é',\n",
              " 'í',\n",
              " 'ó',\n",
              " 'õ',\n",
              " 'ö',\n",
              " 'ú',\n",
              " 'û',\n",
              " 'ü']"
            ]
          },
          "metadata": {
            "tags": []
          },
          "execution_count": 30
        }
      ]
    },
    {
      "metadata": {
        "id": "NBq1tcwNHQ-S",
        "colab_type": "code",
        "colab": {}
      },
      "cell_type": "code",
      "source": [
        "char_indices = dict((c,i) for i,c in enumerate(chars))"
      ],
      "execution_count": 0,
      "outputs": []
    },
    {
      "metadata": {
        "id": "cF_EIRCMHaMt",
        "colab_type": "code",
        "outputId": "80d76f9c-5e32-4a8e-8df3-1d12577e2ff0",
        "colab": {
          "base_uri": "https://localhost:8080/",
          "height": 55
        }
      },
      "cell_type": "code",
      "source": [
        "print(char_indices)"
      ],
      "execution_count": 0,
      "outputs": [
        {
          "output_type": "stream",
          "text": [
            "{'\\n': 0, ' ': 1, '!': 2, '\"': 3, '&': 4, '(': 5, ')': 6, ',': 7, '-': 8, '.': 9, '2': 10, '4': 11, ':': 12, ';': 13, '?': 14, 'a': 15, 'b': 16, 'c': 17, 'd': 18, 'e': 19, 'f': 20, 'g': 21, 'h': 22, 'i': 23, 'j': 24, 'k': 25, 'l': 26, 'm': 27, 'n': 28, 'o': 29, 'p': 30, 'r': 31, 's': 32, 't': 33, 'u': 34, 'v': 35, 'w': 36, 'y': 37, 'z': 38, 'á': 39, 'é': 40, 'í': 41, 'ó': 42, 'õ': 43, 'ö': 44, 'ú': 45, 'û': 46, 'ü': 47}\n"
          ],
          "name": "stdout"
        }
      ]
    },
    {
      "metadata": {
        "id": "x-9kC34uHfzZ",
        "colab_type": "code",
        "outputId": "8d5bf8f6-e951-4956-c74e-57473dd13a6a",
        "colab": {
          "base_uri": "https://localhost:8080/",
          "height": 55
        }
      },
      "cell_type": "code",
      "source": [
        "indices_char = dict((i,c) for i,c in enumerate(chars))\n",
        "print(indices_char)"
      ],
      "execution_count": 0,
      "outputs": [
        {
          "output_type": "stream",
          "text": [
            "{0: '\\n', 1: ' ', 2: '!', 3: '\"', 4: '&', 5: '(', 6: ')', 7: ',', 8: '-', 9: '.', 10: '2', 11: '4', 12: ':', 13: ';', 14: '?', 15: 'a', 16: 'b', 17: 'c', 18: 'd', 19: 'e', 20: 'f', 21: 'g', 22: 'h', 23: 'i', 24: 'j', 25: 'k', 26: 'l', 27: 'm', 28: 'n', 29: 'o', 30: 'p', 31: 'r', 32: 's', 33: 't', 34: 'u', 35: 'v', 36: 'w', 37: 'y', 38: 'z', 39: 'á', 40: 'é', 41: 'í', 42: 'ó', 43: 'õ', 44: 'ö', 45: 'ú', 46: 'û', 47: 'ü'}\n"
          ],
          "name": "stdout"
        }
      ]
    },
    {
      "metadata": {
        "id": "lWX5G_auHsQ7",
        "colab_type": "text"
      },
      "cell_type": "markdown",
      "source": [
        "Szöveg numerikussá alakítása és ablakokra való vágása:"
      ]
    },
    {
      "metadata": {
        "id": "jcPqqEuHHwcn",
        "colab_type": "code",
        "colab": {}
      },
      "cell_type": "code",
      "source": [
        "maxlen = 40\n",
        "step = 3\n",
        "\n",
        "sentences = []\n",
        "next_chars = []\n",
        "\n",
        "for i in range(0, len(text)-maxlen, step):\n",
        "  sentences.append(text[i:i+maxlen])\n",
        "  next_chars.append(text[i+maxlen])\n",
        " "
      ],
      "execution_count": 0,
      "outputs": []
    },
    {
      "metadata": {
        "id": "HmN3Gw7aIMlF",
        "colab_type": "code",
        "outputId": "25b8466f-dbd3-4822-83c4-b90720561a7f",
        "colab": {
          "base_uri": "https://localhost:8080/",
          "height": 17177
        }
      },
      "cell_type": "code",
      "source": [
        "sentences"
      ],
      "execution_count": 0,
      "outputs": [
        {
          "output_type": "execute_result",
          "data": {
            "text/plain": [
              "['\\n\\n\\n\\n\\n        \\n        szophoklész: antig',\n",
              " '\\n\\n        \\n        szophoklész: antigoné',\n",
              " '       \\n        szophoklész: antigoné\\n\\n\\n',\n",
              " '    \\n        szophoklész: antigoné\\n\\n\\n\\n\\n ',\n",
              " ' \\n        szophoklész: antigoné\\n\\n\\n\\n\\n  \\n ',\n",
              " '       szophoklész: antigoné\\n\\n\\n\\n\\n  \\n    ',\n",
              " '    szophoklész: antigoné\\n\\n\\n\\n\\n  \\n    szo',\n",
              " ' szophoklész: antigoné\\n\\n\\n\\n\\n  \\n    szopho',\n",
              " 'ophoklész: antigoné\\n\\n\\n\\n\\n  \\n    szophoklé',\n",
              " 'oklész: antigoné\\n\\n\\n\\n\\n  \\n    szophoklész\\n',\n",
              " 'ész: antigoné\\n\\n\\n\\n\\n  \\n    szophoklész\\n   ',\n",
              " ': antigoné\\n\\n\\n\\n\\n  \\n    szophoklész\\n   ant',\n",
              " 'ntigoné\\n\\n\\n\\n\\n  \\n    szophoklész\\n   antigo',\n",
              " 'goné\\n\\n\\n\\n\\n  \\n    szophoklész\\n   antigoné\\n',\n",
              " 'é\\n\\n\\n\\n\\n  \\n    szophoklész\\n   antigoné\\nfor',\n",
              " '\\n\\n\\n  \\n    szophoklész\\n   antigoné\\nfordít',\n",
              " '  \\n    szophoklész\\n   antigoné\\nfordított',\n",
              " '    szophoklész\\n   antigoné\\nfordította: ',\n",
              " ' szophoklész\\n   antigoné\\nfordította: tre',\n",
              " 'ophoklész\\n   antigoné\\nfordította: trencs',\n",
              " 'oklész\\n   antigoné\\nfordította: trencsény',\n",
              " 'ész\\n   antigoné\\nfordította: trencsényi-w',\n",
              " '\\n   antigoné\\nfordította: trencsényi-wald',\n",
              " ' antigoné\\nfordította: trencsényi-waldapf',\n",
              " 'tigoné\\nfordította: trencsényi-waldapfel ',\n",
              " 'oné\\nfordította: trencsényi-waldapfel imr',\n",
              " '\\nfordította: trencsényi-waldapfel imre \\n',\n",
              " 'rdította: trencsényi-waldapfel imre \\n\\n\\n\\n',\n",
              " 'totta: trencsényi-waldapfel imre \\n\\n\\n\\n\\n  ',\n",
              " 'ta: trencsényi-waldapfel imre \\n\\n\\n\\n\\n  \\n\\n&',\n",
              " ' trencsényi-waldapfel imre \\n\\n\\n\\n\\n  \\n\\n&amp',\n",
              " 'encsényi-waldapfel imre \\n\\n\\n\\n\\n  \\n\\n&amp;am',\n",
              " 'sényi-waldapfel imre \\n\\n\\n\\n\\n  \\n\\n&amp;amp;n',\n",
              " 'yi-waldapfel imre \\n\\n\\n\\n\\n  \\n\\n&amp;amp;nbsp',\n",
              " 'waldapfel imre \\n\\n\\n\\n\\n  \\n\\n&amp;amp;nbsp;\\ns',\n",
              " 'dapfel imre \\n\\n\\n\\n\\n  \\n\\n&amp;amp;nbsp;\\nszem',\n",
              " 'fel imre \\n\\n\\n\\n\\n  \\n\\n&amp;amp;nbsp;\\nszemély',\n",
              " ' imre \\n\\n\\n\\n\\n  \\n\\n&amp;amp;nbsp;\\nszemélyek\\n',\n",
              " 're \\n\\n\\n\\n\\n  \\n\\n&amp;amp;nbsp;\\nszemélyek\\n  \\n',\n",
              " '\\n\\n\\n\\n\\n  \\n\\n&amp;amp;nbsp;\\nszemélyek\\n  \\n  a',\n",
              " '\\n\\n  \\n\\n&amp;amp;nbsp;\\nszemélyek\\n  \\n  anti',\n",
              " ' \\n\\n&amp;amp;nbsp;\\nszemélyek\\n  \\n  antigon',\n",
              " '&amp;amp;nbsp;\\nszemélyek\\n  \\n  antigoné\\n ',\n",
              " 'p;amp;nbsp;\\nszemélyek\\n  \\n  antigoné\\n  is',\n",
              " 'mp;nbsp;\\nszemélyek\\n  \\n  antigoné\\n  iszmé',\n",
              " 'nbsp;\\nszemélyek\\n  \\n  antigoné\\n  iszméné\\n',\n",
              " 'p;\\nszemélyek\\n  \\n  antigoné\\n  iszméné\\n  a',\n",
              " 'személyek\\n  \\n  antigoné\\n  iszméné\\n  a th',\n",
              " 'mélyek\\n  \\n  antigoné\\n  iszméné\\n  a théba',\n",
              " 'yek\\n  \\n  antigoné\\n  iszméné\\n  a thébai v',\n",
              " '\\n  \\n  antigoné\\n  iszméné\\n  a thébai véne',\n",
              " '\\n  antigoné\\n  iszméné\\n  a thébai vének k',\n",
              " 'antigoné\\n  iszméné\\n  a thébai vének kara',\n",
              " 'igoné\\n  iszméné\\n  a thébai vének kara\\n  ',\n",
              " 'né\\n  iszméné\\n  a thébai vének kara\\n  kre',\n",
              " '  iszméné\\n  a thébai vének kara\\n  kreón\\n',\n",
              " 'szméné\\n  a thébai vének kara\\n  kreón\\n  õ',\n",
              " 'éné\\n  a thébai vének kara\\n  kreón\\n  õr\\n ',\n",
              " '\\n  a thébai vének kara\\n  kreón\\n  õr\\n  ha',\n",
              " 'a thébai vének kara\\n  kreón\\n  õr\\n  haimó',\n",
              " 'hébai vének kara\\n  kreón\\n  õr\\n  haimón\\n ',\n",
              " 'ai vének kara\\n  kreón\\n  õr\\n  haimón\\n  te',\n",
              " 'vének kara\\n  kreón\\n  õr\\n  haimón\\n  teire',\n",
              " 'ek kara\\n  kreón\\n  õr\\n  haimón\\n  teireszi',\n",
              " 'kara\\n  kreón\\n  õr\\n  haimón\\n  teiresziász',\n",
              " 'a\\n  kreón\\n  õr\\n  haimón\\n  teiresziász\\n  ',\n",
              " ' kreón\\n  õr\\n  haimón\\n  teiresziász\\n  hír',\n",
              " 'eón\\n  õr\\n  haimón\\n  teiresziász\\n  hírnök',\n",
              " '\\n  õr\\n  haimón\\n  teiresziász\\n  hírnök\\n  ',\n",
              " 'õr\\n  haimón\\n  teiresziász\\n  hírnök\\n  eur',\n",
              " '  haimón\\n  teiresziász\\n  hírnök\\n  eurüdi',\n",
              " 'aimón\\n  teiresziász\\n  hírnök\\n  eurüdiké\\n',\n",
              " 'ón\\n  teiresziász\\n  hírnök\\n  eurüdiké\\n  m',\n",
              " '  teiresziász\\n  hírnök\\n  eurüdiké\\n  máso',\n",
              " 'eiresziász\\n  hírnök\\n  eurüdiké\\n  második',\n",
              " 'esziász\\n  hírnök\\n  eurüdiké\\n  második hí',\n",
              " 'iász\\n  hírnök\\n  eurüdiké\\n  második hírnö',\n",
              " 'z\\n  hírnök\\n  eurüdiké\\n  második hírnök\\nt',\n",
              " ' hírnök\\n  eurüdiké\\n  második hírnök\\ntört',\n",
              " 'rnök\\n  eurüdiké\\n  második hírnök\\ntörténi',\n",
              " 'k\\n  eurüdiké\\n  második hírnök\\ntörténik t',\n",
              " ' eurüdiké\\n  második hírnök\\ntörténik théb',\n",
              " 'rüdiké\\n  második hírnök\\ntörténik thébaib',\n",
              " 'iké\\n  második hírnök\\ntörténik thébaiban,',\n",
              " '\\n  második hírnök\\ntörténik thébaiban, a ',\n",
              " 'második hírnök\\ntörténik thébaiban, a kir',\n",
              " 'odik hírnök\\ntörténik thébaiban, a király',\n",
              " 'k hírnök\\ntörténik thébaiban, a királyi p',\n",
              " 'írnök\\ntörténik thébaiban, a királyi palo',\n",
              " 'ök\\ntörténik thébaiban, a királyi palota ',\n",
              " 'történik thébaiban, a királyi palota elõ',\n",
              " 'ténik thébaiban, a királyi palota elõtt\\n',\n",
              " 'ik thébaiban, a királyi palota elõtt\\nbem',\n",
              " 'thébaiban, a királyi palota elõtt\\nbemuta',\n",
              " 'baiban, a királyi palota elõtt\\nbemutattá',\n",
              " 'ban, a királyi palota elõtt\\nbemutatták k',\n",
              " ', a királyi palota elõtt\\nbemutatták kr. ',\n",
              " ' királyi palota elõtt\\nbemutatták kr. e. ',\n",
              " 'rályi palota elõtt\\nbemutatták kr. e. 442',\n",
              " 'yi palota elõtt\\nbemutatták kr. e. 442-be',\n",
              " 'palota elõtt\\nbemutatták kr. e. 442-ben \\n',\n",
              " 'ota elõtt\\nbemutatták kr. e. 442-ben \\n&am',\n",
              " ' elõtt\\nbemutatták kr. e. 442-ben \\n&amp;a',\n",
              " 'õtt\\nbemutatták kr. e. 442-ben \\n&amp;amp;',\n",
              " '\\nbemutatták kr. e. 442-ben \\n&amp;amp;nbs',\n",
              " 'mutatták kr. e. 442-ben \\n&amp;amp;nbsp;\\n',\n",
              " 'atták kr. e. 442-ben \\n&amp;amp;nbsp;\\n\\nan',\n",
              " 'ák kr. e. 442-ben \\n&amp;amp;nbsp;\\n\\nantig',\n",
              " 'kr. e. 442-ben \\n&amp;amp;nbsp;\\n\\nantigoné',\n",
              " ' e. 442-ben \\n&amp;amp;nbsp;\\n\\nantigoné és',\n",
              " ' 442-ben \\n&amp;amp;nbsp;\\n\\nantigoné és is',\n",
              " '2-ben \\n&amp;amp;nbsp;\\n\\nantigoné és iszmé',\n",
              " 'en \\n&amp;amp;nbsp;\\n\\nantigoné és iszméné\\n',\n",
              " '\\n&amp;amp;nbsp;\\n\\nantigoné és iszméné\\n\\n\\na',\n",
              " 'mp;amp;nbsp;\\n\\nantigoné és iszméné\\n\\n\\nanti',\n",
              " 'amp;nbsp;\\n\\nantigoné és iszméné\\n\\n\\nantigon',\n",
              " ';nbsp;\\n\\nantigoné és iszméné\\n\\n\\nantigonéis',\n",
              " 'sp;\\n\\nantigoné és iszméné\\n\\n\\nantigonéiszmé',\n",
              " '\\n\\nantigoné és iszméné\\n\\n\\nantigonéiszméné,',\n",
              " 'ntigoné és iszméné\\n\\n\\nantigonéiszméné, te',\n",
              " 'goné és iszméné\\n\\n\\nantigonéiszméné, testv',\n",
              " 'é és iszméné\\n\\n\\nantigonéiszméné, testvér,',\n",
              " 's iszméné\\n\\n\\nantigonéiszméné, testvér, eg',\n",
              " 'szméné\\n\\n\\nantigonéiszméné, testvér, egy s',\n",
              " 'éné\\n\\n\\nantigonéiszméné, testvér, egy szív',\n",
              " '\\n\\n\\nantigonéiszméné, testvér, egy szív, e',\n",
              " 'antigonéiszméné, testvér, egy szív, egy ',\n",
              " 'igonéiszméné, testvér, egy szív, egy lél',\n",
              " 'néiszméné, testvér, egy szív, egy lélek ',\n",
              " 'szméné, testvér, egy szív, egy lélek vel',\n",
              " 'éné, testvér, egy szív, egy lélek velem,',\n",
              " ', testvér, egy szív, egy lélek velem,ism',\n",
              " 'estvér, egy szív, egy lélek velem,ismers',\n",
              " 'vér, egy szív, egy lélek velem,ismersz-e',\n",
              " ', egy szív, egy lélek velem,ismersz-e ba',\n",
              " 'gy szív, egy lélek velem,ismersz-e bajt,',\n",
              " 'szív, egy lélek velem,ismersz-e bajt, mi',\n",
              " 'v, egy lélek velem,ismersz-e bajt, mit o',\n",
              " 'egy lélek velem,ismersz-e bajt, mit oidi',\n",
              " ' lélek velem,ismersz-e bajt, mit oidipus',\n",
              " 'lek velem,ismersz-e bajt, mit oidipusz a',\n",
              " ' velem,ismersz-e bajt, mit oidipusz atyá',\n",
              " 'lem,ismersz-e bajt, mit oidipusz atyánk ',\n",
              " ',ismersz-e bajt, mit oidipusz atyánk utá',\n",
              " 'mersz-e bajt, mit oidipusz atyánk utánke',\n",
              " 'sz-e bajt, mit oidipusz atyánk utánkettõ',\n",
              " 'e bajt, mit oidipusz atyánk utánkettõnkr',\n",
              " 'ajt, mit oidipusz atyánk utánkettõnkre, ',\n",
              " ', mit oidipusz atyánk utánkettõnkre, kik',\n",
              " 'it oidipusz atyánk utánkettõnkre, kik mé',\n",
              " 'oidipusz atyánk utánkettõnkre, kik még é',\n",
              " 'ipusz atyánk utánkettõnkre, kik még élün',\n",
              " 'sz atyánk utánkettõnkre, kik még élünk, ',\n",
              " 'atyánk utánkettõnkre, kik még élünk, nem',\n",
              " 'ánk utánkettõnkre, kik még élünk, nem ha',\n",
              " ' utánkettõnkre, kik még élünk, nem halmo',\n",
              " 'ánkettõnkre, kik még élünk, nem halmozna',\n",
              " 'ettõnkre, kik még élünk, nem halmozna ze',\n",
              " 'õnkre, kik még élünk, nem halmozna zeusz',\n",
              " 're, kik még élünk, nem halmozna zeusz?me',\n",
              " ' kik még élünk, nem halmozna zeusz?mert ',\n",
              " 'k még élünk, nem halmozna zeusz?mert nin',\n",
              " 'ég élünk, nem halmozna zeusz?mert nincse',\n",
              " 'élünk, nem halmozna zeusz?mert nincsen á',\n",
              " 'nk, nem halmozna zeusz?mert nincsen átok',\n",
              " ' nem halmozna zeusz?mert nincsen átok és',\n",
              " 'm halmozna zeusz?mert nincsen átok és ni',\n",
              " 'almozna zeusz?mert nincsen átok és nincs',\n",
              " 'ozna zeusz?mert nincsen átok és nincs se',\n",
              " 'a zeusz?mert nincsen átok és nincs semmi',\n",
              " 'eusz?mert nincsen átok és nincs semmi fá',\n",
              " 'z?mert nincsen átok és nincs semmi fájda',\n",
              " 'ert nincsen átok és nincs semmi fájdalom',\n",
              " ' nincsen átok és nincs semmi fájdalom,ni',\n",
              " 'ncsen átok és nincs semmi fájdalom,nincs',\n",
              " 'en átok és nincs semmi fájdalom,nincs be',\n",
              " 'átok és nincs semmi fájdalom,nincs becst',\n",
              " 'k és nincs semmi fájdalom,nincs becstele',\n",
              " 's nincs semmi fájdalom,nincs becstelensé',\n",
              " 'incs semmi fájdalom,nincs becstelenség é',\n",
              " 's semmi fájdalom,nincs becstelenség és n',\n",
              " 'emmi fájdalom,nincs becstelenség és ninc',\n",
              " 'i fájdalom,nincs becstelenség és nincsen',\n",
              " 'ájdalom,nincs becstelenség és nincsen me',\n",
              " 'alom,nincs becstelenség és nincsen megcs',\n",
              " 'm,nincs becstelenség és nincsen megcsúfo',\n",
              " 'incs becstelenség és nincsen megcsúfolás',\n",
              " 's becstelenség és nincsen megcsúfolás,am',\n",
              " 'ecstelenség és nincsen megcsúfolás,amit ',\n",
              " 'telenség és nincsen megcsúfolás,amit ne ',\n",
              " 'enség és nincsen megcsúfolás,amit ne lát',\n",
              " 'ég és nincsen megcsúfolás,amit ne látnán',\n",
              " 'és nincsen megcsúfolás,amit ne látnánk r',\n",
              " 'nincsen megcsúfolás,amit ne látnánk rajt',\n",
              " 'csen megcsúfolás,amit ne látnánk rajtunk',\n",
              " 'n megcsúfolás,amit ne látnánk rajtunk te',\n",
              " 'egcsúfolás,amit ne látnánk rajtunk telje',\n",
              " 'súfolás,amit ne látnánk rajtunk teljesed',\n",
              " 'olás,amit ne látnánk rajtunk teljesedni ',\n",
              " 's,amit ne látnánk rajtunk teljesedni be.',\n",
              " 'mit ne látnánk rajtunk teljesedni be.mos',\n",
              " ' ne látnánk rajtunk teljesedni be.most i',\n",
              " ' látnánk rajtunk teljesedni be.most is m',\n",
              " 'tnánk rajtunk teljesedni be.most is mi a',\n",
              " 'nk rajtunk teljesedni be.most is mi az, ',\n",
              " 'rajtunk teljesedni be.most is mi az, mit',\n",
              " 'tunk teljesedni be.most is mi az, mit vá',\n",
              " 'k teljesedni be.most is mi az, mit város',\n",
              " 'eljesedni be.most is mi az, mit várossze',\n",
              " 'esedni be.most is mi az, mit városszerte',\n",
              " 'dni be.most is mi az, mit városszerte ha',\n",
              " ' be.most is mi az, mit városszerte hall ',\n",
              " '.most is mi az, mit városszerte hall a n',\n",
              " 'st is mi az, mit városszerte hall a nép,',\n",
              " 'is mi az, mit városszerte hall a nép,kih',\n",
              " 'mi az, mit városszerte hall a nép,kihird',\n",
              " 'az, mit városszerte hall a nép,kihirdeté',\n",
              " ' mit városszerte hall a nép,kihirdetésre',\n",
              " 't városszerte hall a nép,kihirdetésre mi',\n",
              " 'árosszerte hall a nép,kihirdetésre mily ',\n",
              " 'sszerte hall a nép,kihirdetésre mily kir',\n",
              " 'erte hall a nép,kihirdetésre mily király',\n",
              " 'e hall a nép,kihirdetésre mily királyi s',\n",
              " 'all a nép,kihirdetésre mily királyi szó ',\n",
              " ' a nép,kihirdetésre mily királyi szó ker',\n",
              " 'nép,kihirdetésre mily királyi szó került',\n",
              " ',kihirdetésre mily királyi szó került?ha',\n",
              " 'hirdetésre mily királyi szó került?hallo',\n",
              " 'detésre mily királyi szó került?hallod, ',\n",
              " 'ésre mily királyi szó került?hallod, tud',\n",
              " 'e mily királyi szó került?hallod, tudod?',\n",
              " 'ily királyi szó került?hallod, tudod? va',\n",
              " ' királyi szó került?hallod, tudod? vagy ',\n",
              " 'rályi szó került?hallod, tudod? vagy nem',\n",
              " 'yi szó került?hallod, tudod? vagy nem ju',\n",
              " 'szó került?hallod, tudod? vagy nem jutot',\n",
              " ' került?hallod, tudod? vagy nem jutott f',\n",
              " 'rült?hallod, tudod? vagy nem jutott füle',\n",
              " 't?hallod, tudod? vagy nem jutott füledbe',\n",
              " 'allod, tudod? vagy nem jutott füledbe mé',\n",
              " 'od, tudod? vagy nem jutott füledbe még,m',\n",
              " ' tudod? vagy nem jutott füledbe még,mive',\n",
              " 'dod? vagy nem jutott füledbe még,mivel s',\n",
              " '? vagy nem jutott füledbe még,mivel sújt',\n",
              " 'agy nem jutott füledbe még,mivel sújtják',\n",
              " ' nem jutott füledbe még,mivel sújtják a ',\n",
              " 'm jutott füledbe még,mivel sújtják a gyû',\n",
              " 'utott füledbe még,mivel sújtják a gyûlöl',\n",
              " 'tt füledbe még,mivel sújtják a gyûlölõk ',\n",
              " 'füledbe még,mivel sújtják a gyûlölõk sze',\n",
              " 'edbe még,mivel sújtják a gyûlölõk szeret',\n",
              " 'e még,mivel sújtják a gyûlölõk szerettei',\n",
              " 'ég,mivel sújtják a gyûlölõk szeretteid?\\n',\n",
              " 'mivel sújtják a gyûlölõk szeretteid?\\nisz',\n",
              " 'el sújtják a gyûlölõk szeretteid?\\niszmén',\n",
              " 'sújtják a gyûlölõk szeretteid?\\niszméného',\n",
              " 'tják a gyûlölõk szeretteid?\\niszménéhozzá',\n",
              " 'k a gyûlölõk szeretteid?\\niszménéhozzám s',\n",
              " ' gyûlölõk szeretteid?\\niszménéhozzám szer',\n",
              " 'ûlölõk szeretteid?\\niszménéhozzám szerett',\n",
              " 'lõk szeretteid?\\niszménéhozzám szerettein',\n",
              " ' szeretteid?\\niszménéhozzám szeretteink f',\n",
              " 'eretteid?\\niszménéhozzám szeretteink felõ',\n",
              " 'tteid?\\niszménéhozzám szeretteink felõl, ',\n",
              " 'id?\\niszménéhozzám szeretteink felõl, ant',\n",
              " '\\niszménéhozzám szeretteink felõl, antigo',\n",
              " 'zménéhozzám szeretteink felõl, antigoné,',\n",
              " 'néhozzám szeretteink felõl, antigoné,se ',\n",
              " 'ozzám szeretteink felõl, antigoné,se jó,',\n",
              " 'ám szeretteink felõl, antigoné,se jó, se',\n",
              " 'szeretteink felõl, antigoné,se jó, se ro',\n",
              " 'retteink felõl, antigoné,se jó, se rossz',\n",
              " 'teink felõl, antigoné,se jó, se rossz hí',\n",
              " 'nk felõl, antigoné,se jó, se rossz hír n',\n",
              " 'felõl, antigoné,se jó, se rossz hír nem ',\n",
              " 'õl, antigoné,se jó, se rossz hír nem jut',\n",
              " ' antigoné,se jó, se rossz hír nem jutott',\n",
              " 'tigoné,se jó, se rossz hír nem jutott az',\n",
              " 'oné,se jó, se rossz hír nem jutott azóta',\n",
              " ',se jó, se rossz hír nem jutott azóta, h',\n",
              " ' jó, se rossz hír nem jutott azóta, hogy',\n",
              " ', se rossz hír nem jutott azóta, hogykét',\n",
              " 'e rossz hír nem jutott azóta, hogykét te',\n",
              " 'ossz hír nem jutott azóta, hogykét testv',\n",
              " 'z hír nem jutott azóta, hogykét testvér ',\n",
              " 'ír nem jutott azóta, hogykét testvér két',\n",
              " 'nem jutott azóta, hogykét testvér két te',\n",
              " ' jutott azóta, hogykét testvér két testv',\n",
              " 'tott azóta, hogykét testvér két testvérü',\n",
              " 't azóta, hogykét testvér két testvérünke',\n",
              " 'zóta, hogykét testvér két testvérünket v',\n",
              " 'a, hogykét testvér két testvérünket vesz',\n",
              " 'hogykét testvér két testvérünket vesztet',\n",
              " 'ykét testvér két testvérünket vesztettük',\n",
              " 't testvér két testvérünket vesztettük el',\n",
              " 'estvér két testvérünket vesztettük el,ki',\n",
              " 'vér két testvérünket vesztettük el,kik e',\n",
              " ' két testvérünket vesztettük el,kik egy ',\n",
              " 't testvérünket vesztettük el,kik egy nap',\n",
              " 'estvérünket vesztettük el,kik egy napon ',\n",
              " 'vérünket vesztettük el,kik egy napon s e',\n",
              " 'ünket vesztettük el,kik egy napon s egym',\n",
              " 'et vesztettük el,kik egy napon s egymás ',\n",
              " 'vesztettük el,kik egy napon s egymás kez',\n",
              " 'ztettük el,kik egy napon s egymás kezétõ',\n",
              " 'ttük el,kik egy napon s egymás kezétõl e',\n",
              " 'k el,kik egy napon s egymás kezétõl este',\n",
              " 'l,kik egy napon s egymás kezétõl estek e',\n",
              " 'ik egy napon s egymás kezétõl estek el.m',\n",
              " 'egy napon s egymás kezétõl estek el.ma é',\n",
              " ' napon s egymás kezétõl estek el.ma éjje',\n",
              " 'pon s egymás kezétõl estek el.ma éjjel a',\n",
              " ' s egymás kezétõl estek el.ma éjjel argo',\n",
              " 'egymás kezétõl estek el.ma éjjel argosz ',\n",
              " 'más kezétõl estek el.ma éjjel argosz har',\n",
              " ' kezétõl estek el.ma éjjel argosz harci ',\n",
              " 'zétõl estek el.ma éjjel argosz harci nép',\n",
              " 'õl estek el.ma éjjel argosz harci népe e',\n",
              " 'estek el.ma éjjel argosz harci népe elvo',\n",
              " 'ek el.ma éjjel argosz harci népe elvonul',\n",
              " 'el.ma éjjel argosz harci népe elvonult,s',\n",
              " 'ma éjjel argosz harci népe elvonult,s az',\n",
              " 'éjjel argosz harci népe elvonult,s azóta',\n",
              " 'el argosz harci népe elvonult,s azóta se',\n",
              " 'argosz harci népe elvonult,s azóta semmi',\n",
              " 'osz harci népe elvonult,s azóta semmit s',\n",
              " ' harci népe elvonult,s azóta semmit sem ',\n",
              " 'rci népe elvonult,s azóta semmit sem tud',\n",
              " ' népe elvonult,s azóta semmit sem tudok,',\n",
              " 'pe elvonult,s azóta semmit sem tudok, mi',\n",
              " 'elvonult,s azóta semmit sem tudok, mi en',\n",
              " 'onult,s azóta semmit sem tudok, mi engem',\n",
              " 'lt,s azóta semmit sem tudok, mi engemetb',\n",
              " 's azóta semmit sem tudok, mi engemetbold',\n",
              " 'zóta semmit sem tudok, mi engemetboldogg',\n",
              " 'a semmit sem tudok, mi engemetboldoggá t',\n",
              " 'emmit sem tudok, mi engemetboldoggá tenn',\n",
              " 'it sem tudok, mi engemetboldoggá tenne v',\n",
              " 'sem tudok, mi engemetboldoggá tenne vagy',\n",
              " ' tudok, mi engemetboldoggá tenne vagy mé',\n",
              " 'dok, mi engemetboldoggá tenne vagy mélye',\n",
              " ', mi engemetboldoggá tenne vagy mélyebbr',\n",
              " 'i engemetboldoggá tenne vagy mélyebbre s',\n",
              " 'ngemetboldoggá tenne vagy mélyebbre sújt',\n",
              " 'metboldoggá tenne vagy mélyebbre sújtana',\n",
              " 'boldoggá tenne vagy mélyebbre sújtana.\\na',\n",
              " 'doggá tenne vagy mélyebbre sújtana.\\nanti',\n",
              " 'gá tenne vagy mélyebbre sújtana.\\nantigon',\n",
              " 'tenne vagy mélyebbre sújtana.\\nantigonémi',\n",
              " 'ne vagy mélyebbre sújtana.\\nantigonémindj',\n",
              " 'vagy mélyebbre sújtana.\\nantigonémindjárt',\n",
              " 'y mélyebbre sújtana.\\nantigonémindjárt go',\n",
              " 'élyebbre sújtana.\\nantigonémindjárt gondo',\n",
              " 'ebbre sújtana.\\nantigonémindjárt gondolta',\n",
              " 're sújtana.\\nantigonémindjárt gondoltam, ',\n",
              " 'sújtana.\\nantigonémindjárt gondoltam, épp',\n",
              " 'tana.\\nantigonémindjárt gondoltam, épp az',\n",
              " 'a.\\nantigonémindjárt gondoltam, épp azért',\n",
              " 'antigonémindjárt gondoltam, épp azért hí',\n",
              " 'igonémindjárt gondoltam, épp azért hívat',\n",
              " 'némindjárt gondoltam, épp azért hívattal',\n",
              " 'indjárt gondoltam, épp azért hívattalaka',\n",
              " 'járt gondoltam, épp azért hívattalaka há',\n",
              " 't gondoltam, épp azért hívattalaka ház e',\n",
              " 'ondoltam, épp azért hívattalaka ház elé,',\n",
              " 'oltam, épp azért hívattalaka ház elé, ho',\n",
              " 'am, épp azért hívattalaka ház elé, hogy ',\n",
              " ' épp azért hívattalaka ház elé, hogy meg',\n",
              " 'p azért hívattalaka ház elé, hogy meg ne',\n",
              " 'zért hívattalaka ház elé, hogy meg ne ha',\n",
              " 't hívattalaka ház elé, hogy meg ne hallj',\n",
              " 'ívattalaka ház elé, hogy meg ne hallja s',\n",
              " 'ttalaka ház elé, hogy meg ne hallja senk',\n",
              " 'laka ház elé, hogy meg ne hallja senki m',\n",
              " 'a ház elé, hogy meg ne hallja senki más.',\n",
              " 'áz elé, hogy meg ne hallja senki más.\\nis',\n",
              " 'elé, hogy meg ne hallja senki más.\\niszmé',\n",
              " ', hogy meg ne hallja senki más.\\niszménék',\n",
              " 'ogy meg ne hallja senki más.\\niszménékirõ',\n",
              " ' meg ne hallja senki más.\\niszménékirõl b',\n",
              " 'g ne hallja senki más.\\niszménékirõl besz',\n",
              " 'e hallja senki más.\\niszménékirõl beszéls',\n",
              " 'allja senki más.\\niszménékirõl beszélsz? ',\n",
              " 'ja senki más.\\niszménékirõl beszélsz? söt',\n",
              " 'senki más.\\niszménékirõl beszélsz? sötét ',\n",
              " 'ki más.\\niszménékirõl beszélsz? sötét és ',\n",
              " 'más.\\niszménékirõl beszélsz? sötét és nyu',\n",
              " '.\\niszménékirõl beszélsz? sötét és nyugta',\n",
              " 'szménékirõl beszélsz? sötét és nyugtalan',\n",
              " 'énékirõl beszélsz? sötét és nyugtalan sz',\n",
              " 'kirõl beszélsz? sötét és nyugtalan szava',\n",
              " 'õl beszélsz? sötét és nyugtalan szavad.\\n',\n",
              " 'beszélsz? sötét és nyugtalan szavad.\\nant',\n",
              " 'zélsz? sötét és nyugtalan szavad.\\nantigo',\n",
              " 'sz? sötét és nyugtalan szavad.\\nantigonéh',\n",
              " ' sötét és nyugtalan szavad.\\nantigonéhát ',\n",
              " 'tét és nyugtalan szavad.\\nantigonéhát nem',\n",
              " ' és nyugtalan szavad.\\nantigonéhát nem me',\n",
              " ' nyugtalan szavad.\\nantigonéhát nem megvo',\n",
              " 'ugtalan szavad.\\nantigonéhát nem megvonta',\n",
              " 'alan szavad.\\nantigonéhát nem megvonta ké',\n",
              " 'n szavad.\\nantigonéhát nem megvonta két t',\n",
              " 'zavad.\\nantigonéhát nem megvonta két test',\n",
              " 'ad.\\nantigonéhát nem megvonta két testvér',\n",
              " '\\nantigonéhát nem megvonta két testvér kö',\n",
              " 'tigonéhát nem megvonta két testvér közül',\n",
              " 'onéhát nem megvonta két testvér közül kr',\n",
              " 'hát nem megvonta két testvér közül kreón',\n",
              " ' nem megvonta két testvér közül kreóna m',\n",
              " 'm megvonta két testvér közül kreóna mási',\n",
              " 'egvonta két testvér közül kreóna másiktó',\n",
              " 'onta két testvér közül kreóna másiktól, ',\n",
              " 'a két testvér közül kreóna másiktól, mi ',\n",
              " 'ét testvér közül kreóna másiktól, mi egy',\n",
              " 'testvér közül kreóna másiktól, mi egyikn',\n",
              " 'tvér közül kreóna másiktól, mi egyiknek ',\n",
              " 'r közül kreóna másiktól, mi egyiknek kij',\n",
              " 'özül kreóna másiktól, mi egyiknek kijárt',\n",
              " 'l kreóna másiktól, mi egyiknek kijárt, a',\n",
              " 'reóna másiktól, mi egyiknek kijárt, a sí',\n",
              " 'na másiktól, mi egyiknek kijárt, a sírt?',\n",
              " 'másiktól, mi egyiknek kijárt, a sírt?ete',\n",
              " 'iktól, mi egyiknek kijárt, a sírt?eteokl',\n",
              " 'ól, mi egyiknek kijárt, a sírt?eteoklész',\n",
              " ' mi egyiknek kijárt, a sírt?eteoklészt, ',\n",
              " ' egyiknek kijárt, a sírt?eteoklészt, min',\n",
              " 'yiknek kijárt, a sírt?eteoklészt, mint m',\n",
              " 'nek kijárt, a sírt?eteoklészt, mint mond',\n",
              " ' kijárt, a sírt?eteoklészt, mint mondják',\n",
              " 'járt, a sírt?eteoklészt, mint mondják, j',\n",
              " 't, a sírt?eteoklészt, mint mondják, jog ',\n",
              " 'a sírt?eteoklészt, mint mondják, jog s t',\n",
              " 'írt?eteoklészt, mint mondják, jog s törv',\n",
              " '?eteoklészt, mint mondják, jog s törvény',\n",
              " 'eoklészt, mint mondják, jog s törvény sz',\n",
              " 'lészt, mint mondják, jog s törvény szeri',\n",
              " 'zt, mint mondják, jog s törvény szerinta',\n",
              " ' mint mondják, jog s törvény szerinta fö',\n",
              " 'nt mondják, jog s törvény szerinta föld ',\n",
              " 'mondják, jog s törvény szerinta föld gör',\n",
              " 'dják, jog s törvény szerinta föld göröng',\n",
              " 'k, jog s törvény szerinta föld göröngyév',\n",
              " 'jog s törvény szerinta föld göröngyével ',\n",
              " ' s törvény szerinta föld göröngyével tak',\n",
              " 'törvény szerinta föld göröngyével takart',\n",
              " 'vény szerinta föld göröngyével takarta e',\n",
              " 'y szerinta föld göröngyével takarta el, ',\n",
              " 'zerinta föld göröngyével takarta el, hog',\n",
              " 'inta föld göröngyével takarta el, hogy õ',\n",
              " 'a föld göröngyével takarta el, hogy õtaz',\n",
              " 'öld göröngyével takarta el, hogy õtaz al',\n",
              " ' göröngyével takarta el, hogy õtaz alvil',\n",
              " 'röngyével takarta el, hogy õtaz alvilági',\n",
              " 'gyével takarta el, hogy õtaz alvilágiak ',\n",
              " 'vel takarta el, hogy õtaz alvilágiak köz',\n",
              " ' takarta el, hogy õtaz alvilágiak közt v',\n",
              " 'karta el, hogy õtaz alvilágiak közt várj',\n",
              " 'ta el, hogy õtaz alvilágiak közt várja t',\n",
              " 'el, hogy õtaz alvilágiak közt várja tisz',\n",
              " ' hogy õtaz alvilágiak közt várja tisztel',\n",
              " 'gy õtaz alvilágiak közt várja tisztelet.',\n",
              " 'õtaz alvilágiak közt várja tisztelet.de ',\n",
              " 'z alvilágiak közt várja tisztelet.de pol',\n",
              " 'lvilágiak közt várja tisztelet.de polüne',\n",
              " 'lágiak közt várja tisztelet.de polüneiké',\n",
              " 'iak közt várja tisztelet.de polüneikészt',\n",
              " ' közt várja tisztelet.de polüneikészt, m',\n",
              " 'zt várja tisztelet.de polüneikészt, mert',\n",
              " 'várja tisztelet.de polüneikészt, mert el',\n",
              " 'ja tisztelet.de polüneikészt, mert elhul',\n",
              " 'tisztelet.de polüneikészt, mert elhullt ',\n",
              " 'ztelet.de polüneikészt, mert elhullt ves',\n",
              " 'let.de polüneikészt, mert elhullt veszte',\n",
              " '.de polüneikészt, mert elhullt vesztett ',\n",
              " ' polüneikészt, mert elhullt vesztett ügy',\n",
              " 'lüneikészt, mert elhullt vesztett ügyért',\n",
              " 'eikészt, mert elhullt vesztett ügyért,il',\n",
              " 'észt, mert elhullt vesztett ügyért,ilyen',\n",
              " 't, mert elhullt vesztett ügyért,ilyen pa',\n",
              " 'mert elhullt vesztett ügyért,ilyen paran',\n",
              " 't elhullt vesztett ügyért,ilyen parancs ',\n",
              " 'lhullt vesztett ügyért,ilyen parancs fut',\n",
              " 'llt vesztett ügyért,ilyen parancs fut sz',\n",
              " ' vesztett ügyért,ilyen parancs fut szét ',\n",
              " 'sztett ügyért,ilyen parancs fut szét a v',\n",
              " 'ett ügyért,ilyen parancs fut szét a váro',\n",
              " ' ügyért,ilyen parancs fut szét a város n',\n",
              " 'yért,ilyen parancs fut szét a város népe',\n",
              " 't,ilyen parancs fut szét a város népe kö',\n",
              " 'lyen parancs fut szét a város népe közt,',\n",
              " 'n parancs fut szét a város népe közt,hog',\n",
              " 'arancs fut szét a város népe közt,hogy e',\n",
              " 'ncs fut szét a város népe közt,hogy elte',\n",
              " ' fut szét a város népe közt,hogy eltemet',\n",
              " 't szét a város népe közt,hogy eltemetni,',\n",
              " 'zét a város népe közt,hogy eltemetni, se',\n",
              " ' a város népe közt,hogy eltemetni, sem s',\n",
              " 'város népe közt,hogy eltemetni, sem sira',\n",
              " 'os népe közt,hogy eltemetni, sem siratni',\n",
              " 'népe közt,hogy eltemetni, sem siratni ne',\n",
              " 'e közt,hogy eltemetni, sem siratni nem s',\n",
              " 'özt,hogy eltemetni, sem siratni nem szab',\n",
              " ',hogy eltemetni, sem siratni nem szabad,',\n",
              " 'gy eltemetni, sem siratni nem szabad,hag',\n",
              " 'eltemetni, sem siratni nem szabad,hagyjá',\n",
              " 'emetni, sem siratni nem szabad,hagyják, ',\n",
              " 'tni, sem siratni nem szabad,hagyják, hev',\n",
              " ', sem siratni nem szabad,hagyják, heverj',\n",
              " 'em siratni nem szabad,hagyják, heverjen ',\n",
              " 'siratni nem szabad,hagyják, heverjen ott',\n",
              " 'atni nem szabad,hagyják, heverjen ott me',\n",
              " 'i nem szabad,hagyják, heverjen ott megkö',\n",
              " 'em szabad,hagyják, heverjen ott megkönny',\n",
              " 'szabad,hagyják, heverjen ott megkönnyeze',\n",
              " 'bad,hagyják, heverjen ott megkönnyezetle',\n",
              " ',hagyják, heverjen ott megkönnyezetlenül',\n",
              " 'gyják, heverjen ott megkönnyezetlenül,a ',\n",
              " 'ák, heverjen ott megkönnyezetlenül,a dög',\n",
              " ' heverjen ott megkönnyezetlenül,a dögmad',\n",
              " 'verjen ott megkönnyezetlenül,a dögmadár ',\n",
              " 'jen ott megkönnyezetlenül,a dögmadár kiv',\n",
              " ' ott megkönnyezetlenül,a dögmadár kivána',\n",
              " 't megkönnyezetlenül,a dögmadár kivánatos',\n",
              " 'egkönnyezetlenül,a dögmadár kivánatos zs',\n",
              " 'önnyezetlenül,a dögmadár kivánatos zsákm',\n",
              " 'yezetlenül,a dögmadár kivánatos zsákmány',\n",
              " 'etlenül,a dögmadár kivánatos zsákmányaké',\n",
              " 'enül,a dögmadár kivánatos zsákmányaként.',\n",
              " 'l,a dögmadár kivánatos zsákmányaként.a j',\n",
              " ' dögmadár kivánatos zsákmányaként.a jó k',\n",
              " 'gmadár kivánatos zsákmányaként.a jó kreó',\n",
              " 'dár kivánatos zsákmányaként.a jó kreón i',\n",
              " ' kivánatos zsákmányaként.a jó kreón ilye',\n",
              " 'vánatos zsákmányaként.a jó kreón ilyen p',\n",
              " 'atos zsákmányaként.a jó kreón ilyen para',\n",
              " 's zsákmányaként.a jó kreón ilyen parancs',\n",
              " 'sákmányaként.a jó kreón ilyen parancsot ',\n",
              " 'mányaként.a jó kreón ilyen parancsot osz',\n",
              " 'yaként.a jó kreón ilyen parancsot osztog',\n",
              " 'ént.a jó kreón ilyen parancsot osztogatn',\n",
              " '.a jó kreón ilyen parancsot osztogatneke',\n",
              " 'jó kreón ilyen parancsot osztogatneked s',\n",
              " 'kreón ilyen parancsot osztogatneked s ne',\n",
              " 'ón ilyen parancsot osztogatneked s nekem',\n",
              " 'ilyen parancsot osztogatneked s nekem - ',\n",
              " 'en parancsot osztogatneked s nekem - nek',\n",
              " 'parancsot osztogatneked s nekem - nekem!',\n",
              " 'ancsot osztogatneked s nekem - nekem! ki',\n",
              " 'sot osztogatneked s nekem - nekem! ki ke',\n",
              " ' osztogatneked s nekem - nekem! ki kell ',\n",
              " 'ztogatneked s nekem - nekem! ki kell ezt',\n",
              " 'gatneked s nekem - nekem! ki kell ezt mo',\n",
              " 'neked s nekem - nekem! ki kell ezt monda',\n",
              " 'ed s nekem - nekem! ki kell ezt mondanom',\n",
              " 's nekem - nekem! ki kell ezt mondanom! -',\n",
              " 'ekem - nekem! ki kell ezt mondanom! -,s ',\n",
              " 'm - nekem! ki kell ezt mondanom! -,s min',\n",
              " ' nekem! ki kell ezt mondanom! -,s mindjá',\n",
              " 'kem! ki kell ezt mondanom! -,s mindjárt ',\n",
              " '! ki kell ezt mondanom! -,s mindjárt jön',\n",
              " 'i kell ezt mondanom! -,s mindjárt jön is',\n",
              " 'ell ezt mondanom! -,s mindjárt jön is, h',\n",
              " ' ezt mondanom! -,s mindjárt jön is, hogy',\n",
              " 't mondanom! -,s mindjárt jön is, hogy ki',\n",
              " 'ondanom! -,s mindjárt jön is, hogy kik m',\n",
              " 'anom! -,s mindjárt jön is, hogy kik még ',\n",
              " 'm! -,s mindjárt jön is, hogy kik még nem',\n",
              " '-,s mindjárt jön is, hogy kik még nem tu',\n",
              " ' mindjárt jön is, hogy kik még nem tudjá',\n",
              " 'ndjárt jön is, hogy kik még nem tudják t',\n",
              " 'árt jön is, hogy kik még nem tudják talá',\n",
              " ' jön is, hogy kik még nem tudják talán,a',\n",
              " 'n is, hogy kik még nem tudják talán,azok',\n",
              " 's, hogy kik még nem tudják talán,azok sa',\n",
              " 'hogy kik még nem tudják talán,azok saját',\n",
              " 'y kik még nem tudják talán,azok saját sz',\n",
              " 'ik még nem tudják talán,azok saját szájá',\n",
              " 'még nem tudják talán,azok saját szájából',\n",
              " ' nem tudják talán,azok saját szájából ha',\n",
              " 'm tudják talán,azok saját szájából hallj',\n",
              " 'udják talán,azok saját szájából hallják ',\n",
              " 'ák talán,azok saját szájából hallják meg',\n",
              " 'talán,azok saját szájából hallják meg s ',\n",
              " 'án,azok saját szájából hallják meg s veg',\n",
              " 'azok saját szájából hallják meg s vegyék',\n",
              " 'k saját szájából hallják meg s vegyéka t',\n",
              " 'aját szájából hallják meg s vegyéka tilt',\n",
              " 't szájából hallják meg s vegyéka tiltó s',\n",
              " 'zájából hallják meg s vegyéka tiltó szót',\n",
              " 'ából hallják meg s vegyéka tiltó szót sz',\n",
              " 'l hallják meg s vegyéka tiltó szót szivü',\n",
              " 'allják meg s vegyéka tiltó szót szivükre',\n",
              " 'ják meg s vegyéka tiltó szót szivükre, m',\n",
              " ' meg s vegyéka tiltó szót szivükre, mert',\n",
              " 'g s vegyéka tiltó szót szivükre, mert ki',\n",
              " ' vegyéka tiltó szót szivükre, mert ki me',\n",
              " 'gyéka tiltó szót szivükre, mert ki megsz',\n",
              " 'ka tiltó szót szivükre, mert ki megszegi',\n",
              " 'tiltó szót szivükre, mert ki megszegi,ny',\n",
              " 'tó szót szivükre, mert ki megszegi,nyilv',\n",
              " 'szót szivükre, mert ki megszegi,nyilváno',\n",
              " 't szivükre, mert ki megszegi,nyilvánosan',\n",
              " 'zivükre, mert ki megszegi,nyilvánosan fo',\n",
              " 'ükre, mert ki megszegi,nyilvánosan fogjá',\n",
              " 'e, mert ki megszegi,nyilvánosan fogják a',\n",
              " 'mert ki megszegi,nyilvánosan fogják azt ',\n",
              " 't ki megszegi,nyilvánosan fogják azt meg',\n",
              " 'i megszegi,nyilvánosan fogják azt megköv',\n",
              " 'egszegi,nyilvánosan fogják azt megkövezn',\n",
              " 'zegi,nyilvánosan fogják azt megkövezni m',\n",
              " 'i,nyilvánosan fogják azt megkövezni majd',\n",
              " 'yilvánosan fogják azt megkövezni majd.ez',\n",
              " 'vánosan fogják azt megkövezni majd.ez íg',\n",
              " 'osan fogják azt megkövezni majd.ez így v',\n",
              " 'n fogják azt megkövezni majd.ez így van,',\n",
              " 'ogják azt megkövezni majd.ez így van, és',\n",
              " 'ák azt megkövezni majd.ez így van, és mo',\n",
              " 'azt megkövezni majd.ez így van, és most ',\n",
              " ' megkövezni majd.ez így van, és most meg',\n",
              " 'gkövezni majd.ez így van, és most megmut',\n",
              " 'vezni majd.ez így van, és most megmutath',\n",
              " 'ni majd.ez így van, és most megmutathato',\n",
              " 'majd.ez így van, és most megmutathatod, ',\n",
              " 'd.ez így van, és most megmutathatod, ki ',\n",
              " 'z így van, és most megmutathatod, ki vag',\n",
              " 'gy van, és most megmutathatod, ki vagy,d',\n",
              " 'van, és most megmutathatod, ki vagy,deré',\n",
              " ', és most megmutathatod, ki vagy,derék õ',\n",
              " 's most megmutathatod, ki vagy,derék õsök',\n",
              " 'ost megmutathatod, ki vagy,derék õsökhöz',\n",
              " ' megmutathatod, ki vagy,derék õsökhöz mé',\n",
              " 'gmutathatod, ki vagy,derék õsökhöz méltó',\n",
              " 'tathatod, ki vagy,derék õsökhöz méltó, v',\n",
              " 'hatod, ki vagy,derék õsökhöz méltó, vagy',\n",
              " 'od, ki vagy,derék õsökhöz méltó, vagy hi',\n",
              " ' ki vagy,derék õsökhöz méltó, vagy hitvá',\n",
              " ' vagy,derék õsökhöz méltó, vagy hitvány ',\n",
              " 'gy,derék õsökhöz méltó, vagy hitvány utó',\n",
              " 'derék õsökhöz méltó, vagy hitvány utód.\\n',\n",
              " 'ék õsökhöz méltó, vagy hitvány utód.\\nisz',\n",
              " 'õsökhöz méltó, vagy hitvány utód.\\niszmén',\n",
              " 'khöz méltó, vagy hitvány utód.\\niszménész',\n",
              " 'z méltó, vagy hitvány utód.\\niszménészere',\n",
              " 'éltó, vagy hitvány utód.\\niszménészerencs',\n",
              " 'ó, vagy hitvány utód.\\niszménészerencsétl',\n",
              " 'vagy hitvány utód.\\niszménészerencsétlen ',\n",
              " 'y hitvány utód.\\niszménészerencsétlen leá',\n",
              " 'itvány utód.\\niszménészerencsétlen leány,',\n",
              " 'ány utód.\\niszménészerencsétlen leány, ha',\n",
              " ' utód.\\niszménészerencsétlen leány, ha íg',\n",
              " 'ód.\\niszménészerencsétlen leány, ha így v',\n",
              " '\\niszménészerencsétlen leány, ha így van ',\n",
              " 'zménészerencsétlen leány, ha így van ez,',\n",
              " 'nészerencsétlen leány, ha így van ez, ma',\n",
              " 'zerencsétlen leány, ha így van ez, magam',\n",
              " 'encsétlen leány, ha így van ez, magam- k',\n",
              " 'sétlen leány, ha így van ez, magam- kötö',\n",
              " 'len leány, ha így van ez, magam- kötök v',\n",
              " ' leány, ha így van ez, magam- kötök vagy',\n",
              " 'ány, ha így van ez, magam- kötök vagy ol',\n",
              " ', ha így van ez, magam- kötök vagy oldok',\n",
              " 'a így van ez, magam- kötök vagy oldok - ',\n",
              " 'gy van ez, magam- kötök vagy oldok - raj',\n",
              " 'van ez, magam- kötök vagy oldok - rajta ',\n",
              " ' ez, magam- kötök vagy oldok - rajta mit',\n",
              " ', magam- kötök vagy oldok - rajta mit vá',\n",
              " 'agam- kötök vagy oldok - rajta mit válto',\n",
              " 'm- kötök vagy oldok - rajta mit változta',\n",
              " 'kötök vagy oldok - rajta mit változtatok',\n",
              " 'ök vagy oldok - rajta mit változtatok?\\na',\n",
              " 'vagy oldok - rajta mit változtatok?\\nanti',\n",
              " 'y oldok - rajta mit változtatok?\\nantigon',\n",
              " 'ldok - rajta mit változtatok?\\nantigonégo',\n",
              " 'k - rajta mit változtatok?\\nantigonégondo',\n",
              " ' rajta mit változtatok?\\nantigonégondold ',\n",
              " 'jta mit változtatok?\\nantigonégondold meg',\n",
              " ' mit változtatok?\\nantigonégondold meg ez',\n",
              " 't változtatok?\\nantigonégondold meg ezt: ',\n",
              " 'áltoztatok?\\nantigonégondold meg ezt: vel',\n",
              " 'oztatok?\\nantigonégondold meg ezt: velem ',\n",
              " 'atok?\\nantigonégondold meg ezt: velem tar',\n",
              " 'k?\\nantigonégondold meg ezt: velem tartas',\n",
              " 'antigonégondold meg ezt: velem tartasz, ',\n",
              " 'igonégondold meg ezt: velem tartasz, seg',\n",
              " 'négondold meg ezt: velem tartasz, segíte',\n",
              " 'ondold meg ezt: velem tartasz, segítesz-',\n",
              " 'old meg ezt: velem tartasz, segítesz-e?\\n',\n",
              " ' meg ezt: velem tartasz, segítesz-e?\\nisz',\n",
              " 'g ezt: velem tartasz, segítesz-e?\\niszmén',\n",
              " 'zt: velem tartasz, segítesz-e?\\niszménéte',\n",
              " ' velem tartasz, segítesz-e?\\niszménéterve',\n",
              " 'lem tartasz, segítesz-e?\\niszménéterved h',\n",
              " ' tartasz, segítesz-e?\\niszménéterved hová',\n",
              " 'rtasz, segítesz-e?\\niszménéterved hová ve',\n",
              " 'sz, segítesz-e?\\niszménéterved hová vezet',\n",
              " ' segítesz-e?\\niszménéterved hová vezet, m',\n",
              " 'gítesz-e?\\niszménéterved hová vezet, mily',\n",
              " 'esz-e?\\niszménéterved hová vezet, milyen ',\n",
              " '-e?\\niszménéterved hová vezet, milyen ves',\n",
              " '\\niszménéterved hová vezet, milyen veszél',\n",
              " 'zménéterved hová vezet, milyen veszélybe',\n",
              " 'néterved hová vezet, milyen veszélybe mé',\n",
              " 'erved hová vezet, milyen veszélybe mégy?',\n",
              " 'ed hová vezet, milyen veszélybe mégy?\\nan',\n",
              " 'hová vezet, milyen veszélybe mégy?\\nantig',\n",
              " 'á vezet, milyen veszélybe mégy?\\nantigoné',\n",
              " 'ezet, milyen veszélybe mégy?\\nantigonéa d',\n",
              " 't, milyen veszélybe mégy?\\nantigonéa drág',\n",
              " 'milyen veszélybe mégy?\\nantigonéa drága t',\n",
              " 'yen veszélybe mégy?\\nantigonéa drága test',\n",
              " ' veszélybe mégy?\\nantigonéa drága testet ',\n",
              " 'szélybe mégy?\\nantigonéa drága testet két',\n",
              " 'lybe mégy?\\nantigonéa drága testet két ke',\n",
              " 'e mégy?\\nantigonéa drága testet két kezed',\n",
              " 'égy?\\nantigonéa drága testet két kezeddel',\n",
              " '?\\nantigonéa drága testet két kezeddel bí',\n",
              " 'ntigonéa drága testet két kezeddel bírod',\n",
              " 'gonéa drága testet két kezeddel bírod-e?',\n",
              " 'éa drága testet két kezeddel bírod-e?\\nis',\n",
              " 'drága testet két kezeddel bírod-e?\\niszmé',\n",
              " 'ga testet két kezeddel bírod-e?\\niszménét',\n",
              " 'testet két kezeddel bírod-e?\\niszménéte m',\n",
              " 'tet két kezeddel bírod-e?\\niszménéte mern',\n",
              " ' két kezeddel bírod-e?\\niszménéte mernéd ',\n",
              " 't kezeddel bírod-e?\\niszménéte mernéd elt',\n",
              " 'ezeddel bírod-e?\\niszménéte mernéd elteme',\n",
              " 'ddel bírod-e?\\niszménéte mernéd eltemetni',\n",
              " 'l bírod-e?\\niszménéte mernéd eltemetni õt',\n",
              " 'írod-e?\\niszménéte mernéd eltemetni õt, a',\n",
              " 'd-e?\\niszménéte mernéd eltemetni õt, akit',\n",
              " '?\\niszménéte mernéd eltemetni õt, akit ti',\n",
              " 'szménéte mernéd eltemetni õt, akit tilos',\n",
              " 'énéte mernéd eltemetni õt, akit tilos?\\na',\n",
              " 'te mernéd eltemetni õt, akit tilos?\\nanti',\n",
              " 'mernéd eltemetni õt, akit tilos?\\nantigon',\n",
              " 'néd eltemetni õt, akit tilos?\\nantigonéte',\n",
              " ' eltemetni õt, akit tilos?\\nantigonétestv',\n",
              " 'temetni õt, akit tilos?\\nantigonétestvére',\n",
              " 'etni õt, akit tilos?\\nantigonétestvéremet',\n",
              " 'i õt, akit tilos?\\nantigonétestvéremet s ',\n",
              " 't, akit tilos?\\nantigonétestvéremet s tes',\n",
              " 'akit tilos?\\nantigonétestvéremet s testvé',\n",
              " 't tilos?\\nantigonétestvéremet s testvéred',\n",
              " 'ilos?\\nantigonétestvéremet s testvéredet,',\n",
              " 's?\\nantigonétestvéremet s testvéredet, ha',\n",
              " 'antigonétestvéremet s testvéredet, ha ne',\n",
              " 'igonétestvéremet s testvéredet, ha nem k',\n",
              " 'nétestvéremet s testvéredet, ha nem köve',\n",
              " 'estvéremet s testvéredet, ha nem követsz',\n",
              " 'véremet s testvéredet, ha nem követsz,de',\n",
              " 'emet s testvéredet, ha nem követsz,de se',\n",
              " 't s testvéredet, ha nem követsz,de senki',\n",
              " ' testvéredet, ha nem követsz,de senki ár',\n",
              " 'stvéredet, ha nem követsz,de senki árulá',\n",
              " 'éredet, ha nem követsz,de senki áruláson',\n",
              " 'det, ha nem követsz,de senki áruláson en',\n",
              " ', ha nem követsz,de senki áruláson engem',\n",
              " 'a nem követsz,de senki áruláson engemet ',\n",
              " 'em követsz,de senki áruláson engemet nem',\n",
              " 'követsz,de senki áruláson engemet nem ér',\n",
              " 'etsz,de senki áruláson engemet nem ér.\\ni',\n",
              " 'z,de senki áruláson engemet nem ér.\\niszm',\n",
              " 'e senki áruláson engemet nem ér.\\niszméné',\n",
              " 'enki áruláson engemet nem ér.\\niszménéirt',\n",
              " 'i áruláson engemet nem ér.\\niszménéirtóza',\n",
              " 'ruláson engemet nem ér.\\niszménéirtózatos',\n",
              " 'áson engemet nem ér.\\niszménéirtózatos, h',\n",
              " 'n engemet nem ér.\\niszménéirtózatos, ha e',\n",
              " 'ngemet nem ér.\\niszménéirtózatos, ha egys',\n",
              " 'met nem ér.\\niszménéirtózatos, ha egyszer',\n",
              " ' nem ér.\\niszménéirtózatos, ha egyszer ti',\n",
              " 'm ér.\\niszménéirtózatos, ha egyszer tiltj',\n",
              " 'r.\\niszménéirtózatos, ha egyszer tiltja e',\n",
              " 'iszménéirtózatos, ha egyszer tiltja ezt ',\n",
              " 'ménéirtózatos, ha egyszer tiltja ezt kre',\n",
              " 'éirtózatos, ha egyszer tiltja ezt kreón!',\n",
              " 'tózatos, ha egyszer tiltja ezt kreón!\\nan',\n",
              " 'atos, ha egyszer tiltja ezt kreón!\\nantig',\n",
              " 's, ha egyszer tiltja ezt kreón!\\nantigoné',\n",
              " 'ha egyszer tiltja ezt kreón!\\nantigonéatt',\n",
              " 'egyszer tiltja ezt kreón!\\nantigonéattól,',\n",
              " 'szer tiltja ezt kreón!\\nantigonéattól, mi',\n",
              " 'r tiltja ezt kreón!\\nantigonéattól, mi en',\n",
              " 'iltja ezt kreón!\\nantigonéattól, mi engem',\n",
              " 'ja ezt kreón!\\nantigonéattól, mi engem il',\n",
              " 'ezt kreón!\\nantigonéattól, mi engem illet',\n",
              " ' kreón!\\nantigonéattól, mi engem illet, õ',\n",
              " 'eón!\\nantigonéattól, mi engem illet, õ se',\n",
              " '!\\nantigonéattól, mi engem illet, õ sem z',\n",
              " 'ntigonéattól, mi engem illet, õ sem zárh',\n",
              " 'gonéattól, mi engem illet, õ sem zárhat ',\n",
              " 'éattól, mi engem illet, õ sem zárhat el.',\n",
              " 'tól, mi engem illet, õ sem zárhat el.\\nis',\n",
              " ', mi engem illet, õ sem zárhat el.\\niszmé',\n",
              " 'i engem illet, õ sem zárhat el.\\niszménéó',\n",
              " 'ngem illet, õ sem zárhat el.\\niszménéó, j',\n",
              " 'm illet, õ sem zárhat el.\\niszménéó, jaj,',\n",
              " 'llet, õ sem zárhat el.\\niszménéó, jaj, te',\n",
              " 't, õ sem zárhat el.\\niszménéó, jaj, testv',\n",
              " 'õ sem zárhat el.\\niszménéó, jaj, testvére',\n",
              " 'em zárhat el.\\niszménéó, jaj, testvérem, ',\n",
              " 'zárhat el.\\niszménéó, jaj, testvérem, eml',\n",
              " 'hat el.\\niszménéó, jaj, testvérem, emléke',\n",
              " ' el.\\niszménéó, jaj, testvérem, emlékezz ',\n",
              " '.\\niszménéó, jaj, testvérem, emlékezz reá',\n",
              " 'szménéó, jaj, testvérem, emlékezz reá, a',\n",
              " 'énéó, jaj, testvérem, emlékezz reá, atyá',\n",
              " 'ó, jaj, testvérem, emlékezz reá, atyánkm',\n",
              " 'jaj, testvérem, emlékezz reá, atyánkmily',\n",
              " ', testvérem, emlékezz reá, atyánkmily me',\n",
              " 'estvérem, emlékezz reá, atyánkmily megve',\n",
              " 'vérem, emlékezz reá, atyánkmily megvetet',\n",
              " 'em, emlékezz reá, atyánkmily megvetetten',\n",
              " ' emlékezz reá, atyánkmily megvetetten pu',\n",
              " 'lékezz reá, atyánkmily megvetetten puszt',\n",
              " 'ezz reá, atyánkmily megvetetten pusztult',\n",
              " ' reá, atyánkmily megvetetten pusztult el',\n",
              " 'á, atyánkmily megvetetten pusztult el, m',\n",
              " 'atyánkmily megvetetten pusztult el, miko',\n",
              " 'ánkmily megvetetten pusztult el, mikor m',\n",
              " 'mily megvetetten pusztult el, mikor maga',\n",
              " 'y megvetetten pusztult el, mikor magakut',\n",
              " 'egvetetten pusztult el, mikor magakutatt',\n",
              " 'etetten pusztult el, mikor magakutatta f',\n",
              " 'tten pusztult el, mikor magakutatta fel ',\n",
              " 'n pusztult el, mikor magakutatta fel saj',\n",
              " 'usztult el, mikor magakutatta fel saját ',\n",
              " 'tult el, mikor magakutatta fel saját för',\n",
              " 't el, mikor magakutatta fel saját förtel',\n",
              " 'l, mikor magakutatta fel saját förtelmes',\n",
              " 'mikor magakutatta fel saját förtelmes te',\n",
              " 'or magakutatta fel saját förtelmes tette',\n",
              " 'magakutatta fel saját förtelmes tetteit,',\n",
              " 'akutatta fel saját förtelmes tetteit,s l',\n",
              " 'tatta fel saját förtelmes tetteit,s látv',\n",
              " 'ta fel saját förtelmes tetteit,s látván,',\n",
              " 'fel saját förtelmes tetteit,s látván, ki',\n",
              " ' saját förtelmes tetteit,s látván, kiszú',\n",
              " 'ját förtelmes tetteit,s látván, kiszúrta',\n",
              " ' förtelmes tetteit,s látván, kiszúrta ké',\n",
              " 'rtelmes tetteit,s látván, kiszúrta két s',\n",
              " 'lmes tetteit,s látván, kiszúrta két szem',\n",
              " 's tetteit,s látván, kiszúrta két szemét ',\n",
              " 'etteit,s látván, kiszúrta két szemét saj',\n",
              " 'eit,s látván, kiszúrta két szemét saját ',\n",
              " ',s látván, kiszúrta két szemét saját kez',\n",
              " 'látván, kiszúrta két szemét saját keze.a',\n",
              " 'ván, kiszúrta két szemét saját keze.a hi',\n",
              " ', kiszúrta két szemét saját keze.a hitve',\n",
              " 'iszúrta két szemét saját keze.a hitves é',\n",
              " 'úrta két szemét saját keze.a hitves és s',\n",
              " 'a két szemét saját keze.a hitves és szül',\n",
              " 'ét szemét saját keze.a hitves és szülõ -',\n",
              " 'szemét saját keze.a hitves és szülõ - e ',\n",
              " 'mét saját keze.a hitves és szülõ - e két',\n",
              " ' saját keze.a hitves és szülõ - e két né',\n",
              " 'ját keze.a hitves és szülõ - e két név e',\n",
              " ' keze.a hitves és szülõ - e két név egy ',\n",
              " 'ze.a hitves és szülõ - e két név egy sze',\n",
              " 'a hitves és szülõ - e két név egy személ',\n",
              " 'itves és szülõ - e két név egy személy -',\n",
              " 'es és szülõ - e két név egy személy -köt',\n",
              " 'és szülõ - e két név egy személy -kötéle',\n",
              " 'szülõ - e két név egy személy -kötélen v',\n",
              " 'lõ - e két név egy személy -kötélen végz',\n",
              " '- e két név egy személy -kötélen végzi s',\n",
              " ' két név egy személy -kötélen végzi szég',\n",
              " 't név egy személy -kötélen végzi szégyen',\n",
              " 'év egy személy -kötélen végzi szégyennel',\n",
              " 'egy személy -kötélen végzi szégyennel te',\n",
              " ' személy -kötélen végzi szégyennel telt ',\n",
              " 'emély -kötélen végzi szégyennel telt éle',\n",
              " 'ly -kötélen végzi szégyennel telt életét',\n",
              " '-kötélen végzi szégyennel telt életét.a ',\n",
              " 'télen végzi szégyennel telt életét.a har',\n",
              " 'en végzi szégyennel telt életét.a harmad',\n",
              " 'végzi szégyennel telt életét.a harmadik ',\n",
              " 'zi szégyennel telt életét.a harmadik csa',\n",
              " 'szégyennel telt életét.a harmadik csapás',\n",
              " 'gyennel telt életét.a harmadik csapás: k',\n",
              " 'nnel telt életét.a harmadik csapás: két ',\n",
              " 'l telt életét.a harmadik csapás: két tes',\n",
              " 'elt életét.a harmadik csapás: két testvé',\n",
              " ' életét.a harmadik csapás: két testvér e',\n",
              " 'etét.a harmadik csapás: két testvér egy ',\n",
              " 't.a harmadik csapás: két testvér egy nap',\n",
              " ' harmadik csapás: két testvér egy naponö',\n",
              " 'rmadik csapás: két testvér egy naponöngy',\n",
              " 'dik csapás: két testvér egy naponöngyilk',\n",
              " ' csapás: két testvér egy naponöngyilkos ',\n",
              " 'apás: két testvér egy naponöngyilkos ind',\n",
              " 's: két testvér egy naponöngyilkos indula',\n",
              " 'két testvér egy naponöngyilkos indulatta',\n",
              " ' testvér egy naponöngyilkos indulattal p',\n",
              " 'stvér egy naponöngyilkos indulattal pusz',\n",
              " 'ér egy naponöngyilkos indulattal pusztul',\n",
              " 'egy naponöngyilkos indulattal pusztulásb',\n",
              " ' naponöngyilkos indulattal pusztulásba r',\n",
              " 'ponöngyilkos indulattal pusztulásba ront',\n",
              " 'öngyilkos indulattal pusztulásba ront,s ',\n",
              " 'yilkos indulattal pusztulásba ront,s köz',\n",
              " 'kos indulattal pusztulásba ront,s közös ',\n",
              " ' indulattal pusztulásba ront,s közös hal',\n",
              " 'dulattal pusztulásba ront,s közös halált',\n",
              " 'attal pusztulásba ront,s közös halált eg',\n",
              " 'al pusztulásba ront,s közös halált egymá',\n",
              " 'pusztulásba ront,s közös halált egymás k',\n",
              " 'ztulásba ront,s közös halált egymás kezé',\n",
              " 'lásba ront,s közös halált egymás kezén s',\n",
              " 'ba ront,s közös halált egymás kezén szen',\n",
              " 'ront,s közös halált egymás kezén szenved',\n",
              " 't,s közös halált egymás kezén szenvednek',\n",
              " ' közös halált egymás kezén szenvednek el',\n",
              " 'zös halált egymás kezén szenvednek el.ke',\n",
              " ' halált egymás kezén szenvednek el.kette',\n",
              " 'lált egymás kezén szenvednek el.ketten m',\n",
              " 't egymás kezén szenvednek el.ketten mara',\n",
              " 'gymás kezén szenvednek el.ketten maradtu',\n",
              " 'ás kezén szenvednek el.ketten maradtunk ',\n",
              " 'kezén szenvednek el.ketten maradtunk meg',\n",
              " 'én szenvednek el.ketten maradtunk meg cs',\n",
              " 'szenvednek el.ketten maradtunk meg csupá',\n",
              " 'nvednek el.ketten maradtunk meg csupán, ',\n",
              " 'dnek el.ketten maradtunk meg csupán, gon',\n",
              " 'k el.ketten maradtunk meg csupán, gondol',\n",
              " 'l.ketten maradtunk meg csupán, gondold c',\n",
              " 'etten maradtunk meg csupán, gondold csak',\n",
              " 'en maradtunk meg csupán, gondold csak át',\n",
              " 'maradtunk meg csupán, gondold csak át,mi',\n",
              " 'adtunk meg csupán, gondold csak át,mi vá',\n",
              " 'unk meg csupán, gondold csak át,mi vár r',\n",
              " ' meg csupán, gondold csak át,mi vár reán',\n",
              " 'g csupán, gondold csak át,mi vár reánk, ',\n",
              " 'supán, gondold csak át,mi vár reánk, ha ',\n",
              " 'án, gondold csak át,mi vár reánk, ha ált',\n",
              " ' gondold csak át,mi vár reánk, ha általh',\n",
              " 'ndold csak át,mi vár reánk, ha általhágj',\n",
              " 'ld csak át,mi vár reánk, ha általhágjuk ',\n",
              " 'csak át,mi vár reánk, ha általhágjuk vak',\n",
              " 'k át,mi vár reánk, ha általhágjuk vakmer',\n",
              " 't,mi vár reánk, ha általhágjuk vakmerõna',\n",
              " 'i vár reánk, ha általhágjuk vakmerõna tö',\n",
              " 'ár reánk, ha általhágjuk vakmerõna törvé',\n",
              " 'reánk, ha általhágjuk vakmerõna törvényt',\n",
              " 'nk, ha általhágjuk vakmerõna törvényt, m',\n",
              " ' ha általhágjuk vakmerõna törvényt, mit ',\n",
              " ' általhágjuk vakmerõna törvényt, mit kir',\n",
              " 'talhágjuk vakmerõna törvényt, mit király',\n",
              " 'hágjuk vakmerõna törvényt, mit király ki',\n",
              " 'juk vakmerõna törvényt, mit király kimon',\n",
              " ' vakmerõna törvényt, mit király kimond, ',\n",
              " 'kmerõna törvényt, mit király kimond, s h',\n",
              " 'rõna törvényt, mit király kimond, s hata',\n",
              " 'a törvényt, mit király kimond, s hatalma',\n",
              " 'örvényt, mit király kimond, s hatalma vé',\n",
              " 'ényt, mit király kimond, s hatalma véd.m',\n",
              " 't, mit király kimond, s hatalma véd.meg ',\n",
              " 'mit király kimond, s hatalma véd.meg kel',\n",
              " ' király kimond, s hatalma véd.meg kell, ',\n",
              " 'rály kimond, s hatalma véd.meg kell, hog',\n",
              " 'y kimond, s hatalma véd.meg kell, hogy e',\n",
              " 'imond, s hatalma véd.meg kell, hogy ezt ',\n",
              " 'nd, s hatalma véd.meg kell, hogy ezt is ',\n",
              " ' s hatalma véd.meg kell, hogy ezt is ért',\n",
              " 'hatalma véd.meg kell, hogy ezt is értsd:',\n",
              " 'alma véd.meg kell, hogy ezt is értsd: mi',\n",
              " 'a véd.meg kell, hogy ezt is értsd: mi gy',\n",
              " 'éd.meg kell, hogy ezt is értsd: mi gyöng',\n",
              " 'meg kell, hogy ezt is értsd: mi gyönge n',\n",
              " ' kell, hogy ezt is értsd: mi gyönge nõk ',\n",
              " 'll, hogy ezt is értsd: mi gyönge nõk vag',\n",
              " ' hogy ezt is értsd: mi gyönge nõk vagyun',\n",
              " 'gy ezt is értsd: mi gyönge nõk vagyunk.a',\n",
              " 'ezt is értsd: mi gyönge nõk vagyunk.a fé',\n",
              " ' is értsd: mi gyönge nõk vagyunk.a férfi',\n",
              " ' értsd: mi gyönge nõk vagyunk.a férfiakk',\n",
              " 'tsd: mi gyönge nõk vagyunk.a férfiakkal ',\n",
              " ': mi gyönge nõk vagyunk.a férfiakkal nem',\n",
              " 'i gyönge nõk vagyunk.a férfiakkal nem tu',\n",
              " 'yönge nõk vagyunk.a férfiakkal nem tudun',\n",
              " 'ge nõk vagyunk.a férfiakkal nem tudunk m',\n",
              " 'nõk vagyunk.a férfiakkal nem tudunk megk',\n",
              " ' vagyunk.a férfiakkal nem tudunk megküzd',\n",
              " 'gyunk.a férfiakkal nem tudunk megküzdeni',\n",
              " 'nk.a férfiakkal nem tudunk megküzdeni,er',\n",
              " 'a férfiakkal nem tudunk megküzdeni,erõse',\n",
              " 'érfiakkal nem tudunk megküzdeni,erõsebbe',\n",
              " 'iakkal nem tudunk megküzdeni,erõsebbek, ',\n",
              " 'kal nem tudunk megküzdeni,erõsebbek, s h',\n",
              " ' nem tudunk megküzdeni,erõsebbek, s ha m',\n",
              " 'm tudunk megküzdeni,erõsebbek, s ha már ',\n",
              " 'udunk megküzdeni,erõsebbek, s ha már fel',\n",
              " 'nk megküzdeni,erõsebbek, s ha már felett',\n",
              " 'megküzdeni,erõsebbek, s ha már felettünk',\n",
              " 'küzdeni,erõsebbek, s ha már felettünk õk',\n",
              " 'deni,erõsebbek, s ha már felettünk õk ur',\n",
              " 'i,erõsebbek, s ha már felettünk õk urak,',\n",
              " 'rõsebbek, s ha már felettünk õk urak,szó',\n",
              " 'ebbek, s ha már felettünk õk urak,szót k',\n",
              " 'ek, s ha már felettünk õk urak,szót kell',\n",
              " ...]"
            ]
          },
          "metadata": {
            "tags": []
          },
          "execution_count": 36
        }
      ]
    },
    {
      "metadata": {
        "id": "lTFrjNhJIXWW",
        "colab_type": "code",
        "outputId": "a34f04ec-9f36-4c1a-c235-2eb7700285e5",
        "colab": {
          "base_uri": "https://localhost:8080/",
          "height": 34
        }
      },
      "cell_type": "code",
      "source": [
        "print(\"Tanító adatbázis hossza:\", len(sentences))"
      ],
      "execution_count": 0,
      "outputs": [
        {
          "output_type": "stream",
          "text": [
            "Tanító adatbázis hossza: 17042\n"
          ],
          "name": "stdout"
        }
      ]
    },
    {
      "metadata": {
        "id": "frokycQtIgBd",
        "colab_type": "code",
        "outputId": "7bace6e2-b164-4012-fce0-04f854d67cbf",
        "colab": {
          "base_uri": "https://localhost:8080/",
          "height": 54
        }
      },
      "cell_type": "code",
      "source": [
        "print(next_chars)"
      ],
      "execution_count": 0,
      "outputs": [
        {
          "output_type": "stream",
          "text": [
            "['o', '\\n', '\\n', ' ', ' ', 's', 'p', 'k', 's', ' ', 'a', 'i', 'n', 'f', 'd', 'o', 'a', 't', 'n', 'é', 'i', 'a', 'a', 'e', 'i', 'e', '\\n', '\\n', '\\n', 'a', ';', 'p', 'b', ';', 'z', 'é', 'e', ' ', ' ', 'n', 'g', 'é', ' ', 'z', 'n', ' ', ' ', 'é', 'i', 'é', 'k', 'a', '\\n', 'k', 'ó', ' ', 'r', ' ', 'i', 'n', ' ', 'i', 's', 'á', '\\n', 'h', 'n', '\\n', 'e', 'ü', 'k', ' ', 'á', 'd', ' ', 'r', 'k', 'ö', 'é', 'k', 'h', 'a', 'a', ' ', 'k', 'á', 'i', 'a', 't', 'e', 't', 'b', 'u', 't', 'k', 'r', 'e', '4', '-', 'n', '&', 'p', 'm', 'n', 'p', '\\n', 't', 'o', ' ', ' ', 'z', 'n', '\\n', 'n', 'g', 'é', 'z', 'n', ' ', 's', 'é', ' ', 'y', 'z', ',', 'g', 'l', 'e', 'v', 'e', 'i', 'e', 'z', ' ', 'j', ' ', 't', 'i', 'p', 'z', 't', 'n', 'u', 'n', 't', 'n', 'e', 'k', ' ', 'g', 'l', 'k', 'n', ' ', 'l', 'z', ' ', 'u', '?', 'r', 'n', 'c', 'n', 't', ' ', ' ', 'n', ' ', 'm', ' ', 'j', 'l', ',', 'n', ' ', 'c', 'e', 'n', 'g', 's', 'i', 's', ' ', 'g', 'ú', 'l', ',', 'i', 'n', 'l', 'n', 'k', 'a', 'u', ' ', 'l', 's', 'n', 'b', 'm', 't', 's', 'i', 'z', 'm', ' ', 'r', 's', 'r', ' ', 'l', 'a', 'é', 'k', 'i', 'e', 's', ' ', 'l', 'k', 'á', 'i', 'z', 'k', 'ü', '?', 'l', 'd', 't', 'o', ' ', 'g', 'n', ' ', 't', 't', 'ü', 'd', ' ', 'g', 'i', 'l', 'ú', 'j', ' ', 'g', 'l', 'õ', 's', 'r', 't', 'd', 'i', 'm', 'é', 'z', 'm', 'z', 'e', 'e', 'k', 'e', 'l', 'a', 'i', 'n', 's', 'j', ' ', ' ', 's', ' ', 'r', 'e', 'j', 'o', ' ', 'ó', ',', 'o', 'k', ' ', 's', 'é', 'k', ' ', 's', 'é', 'n', 't', 'e', 't', 't', ' ', ',', 'k', 'g', 'n', 'o', 's', 'g', 'á', 'k', 'é', 'l', 's', 'k', 'l', 'a', 'j', 'l', 'r', 's', 'h', 'c', 'n', 'e', 'l', 'n', 't', ' ', 'ó', ' ', 'm', 't', 'e', 't', 'o', ' ', ' ', 'g', 'e', 'o', 'o', 'á', 'e', 'e', 'a', ' ', 'l', 'b', 'e', 'ú', 'a', '.', 'n', 'g', 'é', 'n', 'á', ' ', 'n', 'l', 'm', 'é', ' ', 'é', ' ', 'v', 't', 'a', ' ', 'z', 'l', ' ', 'g', 'm', ' ', ' ', 'l', 'a', 'e', 'i', 'á', '\\n', 'z', 'n', 'i', 'l', 'e', 'é', 'z', 's', 'é', 'é', 'n', 'g', 'l', ' ', 'a', 'd', 'a', 'i', 'n', 'á', 'n', ' ', 'g', 'n', ' ', 't', 'e', 'v', ' ', 'z', ' ', 'e', 'a', 'á', 'k', 'l', 'm', 'e', 'i', 'e', 'k', 'á', ',', ' ', 'r', 'e', 'o', 'é', 't', 'm', 't', 'o', 'j', ',', 'o', 's', 'ö', 'é', ' ', 'e', 'n', ' ', 'l', 'g', 'ö', 'y', 'e', 't', 'a', 'a', 'l', 'h', 'y', 't', ' ', 'v', 'á', 'a', 'k', 't', 'á', 'a', 'i', 't', 'e', 'd', 'p', 'ü', 'i', 's', ',', 'e', ' ', 'h', 'l', 'v', 'z', 't', 'ü', 'é', ',', 'y', ' ', 'r', 'c', 'f', ' ', 'é', 'a', 'á', 's', 'é', ' ', 'z', 'h', 'y', 'l', 'm', 'n', ' ', 'm', 'i', 't', ' ', 'm', 'z', 'a', 'h', 'y', 'k', 'h', 'e', 'e', 'o', ' ', 'g', 'n', 'e', 't', 'n', ',', 'd', 'm', 'á', 'k', 'á', 't', ' ', 'á', 'á', 'a', 'n', 'a', 'ó', 'r', 'n', 'l', 'n', 'a', 'n', 'o', 'o', 't', 'a', 'e', 'd', ' ', 'k', ' ', 'n', 'e', ' ', ' ', 'l', 'e', ' ', 'n', 'n', '!', ',', 'm', 'd', 'r', 'j', ' ', ',', 'o', ' ', 'k', 'é', 'n', ' ', 'd', 'k', 'a', 'n', 'z', ' ', 'j', ' ', 'á', 'b', ' ', 'l', 'á', 'm', ' ', 'v', 'y', 'a', 'i', 'ó', 'z', ' ', 'i', 'k', ',', 'e', ' ', ' ', 'g', 'e', ',', 'i', 'á', 's', ' ', 'g', 'k', 'z', 'm', 'k', 'e', 'i', 'a', '.', ' ', 'y', 'a', ' ', ' ', 's', 'm', 'm', 'a', 'a', 'd', 'k', 'v', 'y', 'e', 'k', 's', 'h', ' ', 'l', ',', 'a', ' ', 't', 'n', 'u', 'd', 'i', 'm', 'é', 'e', 'n', 'é', 'e', 'l', 'n', ' ', ' ', 'y', 'a', 'e', ' ', 'g', '-', 'ö', 'k', 'a', ' ', 'd', ' ', 'r', 't', 'm', ' ', 'l', 'z', 't', '?', 'n', 'g', 'é', 'n', 'l', 'm', ' ', 't', 'v', 'e', 't', 't', 'z', 's', 'í', 's', 'e', 'i', 'm', 'é', 'r', 'd', 'o', ' ', 'z', ',', 'i', 'e', 'v', 'z', 'y', ' ', 'g', '\\n', 't', 'o', 'a', 'r', 'a', 'e', 'e', 'k', ' ', 'z', 'd', ' ', 'r', '-', '\\n', 'z', 'n', 'e', 'e', 'é', 'e', 'e', 't', ' ', ',', 'k', ' ', 'l', '?', 'n', 'g', 'é', 's', 'é', 'm', ' ', 't', 't', 'r', 'e', ' ', ' ', 'm', 'ö', 't', ',', ' ', 'n', ' ', 'u', 's', ' ', 'g', 'e', 'n', ' ', '.', 's', 'é', 'i', 'ó', 't', ',', 'a', 'g', 'z', ' ', 'l', 'a', 'z', 'k', 'ó', '\\n', 't', 'o', 'a', 'ó', ' ', ' ', 'g', ' ', 'l', ',', ' ', 'm', 'á', 'a', 'e', '\\n', 'z', 'n', ',', 'a', ' ', 's', 'é', 'm', 'e', 'é', 'z', 'r', ',', 't', 'n', 'i', ' ', 'g', 't', 't', ' ', 's', 'u', ' ', ',', 'i', 'r', 'a', 'k', 'a', 'a', 'e', 's', 'á', 'f', 't', 'm', ' ', 't', 'i', 's', 'á', 'á', ' ', 's', 'r', ' ', 't', 'z', 'é', 's', 'á', 'k', 'e', ' ', 't', 's', 's', 'z', 'õ', ' ', 'k', ' ', 'v', 'g', 's', 'm', 'y', 'k', 'é', 'n', 'é', 'i', 'z', 'y', 'n', ' ', 'l', 'é', 't', '.', 'h', 'm', 'i', 'c', 'p', ':', 'é', 't', 't', 'r', 'g', 'n', 'o', 'n', 'i', 'o', 'i', 'u', 't', 'l', 'u', 't', 'á', 'a', 'o', ',', 'k', 'ö', 'h', 'á', ' ', 'y', 's', 'e', 'n', 'z', 'v', 'n', ' ', '.', 't', 'n', 'a', 'd', 'n', 'm', ' ', 'u', 'n', 'g', 'd', 'd', 's', ' ', ',', ' ', 'r', 'e', 'k', 'h', 'á', 'a', 'á', 'u', 'v', 'm', 'õ', ' ', 'r', 'n', ',', 'i', 'k', 'á', ' ', 'm', 'd', 's', 'a', 'l', ' ', 'd', 'e', 'k', 'l', 'h', 'y', 'z', 'i', 'é', 's', ' ', ' ', 'ö', 'e', 'õ', 'v', 'y', 'k', ' ', 'r', 'a', 'a', 'n', ' ', 'd', 'k', 'e', 'ü', 'e', ',', 'õ', 'b', 'k', 's', 'a', 'á', 'f', 'e', 'ü', ' ', ' ', 'a', 's', 't', 'e', ' ', 'g', 'n', ' ', 'r', 'k', 't', 's', 'á', 'e', 'z', 'i', 'm', 'l', 'n', 'z', 'l', 'l', 'i', 'e', 'e', 't', 'g', 'z', 'l', ' ', 'h', 'z', ',', 'y', 'e', 'b', 's', 'a', 't', 'i', 'l', 'g', 'k', 'y', 'e', 's', 'b', ' ', 't', 'm', 's', ' ', 'y', 'e', 'n', 'l', 'ö', 'r', 'õ', 'l', ' ', 'n', 'l', ' ', '.', 'n', 'g', 'é', 't', 'e', 'h', 'l', ' ', 'b', ' ', 'g', 'm', ',', 'õ', 'h', 'm', 'j', 's', 'i', 'm', 'a', ' ', 'g', 's', 'e', 'n', ' ', 'l', 'n', 'e', 't', 'l', 'y', 'k', ',', 'a', 'e', 'z', ';', 'n', 't', 'l', 'o', 'm', 'm', 'n', ' ', ' ', ' ', 't', 'e', 'e', ' ', 'g', 'l', ' ', 'é', 'm', 't', 'e', 'e', 'a', 'o', 'k', 'v', 'e', 'e', 'f', 's', 'm', 't', ' ', 'm', 'r', 'û', 'u', 'n', 'h', 'z', ' ', 'k', 'l', 'o', 'b', 'm', 't', 't', 'f', 'n', 'k', 'l', 'z', 'l', 'l', 'b', ' ', 't', 'e', 'm', 'e', ' ', 't', 'e', ' ', 'k', 'e', 'm', 'd', 'r', 'r', ' ', ' ', ' ', 'i', 'á', ' ', 'e', 'l', ' ', ' ', 't', 'e', 'e', 's', 'm', ',', 'e', '!', 's', 'é', 'é', 's', 'm', ' ', 'l', 'ü', 'e', 'e', 't', 'z', ',', 'a', 'm', 'v', 'o', 'e', 'e', 't', 'n', 's', 'c', 'e', 'm', 'l', '.', 'n', 'g', 'é', ' ', 'g', ' ', 'o', ' ', 'n', ' ', 't', ',', 'e', 'n', 'e', 'e', 's', 'd', ' ', 's', 'é', 'm', 'ö', ' ', 'r', 'h', 't', 'o', '\\n', 'z', 'n', ',', 'n', 'z', 'e', 's', 'l', ',', 'é', 'd', 'o', ' ', 'l', 'l', '!', 'n', 'g', 'é', 't', ' ', ' ', 'g', 'j', 'i', 'é', ' ', 'a', 't', 's', 's', 'a', '\\n', 'z', 'n', 's', ' ', ' ', ' ', 'u', ' ', 't', 'd', ' ', 'j', 's', 'k', 'e', 't', 't', ' ', 'l', 'i', 'k', 'n', 'é', 'i', 's', 'n', 'g', 't', 'k', 'o', '\\n', 't', 'o', 'e', 'm', ',', 'e', 'é', ' ', 'a', ' ', 'g', 'o', 'a', 'g', 'l', 'l', ' ', ',', ' ', 'l', 'a', 'z', 'm', 't', 'a', 'i', 'e', 't', 'k', 'ü', 'ö', 'd', 'i', 'm', 'é', 'd', ' ', 't', 't', 's', 'e', 'n', 'd', 'g', ' ', 'e', 'e', 'l', '\\n', 't', 'o', 'd', 't', 's', 'm', 'g', 'i', ' ', 'k', 'k', 'l', 'k', 'e', 'z', 'e', '\\n', 'z', 'n', 'a', 'é', 'o', 'é', 'z', 'd', 'v', 'y', ' ', ' ', 'm', 'r', 't', '.', 'n', 'g', 'é', ' ', 'm', 'i', 'm', 'r', 'r', ' ', 'b', 'a', 'n', 'm', '.', 's', 'é', 'a', 'e', 't', 'l', 't', 'é', 'a', 'e', 'i', 'e', 'v', 'ó', 'a', 'i', 'n', 'a', 'g', 'b', 'z', 's', ' ', 'g', 'e', ' ', 'û', 'l', 'm', 'é', 'd', ',', 'h', 'o', ' ', 's', 'é', 'n', 'i', 'm', 't', ' ', 'û', 'l', ' ', 'g', 'a', 'j', 'n', 'm', 'd', 'e', 'l', 't', 'o', 's', 'é', 's', 'n', 'd', 'm', 'l', 'm', 'v', ' ', 'á', ' ', 'm', 'z', 'v', 'e', 'e', 'i', ' ', ' ', 'c', 'f', 's', 's', 'p', 'a', 'l', 'a', '\\n', 'z', 'n', 'e', ' ', 't', 'h', 't', 's', 'k', 'á', 'e', 'u', ',', 'o', ' ', 'z', 'l', ',', ' ', 'g', ' ', 'm', 'i', 's', 'r', 'n', ' ', ' ', 'e', 't', 'i', ' ', 'z', 'n', 'a', 'a', 't', 'a', 'e', ',', 'n', 'g', 'é', 'l', 'l', 't', 'o', 'k', 'a', 'a', 'b', 'o', 'l', 'a', 'é', 'l', 'h', 'i', 'z', 'i', ' ', 'é', 'n', 't', 'p', 'ú', 'h', 'a', 'f', 'e', 'n', ' ', 'g', 'g', 't', 'o', ' ', 'g', 'u', 'r', ',', 'l', 'n', 'l', 'a', 'h', 'a', 's', 'r', 'y', 'p', ' ', 'i', 'd', 'z', 'e', 't', 'i', 'é', 'o', 'á', ' ', 'l', 'l', 's', 'é', 'a', 'e', 'r', 'j', 'ú', 'a', 'o', ',', 'i', 'r', 's', 'ó', 'j', 't', 'e', 'v', 'e', 'n', 'e', 'r', 'z', 'e', ' ', 'b', 't', 'u', 'i', 'e', 'é', 's', 'r', 'e', 'p', 'ü', 'i', 's', 'h', 't', 'h', 'á', 'r', 'õ', 'f', 't', 'e', ' ', 'h', 'v', 't', 'r', 'v', 'j', 'v', 'a', 'r', 'a', 'a', 'ö', 'r', 'l', 's', 'v', 'a', 'a', 'a', 'z', 'n', ':', ' ', 'j', 'a', 'm', 't', ' ', 'h', 'h', 'f', 'n', 'b', 'm', 'd', 't', 'e', 'v', ' ', 'n', 't', ' ', 'l', 'a', ' ', 'n', 'a', 'o', 's', 'a', 'n', 'e', 'm', 'á', 't', 'a', 't', 'k', 'e', 't', ' ', 'i', 'o', 'd', 'd', 'o', 'á', ' ', 'r', 'n', 'e', 'z', ' ', 'v', 'o', 'h', ' ', 'r', 'n', ' ', 'h', 'y', 'é', 'n', 'h', 'z', 'l', ' ', 'c', 'r', 'a', 'á', 'y', 'n', 'k', 'z', 'ú', 't', 's', 'r', 'f', 'l', 'k', 'ü', ' ', 't', 'h', 'h', 's', 'o', ' ', 'g', 'l', ' ', '.', 'y', 'u', 'á', 'i', 'a', 'á', ' ', 'r', 'a', 's', 'v', ' ', 'r', 'j', ' ', 'í', 'e', 'y', 'k', 'i', 'a', 'a', 'r', 'a', 'á', 'á', '.', 'r', 'a', 'i', 'e', 'õ', 'y', 'v', ' ', 'u', 'g', 'l', 'i', 'é', 'm', 'l', 'v', ' ', 'g', 'õ', 'i', ' ', 'h', 'ó', 'r', 'z', 'ö', 'l', 'n', ',', ' ', 's', 'é', 'c', 'r', 'n', 'a', 'a', 'n', 'õ', 'r', ' ', 't', 't', 't', 'é', 'k', 'é', 'e', 'a', 'é', 'á', 'y', 'e', 'i', 'a', 'r', 'f', 'a', 'i', 'k', 't', 'á', 'v', 'l', 'é', 'e', 'a', 'ö', 'r', 'z', 'a', ' ', 'p', 'z', 'k', 'k', 'é', 'n', 'õ', 'á', 'y', ' ', 't', ' ', 'ü', ' ', 'á', 'é', 'a', ' ', 'h', 'c', 's', 'g', 'é', 'r', 'k', 'ú', 'i', ' ', 'û', 'l', ' ', 'h', 'á', 'e', 'a', 'o', ' ', 'l', 'm', 'v', 'r', ',', 's', 'a', 'm', 'k', 't', 'u', 'o', ' ', 'r', ' ', 'é', ',', ' ', 't', 'm', ';', 'i', 'i', 'i', 'a', 'e', 'õ', 'é', 'v', 'é', 'k', ' ', 't', 'a', 'n', 'u', 'a', 'n', 'i', 'e', 'r', 'l', 'l', 'e', 'r', 'v', 'f', 'y', 'r', 'k', 'l', 'u', 'n', ' ', 'ó', 'a', 'm', 't', 'i', 'a', 'i', 'e', 'e', 'c', 'k', 'é', 'n', 'm', 'u', ' ', 'm', 'i', 'e', ' ', 'y', 'n', 'z', 't', 'e', ' ', 'y', 's', 'l', 's', 'g', 'á', 'e', 'e', 'g', 'z', ' ', 'h', 't', ',', 't', 'e', 'v', ' ', 'k', 'ö', 'h', 'á', 'a', 'e', 'e', 'ö', ' ', 'g', ' ', 'g', 'z', 'e', 'i', 'e', 'õ', ',', 'h', 'c', 'e', 'r', 'b', ' ', 'z', 'g', 'h', 'a', 'a', 'i', ',', 's', 'm', ' ', 't', 'z', 'd', ' ', 'r', 'k', 't', ' ', 's', 'ú', 'e', 'd', 'r', 's', 'o', ' ', ' ', 't', 'e', 's', 'n', 'l', 'i', 'z', 'j', 'i', 'á', 'b', 'm', 'j', 'k', 'i', ',', ' ', 'é', 'i', 'n', ' ', 'n', 's', 'o', 's', 's', 'l', 'y', ' ', 'r', 'h', 'e', 'i', ' ', 'n', 'á', 'a', 'ú', 'k', 'á', ',', 'e', ',', 'e', 'i', 'u', ' ', 'a', 'j', 's', 'n', 's', 'n', 'k', 'e', 'e', 'i', 'l', 'á', 'ö', 'm', ',', 'e', 'i', 'f', 'g', ' ', 'y', 'a', 'h', 'y', ' ', 'n', 'n', ' ', 't', ' ', 'n', 's', 'ö', 'z', 'i', 't', ' ', 'g', 'o', 'e', 'ü', 'v', 'a', 'í', 'ö', 't', 'r', 'n', 'a', 'u', 'l', ' ', 'r', ' ', 'z', 'n', 'é', 'a', 'z', 'p', 'r', 'k', 'ó', ' ', 's', 'e', 'v', '\\n', 'e', 'j', 'f', 'f', 'k', 'n', 'y', 'e', 'á', 'ó', 'a', 's', 't', 'a', 'á', 's', 'ú', 'a', 'a', 'r', 'á', 'n', 'e', 'e', 'k', ' ', 't', 'e', ' ', 'é', 's', 'l', 't', 'ü', 't', ' ', 't', 'e', 'h', 'y', 'o', 'á', 'j', 'j', 'e', ' ', ' ', 'a', 't', ' ', 'n', ' ', 's', 'i', 'l', 'u', 'm', 'm', ' ', 'i', 'z', 'r', 's', 'k', 'á', 't', 'i', 'i', 't', 't', 'e', 'õ', ' ', 'á', ' ', 'd', 'u', 't', ' ', 'r', 'l', 'k', 't', 'h', 'é', 's', ' ', 'r', 't', 'o', 't', 'á', 'o', 'k', 'l', 'á', 'g', 'v', 'k', ' ', 'á', 'd', 'm', 't', 'h', 'y', 'm', 'õ', 'a', 'e', 'õ', 's', 's', 'l', 't', 'e', 'g', 'n', 'o', 's', 'g', 'á', 'a', 'ö', 'e', 's', 'k', 'l', 'z', 'y', 'l', 'e', 's', 'b', ',', 'i', 't', 't', 'r', 'z', 't', 't', 'z', 'l', 'k', 't', 'r', ' ', 'v', 'r', 'o', 'j', 'á', 'á', 's', 'l', ' ', 'n', 'n', 'a', 'l', 'k', 'é', 'e', 'é', 'a', 'r', '.', ' ', 'y', 'g', 'e', 'e', 'õ', 'b', 'o', ' ', 'n', 'g', 'e', 'z', 't', 'n', ' ', 'l', 'b', ' ', ' ', 'n', 'l', ' ', 'k', ',', 'g', 'e', 'm', 'a', 'a', 'e', 't', 'v', 'y', ' ', 'a', 'o', 's', 'i', 'g', 'e', 's', 'v', 'o', 'f', 'e', ' ', 'a', 'o', 'k', ' ', 'm', 'a', ' ', ',', 'á', 'a', 'e', 'a', 'r', 'á', ' ', ',', ' ', 'e', 'é', ' ', 'r', 't', 'é', 'f', 'é', 'v', 'i', 'i', 'i', 'h', 'v', 'y', 'k', 'a', 'o', 'a', 's', 'a', 'o', 'm', 'i', 'é', 'a', ',', 'i', 'á', 'i', 'ó', 'a', 't', ' ', 'b', 'e', 'a', 's', 'á', 'h', 'á', 'n', ',', 'e', 'ü', 'i', 'e', 't', 'o', 'm', 't', 'n', 'a', 'i', 'e', ' ', 't', 'z', 's', 'l', 'y', ' ', 'n', ',', 'm', 'a', 'g', 'o', ' ', ' ', 't', ',', 'o', ' ', 's', 'k', 'i', 'o', 'á', 'a', 'o', 'á', 'k', ' ', 'v', 'e', 'e', ',', ' ', 'i', 'v', 'o', 'e', 'e', 'é', 'n', ' ', 't', 'k', 'i', 'a', 'é', 'b', 'á', 'm', 'e', 'l', 'e', ' ', 'v', ' ', 'd', ',', 'v', 'o', 'm', 't', 'e', 'm', 'k', ' ', ';', 'a', 'j', 'm', 'b', 'é', 'h', 'a', ' ', 'r', 'u', ' ', 's', ' ', 'e', 'y', 'k', 'l', 'a', 'n', 't', 'l', 'e', 'e', 'e', 'é', 'n', 'g', ' ', 's', 'm', ' ', 'e', 'e', 'e', ' ', 'r', ' ', 'a', 'd', 'p', 'a', 's', ' ', ',', 't', 'o', ' ', ' ', 'd', 'u', '-', 'a', 'a', 'i', 'e', 'k', 'z', 't', ' ', 'r', 'é', ' ', 'r', 'l', 'e', 'o', 'é', ',', 'g', 'õ', ' ', 'g', 'e', 't', 'o', 'a', 'a', 'l', 'k', 't', ' ', ' ', 'g', 's', 'e', 'é', 't', 'e', 'd', ' ', 'n', 'l', ',', 'n', 'i', 'i', 'é', 'a', 'õ', 'h', 'o', 'a', 'a', 'k', 'á', 'd', 'p', 'ü', 'i', 's', ',', 'á', 'e', ' ', 's', ' ', 'y', 'é', 'v', 'e', 'i', 'l', 'a', 'j', 'é', 'a', 'õ', ' ', 't', 'e', 'l', 'n', 'o', 't', 'h', 'a', ' ', 'g', 'z', 'k', 'e', 'e', 'o', ',', 'v', ' ', 'k', 'a', 'á', 'o', 'v', 'n', 'k', 'z', ' ', 'l', ' ', 't', 't', 'r', 'é', 't', 'n', ' ', 'û', 'i', 'i', ' ', 'b', ',', 't', 'á', 's', 'e', 'e', 'e', 'i', 'e', 'i', 'e', 'e', 'm', 'o', ' ', 't', 'e', 'i', ' ', 'g', 'r', 'n', 's', ' ', 'a', 'd', 'e', 'a', 'n', 'k', 'l', 'h', 'e', 'e', 'o', ' ', 'p', 'e', 'e', 'k', 'y', ' ', 'a', 'ö', 'a', 'r', ' ', 'd', ' ', 'á', 'á', 'a', 'n', 'í', ' ', 'r', 'm', 'n', 'e', 'e', 'e', ' ', 'm', ' ', ' ', 't', 'a', 'o', 'a', 'ó', 'j', 'a', 'a', 'û', 's', 'é', 'e', 'e', 'k', 'ü', 's', 'i', 'ó', 'z', 'v', ' ', 'n', 'á', 's', 'k', 'h', 'á', ' ', 'á', ',', 't', 'l', 'é', 'n', ' ', 'l', 'b', ' ', 'g', 's', 'e', 'm', 'k', 'v', 'e', 't', 's', 's', ' ', ',', 'r', 'n', 'm', 'o', 'e', 'z', 'y', 'm', 'e', 'ü', 'n', 'é', 't', 'e', 'e', 'h', 'é', 'p', 't', 'õ', 'ö', 't', 'k', 'ö', 'e', 'i', 'c', 'k', 'a', 'a', 'á', ' ', 'é', 't', 'a', 'é', 'k', 's', 'o', 'a', 'f', 'e', ' ', 'm', 'd', 'i', 'k', 'ó', 'i', 'á', 'a', 'k', 'i', 'á', 'h', 'y', 'e', 'e', 'l', 'n', 's', 'k', 'v', 'e', 'i', 'e', 't', 'e', 'e', 'i', 'a', ' ', 'l', 'k', ' ', 'r', 's', 'k', 'ó', ' ', 'l', 'e', ' ', 'l', ' ', 'n', 'l', 'm', 'á', 'õ', 'k', '.', 'a', 'e', 't', 'i', 'l', 'k', 'k', 'r', 'í', ' ', 'o', 'á', 't', ' ', 'v', 's', '\\n', 'e', 'h', 'y', 'n', 'd', 'l', 's', 'e', 'm', ' ', ' ', 'r', 't', '.', 'a', 'e', 't', 'i', 'o', 'h', 'á', 'a', 'e', 'i', 'e', 'i', 'e', 'b', 'o', '.', 'r', 'n', ' ', 'r', ' ', ',', 'é', 's', 'h', ' ', 'e', 'i', 'a', 'r', 'é', ',', 'j', ' ', 's', 'é', ' ', ' ', 'h', ' ', 'k', 'a', 'e', '.', 'z', 'r', 'e', 'é', 'õ', 'r', ',', 'e', 'm', 'd', 't', ',', 'o', ' ', 'r', 'k', 'á', 'i', 's', ' ', 'g', 'f', 'á', 'ó', 'h', 'y', 'i', 'á', 'l', 'e', 'e', 'm', 'õ', ' ', 'g', 'e', 'l', 'i', 'é', 't', 'e', ' ', 'g', 'd', 'a', 's', 'á', 'm', ' ', 'o', 'v', 't', ',', 'o', ' ', 's', 'a', 'r', 'l', '.', 'r', 'm', 's', 'l', 't', ' ', 'l', ' ', 'n', 'm', ' ', 'ó', ' ', 'í', ':', 'e', 'n', 'é', 'e', ' ', 'v', ' ', ' ', 'n', 't', ' ', 'é', 'a', ':', 'e', 's', 't', '?', 'a', 'á', 'ó', 't', 'j', 'm', ' ', 'e', ',', 'r', 'j', 't', 'e', 'a', 'o', 'i', 'c', 'k', 'e', 'a', 'l', 'z', ' ', 'n', 't', ',', 'e', 'a', 'í', 'a', 'é', 'e', ',', ' ', 'y', ' ', 's', 'á', 'l', 'g', 's', 'o', 'z', 'a', 'y', 't', 'e', 'é', 'l', 'é', 's', 'y', 'ö', ' ', ',', 'o', ' ', 'j', 'ö', 's', 'l', 'n', 'm', 'b', 'm', 'y', ' ', 'v', ',', 'm', ' ', 'd', ',', 'á', 'm', ' ', ' ', 'g', 'e', 'a', 'd', 'a', 'e', ' ', 'm', 'y', 'o', ' ', 'm', ' ', 's', 'e', 'é', 'e', ' ', 'a', 'm', 'v', 'z', 'e', '\\n', 'e', 'm', 'b', ',', 'o', ' ', 'y', 'l', 's', 'e', 'b', 'o', 'á', 'd', '?', 'r', 'õ', 'ö', 'h', 'd', 'o', 'j', ',', 'i', 'á', 'v', 'a', 'o', 'k', ' ', 't', 's', 'e', 'v', 'y', ',', ' ', 'm', 's', 'á', 'a', ' ', ' ', 'l', 'e', 'r', 'b', 't', 'n', 'e', 'e', 't', 'e', 'i', 'j', 'o', '\\n', 'e', 'm', 'y', 'e', 'e', 's', 'z', 'k', 'b', ' ', 'r', ' ', 't', 'k', 'ü', ' ', 'ó', 'd', 'a', 'y', 'l', 's', 'k', 'h', 'y', 'e', 'j', ' ', 'z', '.', 'r', 'l', 'm', 'e', 't', 't', 'í', 't', 'o', 'i', 's', 'e', 'z', 'k', 'ó', 'o', ' ', 'm', 'e', 'é', 'z', 'h', 'y', 'z', 'n', 'l', 'r', 'a', ' ', 'g', '?', 'r', 's', 'l', ' ', ';', ' ', 'l', 'e', 'e', ' ', ',', 'e', 't', 'o', 'i', 'n', 'h', 'o', 'a', 'h', 't', ',', 'z', 't', 'z', 'á', 's', 'r', 't', 'g', 'v', 'm', 'd', 't', 'e', 'e', 't', ' ', 'e', 'z', 'ö', '.', 'r', 'n', 't', 'o', 'a', '?', 'é', 'i', 'á', 'a', 'd', 'i', ' ', 'k', 'r', '\\n', 'a', ' ', 'm', 'u', 'm', 'n', ' ', 't', 'm', 't', 'á', 'n', 'm', ',', 'n', 'c', 'o', ' ', 'p', 't', ' ', 'l', 'd', 'v', 'f', 'd', 'r', 'g', 's', 'r', ' ', 'k', 'é', ' ', 'f', 'd', 'k', 'é', 's', 'v', 't', 'b', 'a', 'e', 'e', 'n', ' ', 'g', 't', 'á', 'l', 'd', 'j', 'e', 'k', 'e', 'r', 'g', ' ', 'l', 't', 'õ', 'é', 't', 'l', 'i', 'm', 'a', 'a', 'i', ' ', 'l', 's', 't', 'c', 'd', ' ', 'k', 'k', 'e', 'r', 't', 'h', 't', 'c', 'k', 'é', 'n', 'r', 'e', 'e', 'h', 'o', 'ú', ' ', 't', 'i', 'v', 't', 'k', 'e', ' ', 'g', 'n', ' ', 'l', 'f', 't', 'e', 'n', 'k', 'e', 'i', 'b', 'n', 'm', ' ', ' ', 't', 'k', 't', 'h', 'y', 'á', 'v', 'a', 'v', 's', 'l', 'k', 'o', 'a', 'a', ' ', 't', 'k', 'g', 'á', ' ', 'o', 'u', ' ', 'h', 'g', 't', 's', ' ', 'r', ' ', 'ó', ' ', ' ', 'r', ' ', 'l', ' ', 'y', ' ', ' ', 'm', 'i', 't', 'e', 't', 't', 'v', 'n', 'm', 'g', 'o', 'i', 'e', 'i', 'e', 'a', 'á', 'k', ' ', 'n', 'n', ' ', 'r', 'a', 'i', 'e', 'i', 'd', 'n', ' ', 'l', 'l', ' ', 'n', ',', 'o', ' ', 'd', 'i', 'o', 't', 'n', 'b', 'a', 'o', 'ó', 's', 'ó', 't', 'i', 'l', 'i', 'e', 'ü', 'l', 'e', 'i', 'é', ' ', ' ', 'z', ' ', 'n', ' ', ',', 'g', 'õ', 'e', 'e', 'e', 'é', 'h', 'y', 'r', 'l', 'e', 't', 'o', ',', 'g', 'm', ' ', 'a', 'a', 'a', ' ', 'g', 't', ' ', 'l', ' ', 't', 'e', 'é', 'l', 's', 'h', 'y', 'e', 'i', 'y', ' ', 'm', 'i', ' ', 'v', 'b', 'l', 'n', 'é', 'l', 't', ' ', 'ó', 'm', 'd', 't', 'i', 'g', 'k', 'k', 'o', ' ', 'l', 'g', 'ú', 'a', 'i', 'n', 'j', 'k', 'e', 't', ' ', 'n', 'á', 'j', 'b', 'a', 'c', 't', 'd', ' ', 'e', 'e', 'm', 'd', 'i', ' ', 'm', 'u', 't', ' ', 'a', 'v', 't', ' ', 'ó', 'h', 'y', 'e', 'l', 'e', 'i', 'o', 'i', 'á', ' ', 'm', ' ', 'l', 'n', 'e', 'j', 'e', 'e', 'n', 'g', 'z', 't', ' ', 'l', 'é', ',', 'o', 'á', 'v', 'ü', ',', ' ', 's', 's', 'h', 'n', ' ', 't', ' ', 's', 'e', 'é', 't', 'ó', 'a', 'á', 'k', 'l', 'l', 'ü', 'j', 'ö', ' ', 'n', ' ', 'l', 'k', 'e', 'i', 'k', 'i', ' ', 't', 'k', 'r', 's', 'h', 't', 'o', ' ', 'm', 'e', 'e', 'k', 'e', 'l', 'k', 'v', 'e', 'k', 'd', 't', ' ', 'g', ' ', 'j', 'm', 'n', 'u', 'm', 'i', 'l', 'h', 'y', 's', 'n', ' ', 'z', 'e', 'e', ' ', 'm', 'n', 'i', '.', 'r', 'n', ' ', 'ó', ' ', 'v', 'b', 'n', 'o', ' ', 'g', 'r', 'v', 'd', 'ü', 'm', 's', 'é', 'é', 'd', ' ', 'l', 'n', ' ', 'l', 'j', 'a', 'h', 'z', 'û', 'e', 't', 'n', 'z', 'e', 'é', ' ', 'i', 'b', 'z', 's', 'h', 'y', 'l', 'h', 'o', 'a', 'i', 'e', 'k', 'ö', 'd', 'n', '.', 'l', ' ', 'g', 's', 'i', 't', 'j', ' ', 'g', 'm', 't', 'ó', 'v', '?', 'g', 'e', 'e', 's', 'k', 'z', ' ', ' ', 'z', 'p', 'a', 'o', 'k', 'a', 'z', 't', 'y', 'z', 'r', 't', 'ö', ' ', ' ', 'l', 'ú', 'a', ',', 'f', 'd', 'k', ' ', 't', 'v', 'y', 'e', 't', 'o', 'i', 'l', 'a', ' ', 't', 'e', 'j', 'a', 'a', 'á', 'a', 'û', 'k', '?', 'm', 'n', 'c', 'e', 'í', ',', 'a', 'm', 'é', 't', 'v', 'n', ' ', 't', 'y', 'é', 'i', ',', 'i', 'e', 'e', 'm', 'á', 't', 'a', 't', 'k', ' ', 'z', 'k', 'e', 'k', 's', 'e', 'h', 't', 't', ' ', 'a', 'k', 'r', 'n', 'i', 'j', 'm', 'a', 'n', 'd', 'm', 'e', 'a', 'k', 'o', 'a', ' ', 'r', 'á', 'm', 'n', 'i', 'g', 'a', 'k', ' ', 't', 'e', 'e', 'i', 'e', 'é', 'l', 'k', 'á', 'k', '.', 'r', 'n', 'c', 'a', 'é', 'n', ' ', 'b', 'e', 'k', 'ö', ' ', 'g', 'b', 'o', 's', ' ', 'a', 'a', 'á', 's', ' ', 's', 'u', 'a', 'e', 's', 'i', 't', 'l', 't', ' ', 'b', 'e', 'f', 'd', 'f', 'ó', 'a', 'a', 't', 't', 'r', 'e', 't', 'í', ' ', 'l', 'k', 'e', 'i', 'n', 'a', 'e', 's', 'é', 'é', 'j', ' ', 'n', 'z', ' ', 'l', 'a', 'e', 'e', 'k', 'k', 'e', 'u', 't', ',', 'o', ' ', 'g', 'n', 'n', 'n', 'é', 's', 's', 'n', 'l', 'l', 'g', 'z', 'd', 't', 'a', 'm', 'i', 't', 'é', 'v', 'y', ' ', 'r', 'v', 't', 't', 'o', 'j', ' ', 'g', 'd', ' ', 'g', 'm', 'l', 'o', 'a', 't', 't', 'é', '.', 'd', ',', 'a', 'é', 'u', 'a', 'z', 's', ' ', 't', 'z', 'l', ',', 'g', 'z', 'm', ' ', 'l', 'a', 't', 'o', 'o', ' ', 'v', 'd', 's', 'n', ':', ' ', 't', 'k', 'v', 'b', 'v', 't', 'e', ' ', 't', 'e', 's', 'm', ' ', 'm', 'a', 'l', ' ', ' ', 'é', 'n', ' ', 'r', 'l', ',', 'm', 'a', 'h', 'á', 'a', 'v', ' ', 'á', 'a', 'a', 'i', 'g', 'e', 'í', 'k', 'a', 'o', ' ', 'v', 'm', 'f', 'z', 'e', 'k', 'n', 't', 'e', ' ', 'a', 'o', 'f', 'j', 'o', 't', 'n', 'm', 'd', 'o', ' ', 'n', 'n', 'á', 'a', 'á', 'k', 'l', 'u', 'l', 't', ',', 'h', 'y', 'i', 'e', 'o', 'm', ' ', 'e', 'i', 'e', 'k', 'á', 't', '.', 'z', 't', 'j', 'a', 'a', 'm', ' ', 'g', 't', 't', ' ', ' ', ',', 't', 'n', 'e', 't', 'a', 'o', 'a', 'á', 't', 'b', 'á', ' ', 'o', '\\n', 'e', 'e', 'z', 'e', 'é', 'i', 'v', 'y', 'o', 'u', 'a', 's', 'e', 'e', 'e', '\\n', 'e', 'h', ' ', 'm', 'u', 'd', 'h', 'y', 'á', 'n', 'e', 'm', 'd', ' ', 'a', 'd', 'õ', 'ü', 'd', ' ', 'g', 'l', 'k', 'b', 'm', 't', 'n', 'b', 'e', 'z', '\\n', 'e', 'm', ' ', 'r', 's', 'l', ',', 'o', 's', 'o', 'a', 'f', ' ', 'n', 'o', '\\n', 'a', 'e', 'e', 'b', 't', ' ', 'l', 'd', ',', 'e', 'é', 'f', 'e', '\\n', 'e', 'v', 'á', 'a', 's', 'e', 'e', 'i', 'ö', 'é', 'c', 'k', 'a', 'n', 'õ', 'e', 'n', 'i', 'z', 't', 'a', 'a', 'e', 'e', 'm', 't', 'n', 'n', '.', 'r', 'n', 'p', ' ', 'g', 'r', ' ', 'n', 'r', 'e', 'd', ' ', 'l', 'd', '.', 'r', 'j', 'b', '.', 't', ' ', 'é', 't', ' ', 'm', 's', ' ', 'é', 'b', 'u', '\\n', 'e', 'j', 's', 'á', 'a', 'z', 'a', ' ', ' ', ' ', 'm', 'e', 't', 'e', 'l', 'a', 'e', 'e', ',', 'l', 'n', 'a', 'á', 'k', 'i', 's', ' ', 'p', 'i', 'g', 's', ' ', 'j', 'o', 'z', 'h', 'b', 'k', 'e', '\\n', 'e', ' ', 'p', 'o', 'b', 'm', 'y', 'õ', ' ', 'g', 'b', 'v', 'n', 'm', 't', 'á', 'i', 'c', 'k', 'g', 'a', 'z', 'e', 's', 'd', 'g', 'h', 'y', 'e', 't', 'j', ' ', 'g', ' ', '.', 'z', 's', 's', ' ', 'y', 'n', ' ', 't', 'k', 'ö', 'e', 'e', 'e', 'i', ',', 's', 'n', 'e', 'n', 'm', ' ', 'l', ' ', 'r', 'n', 'a', 'i', 'h', 'm', 't', 'n', 't', 'z', 's', 'n', ' ', 'm', 't', 'e', '\\n', ' ', ' ', 'd', 't', 'á', 'z', '\\n', 'r', 'k', 'a', ' ', ' ', 'o', 'l', 'o', 'd', 'a', 'e', 'e', 'é', 'n', 'c', 's', 'm', 'c', 'd', 'a', 's', 'b', ' ', ':', 'i', ' ', 'ü', 'e', 'n', 'r', ' ', 'k', ',', 't', 'i', 'i', 'r', 'n', 'v', 'y', ' ', 'b', 'o', 's', 'a', 't', 'a', 'a', 's', 'o', 'i', 'e', 'õ', 'z', 'l', 'j', 'a', 'e', 'm', 'ú', 'l', 'é', 'õ', 'é', 'e', 'z', 'm', 'l', 'ó', 'k', 'a', 'a', 'f', 's', 'n', 'a', 'o', 'v', ' ', 'f', 'd', '.', 'á', 'y', ' ', 'd', 'a', 'k', 'n', 's', 'v', 'é', 'r', ' ', ' ', 'd', 'v', 'j', 'r', 'é', 'í', 'k', ' ', 'r', 't', ' ', 's', 'z', 't', 'g', 'b', ' ', 'k', 'ó', 'l', 'a', 'h', 'ó', 'l', 'o', 'a', 'e', ' ', 'r', ',', 'i', 's', 'e', 'é', 's', 'l', 'i', ' ', 't', ' ', 'o', 'l', 'e', 'n', 'e', ' ', 'g', 'k', 'e', 'a', 'é', 'k', 'l', 't', 't', ' ', 'b', 'ó', 'j', 'p', 'i', 'n', ' ', ' ', 'b', 'á', 'k', 'a', 'b', 'v', 'e', 'e', 'g', 'á', 'é', 'a', 'e', 'é', 't', 's', ' ', 'é', 'e', 'e', 'e', 'z', 'g', 'd', 'a', 't', 'e', 'a', 'ö', 'é', 't', 'n', 'j', ' ', 'v', 'o', 'e', 'e', 't', 'a', 'a', 't', 'n', 'z', 't', 'e', 'û', ' ', 'p', 'o', 'ó', 'u', 'r', ' ', 'a', 'a', 'o', 'i', 'r', 'n', 'ü', 'e', ' ', 'n', 'n', 'n', 'g', 's', 'a', 'k', 'm', 'j', ',', 'm', ' ', 'l', 't', 'n', ' ', 'd', 'e', 'k', 'n', 'd', 'g', 'g', 'r', 'a', 'e', 'z', 'y', 'a', 'á', 'a', 'i', 'n', 'l', 'a', 'u', 'v', 'a', 't', 'a', 'k', 'm', 't', 'i', 'ö', 's', ',', 'j', 'e', 't', 'a', ' ', ' ', 'j', 'a', 'v', ',', 'i', 'o', 's', 'a', 'ö', 'v', 'e', 'i', ' ', 'l', 'e', 't', 'v', 'y', 'e', 'a', 'j', 'o', ' ', 't', 'z', 's', 'n', 'e', 'ü', 'é', 'a', 'a', 'á', 's', 'n', 'z', 'l', ';', 'e', 'a', 't', 'n', 'k', 'e', 'j', ' ', 'i', 'e', 's', 'p', 'û', 'e', 'e', 'é', 'n', 'c', 'h', 'y', 'n', 'o', 'z', 'm', ' ', 'r', 't', 'e', 'a', 'v', 'e', ' ', ' ', 'y', 's', 'e', 'z', '.', 'z', 'r', 'ö', 'a', 'i', 'n', ' ', 'z', 'v', 'k', 'v', 'e', 'm', ' ', 't', '?', 'e', ' ', 'm', 'i', 't', '.', ' ', ' ', 't', ' ', 'e', 'm', 'h', 'y', 'm', 'd', 'm', 'e', 'e', 'y', 'e', 'a', 'i', 'n', 'b', 'd', 't', 'a', 'a', 'o', 'o', 'a', 'n', 'i', 'p', 'z', 'e', 'y', 'm', 'e', 'i', '?', 's', ' ', 'm', 'z', 't', ' ', 'g', ' ', 'r', 'n', ',', 'k', 'á', 'i', 'a', 'n', 'o', 'b', 'g', 'a', 'n', ' ', 'e', 'i', ' ', 'g', 'k', ' ', 'e', 'z', 'k', 'õ', 'm', 'i', ' ', 'l', 'y', 'a', 'e', 'e', 'õ', 'ö', 't', ' ', '.', 's', 'n', ' ', 't', 'n', 'r', 'k', 'á', 'h', ' ', 'n', 'r', 'n', 'k', 'v', 'e', 'k', 'é', 'a', 'á', 'ó', ' ', 'é', 'e', 'j', 'o', 'v', ' ', 'r', 'i', '.', 'r', 'n', 'i', 'p', ' ', 'l', 'á', 'l', 'n', 'á', ' ', 'o', 'a', 'í', 'r', 'k', 'ó', 'i', 'z', 'm', 'f', 'd', 'a', 'k', 'á', 'a', 'ö', 'ö', 't', 'õ', 'r', ' ', 'r', 'y', 'e', 'e', 'n', 'e', 'ü', 'é', 's', 'a', 'z', 'á', ' ', 'f', ' ', ' ', 'p', 'z', 'l', '.', 'a', 'm', 's', 'h', 't', 'a', 'a', 'c', 'k', 'h', 'y', 'ö', 'é', 'e', 'j', 'ö', 'e', 'd', 'e', 'm', 't', 'i', ' ', 's', 'v', 'a', 't', 't', ' ', 'á', 'a', 'e', 'e', ',', ' ', 'e', 'e', 's', ' ', 'm', 't', 'r', 'm', 'd', ' ', 'ö', 'ö', 'é', 't', 'b', ' ', ',', 's', 'g', 'e', 't', 'h', 'y', 's', 'm', 'l', 'n', 'e', 't', 'v', 'y', ' ', 'g', 't', ' ', 'n', ' ', 'z', 'v', ' ', 'k', ' ', 'g', 'm', 'p', 'n', 'l', 'o', ' ', 'n', 'z', 't', ' ', 'g', ' ', 'r', ' ', 'k', 'd', 'é', 'n', ' ', 'c', ' ', 't', ' ', 'm', 'm', 'a', 'f', 't', ' ', 'l', 't', 'o', ' ', 't', ' ', 'n', ' ', ' ', 'a', 'm', 'k', 'á', ',', 't', 'j', 'l', 't', ' ', 'n', 'a', 'r', ',', 'e', 'n', 'z', 'a', 'v', 'y', ',', 'n', 'c', 'm', ' ', 'g', ' ', 'á', 'k', 'z', 'n', 'b', 't', 'é', '.', 'r', 'n', 't', ',', 'o', 'd', 'd', 'h', ' ', 'h', 'y', ' ', 'l', 't', ' ', '?', 'r', 't', 'o', 'j', ' ', 'g', 'a', 'é', 'i', 'e', 't', 'e', 'e', 'l', 'k', 'ó', 'm', ' ', 'n', 's', ' ', 'l', ' ', 'n', ' ', 'n', ' ', 'v', 'é', '\\n', 'm', 'a', 'l', 't', ',', 'o', ' ', 't', 'e', 'e', 'z', ' ', 'i', 'e', 'l', 'm', 'n', 't', 't', 'z', 'e', 's', 'n', 'l', 'b', 'z', '?', 'r', 'n', 'h', 'y', 'e', 'e', 'm', ',', 'o', ' ', 'd', 'd', 'e', 'e', 'é', 'i', 't', 'õ', 'l', 'n', 'k', 'n', 'i', 'e', ',', 'h', 'y', 'ö', 'é', '.', 'e', 'n', 'z', 'a', 'ó', 'm', 'r', 'í', 'e', 'e', 'e', 'i', 'e', 'e', 'm', 't', 'k', ' ', 'r', 'a', 'u', 'á', 'l', 'e', 'p', 'n', 's', 'z', 's', 'ó', 'o', 't', 'e', 'p', 'é', 'm', 'a', ' ', 'g', 't', 'a', ' ', 'é', 'i', 'n', 'ü', 'ü', ' ', 's', 'k', ' ', 'd', 'á', 'h', 'y', 't', 't', 'b', 'é', 'n', 'h', 'z', 'r', 'k', ' ', 'é', 's', 'i', 'a', 't', 't', 'k', ' ', 'y', 's', ' ', 'ó', 'u', 's', 't', 'i', ',', 'g', 'm', 't', ' ', 'y', 'ü', ' ', ' ', 'g', 'a', 'l', 'a', 't', 'o', ' ', 'r', 't', 'e', 'í', ',', 'i', 'a', 'i', ' ', 'g', ' ', 'p', 'n', 's', 'o', 'n', 'a', 'e', 'd', 'e', ' ', 'j', 'k', 'e', 't', 's', ' ', 's', ' ', 'e', 't', ' ', ' ', 'k', ' ', 'r', 'l', 'a', 'ö', 't', ' ', 'i', 'ö', 'é', 'l', 'p', 'f', 'g', 'a', 'i', 'r', 'k', 't', ' ', 'k', ',', 'e', 's', 'o', 'a', 'á', 'o', 'j', ' ', ' ', 'd', ',', 'e', 'e', 'k', 'i', 'e', 'v', 'e', ' ', 'l', ' ', ' ', ',', 'e', 'e', 'e', ' ', 'n', 'i', 'é', 's', 'm', 'k', 'z', 's', 'n', 'ü', 't', ' ', ' ', 'k', 't', 't', 't', ' ', 's', 's', 'o', ' ', 'm', 't', 'o', ' ', 'l', 'm', ' ', 'l', 'y', 'k', 'e', 'e', 'n', 'n', 'z', 'd', 't', 'm', 't', 'i', 'o', ' ', 'd', ',', 'i', 'r', 'g', 'r', ' ', 's', 'é', 'f', 'k', 't', 'e', 'n', ' ', 'l', 'a', 'u', 't', 't', 't', ' ', 'g', 'l', 'n', 'a', 'í', ' ', 'l', 'y', 'n', 's', ' ', 'l', 'j', 'l', ' ', 'n', 'é', ' ', 'g', 'á', 'o', 't', 'n', 't', 'a', 'é', 'e', 'm', 'y', 'e', 'm', 't', 't', 'n', 'a', '.', 'k', 'é', 'n', 'o', 'a', 'y', 's', ' ', ' ', 'm', 'c', 'm', ',', 'g', 'r', 't', 't', ' ', 'é', 'i', ' ', 'o', ' ', 'r', 'j', ',', 'h', 'm', ' ', 'd', 'a', 'a', 'v', 't', 'õ', 'k', 'ü', 'e', 'r', 'é', 'ü', ',', 'á', 'a', 'z', ' ', 'm', 'f', 't', ' ', ',', 'n', 's', 'p', 'd', 'f', 'e', 'e', 'n', ' ', 'm', 'õ', 'a', 't', 'g', 'o', 'a', 'u', 'f', 'é', ' ', 't', ' ', 'h', 'n', 'i', 't', 't', 'd', 's', 'm', ' ', 'm', 'r', 'á', ' ', 'g', 'n', 's', '.', 'k', ' ', 'd', ' ', 'n', ' ', 'ö', 'm', 'e', 'r', ' ', 't', 'i', 's', 'a', 'é', 'a', 'a', 'ó', ' ', ' ', ' ', 'l', 'i', 'd', 'r', 's', 'l', 'b', 'b', 'v', 'n', 'a', ',', 'i', 'k', 'v', 'ü', '.', ' ', 'm', ' ', 'm', 'e', 't', 'a', 'm', 'k', 'o', 'o', 'b', 'm', 't', 'z', 'h', 'y', 'n', 'p', ' ', 'g', 'n', 'e', 'b', 'ö', 't', 'k', 'ó', 'a', 'i', 'n', 'o', ' ', 't', 'á', 's', 'c', 'k', 't', 'f', 'e', 'l', 'a', 'v', 's', 'l', 't', 'm', ',', 'v', 'l', 'o', ' ', 'g', 'm', 't', 't', ',', 'a', ' ', 'f', 'o', '\\n', 't', 'o', 'e', 'á', 'a', 'm', ' ', 'g', 'n', 'n', ' ', 'g', ' ', 'h', '\\n', 'e', '(', ' ', 'h', ')', 'o', 'd', 'l', 'a', 'd', 'm', 'e', 'z', 'a', 'r', ' ', 'p', 'k', 's', 't', 'm', ' ', 's', 'y', ' ', 'd', 'l', ' ', 'l', 'n', 'e', 'a', '.', ' ', ' ', 'v', 'i', ' ', 'a', 'i', 'n', 'o', 'e', 'z', 'j', 'e', 'c', 'k', 'e', 'é', 'd', ' ', 'v', 'r', 'f', 'd', 'u', 'a', ' ', 'g', 'e', ' ', 'g', 'n', ' ', 'g', 'l', 't', 'm', 'n', 'a', 'i', 'n', 'u', 'a', ' ', 's', 'n', 'i', 'e', 'é', 'ú', 'n', 't', 'l', '.', 'r', 'n', 'm', 'i', 't', 'v', 'y', 'e', 'm', ' ', 'r', 'd', 'z', 'n', 't', '\\n', 't', 'o', 'h', 'z', ' ', 'm', 'e', 'z', 'o', ' ', ',', 'i', 'g', 'r', 'd', 'k', 'e', ',', 'a', 'a', 'i', 'g', 'i', 'e', 'k', 'ö', 't', 'l', 'ó', 'k', 's', ' ', 'a', 'n', 'ü', ' ', 'y', ' ', 'r', 'n', 'k', '.', 'r', 'c', 'i', 'a', 'n', ' ', 's', 'm', 'h', 'y', 'l', 'e', 'l', 'e', ' ', 'l', 'e', 'e', 'i', 'e', 'k', 'e', 'v', 't', 'ó', 'a', 'a', 't', 'v', 'y', ' ', 'h', 'n', 'k', 'y', 'e', 't', 'e', ' ', 'm', 'a', 'a', ' ', 'g', 'p', 'é', 't', 'é', 't', ' ', ',', ' ', 'n', ' ', 'b', ',', 'i', 'u', 'á', 'h', 'y', 'i', 'a', 'l', 'a', 'i', 'e', 'k', 'e', 'é', 'e', 'k', 'á', 'b', 't', 'é', ':', 'b', 't', ' ', 'm', 'é', 'k', 'b', 'm', 'y', 'e', 'e', 'k', 'o', 'a', ' ', 'g', 'u', 'm', 'h', 'y', 'e', 'a', 'k', 'm', ' ', 'k', ' ', ',', ' ', 'l', ' ', 'm', 'a', 'o', ' ', 'h', 't', ' ', 'õ', 'l', 't', 'l', ' ', 'g', 'é', 'm', ' ', 'v', ' ', ' ', 'a', 'n', 'r', 't', '.', 's', 'n', 'k', 'a', 'y', ' ', 'e', 'e', 't', ' ', 'k', 't', 'a', 'm', 'm', ' ', 'a', 'é', ',', 'a', 'l', 'a', 'm', ' ', 's', 'h', ' ', '?', 'é', ',', 'o', ' ', 'y', 'o', ' ', 'r', 'á', ' ', 'm', 'a', 's', 'o', 'm', 'e', 'o', 'h', 'a', ' ', 't', 'z', 't', 'z', 'n', 'n', 'm', 'h', 'o', ',', ' ', 'r', 'm', 'e', ',', 'o', ' ', 'n', ',', 'i', 'l', 'm', 's', 'õ', 'a', 'f', 'n', 'n', 'e', ' ', 'd', 'e', 'c', 'p', 't', 'e', 'á', 's', 'a', 'g', 'h', 'z', ' ', ',', 'o', ' ', 'p', 'e', 'b', 'g', 'á', 'c', 'k', 'a', 'a', 'r', ' ', 'l', 's', 'o', 'e', 'e', 't', 'k', 'v', 'e', 'é', 'e', 'b', 'z', 'û', 'p', ' ', 'd', ' ', 'n', ' ', ',', 'r', 'á', 'm', 'n', 'a', 'a', 's', 'h', 'l', 'o', 'a', 'e', '\\n', 'e', 'm', ' ', 'g', 'd', ',', 'i', 'n', 'e', 'n', 'a', 'i', 'u', 't', 'e', 'ö', 'y', 'b', ' ', 'k', ',', ' ', 'v', ',', 'a', 'r', 'r', ',', 'i', 'n', 'k', 'ó', 'ü', 'b', ' ', 'z', 't', 'l', 'h', 'o', 'r', 'e', 'é', 'b', ' ', 'g', 'n', 'e', 'e', 'e', 'ö', 'k', ' ', 'b', ' ', ' ', 'c', 'n', ' ', 't', 'o', ' ', 'g', 'k', 'i', 'i', 'j', 'o', 'k', 'a', 'á', 't', 'a', 'n', ' ', ' ', 'l', 'h', 'y', 'e', 'h', 'á', 'a', 'z', 'j', ' ', ',', 'i', 'z', 'g', 'c', 'k', ' ', 'n', 'a', 'õ', 's', 'g', ' ', 'y', 'a', 'l', ' ', ',', 'g', 'v', 'o', 'n', 't', 'v', 'y', ' ', 't', ' ', 'l', 'a', 't', 'õ', 'é', 'k', 'z', 'á', 'm', 'o', 'k', 'r', 'á', ' ', 'l', 'h', 'y', 'û', 's', 'e', ' ', 'á', 'b', 'z', 'n', 'e', 't', ' ', 'd', ' ', 'n', ' ', 'r', ',', 's', 'e', 'l', 'n', ' ', 'r', ' ', ',', ' ', 'y', 'e', 'n', 'd', 'o', 'h', 'y', 'k', 'ü', 'e', 'e', 'l', 'e', 'v', 'e', 'l', 'y', 'b', ',', ' ', 'u', '-', 't', ' ', 'r', 'm', 'd', ' ', 'k', ' ', 'z', 't', 'e', 'e', 'e', 'b', 'r', 'o', 'a', 'e', 'o', 'z', 'b', 'a', 'l', 'e', 'n', ' ', 'r', 'h', 'i', 'u', 'v', ' ', 'y', 't', 'm', 't', 'n', 'z', 'i', 'v', 'o', 'm', ' ', 'm', 'é', 't', 'v', 'õ', 'b', 't', 'a', 't', 'o', '.', 'v', 't', ' ', ' ', ',', 't', 'b', 'n', 'á', 'a', 'é', 'i', 'n', 's', 'e', 'û', ' ', 'v', 't', 's', 'é', 't', ' ', 'k', 't', 'e', ' ', 'l', ' ', 'a', 'a', ' ', 'n', 'a', 'o', 'a', 't', 't', ' ', 't', 'n', 'r', ',', 'ö', 't', 'e', 'e', 'á', 'l', 'a', 'e', '.', 'û', 'l', ' ', 'g', ' ', 't', 'u', 'm', 'e', 'o', 'a', 'é', 'k', ' ', 'g', 'a', 'e', 'e', 'é', 'k', 'n', 'y', ' ', 'n', 'e', '.', 'n', 'g', 'é', 'z', 'r', 'a', 'a', ' ', 'm', 'h', 'o', '-', 'ö', 'e', 'k', 'á', 'z', 'k', 'ó', 'e', 'é', ' ', ' ', ' ', 'g', 's', ' ', 'n', 'n', 'e', 'r', 'm', 'n', 'a', 'i', 'n', 'i', 'v', 's', 't', 'á', ' ', 'i', ' ', 'k', ' ', 'n', 'n', 'z', 'a', 'e', 'e', 'e', 'a', ' ', 'm', ' ', 'e', 'c', 'k', 't', 'h', 'r', 'l', 'z', 'i', 'é', 'm', ' ', 'n', 'a', 'k', 'n', 'e', 's', ' ', 't', 'i', 'a', 'b', 'o', ' ', 'c', 'b', 'n', 'e', 'n', ' ', ' ', 'e', 'z', 't', ',', 'n', 'a', 'a', ' ', 'g', 't', 't', 'r', ' ', 't', 'e', 'e', 'é', 'i', ' ', ' ', 'c', 'r', 'n', ' ', 'i', 'k', 'z', 'i', ' ', 'e', 'h', 'f', 'e', 'm', 'e', 'v', 'n', 'n', 'l', 'k', ' ', 'k', '.', 'z', 'r', 'k', 'g', 'i', 'o', ' ', 'n', 'e', 'e', 'b', 'd', 'u', 'a', 't', 's', ' ', 'd', ' ', 'r', 'a', 'm', 'd', 't', 's', 'e', 't', 'k', 'ó', 'e', 'á', 'd', 'í', ' ', 'd', 's', 'n', 'é', 'n', 'e', 'i', 'á', '\\n', 't', 'o', 'l', 'j', ' ', 'e', ' ', ' ', 'k', ' ', 't', 'é', 'd', ' ', 's', 'k', 'ó', ' ', ' ', 'm', 'z', 'y', 'l', ',', 'o', ' ', 's', 'n', 'g', 'd', 'k', 'o', '\\n', 't', 'o', 't', 't', 'r', 't', 'y', 'z', 'v', 'e', 'i', 'z', 'y', ' ', 'm', 'e', 't', 'k', 'ó', 'á', 'n', ' ', 's', 'é', 'a', 'i', ' ', ' ', 'e', 'e', 'á', 't', 'e', '?', 'n', 'g', 'é', 'e', 't', 't', 'r', ',', 'g', 'a', 'á', ' ', 'l', ' ', 'y', 'p', 'k', 'k', 'ó', 'r', 't', 'h', ' ', 'é', ' ', 'g', 'k', 'y', 'e', 'e', 'n', 'a', 'i', 'n', 'e', 'v', 'o', 'a', 'a', 'v', 'l', 'z', 'k', 's', 'b', 'z', 'l', '\\n', 'e', 'h', 'y', ',', 'a', 'g', 'é', ' ', 'á', 'o', 'z', 'e', 'j', ' ', ' ', 'n', 'z', '\\n', 't', 'o', 'k', 'm', 'h', 't', 't', 't', 'r', ' ', 'l', 'é', 'n', ' ', 'o', 'a', 'o', '.', 'r', 'n', 'z', 'k', 'e', 'ú', 'i', 'ö', ' ', ',', 'é', 'l', 'z', ' ', '.', 'n', 'g', 'é', ' ', 'g', '.', 'á', 's', 'e', ' ', 'r', 'n', 's', 'r', 't', 't', '.', 'r', 'n', 'y', 'r', ' ', 'r', 't', 'é', 'e', 'y', 'h', ' ', ' ', 'g', 'o', '.', 'n', 'g', 'é', ' ', 'd', ',', 'á', 'a', 't', 'l', 't', 'z', 'i', 't', ' ', 'r', '?', 'r', 'n', ' ', 'l', 's', 'b', ' ', 'l', 'b', ' ', ' ', 's', 'b', 'á', '\\n', 't', 'o', 'g', 'l', 'n', 'n', ' ', 'ü', 't', 'm', 'n', 's', 'r', 'n', 'c', 'k', 'k', 'ó', 'e', ' ', 't', 't', 'u', ' ', ' ', 'e', 's', 'r', 'd', 'l', 't', 'e', 'í', 'é', 'é', 'k', 'e', 'l', 'z', 's', 'o', ' ', 't', 'z', 'r', 'i', 'm', 'é', 'i', 'p', ' ', 'l', 'á', 'l', 'a', 'm', 'r', ' ', 's', 'é', 't', 'z', 'e', 'i', 'm', 'é', ' ', 'p', ' ', 'l', '.', 'e', 'l', 'k', 'f', 'h', 'e', 'o', 'l', 'i', 's', 'c', 'a', 'ö', 't', ',', 'k', 'n', 'g', 'd', ' ', 'g', ' ', 'k', 'v', ' ', 'c', '.', 'r', 'n', 's', 'é', 'h', ')', 'z', 'j', 'á', ' ', ' ', 'n', 'k', 'y', 'c', 's', 'á', 'h', 'a', 'a', 'e', ' ', 't', 'n', 'z', 't', ' ', 'r', ',', ' ', 'm', 'e', 'e', 'é', 'r', 's', ',', 'g', 't', 'n', ' ', 't', 'e', 'o', 'ó', 't', 'á', 'á', 'm', 'n', 'z', 'j', 'á', ' ', 't', 'e', 's', ' ', 's', ' ', 't', 'l', 'e', 's', 'a', ' ', 'g', 'n', ' ', ' ', 'd', 'd', 'm', 'e', 'ü', 'ö', 'r', '?', 's', 'é', 'm', 't', 't', ' ', ' ', ' ', 't', 'm', ' ', ' ', 'n', 'n', 'n', 'g', 'z', 'd', ' ', 'z', ',', ' ', 'b', 't', 'é', ' ', ' ', 'l', 'l', '.', 'n', 'g', 'é', 'a', 'o', ' ', 'l', 'l', ' ', 'n', ' ', 'g', ',', 'i', 'l', 'e', 'e', 'ö', 'é', 'v', 'e', ' ', 'é', 'n', ' ', 'z', 'k', 't', ' ', 'l', '!', 's', 'é', 'd', 'm', 't', 'h', 'y', 'a', 'a', 'u', 'z', 'n', ' ', 's', 'l', 'k', 'e', 'd', 'j', 'n', 'e', ' ', 'j', ' ', 's', 'n', 'd', ' ', 'l', '\\n', 't', 'o', 'k', 't', 't', 'v', 't', 't', 'ú', 'e', 'a', 'a', 'i', 'g', 'e', 'z', 'k', 'c', 'k', 'z', 'a', 's', 'r', ',', 'e', 'k', 'l', 'e', 'm', 'i', 'm', 'é', ' ', 'd', 'v', 'e', ' ', 'g', 'm', ' ', ' ', 'l', 's', 'k', 'e', 'd', 'a', 't', 't', 't', 'r', 'k', ' ', 'g', 'g', 'z', 'l', ' ', 'y', 'a', 'i', 'n', 'e', 'd', 'e', 'o', 't', 'o', ' ', 't', 't', 'n', 'o', ' ', ' ', 'r', 'ö', 's', 'a', 'l', ' ', 'é', ' ', ' ', 'g', 'l', ' ', 'g', '.', 's', 'é', 'd', 'n', 'k', 'e', 'm', 'a', 'a', 'l', 'm', 's', 'i', 'é', '\\n', 't', 'o', 'k', 'd', 'd', 'r', 'n', ' ', 't', ' ', 'a', 'r', 'e', 'i', 'i', '\\n', 'z', 'n', 'i', 't', 'á', 'a', '?', 'e', 't', 't', ' ', 'm', 't', 'l', 'n', '.', 'n', 'g', 'é', 'j', 'é', 'm', 's', 'h', 'r', 't', ' ', 'n', 'l', 'n', 'k', 'l', 'i', 'm', 'é', 'g', ' ', 't', 'u', 'é', 'm', 't', 'e', 'e', 'e', 'e', 'i', 'é', '\\n', 't', 'o', 'm', 't', ' ', 'g', 'a', 'd', 'n', ' ', 'z', ' ', ' ', 'í', 'e', 'e', '.', 's', 'é', 'ó', 'j', ' ', 'k', ',', 'á', 's', 's', 'a', 'n', ' ', 'z', 'a', 'm', 'a', 'i', 'n', 'n', 'e', 'a', 'k', 's', 'e', 'z', 'v', 'a', 't', 't', ',', 'o', ' ', 'j', 'i', 'm', 'é', 'm', 'o', 'h', 'o', ' ', 'g', 'n', ' ', 'g', 'l', 'z', 't', 'l', '.', 'n', 'g', 'é', ' ', 't', 'z', 'r', ' ', ' ', 'o', 'a', 'o', 'o', 'k', 'i', 'm', 'é', ' ', 't', ',', 'e', 'e', 's', 'e', 'e', 'e', ' ', 't', 'e', 's', 'a', 'i', 'n', 'i', 's', 'a', 'd', ' ', ' ', 's', ' ', ' ', 'n', 'm', 'é', 'h', 'o', 'a', 'z', ':', 'a', 't', 'i', 'a', 't', 't', 'o', 'v', 'e', 'k', 'ó', 's', 't', 'e', 't', 'e', 'é', 'l', 'n', 's', 'm', 't', 'á', ',', 'y', ' ', 'a', 'm', 't', 'a', 'á', 'k', 'm', ' ', 'ó', ' ', '.', 's', 'é', 'n', 'v', 'd', 'k', 'á', ',', 'o', ' ', ',', 'i', 'e', 'y', 'b', 'a', 'é', ',', 'j', 'a', 'é', 't', 'e', 't', 'j', 'm', 'd', ' ', 'r', 'n', '\\n', 'e', 't', 'e', 'e', 't', 't', ' ', 'ö', 'é', ' ', 'l', 'l', 'd', ' ', 'j', '\\n', 'z', 'n', 'a', 'n', 's', 'l', 'e', 'm', ' ', ' ', 'é', 'ü', '?', 'r', 'n', 'ó', ' ', 'r', 'e', 's', 'e', 'é', ':', 'e', 'l', 'e', 'k', 'i', 'm', 'é', 'a', 'n', ' ', 'ö', 'm', ' ', 'n', 'a', 'm', 'y', 's', 'n', 't', 'k', 'ó', 'í', 'l', 'i', 'v', ' ', 'l', ' ', 'e', ' ', 'á', 'á', 'a', 'á', '\\n', 'z', 'n', 'e', 'e', ' ', 't', ' ', ' ', 'y', 'z', 'e', 'e', 'm', ' ', 'á', '.', 'n', 'g', 'é', ' ', 'd', 's', 'a', 'ó', ' ', 'g', 'e', 'g', 'l', ' ', 'y', '.', 'r', 'n', 's', ' ', ' ', ' ', ' ', 'a', 'a', 'n', ' ', 's', 'h', 'v', 'e', 'r', 'd', ' ', 'e', 'l', 'd', 't', 'ú', 's', ' ', 's', 'd', 'z', 's', 'i', 'm', 'é', 't', 'á', 'á', 't', ' ', 'g', 's', 'o', 's', 'á', 'f', 'd', 'k', 'ó', ' ', 't', 'j', ' ', 'i', 'é', 'h', 'é', ' ', 'd', 'z', 'f', '.', 's', 'é', 'ú', ' ', 'n', 't', 'l', 'l', 'o', ' ', 'g', 'm', ' ', 'l', 'h', 'n', '.', 'r', 'n', 'y', 'á', 'm', 'n', 's', '(', 's', 'l', 'k', 'z', 'm', ' ', 'b', 't', ',', 'z', 'g', 'é', 'f', 'j', 'o', 'é', 'v', 'y', 'e', ' ', 'n', 'a', 'é', 'l', 'n', 's', 'r', 'r', 'f', 'v', 'k', 'l', 'r', 'n', 'e', ' ', 'v', 'a', 'á', 'a', 'i', 'm', 'f', 'n', 'k', 'z', ',', 'á', 'a', 'h', 'y', 'r', 'l', 'ü', 'ö', 'é', 'a', 'ü', 'ö', ' ', 'l', '.', ' ', 't', 'e', 'y', 'e', 'e', 't', '\\n', 'r', 'l', 'g', ',', 'i', 't', 'e', 'l', 'o', 't', 'e', 'é', 't', 'b', ' ', 'r', 's', 'á', 'm', 't', 'k', 'n', ' ', 't', ' ', 'z', ' ', 'g', 'a', 't', 'á', 'n', 'z', 'é', 'õ', 'n', 'z', 'é', 'e', 'ú', 'i', 'h', 'u', 'a', 'a', 'o', 'á', 'm', 't', 'u', 'á', 'a', 'e', 'e', 'n', 'o', 'h', 't', 'á', 's', 'l', ' ', 'v', 'j', 's', 'e', 'a', 'r', 'k', 'é', 'g', 't', ' ', 'j', ',', ' ', 'l', 'é', 'k', ',', 'l', 'ö', 'é', 'b', ' ', 'm', 'l', 'e', 'e', 's', 's', 'z', 'n', 's', 'r', 'á', ',', 'z', ' ', 's', 'l', 'a', 'o', 'a', 'h', 'l', 'v', 't', 'p', 't', ' ', 'h', 'a', 's', 'õ', 'õ', 's', 'l', 'a', 'a', 'a', 'd', ' ', 'z', 'a', 'z', 'ü', ' ', 'õ', 'h', 't', 'p', 'r', ',', 'i', 'n', ' ', 'n', 'e', 'é', 'f', ' ', 'a', 'k', 'a', 's', 'n', 'd', 'r', 's', 'n', 'd', ',', 'g', 'm', 't', 'r', 'v', 'a', 'l', 'i', 'e', 'é', 'n', 'c', 'n', 'e', 'l', 'z', '.', 's', 'a', 'e', 'é', 'õ', 'y', 'é', 'e', 'e', ' ', 'g', 'i', 'p', 'z', 'á', 'n', ' ', ',', 'e', 's', 'a', 's', ' ', 'é', ',', 'r', 'o', 'a', 's', 'l', ' ', 'e', 'e', 'l', 'l', 'i', 's', 'n', ',', 'l', ' ', 't', 'e', 'é', 'k', 'n', ',', 's', ' ', 'g', 'n', ' ', 'ü', 't', 'o', 'v', ' ', 'u', ',', 'e', 'z', 't', 'r', 'd', 'm', 'm', 'k', 'n', 'b', 'z', ' ', 'r', '?', 'r', 'a', 'i', 'e', ' ', 'l', 'k', 'z', ' ', 'o', 's', ' ', 'n', 'j', 'm', '.', 'n', 'o', 's', 'n', 'l', 'ü', 'ö', 'e', ' ', 'n', 'k', 'á', 'i', 't', 'n', 'ü', 'o', 'i', 'a', 'o', 's', 'n', 'g', 'n', ' ', 'n', 'õ', 'i', 'l', 't', 'n', 'o', 's', ' ', 'l', 'p', 'é', 'a', 'e', 'z', 'e', 'ö', 'n', 'n', 'y', ' ', 'r', 'n', ' ', 'n', ' ', 'l', 'd', 'k', 'a', 'é', 't', ' ', 'j', 'é', 'ü', 'é', ' ', 'g', ',', 'á', 'o', 'é', 'm', 's', ' ', 'r', ' ', ' ', 'm', 'y', 'g', 'm', 'r', 'k', 'y', 'o', 'a', 'l', 's', 'm', ' ', 'a', 'a', 'k', 'n', 'l', ' ', 'g', 'k', 'l', 'á', 'j', 'a', 's', ',', 'a', 'i', 'é', 'r', 's', ' ', 's', 'k', 'í', 'p', 'á', 'r', 'l', ' ', 'l', 'u', 'a', ' ', 'n', 'a', 'b', 'c', 'n', 'o', 't', 's', 'i', ' ', 'a', 's', ' ', 'á', 't', 'e', 'k', 'o', ' ', 'r', 's', 't', 'r', ' ', 'n', 'a', ' ', 'n', ' ', 'l', 't', 'z', 's', 'n', 'i', 'u', 't', 'á', 'f', 'é', 'm', ' ', 'j', 'é', 'ü', 'c', 'k', 'u', 'a', 'e', 'e', 't', 'o', 'é', 'i', 'z', 'ö', 'h', 'm', 'd', 'j', ' ', 'p', 'a', 'ó', ' ', 'e', 'e', 'i', 'ö', ' ', 'l', 'i', 'a', '.', 'a', 'o', 'a', 'a', 'n', 'á', 'á', 'á', ',', 'n', 'g', 'é', 'r', 't', 's', ' ', 'j', 's', 't', 'z', 'e', 'e', 's', 'a', 'a', 'l', ' ', '?', 'r', 'n', ' ', 'r', 'z', 'm', 'd', ' ', 's', 'l', 'o', 'a', 'm', 't', 'j', ' ', 't', 'a', 'r', 'a', 'ó', 'o', 'i', ',', 's', ' ', 'm', 'a', 'g', 'l', 'ö', 'z', 't', 'd', 'l', 'v', 'a', 't', 't', 'r', 'm', 't', 't', 'e', 'm', 'i', 't', 'a', 'á', 'i', 'i', 'k', 'l', 'e', 'e', ' ', ' ', 'a', 'm', 'a', 'z', 'h', 'm', 'a', 'm', 't', 'd', 'a', 'o', ' ', ' ', 'z', ' ', 'l', 'e', 'm', ' ', 'n', 's', 'd', 'ö', 't', ' ', 'n', 'g', 'é', ' ', 'g', 'k', 'e', ' ', 'n', ' ', 'e', 'l', ' ', 'i', ',', 'i', 't', 'b', ' ', 'r', 'n', ',', 'n', 'a', ',', 'o', ' ', 'e', 'm', 'e', 's', 'j', 'á', 's', '.', 'r', 'n', 'y', 's', 'e', ' ', 'n', 'g', 'r', 'n', ',', 'i', ',', ' ', 'á', 'z', 'd', 'á', 'm', 'd', ' ', 's', 'l', 'ö', 'r', 't', 't', 'o', 'a', 'r', 'i', 'd', 'z', 'k', 'é', 'á', 'a', 'é', 'i', ',', 'g', 'e', 'e', 'l', 's', 'y', 'm', 'e', 'n', 'e', 'e', 'k', 'i', 'z', 'b', 'é', 'e', 'e', 'e', 'k', 'l', 's', 'i', 't', 'i', 'y', 'n', ' ', ' ', 'r', 'a', ' ', 'j', 'j', 'é', '.', ' ', ',', 'i', 'n', 'd', 'l', ' ', 'e', 'e', 't', 'e', 'l', 's', ' ', 'j', 'i', 'z', 'a', 't', 'e', 'r', ' ', 'e', 'e', 'i', 'l', 'n', 'l', 'e', 'g', 'y', 'c', 'r', 'n', 'j', 'o', 't', ',', 'y', 'm', 'e', ' ', ' ', 'd', 'l', 'ó', 'n', 'g', 'a', 's', 'o', ' ', 'e', 'l', 'é', ',', 'e', 'é', ' ', 'z', 'b', 'j', ',', 'g', 'm', ' ', ' ', 'e', 's', 'i', 'f', 'y', ' ', 'h', ',', ' ', 's', ' ', 's', 'n', 'a', 'o', 't', 't', ' ', 'g', 'g', 'd', '.', 'l', 'n', 'y', 'b', 'e', 't', 'o', 's', 'b', 'á', 'ü', '.', 'p', 'h', ' ', 'á', ',', ' ', 'l', ' ', 'n', 'e', 'e', 'é', 'd', 'h', 'é', 'b', 'e', ' ', 'l', 'y', ' ', 'r', 's', ' ', 'r', 't', 't', 'k', 'e', 'k', 'ö', ' ', 'z', 'y', 'g', 'r', ' ', 'n', 'h', 'y', 'e', 'e', 'z', 'ü', ',', 'g', 'z', 'á', 's', 'n', 'g', 'a', '.', 'n', ' ', 'z', 's', 'o', 'n', 'f', 'j', ' ', 'g', 'e', 'i', 'á', ' ', 'l', 'n', 'e', 'õ', 'z', 's', ',', 'ö', 's', 'i', 'e', 't', 'v', 't', ' ', 'r', 'h', 't', 'ö', ' ', 't', 'h', 'y', 'g', 'r', 'o', ' ', 'n', 't', 'o', 's', ' ', 't', 'e', 'a', ' ', ' ', 'v', ' ', 'l', 'i', 'e', 't', 'u', 'á', 'n', 'f', 'f', 'ó', 'a', 't', 'o', 'i', 'i', 'z', 'g', 'n', ' ', ' ', 'c', 'k', 'z', 'u', 't', 'z', 'a', 'á', 's', 'l', 'é', 'n', 's', 'm', 'b', 'o', 'é', 'z', 'l', 'p', 'a', 's', 'k', 'n', 'k', 's', 't', 'o', 'd', ' ', 'd', ' ', ' ', 'r', 'n', 'm', 'l', 'r', 'd', 'i', ' ', 'k', 'ö', 'e', 'ú', 'á', 'á', 'e', 'j', 'b', ',', 'z', 'á', 'a', 'á', ' ', 'l', 'n', 'ö', 'é', 't', 'i', 'é', 'i', ' ', 'g', 'z', ' ', 'á', 'é', 's', ',', 'g', 'a', ' ', 'n', 'l', ',', 'o', ' ', 'r', 'c', 'l', 't', 'e', 'n', 'a', 'é', 'h', 'y', 'l', 'e', 'e', 'n', ' ', 'l', 'k', 'i', 'a', 't', 'i', 'l', 'á', 'e', ' ', 'n', ',', 'ö', 't', ' ', 'l', 'i', 'e', 's', 'v', ',', 'e', 'e', 'j', 'o', ' ', 'g', 'j', 't', 'a', 'm', 't', 'e', 't', 'n', 'g', 'l', 'i', 's', 'a', 'o', ' ', 's', 'l', 'a', 'á', 's', ' ', 's', 'u', 'a', ' ', 'z', ' ', 't', 'a', 'l', 'k', 'o', 'k', ',', 's', 'a', 't', 'f', 'y', 'r', 'k', 's', 'b', 'n', '.', 'e', 'o', 'h', 'e', 'á', 'a', ' ', 'n', 'f', 'y', 'm', 'õ', 'a', 'l', 't', 'a', 'm', 'm', 't', 't', 'e', 'r', 'm', ' ', 'l', 'a', 'á', 's', 'e', 'j', ' ', 'd', 'i', ' ', 'g', 'a', 'z', 'y', 'z', 'e', 'o', 's', ' ', 'g', 'i', 'e', 's', 'b', ',', ' ', 'g', 'e', ' ', 'n', ',', 'y', 'z', 'e', 'l', 'f', 'f', 'k', 'e', 's', 'o', ' ', 'b', 'n', ' ', ' ', 'n', 'a', 'k', 'o', '!', 'a', 'e', 't', 'e', 'n', ' ', ' ', 'g', 'e', 'l', 't', 'é', 'e', 'ü', ' ', 'k', ',', 't', 'e', ' ', 'n', 'n', 'z', 'a', ' ', 'l', 'e', 'b', 'z', 's', ' ', 'r', 'y', 'h', 'm', 'a', 'á', ' ', ' ', 'b', 'é', ' ', ' ', 't', 't', ' ', 'l', 's', 'n', 'l', 'a', 'o', ' ', 'n', 'e', 'k', 'z', 'n', 's', ' ', 'd', '.', 'g', 't', ' ', 's', 'd', 'b', ' ', 'b', ' ', 'l', 'o', 'é', 'n', ' ', 'n', 'a', 'm', 's', 'e', 'i', 's', 'r', 'n', ' ', 'n', 'n', 'd', 'f', 'm', 'ü', 'e', 'm', 'b', ' ', ' ', ' ', 'n', 'l', '.', 'n', 'e', 't', 'á', 'e', 'n', 'm', 'z', 'h', 'y', 'á', 'a', 'm', 'i', 'i', 'c', 'l', 's', 'k', 's', 'i', 't', 'e', 'é', 'a', 'é', 'm', 'e', 't', 'i', 'e', 'd', 'l', 'é', 'a', 'é', 'f', ',', 'm', 'o', 'j', ' ', 't', 'e', 'e', 's', 'r', 's', 'm', 'h', 'l', 'i', 'e', 'n', 'o', 'l', 'a', 'é', 'k', 'é', 'k', 'a', 'g', 'o', 'h', 'y', ' ', 'r', 'j', 'm', ' ', 'v', 'o', 'e', ' ', 'l', 'y', 'k', 'b', ' ', 'l', 'j', 'b', 'i', 'e', 'a', 'z', 'y', ' ', 'z', 't', 'i', 'õ', 'e', 'é', 't', 'ú', 'l', 'e', ' ', 'g', 'l', 'a', 'i', ' ', 'e', 't', 't', 'r', ' ', 'm', 't', 'e', ' ', 'k', 'v', 'e', 'c', 't', 'a', 'e', 'u', 't', ' ', 'n', ' ', 'g', 'a', 'h', 'y', 'é', 'a', 'a', 'o', 'a', 'ö', 'a', 'r', ' ', 'l', 'k', 'b', '.', 'y', 'e', 'é', 't', 'r', 'y', 'u', 'l', 't', 'r', 'm', ' ', 'o', 'j', ' ', 'n', 'a', 'g', ' ', 'g', 'e', 'ö', 'e', 'á', 'a', 'á', ' ', 's', 'j', 'j', 's', 'r', 'c', ' ', 'p', 'i', 'e', 'é', 'n', 'c', 'n', 'z', 'o', 'a', 'e', 'i', 'o', 'o', 'b', 'f', 'n', ' ', 'y', ' ', 'l', 'g', 'g', 'á', 'v', '-', 'a', 'o', ' ', 'ö', ' ', 'e', 'e', ' ', ' ', 'l', 'g', ' ', 'a', 's', ' ', 'r', 'g', 't', 'n', 'l', 'd', 'l', 'e', 'é', 'l', 'm', ',', 'g', 'm', ' ', 'o', 'b', 'z', 'é', 'm', ' ', ' ', 'l', 'a', 'd', 'e', ' ', ',', 'i', 'i', 'i', 'c', 'k', 'a', 't', 's', 'r', 'a', 's', 'g', 'v', 'i', 'm', 'n', ' ', 'e', 'e', 'i', 's', 's', 'e', 'e', 'i', 's', 'r', 'f', 'û', 'k', 'y', 'r', ' ', ' ', 't', 'k', 'i', 'b', 'c', 'e', 'e', 'a', ' ', ' ', 's', 't', ' ', 'n', 'n', 't', ',', ' ', 'm', ' ', 'r', 'm', ' ', 'm', 'e', 'í', 't', 's', 'o', 'n', 'e', 'á', 'a', 'd', 'h', 'j', 'a', 'é', ' ', 'a', 's', ' ', 'j', 'k', 'y', 'a', 'l', 'e', 'v', 'z', ' ', 'a', ',', 'm', 'i', 'n', ' ', 'j', 'k', 's', 'ö', 's', 'l', 'u', 't', ' ', '.', 'g', 'n', 'z', 'i', 'r', 'l', 'e', ' ', 'j', ',', ' ', 'l', 'r', 'd', 'z', 'z', ' ', ' ', 'm', 'n', 'd', 'e', 'f', 'd', 'j', 'f', ',', 'ú', ' ', 'b', 'y', ' ', 'p', 'z', 'l', ' ', 'l', 'e', 'e', ' ', 'j', 't', 'á', 'n', ',', 's', 'á', 't', 'a', 'z', '.', ' ', 'l', 'é', 'e', 't', 'h', 'á', 'i', 'a', ' ', 'g', 'k', 'l', 'n', 'n', ' ', 'a', 'd', 'l', 'j', 'b', 'k', 'a', 'a', 'm', 'a', 'á', 'm', 'd', 't', 'ó', 'k', 'z', 'e', 'e', 'e', 'z', 'm', 'r', 'á', 'h', 'n', 'c', 'n', 'g', ' ', 'r', 'n', 'c', 'n', 'g', '\\n', 'j', 'm', ' ', ' ', ',', 'a', 'á', 's', 'v', 'a', 'a', 'g', 'u', '.', 'a', 'e', 't', 'r', ' ', 'r', 'y', 'm', 'd', 't', 'n', 'ó', 'b', 'z', 't', 'e', 'h', 'l', 's', 'r', ',', ' ', 'i', 'h', 'l', 't', ' ', 'g', 'e', '.', 'r', 'n', 'a', 'n', ' ', 'g', 'k', 'r', ' ', 'r', 'k', ' ', 'g', 'l', 'n', 'j', 'l', 'é', 'k', 'õ', 't', 'u', 'i', 'á', 'i', 'i', '\\n', 'i', 'n', 'm', 't', 'm', 'h', 'y', 'l', '.', 'a', 'f', ' ', ' ', 'g', 'k', 'o', 'm', 'e', 'é', ',', 'n', 'b', 'a', 'z', ',', 'a', 't', 'e', 'n', 'd', 'k', 'ó', ' ', 'n', 'o', 'ó', 'ü', 'é', 'n', 'e', 'z', 'm', 'n', 's', 't', 'h', 'm', 'g', 'o', 't', 'õ', 'm', 'l', 'e', 'e', 's', ' ', 'l', 'm', 'n', 'k', 'ó', 'o', 's', 'e', 'n', ' ', 'm', 'u', 't', 'z', 't', ' ', 'n', '\\n', 'i', 'n', 'n', ' ', 'v', 'o', 'a', 'n', ' ', 't', 'e', 's', 't', '\\n', 'e', 't', 'á', 'a', 'é', 'h', 'á', 'z', 'b', 'n', 'm', ' ', 'g', 'k', 'h', 'm', 'h', 'y', 'z', 'i', ' ', 'e', 'e', 'b', 'z', ',', 'e', 'l', 'o', 'á', '\\n', 'e', 'e', 'ö', ' ', 'r', 'y', 'm', ',', 'a', ' ', ' ', 'a', 'o', 'm', 'h', 'm', 'n', ' ', 'r', ' ', ',', 'i', 'g', 'e', 'e', 't', 'a', 'o', '.', 'r', 'n', 'é', ' ', 'r', '?', 'e', 'k', 'á', 'a', 'i', 'o', '?', 'a', 'ó', 'm', 'k', 'r', 'é', ' ', 'r', 'y', ' ', 's', 'a', 'ö', ' ', 'l', 't', 'k', 'ó', 'y', 'v', 'v', 'ó', 'a', 'õ', 'á', 'j', 'a', 'l', ' ', ' ', 't', 'h', 'm', 'a', 'o', 't', 'n', 'v', 'y', 'm', 't', 'n', 's', ' ', 'd', 'o', 'o', 'k', 'k', 'ó', 'o', 's', 'f', ',', 't', 'd', 'l', 'e', 'e', 'z', 'l', ' ', 'r', '?', 'a', 'ó', 'e', ' ', 't', 'm', 'e', ',', 'o', ' ', 'g', 'l', 's', 'o', 't', 'z', '.', 'r', 'n', 'k', 't', 'y', ' ', 'g', 'n', 'v', 'n', 'j', 't', 'a', '\\n', 'i', 'n', ' ', 't', 'e', 't', 'i', 'é', 'é', 's', 't', ' ', 'l', '\\n', 'e', 'g', 'l', 'a', 's', 'e', 'é', ' ', 'n', 'h', 'ó', 'a', 'e', 'h', 'm', 'd', 'é', 'g', 'o', 't', 't', 'á', 'j', 'a', 'e', 'j', 'o', '\\n', 'e', 'h', 'z', ' ', 'n', 'n', 'z', 'a', 'c', 'k', 'é', 't', ' ', 'n', 'h', 'm', 'é', 'e', 's', 'r', 'm', ' ', 's', 'i', 's', 'n', ' ', 'a', '.', 'r', 'n', 's', 'n', 'b', 'o', 'j', ' ', 'a', 'n', 'e', 'n', 'h', 'e', 'g', '\\n', 'i', 'n', ' ', 'a', 'b', 'z', 's', 's', 'á', ' ', 'g', 'l', 'a', 'i', 'e', 'k', 'á', 'z', 'k', 'ó', 'e', 'é', 'd', 'l', 'h', 'y', 'l', 'n', ' ', 't', 's', ' ', 'g', 'n', 'h', 'm', 'm', 't', 's', 'e', 'l', 'a', 'l', ' ', 'g', 'a', 'e', 'a', 'õ', 'k', 'ó', 'é', 'f', 'y', 'e', 'i', 'e', 'z', 'e', 'n', 'm', 's', 'm', 'l', '?', 'a', 'ó', 'n', 'k', 'e', 's', 'm', 'l', 's', ' ', 'l', 't', 'n', 'n', '\\n', 'e', 'e', 'õ', 'i', 's', 'v', 'f', 's', 'k', 'ó', 'n', 'n', 'm', '.', 'a', 'ó', 'p', ' ', ' ', 'l', 'l', 'm', 'd', 'á', ' ', 'g', 'n', 'c', 'e', 'e', '\\n', 'e', 'i', 'n', 'h', ' ', 'k', 'z', ',', 'e', 'e', 's', 'á', 'r', 's', 'h', 'y', 'g', 'g', 'l', 'h', 's', 'e', 'e', 't', 'ü', 'e', 'e', 'l', ' ', 'o', 'á', 'o', 'o', 'á', 'k', 'á', 'a', 'y', 'ö', ' ', 's', 'm', 'y', 'i', ',', 'l', 'n', 'e', 'i', ' ', 'n', 'á', ',', ' ', 'l', 'é', ' ', 'õ', '!', 'a', 'ó', 'e', ' ', 'm', 'n', 'k', 'z', 'd', 'h', 'y', 'z', 'e', 'l', 't', 'a', 'o', 'e', 'a', 'i', '!', 'a', 'm', 'z', 'e', 's', 'l', 'j', 'm', 'a', 'é', 'a', 'o', 't', 'b', ' ', 'r', 's', 'a', 't', 'a', 'k', ' ', 'j', 'n', 'k', 'û', 'i', 'r', 'n', 's', 'e', ' ', 'l', 'k', 'v', 'e', 'f', 'd', 'a', 'i', 'u', 't', 'n', 'e', ' ', ',', ' ', 'r', 'y', ' ', ' ', 'k', 'á', 'n', 'z', 'e', 'é', 'e', 'i', 'l', 'e', '\\n', 'e', 't', 'e', 's', 'o', 'o', 'a', 'm', ' ', 'b', 'f', 'e', 'i', 'i', 'a', 'é', 'l', 'n', 's', 's', ' ', 'm', 'á', 'o', 'a', 'a', 'e', '\\n', 'r', 'z', 'õ', 't', 'i', ' ', 'k', ' ', 'á', 'n', ' ', 'g', 'e', ' ', 'l', 'a', 'k', 'ó', 'z', 'r', 't', 'n', 'k', 'e', ' ', 'l', 'a', 'j', ' ', 's', 'l', '.', 'a', 'e', 't', ' ', 'l', 'n', 'a', 'l', ' ', 'á', 'a', 'a', ' ', 'm', 'i', 't', 'k', 'ó', 'm', 'r', 'm', 'r', ' ', 's', 'a', 'g', ' ', 'v', 'z', ',', ' ', 't', ' ', 'i', 'o', 'b', 'z', 'o', 'é', 'e', 't', ' ', 'l', 'j', 'é', 'l', 'é', 'e', 'a', 'y', ' ', 't', 'e', 'h', 'y', 'á', 's', 'k', ' ', 'r', 'û', 't', ' ', 'n', 'l', 'y', ',', 't', 'é', 'e', 'á', 's', ' ', 'm', 't', 'z', 's', 'n', ' ', 'z', 'c', 'k', 't', 'z', 'g', 't', '-', 'o', ' ', 'g', 'n', 'e', 'l', 'é', 's', 'a', 'e', ' ', 't', 'e', 'a', 'l', ' ', 'g', ',', 'o', ' ', 'l', 'n', 'á', ' ', 'l', 'm', 'd', ' ', 'd', 'z', 's', 'l', 'l', 'a', '(', ')', 'k', 'e', 's', ' ', ' ', 'g', 'z', 't', 'l', ',', 'ó', ',', 'i', ' ', 'á', 'á', 'o', 'a', 'e', 'l', 'i', ' ', 'n', 'a', 'z', 'í', 'a', 'á', 'e', 'z', 'i', 'n', ',', 'j', 'o', 'a', 'e', 'e', 'k', ',', ' ', 'p', 'a', 't', 't', 'y', 'a', 'é', 'm', ' ', 'm', 'e', 'k', 'h', ' ', 'õ', 'd', 't', ' ', ',', 'a', 'n', ' ', 'm', 's', 'z', 's', 't', 'e', 't', 't', 'e', 'a', ' ', 't', 'l', 's', 'i', 'z', 'i', ' ', 'b', 'e', 't', 'e', 'b', ' ', 'a', 'z', 'á', ' ', 's', 'l', 'e', 'o', ' ', 'c', 'l', 'b', ' ', 'b', 'é', 'e', 'a', 'r', ',', 'g', 'g', 'z', 'n', ' ', 'g', ' ', 't', ' ', 'n', 's', 'm', 'k', 't', 's', 'r', 'm', ' ', 'é', 'e', ' ', ' ', 'ö', 't', 'v', 'y', 'r', 'j', 'a', 'e', 'l', 'n', 'g', 'j', 's', 'k', 'm', 't', 'i', 's', 'i', 'e', 'õ', 'e', 'a', 'i', 'e', ' ', 'h', 'd', 'é', 'e', 'á', 'm', 'a', 'i', 'á', 'á', 'm', ' ', 'r', 'n', ',', 'k', ' ', 't', 'á', 'm', 'm', 't', 'e', 't', 'o', 'e', 'a', 'a', ' ', 'b', ' ', 'n', 'e', 'e', 'l', 'v', ',', 'o', ' ', 'm', 'd', ' ', 'õ', 'ö', 's', 's', 'g', ' ', 'l', 'm', 'y', 'n', 'g', 'é', 'z', 't', 's', 's', 'o', 'k', 'b', ' ', 't', 'o', 't', 'l', 'e', 't', ' ', 'p', 'o', 'b', '\\n', 't', 'o', 'l', 's', 'o', 'e', 'e', ' ', 'h', 'á', 'p', 'g', 'a', 'h', 'y', 'n', 'l', ' ', ' ', ' ', 'o', 'ó', 'a', 'a', 'u', 's', 'r', 't', ' ', 'n', ' ', 'n', 't', ' ', 't', ' ', 'h', 't', 'b', ' ', ' ', 'y', 'ö', 's', 'r', 'á', 's', 'e', 'e', 'é', 'e', 'a', 'a', 'e', 'n', 'a', 'j', 'f', 'é', 'e', 'e', 'õ', 'n', ' ', 't', ' ', ',', ' ', 'k', ' ', 'm', 'e', ' ', 'n', 'z', 'l', 'n', 'm', ' ', 'j', 'y', 't', 'a', 'e', 'n', 'k', 'd', 'm', 'i', 'd', 's', 'é', 'e', 'k', 'z', 'ú', 'n', 'd', 's', 'a', 'a', 't', ' ', 't', ' ', 'l', 'm', 't', 'e', 's', 'v', 'z', 't', 'a', 'e', 'z', 'ó', 's', 'a', ' ', 'm', 't', 't', 'a', 'a', 's', 'e', 'a', 'a', 't', 'ö', 'é', 'e', 'v', 'z', 's', ' ', 'l', 'd', 'k', 't', 'g', 'd', ' ', 'g', 'é', 'e', 'z', 'l', 'l', 'b', '\\n', 't', 'o', 'h', 'l', 't', ',', 'o', ' ', 'p', 'z', 'l', 'a', 'z', 'é', 'f', 'g', 'i', 'é', 'z', 'ü', 's', 'm', 'a', 'o', 'á', 'k', ' ', 'd', 'v', ' ', 'm', 'y', 'õ', 'i', 'a', 'a', 'r', 'b', 'o', 'y', ' ', 't', 'k', 'ü', 's', 'e', 'é', ' ', 'h', ',', 'h', 'm', ' ', 'z', 'o', 's', 'v', 'i', 'g', 'e', 'í', 'm', 'a', 's', 'e', 'l', 'd', ' ', 'o', 'r', 's', 'm', 'l', 'j', 'a', 'l', ' ', 'n', ' ', 'n', 'k', 'a', 'z', 'l', '.', 'o', 'á', 'a', 'n', 'v', 't', 'z', 'n', 'm', ' ', 'r', '\\n', 'r', 'r', 'd', ' ', 'i', 'e', 'õ', 'i', 'e', ' ', 'r', 'é', 'm', 'e', 'e', 'k', 'a', 'u', '.', 'g', 's', ' ', ',', 'o', ' ', ' ', 'm', 'á', 'a', 's', 'n', 's', 's', 'l', 'd', 'é', 't', 'e', 'd', 'e', 'd', 's', 'z', 'á', 'a', 'a', 'l', '.', 'n', 'g', 'é', 'g', 'ú', 'o', 'a', 'i', 'e', 'e', 't', 'ó', 'h', 'l', 't', ',', 's', 'n', '!', 'g', 'r', 'd', 'e', 'l', 'b', 'a', 'g', 't', 'ö', ' ', 'n', 's', 'm', 'b', 'm', 'd', 'ó', 'a', 'm', 'k', 'c', 's', 'a', 'm', 'l', 'r', ',', 'é', 'i', '!', ' ', 'j', 'i', ' ', 'r', 's', ',', 'h', 'a', 'i', 't', 'e', 's', 'p', 'z', 'e', 'k', 'e', 'e', 'k', 'i', 'a', 'k', 'o', ' ', 'n', 'e', ' ', ' ', 'g', 'r', ',', ' ', 'f', 'e', 'ö', 'é', ' ', 'n', 'z', 'í', 's', 'r', 'l', ' ', 'r', ' ', 'i', 'a', 'r', 'n', 'e', 'n', 'm', '!', ',', 'n', 'y', 'o', 'l', 'k', ' ', ' ', 'õ', 'k', 'e', 't', 'k', ' ', 'm', 'o', 'd', 'k', 'e', ' ', 'l', 'k', 'k', 'b', 'o', 'á', 'd', 'e', 'z', 'm', 't', 'i', ' ', 's', 'e', 'r', ' ', 'l', 'm', 't', ' ', 'r', ',', 'y', 'm', 'e', 's', 'o', ' ', 'y', ' ', 'r', 'b', ' ', 'z', 'z', '.', 'n', 'g', 'é', 'h', ' ', 'ú', 'z', 'a', ' ', 'g', 'b', 'n', 'á', 'é', 'e', 'm', 'a', 'o', 'a', 't', 'm', 'k', 'i', 'n', 'j', 'k', 'a', 'i', 'õ', 'b', 'k', 'á', 'ú', 'o', 'v', 'z', 'e', ' ', 'j', 't', 'z', 't', 'á', 'á', 'a', 'n', 'm', 'k', 'e', 'b', ' ', 'f', 't', 'l', 't', 'a', 'é', 's', 'g', 'y', 'p', 'a', 's', 'n', 'n', 'm', 'u', ',', 'n', 'e', 'e', 'a', 'y', 'm', 'ü', 'á', 'k', 'l', 't', 'n', 'z', 'l', 'i', 'r', 'v', ' ', 'g', 'k', 'a', 'm', 's', 'a', 'ö', 'j', '.', 'j', 'b', 'j', 'l', 'ú', 'o', 'a', 'á', ',', 'm', 'y', ' ', 'l', 't', ',', 'e', 'v', ',', 'h', 'á', 'd', 'n', 'm', 's', 'e', 'j', 'm', 't', 'k', 's', 'p', ' ', 'm', 'r', 'e', 'e', 't', 'm', 'i', 'k', 'a', 'l', ' ', 'n', 'e', 't', 'i', 'h', 'y', 'l', 'n', 'o', 'j', 'a', 't', 'm', 'a', 'v', 'l', 't', ' ', 'h', 'á', '.', 'n', 'g', 'é', 'r', ' ', ' ', 's', ',', 'á', 'd', ' ', ' ', 's', ',', 'o', 'r', 't', ' ', 'r', 'l', 'k', 'l', 'v', ' ', ' ', ' ', ',', ' ', 'k', ',', 'z', 'é', 'n', ' ', 'r', ' ', 'p', 'z', 't', 'g', ' ', 'n', 't', 't', 'm', 'e', 's', 'b', ' ', 'h', 's', 'i', 's', 'a', 't', 'm', 'ö', 't', ' ', 'l', 'o', 'n', 'i', 'ö', 'y', ' ', 't', 'k', 'ó', 'v', 's', 'j', '\\n', 'e', 'm', ' ', 'n', 'l', 'k', 'h', 'm', ' ', 'h', 'n', 'v', 't', 'i', 'l', 't', ' ', 'j', 't', 's', ',', 'é', 't', 'r', '-', 'm', ' ', 'n', 'g', 'e', 'v', 't', 'e', 'e', ' ', 'b', 't', 'o', 's', 'b', 'l', 'g', 'b', 't', 'e', 'm', 't', 'a', 'n', 'o', 'm', 'a', 'j', 'o', 'o', ' ', 'g', 'a', 's', 'a', 'o', 'm', ',', 'a', 'e', ',', 'g', 'é', 'e', 'b', ',', 's', 'l', ' ', 't', 's', 'a', 'i', 't', 'e', ' ', 'r', 'n', 'é', 'e', 'n', 'a', 'm', ' ', 'm', 'e', 'e', 'd', 'n', ' ', 'r', ',', 'o', ' ', 'y', 'a', 's', 's', ' ', 'm', ' ', 'á', 'a', 'i', 'n', ' ', 'r', ',', 'á', 's', 'b', ',', 'e', 'ö', ' ', 'v', 'a', 'á', 'ö', 'k', 'a', 'á', ' ', 'm', ' ', 'i', 'u', 'k', 'e', 'd', ' ', 'e', 't', 'i', 'f', 'é', 'm', 't', 'e', 'z', 'h', 's', ' ', 'r', 'g', 'b', 'ü', 't', 'a', 't', 'n', 'é', ' ', 't', ' ', 'l', 'ö', 'j', ' ', 's', 'u', 'l', 'n', ' ', 'g', 'k', 'a', 'm', 'e', 'g', 'e', ' ', 'l', ' ', 'g', 'z', 'l', 'h', ' ', 'g', '.', 'g', 'k', 'e', 't', 's', 'z', 'o', 'a', 'g', 'r', 'é', ' ', 'r', 't', 'o', ' ', 'd', 's', ' ', 'g', 'n', ' ', 't', 'p', ' ', 'a', 'á', 's', 'e', 'e', 't', 't', 'r', ' ', 'd', 's', ' ', 'g', 's', 't', 'i', 'h', 'z', ' ', 'k', ' ', 'g', 'l', 't', ',', 'a', 't', 'e', 'm', 'g', 's', 't', 't', 's', 'd', 't', 'á', 'k', 'a', 't', ' ', 's', ',', 'a', 'í', 'f', 'ö', ' ', 'd', 't', ' ', ',', 'o', 'n', 'k', 'z', 'z', 'i', ' ', 't', 'z', 'v', 'e', ' ', 'é', 'e', 's', 'n', 'd', ',', 'r', 'z', 'k', 'j', 'a', ' ', 'a', 'h', 'y', 'l', 't', 't', 'e', 'h', 'z', ' ', 't', 'v', 'n', 'b', ' ', 'g', 'r', 'k', ' ', 'l', 't', 'a', ' ', 'l', ' ', 'r', 'm', 'a', 'o', 'l', 'h', 't', 't', ',', 'v', 'o', 'a', 't', 'á', 'n', ' ', 'á', 'o', 's', 'm', ' ', '.', 'f', 'e', 'ö', 'é', ' ', 'n', 'z', 'í', 'e', ' ', 'n', 'n', '?', 's', 'n', 'é', 'e', 'h', 'y', 't', 'á', 'k', 'é', 'e', 'l', 'e', 's', 'a', 'l', 's', 'e', 'e', ' ', 's', 'é', 'e', 'õ', 'g', 'r', 'k', ',', ' ', 'g', 'a', 'á', 's', 'r', 't', 'm', ' ', 'á', 's', 'n', 'm', 'á', 'n', ' ', 'ü', 't', 't', 'e', 'v', 'e', 't', 'b', 's', 'a', 'z', 'o', ' ', 't', 'v', 'y', 'm', 'y', 'i', 'e', 'i', 'á', 'f', 'é', 'g', ' ', 'l', 'z', 'd', 'b', 'n', ' ', 'r', 'a', 'z', 'k', 'ó', 't', 't', 'r', ',', ' ', 'k', 'r', 'g', 'o', 'n', ' ', 'g', 'e', 'm', 't', 'e', 'a', 'd', 'e', 'm', 'l', 'o', 'a', 's', 'l', 'a', 't', ' ', 'e', 'õ', ' ', 'l', 'n', 'z', 'i', 'r', ' ', 'r', 'e', 'f', 'o', 'i', 'e', ' ', 'e', 'i', 's', 'á', 'á', 'i', 'y', 'm', 'e', 'k', 'o', 't', ' ', 'n', 'n', 'l', 'b', 'á', 'a', 'n', 'e', 'e', 'o', 'b', ' ', 'b', ' ', 'e', 'm', ',', ' ', 'l', 'k', 'd', ' ', 'r', 'z', 's', 'n', ' ', 'l', 'k', 'ö', 'é', 'é', 'h', 't', ' ', '?', 'g', 'n', 'z', ' ', 'r', 'z', 's', 'n', 'r', 'é', ' ', 'e', 'n', 's', 'v', 's', 'e', ' ', 'y', ' ', 'b', ' ', 'm', 'h', 'e', 'h', 'í', ' ', 't', 'm', 't', ' ', 'g', 'á', 'o', 'á', 'm', '?', ' ', 'g', ' ', 't', 'e', 's', 'm', 'e', 'í', ' ', 'l', 's', ' ', 'e', 'e', 's', 'n', 's', 'r', ' ', 'l', 'é', 'e', 't', 'a', 'e', 'n', ' ', ',', 'e', 't', 'e', 'k', 'é', 'e', 'e', ' ', 'y', 'a', 'a', ' ', 'e', 'e', 'é', ' ', 't', 'á', 'm', 't', ' ', 'g', 'l', '!', 'a', 'e', 't', 'é', 'm', 't', 's', ' ', 'n', ' ', ' ', 'õ', 'i', 'i', 'r', 'd', 'j', 'm', 'á', 'l', 'k', 'ó', 'e', 'á', 'á', 'a', 'k', 'z', ' ', 's', 'm', 'k', ' ', 'h', 'c', 'n', 'h', 'o', 'a', 'õ', '\\n', 'r', 'z', 'õ', 'j', 'm', ' ', 'h', 'á', 'k', 'e', 'd', 't', 'l', 't', 'e', 'z', '\\n', 'e', 'e', ' ', 'ó', 'l', 'e', 'h', 'e', 't', 't', 'k', 'o', ' ', 'n', ' ', 'á', ' ', 'r', ' ', 'y', ' ', 'n', '.', 'n', 'g', 'é', 'é', 'i', 'ö', 'j', ' ', 'y', 'm', 'r', 'a', 'õ', ' ', 't', 'e', 'v', 'z', 'k', 'á', ' ', 'n', ' ', 'l', 'é', 'l', 's', 'o', ' ', 'é', 'i', 'e', 'd', 'm', ',', 'k', 'á', 'l', 'y', 'a', 'u', 'l', 'm', ' ', 'e', 'e', ' ', 'm', 'y', ' ', 'b', 'e', 'ü', 'e', 'k', 's', 'n', ' ', 'e', 'é', '.', 'a', 'û', 'e', ' ', 'é', 'a', 'k', 'd', 'a', 'i', 'h', 'y', 'z', 'r', 'j', ' ', 'z', 'j', 'e', 'l', 'a', 'é', ' ', 'n', ',', 'n', 's', 'k', 'r', ' ', ' ', 't', 's', 'á', 's', 'b', 'l', 't', ' ', 'o', 'j', 'é', 'k', 'á', 'i', 'z', 'm', 'á', 'v', 't', ' ', ',', 'i', ' ', ',', 'y', 'm', 'e', 'h', 's', 'á', 'a', 'í', 'a', 'á', 'e', 'z', 'a', 'a', 't', 'r', 'y', 'h', 'a', 'a', 'o', ' ', 't', 'm', 'f', 'e', 'e', 's', 'a', 'l', ',', 'm', 'i', 's', 's', ' ', 'é', ',', 'm', ' ', 's', 'a', 'r', 'y', 's', ' ', 't', 'g', 'v', 't', 'h', 'ó', 'e', 'n', ' ', 'n', 'e', 'e', 'e', 'l', 'm', 't', 't', 'a', 'g', ' ', 'd', 'g', 'd', 'a', ' ', 'á', 'k', 'd', 'o', 'f', 'e', ' ', ' ', 'r', 'y', 'o', ',', 'm', ' ', 'c', 'n', 'õ', 'ó', 'l', 'á', 'm', ' ', 'o', 's', 's', ',', ' ', 'i', 'a', 'r', 'n', 'a', 'a', 'e', '.', 'r', 'l', 's', 'ö', 'í', ' ', 'i', 'o', 'a', 'ó', 'a', 'e', 'a', 'l', 'á', 'm', 't', 'u', 'a', 'a', 't', 'é', 'á', 'n', 'a', 'k', 'i', 'e', ' ', 'r', 'i', 'e', 'i', 'o', 's', 'n', 'l', 'v', ',', 'i', 'e', 'e', 't', 't', 's', 'o', 'o', 't', 'e', 'a', 'á', 'y', 't', 'é', 'l', 'a', 'r', 'i', 'e', ' ', ' ', 's', 'l', ' ', 'v', 'á', 's', 'r', 'õ', 'ú', 'á', 't', 'é', 's', 'r', 'k', 'ö', 'l', 'e', ' ', 'o', 'k', ' ', 'n', 'r', 's', ' ', 'b', 'z', 'r', 'z', 'a', 'j', 't', 'e', 'a', 'h', 'k', 'a', 'ü', 's', 'o', 't', 'i', 'e', 'k', 'á', 's', 'p', 'n', 's', 'k', ' ', 'á', 'á', 'a', 'e', 'e', 'e', 's', 'b', ',', 'g', 'k', 'v', 'g', 'o', 's', 'v', 'm', 't', 'a', 'l', 'l', ' ', 'e', 'á', 'a', 'z', 'ü', 'e', 'é', 'e', 'i', 't', 'e', ' ', 's', 'r', ' ', 'g', 't', 'n', 'é', 's', ' ', 'g', 's', 'e', 'l', 's', 'v', 'n', ',', 'y', 'z', 'v', 's', 'á', 's', 's', 'a', ' ', 'y', 'k', 'r', 't', 'm', 't', 'z', 'y', 'r', 's', 'l', 't', ',', 'r', 'z', 'r', 'h', 'e', 'é', 's', 'c', 'l', 'j', 'a', 'ö', 's', ',', 'a', 'j', ' ', 'v', 'i', 'a', 'a', 'b', 'n', 't', 'e', ' ', 't', 'ó', 'r', 'i', 'a', 'v', 'a', 'k', 'o', 'á', ' ', 'g', 'k', ' ', 'á', 'l', ' ', 'n', ',', 't', 'i', 'z', 'm', 'á', 'm', 'a', 's', 'd', 'm', 'i', 'õ', 'i', 'u', 'l', 't', ' ', ' ', 'ö', 'm', 'r', ',', 'e', 'y', '.', 'n', 'g', 'é', 'a', 'a', 'a', 'k', 'b', ' ', 'v', 'e', 'k', 'j', ' ', 'i', 's', 'a', ' ', 'v', ' ', 's', 'e', ' ', 'e', 'e', 'v', 'e', '\\n', 'i', 's', 'a', 'ó', 'á', 's', 'k', 'l', 'e', 'i', 'e', ' ', 'o', 'e', 'e', 'j', 'ü', ',', 'g', 's', 'm', 'r', 'á', 'k', 't', 'k', 'e', 'e', ',', 'k', 'm', 'r', 't', 't', 's', 'z', 'g', 'a', 'z', 'j', 'm', '.', 'r', 'n', ' ', 'r', 'v', ' ', 'i', 's', 'a', ',', 'i', 'j', 'g', ' ', 'z', '?', 'e', 'e', 'i', 'z', 'm', 'd', ' ', ',', 's', ' ', 'g', 'c', 'l', 'a', 'ó', 's', 'v', '.', 'r', 'n', 't', 'e', 'r', ' ', 'l', 'a', 'a', 't', 'á', 'a', 'u', 'b', ' ', '?', 'e', 'e', 'i', 'z', 'n', ' ', 's', 'n', ',', 'a', 'ó', 'k', 'm', 'y', 'o', 'h', 'ó', '.', 'r', 'n', 'i', 'e', 'm', 'b', ' ', ' ', 'e', 'e', 'e', 'é', 'e', 'e', '\\n', 'i', 's', 'a', 'l', 'y', 'o', ' ', ' ', 'z', 'l', 'm', 't', 'e', 't', 'é', 'n', 'l', 'z', 'k', 'ó', 'i', 'a', ' ', 'd', ' ', 't', 't', 'h', 's', 'd', 'z', 'á', 'a', 'y', 't', 't', 'r', 'z', 's', 'a', ' ', 'g', 'd', ',', 'a', 'é', 'g', 'l', 'a', 'd', 'z', 'a', 'ü', 'é', 'a', 'e', 'z', 'o', ' ', 'd', 'l', 'õ', 'e', 'e', 'a', 'l', 'i', 'e', 'm', 'á', 'f', 'e', 'e', 'e', 'e', 'l', 'g', 'z', 'r', 'r', 'k', 'h', 'g', 't', 't', 'm', ' ', 'l', ',', 'd', 'a', 'z', 'a', ' ', 'j', 'g', 'k', 'z', 't', 't', 'a', 'k', 'é', 's', 'a', 'm', 'l', 'e', ' ', 'd', ' ', 'l', ' ', 'd', ',', 'g', 'l', 'm', 'n', 's', 'ú', ' ', 'á', 'y', 'a', 's', 'a', 'e', 'é', 'l', ' ', 'm', 'd', 'r', 'a', 'o', 'á', 'o', 'm', 'y', ',', 'z', 'e', 'ú', 'j', 'e', 'k', 'e', 'e', 'á', 'a', 'ü', 'k', 'ü', 'h', 'h', 's', 'o', ' ', 'n', 'a', 'e', 'r', 'y', ' ', ' ', 's', 'a', 'o', 'o', 'z', 'r', ' ', 'm', 'a', 'o', 'a', 'z', 'r', 's', 'l', ' ', 's', 'r', ',', 'a', 's', ' ', 'l', 'a', 'e', 't', 'z', 's', 'r', ' ', 'z', 'a', 'o', 'ó', 's', ' ', 'a', 'a', 'o', 'o', 'n', 'á', 'm', ' ', 'h', ' ', ' ', 'é', 'o', 'i', 'e', 'y', 'm', ' ', 't', 'i', 'e', 'õ', 't', 'é', 'z', 't', 't', 'g', 't', 't', ' ', 'g', 'h', 'y', 'á', 'a', 'n', 'a', 'á', 'o', 't', 'e', ' ', 'g', ' ', 'v', 'e', ' ', 'n', 'n', ' ', 's', 'm', ' ', '.', 'v', 'o', 'e', ' ', 'b', 't', 'i', 't', ' ', 'e', 'e', ',', 'r', 'a', 'a', 'v', 'n', ' ', 'l', ' ', 'n', 'a', 'z', 't', 'e', 'e', 'h', 'y', 'ö', 'a', 'r', ' ', 'e', 'z', 'k', 'n', ' ', 't', 's', 'g', 'y', 'i', 'l', 'k', 't', ' ', 'r', 'a', ' ', 'd', 'u', ' ', 'a', 'z', 't', 'e', 'k', 'l', 'l', 'r', 'n', 'n', 'l', 'z', 'a', 'i', 'e', 'k', 'k', 'é', 'a', 'û', 'h', 'b', 'é', 's', 'e', 'n', 'm', ' ', 't', 'e', 'j', 'e', ',', 'a', 'r', 'a', 'ú', 'm', 't', 'm', 'r', 'é', 'v', ' ', 'k', 't', 'ó', 'm', 'd', 'y', '.', 'n', 'l', 'm', ' ', 't', 'f', 'm', 'h', 'z', 'm', 'r', 'a', ' ', ' ', ',', ' ', 'n', ' ', 'b', ',', 'i', 'é', 'n', ' ', 'v', 'e', ' ', 'h', 'd', 't', 'e', 't', 'b', ',', 'o', 'a', 'e', 'r', 'é', 't', 'e', 'h', 'b', 'b', 'j', 'v', 'n', ' ', 'k', 's', 'd', ' ', 'v', 'b', ' ', 'b', 'á', 'j', 'á', 'e', 'i', 'ó', 'a', 'c', 'a', 'a', '.', ' ', 'h', 't', 'g', 'y', 'á', 'c', 'k', 'a', 'i', 'r', 'e', 'm', ' ', 'l', 't', 'a', 'd', 'y', 'o', 'i', 'á', ' ', 't', 'b', 'n', 'b', 't', ',', ' ', 'y', ' ', 'g', 'l', ' ', 't', 'i', 'k', 'e', 'l', ' ', 'g', 's', ' ', 'd', 'e', 'e', 'm', 'd', ' ', 't', 'h', 'l', 's', 'r', 'm', ' ', ' ', 'n', 's', ' ', 'g', 'l', 'a', 'i', 'ó', ' ', 's', '\\n', 'e', 't', 'v', ' ', 'b', ',', 'e', 'm', 't', ' ', 'l', 'a', 'é', 'ö', 'k', 'i', ' ', 'l', ' ', 's', 'e', 'e', 'e', 't', 'p', 'b', ' ', 's', 'l', 'j', 'm', 'e', 's', 'e', 'e', 'é', 'd', 'l', 'r', ' ', 'd', ',', 'g', 'k', 'o', ' ', 'j', ' ', 'l', 't', ' ', 'k', 'u', 'r', 'z', 'd', 'z', 'o', 's', 'á', 'ö', 'n', 'a', 'á', 'o', 'a', 'k', 'a', 'i', 'e', 'r', ' ', 'e', 'i', 'e', ',', 's', 'n', 'a', 'a', 'h', 'y', ',', 'e', 'l', 'm', 'n', 'õ', 's', 'a', 'm', 'o', 'a', 'e', 'i', 'a', 'o', 's', ',', 'a', 'z', 't', 'a', 'k', 'n', 'n', ' ', ' ', 'u', ' ', 'ó', 'á', 'z', 'a', 'd', ' ', 'l', 'o', ' ', 'k', ' ', 'z', ' ', 'n', ' ', 't', ' ', ' ', 'l', ' ', ',', 't', 'e', 'i', 'e', 'h', 'y', ',', ' ', 'y', ' ', ' ', 'p', 'l', ',', 'g', 'i', 'e', 'k', ' ', 'b', 'r', ' ', 'á', 'h', 'n', 's', 'n', '.', ' ', 'k', 'a', 'l', 's', 'm', 'r', 'l', 'k', 't', 'ö', 'g', 's', 'o', 'b', 'á', 'a', ' ', 'r', 'a', 'ó', 'h', 'z', 't', 'e', 'l', 'h', 'y', 'z', ' ', 'a', 'k', ' ', 'j', ' ', 'ú', 's', 'n', 'k', 't', 't', 'r', 'z', 's', 'a', '!', ' ', 'n', 'k', 't', 'j', 'm', ' ', ' ', 'b', 'e', 'k', 'ö', ' ', 'k', 'ó', 'o', 'o', 'd', 'i', 's', ',', 'i', 'ö', 'e', 'e', 't', 's', 'm', ' ', 'g', 't', 't', 'r', 'z', 's', 'o', ' ', 'g', 'g', 'b', 'k', 'c', 'n', 'a', 'ö', 's', 'e', 'o', 'o', 's', 'k', 'ó', ' ', 'g', 'n', 'l', 'l', 's', 'n', ' ', 'n', ' ', 'g', 'b', 'h', 'a', 't', 'r', 'z', 's', 's', 'û', 'd', 'é', 's', 'z', ' ', 'g', 'e', 'e', 't', 'e', 'ó', '\\n', 'e', 'a', 'ó', 'a', 'n', ' ', 'v', 'o', 'e', 'e', 'm', 'd', 'i', 't', 'r', 'z', 's', 'i', 'á', ' ', 's', 'l', 'h', 'a', ' ', 'n', 'd', 'h', 'u', 'a', 'é', '\\n', 'e', 'a', 'é', 't', 'z', 'e', 'e', 'i', 'i', 'm', 'd', 'ü', ' ', 'j', '.', 'e', 'e', 'i', 'z', 'a', 's', 'n', 'o', 'g', 'l', 'a', 'n', 'y', 'é', 'k', 'õ', '\\n', 'e', 'n', ' ', 'd', 'd', 'h', 'y', 'i', 'l', 'd', ' ', 'i', 'l', 'z', '?', 'e', 'e', 'i', 'z', 'd', ',', 'i', ' ', 's', 't', ' ', 'e', 'n', 'l', 't', ' ', 'r', 'y', 'k', 'ó', 'ó', 'l', ' ', 'l', ',', 'e', 'a', 'á', 'k', 'v', 'õ', ' ', 'g', '\\n', 'i', 's', 'a', 't', 'k', 'y', 'e', 't', 'z', 'i', 'o', 't', 'i', 'n', 'n', '\\n', 'e', 'n', 'h', ' ', 's', 'l', ' ', 'p', ' ', 'a', 'h', 'y', 'a', 'n', ' ', ' ', 'r', '\\n', 'i', 's', 'a', 'h', 'y', 'b', 'l', 'õ', 'd', 'á', 'a', 'é', ' ', 'm', 'o', 'o', 'm', 'k', 'ó', 'e', ' ', 'g', ' ', 'g', 'e', 'v', 'z', 'g', 'h', ' ', 'm', ' ', 'ó', 't', 'r', 'z', 's', 'i', 'e', ' ', 'h', ' ', 'n', 'n', 'z', 'a', 'a', 'n', ' ', 'k', 'o', 'k', 'b', 'á', 'i', 'á', 'á', 'n', ' ', 'p', 'e', 'r', ' ', ' ', 'n', 'f', 's', 'a', 'á', 'é', 'd', 'l', 'z', 'm', 'ó', 'a', 'ó', 'e', 'e', 'v', 't', 'g', ' ', 'l', 't', 'é', ',', 'r', 'm', 'y', ' ', 'k', 'd', 'z', ' ', ' ', 'n', 'á', 'a', 'a', 'é', 'a', 'é', ' ', 'l', 't', 'í', 'e', 'm', ' ', 'r', 'd', 'l', ' ', ' ', 'v', 'á', ' ', 't', 'e', 'e', 't', 't', 'i', 'a', 'o', 'a', 'e', 'e', 't', ' ', 'g', 'e', 'e', 'e', 'd', 'e', 'g', 'i', 's', 'á', 'h', 'z', 'j', 'o', ' ', 'a', 'é', 'e', 'i', 'g', 'o', 's', ' ', 'r', 'z', ':', 'e', 'l', 'n', 't', 'a', 'z', 'e', 'n', 's', 'k', 'e', 'l', 'd', 'k', 'e', ',', ' ', 't', 'e', 'k', 'd', 'k', 'i', 'k', ' ', 'l', 'e', 's', 'á', 'b', 'ö', 's', 'r', 't', 'é', 'e', 'r', ' ', 'n', 't', 't', 'i', 'e', ' ', 'h', ' ', 'a', 'm', ',', 's', 't', 'j', 'a', 'd', 'é', 'é', ' ', 's', 'l', '-', ' ', 'r', 'h', 'a', 'c', 'k', 'm', 'a', 'é', 'i', ' ', 'a', 'õ', 's', 'á', ' ', 'l', ' ', '.', 'r', 'm', 'd', ' ', 'r', 'b', ' ', 's', 'ú', 'k', 'e', ' ', 'v', 't', 'o', 'e', 'e', ' ', 'r', 'n', 'l', 't', 'z', ' ', 'v', ' ', 'a', 'e', 's', ' ', 'á', 'y', ' ', 'g', 'd', ' ', 'z', 't', 'z', 't', 'z', 'o', ' ', 't', 'e', 'l', ' ', 'e', ' ', 'r', 'f', 'a', 'k', 'é', 'e', 'n', 'r', 's', 'f', ',', 's', 'n', 'i', ' ', ' ', 'l', 'v', 'z', 'e', 'f', 'é', 'r', 'y', 'o', 'n', 'l', ',', ' ', 'd', ',', 'z', 'n', 'a', 'l', 's', 'e', 'l', 't', 'l', 'd', 'n', 'c', 'h', 'á', 'í', 'r', 'é', 'z', 's', 'g', 'r', 'k', ',', 'e', 's', 'm', ' ', 'g', 'e', 'h', 'a', 'z', 'e', 'd', 'é', 'i', 'a', 'a', 'n', 'r', 'á', 'a', 'i', ' ', 'o', 'a', 'a', 's', 'd', 'e', ' ', 's', 'd', 'z', 'j', 'i', 'é', 'j', 'a', 'b', 'l', 'y', ',', 'i', ' ', 's', 'm', 'a', 'o', 'k', 't', 'r', 'z', 's', ' ', 'g', 'r', 'k', 'l', 'z', 'i', 'a', 'e', 't', 'l', 'n', ' ', 'a', ' ', 'i', ' ', 'g', 'a', 'z', 'n', ' ', 's', 't', ',', 'd', ',', 'a', 'r', 'ö', 't', 'a', 'n', 'f', 'é', 'e', 'á', ',', 'm', 'm', 'k', 'ü', ' ', 'y', 'l', 'e', ' ', 'e', 'e', 'e', 'h', 'y', 'ó', 'a', 'v', ' ', 'h', 'u', 'á', 'a', 'm', 'a', '.', 'r', 'n', ' ', ' ', 'd', ',', ' ', ' ', 'g', 'v', 'j', 'l', 'k', 'e', 'e', 'e', 'i', 'l', 'n', 'e', 'z', 'd', 'm', 'i', 's', 'y', 'a', ',', ' ', 'l', 'á', ' ', ' ', 'b', ',', 's', 'o', 'á', 'a', 'u', '\\n', 'r', 'z', 'õ', 's', 'l', 'y', 'k', ',', 'r', 'n', 'm', 'o', 'e', 'z', 'y', 'm', 'e', 'k', 'ó', 'i', 'k', 'l', 'á', 't', 'n', ' ', 'ó', ',', 's', 'n', 'á', 'h', 'l', 't', '.', 'a', 'e', 't', 'r', 'j', 's', 'a', 'r', 'o', 'á', ' ', ' ', 'r', 'b', ' ', 'l', 'y', 's', 'e', 's', 'e', 'i', 'õ', 'a', ',', 'i', 'á', 'h', 't', ' ', 'v', '.', 'r', 'n', 'g', 'j', ' ', 'b', ' ', ',', 'a', 'b', ' ', 't', 'i', 'e', '\\n', 'r', 'z', 'õ', 'g', 'z', ' ', 's', 'n', ' ', 'k', 'á', ',', 'z', 's', 'n', 'b', 's', 'j', 'g', 'r', ' ', 'b', 't', 't', 'é', 'k', 'a', 'r', 'k', 'ó', ',', 'a', ' ', 'k', ',', 'z', 'e', 'e', 'e', 'e', 'r', 'v', ',', ' ', 't', ' ', 'g', 't', 'l', 'n', 'e', 'h', 'c', 'h', 'o', '\\n', 'r', 'z', 'õ', ' ', 'z', 'e', ' ', 's', ',', 'e', ' ', 't', 's', 'e', ' ', 'g', 'a', 'd', 'k', 'ó', 'a', 'g', 'v', ',', 'á', 'g', 'r', 'k', 'z', 'g', 'h', 'j', 't', ',', 'z', 'g', ',', 'l', 't', 'o', 's', 'ö', 'l', 'i', 'a', ' ', 'l', 't', 'a', 'd', 't', ',', 'o', ' ', 'd', 'b', 't', 'a', 'a', 'e', 'e', 'k', 'a', 'r', 'a', 'l', 't', 'o', 's', ' ', 'y', 'e', 'á', 'o', 't', 'a', 't', 'a', 'm', 'ö', 't', 'm', 'm', 't', 'e', 'l', 'z', '.', 'r', 'd', ' ', 't', ',', 'o', ' ', 'g', 'z', 'n', 'g', 'a', 'a', 'e', 'á', 'ó', 'ö', 'é', 't', 'a', 'l', ' ', 'd', 'i', 'k', 'ó', 's', 'l', 'i', 'l', 'g', 't', 't', 'o', 'k', 'a', 'o', 'e', ' ', 't', ',', 'a', 'o', ' ', 'c', ' ', 'o', 'j', 'a', 'e', 'y', 'r', ' ', 'u', ' ', 'e', 'e', ',', ' ', 'z', ' ', 'h', 'e', 'í', 'r', 't', 'l', 'l', 'd', 'l', 't', 'l', 'é', 't', ' ', 'k', 'ö', 'j', ' ', 'e', 'z', 'z', 'e', ' ', 'l', 's', 'm', 'd', 'k', ' ', 'é', ',', 'k', 'o', ',', 'h', 'a', 'a', ' ', 'b', 'k', 'n', 'õ', 'n', 'v', 'o', 'b', ' ', 'k', 'o', 'i', 'm', 'o', ' ', 's', 'a', 'a', 'm', 'l', 't', ' ', 'l', ' ', 'r', 'n', 'o', 'e', 'm', 'y', 'i', 't', 'k', 'f', 'ü', 'z', 'l', ' ', ' ', ' ', 'd', 'á', 'k', 'i', 'l', 'g', 'e', ' ', 'l', 'z', ' ', 'a', 'a', 'a', 'a', 'j', 'ó', 'n', 'f', ' ', 'n', 'k', 'l', 'm', ' ', 'k', 'z', 'l', ' ', 'r', 's', 'ü', 'a', 'o', 's', 'á', 'a', 'b', 'õ', 'h', 'm', ' ', 'l', 'n', ' ', ' ', 'z', 'n', 'm', ' ', 'p', 't', 'm', 'y', ' ', 's', 'ü', 'ö', 'n', 'e', ',', 'e', 'ö', 'z', 'e', 'e', 'n', 'n', 'a', 'a', 't', 'n', 'a', 'o', 'n', 'n', 'l', 't', 'b', ' ', 'r', 't', 'e', ' ', 'g', 'c', 'l', 'm', 'd', ' ', 'r', 'o', 'f', 'e', 'v', 'l', 's', 't', 't', 'a', 'á', 'a', 'm', 't', 's', 'h', 'y', ' ', 'r', 's', 'e', 'e', ' ', 'p', 's', 'n', ' ', 'r', 'g', ' ', 't', 't', 'ö', ' ', 'm', 'a', 'p', 'n', 's', 's', 'n', 't', 'a', ' ', 'z', 'ó', 'n', 'r', ' ', ',', ' ', 'z', 't', 'z', 'l', 't', 'i', 'á', '.', 'z', ' ', 'h', 'õ', 'i', 'a', 'k', 'a', 't', 'e', 't', ',', ' ', 's', 'k', 'h', 'g', 'i', 't', 'f', 'y', 's', ' ', 'u', ' ', 'e', 'e', ',', 'j', 't', 'k', 'é', ' ', 'o', 'á', 'i', 'a', ' ', 'u', ',', 'k', 'é', 'd', 'z', 'j', 'a', ' ', 'm', 'á', 'n', 'á', 't', 'u', 't', 't', 'c', 'n', ' ', 'y', ' ', 'r', '.', 'í', 'ö', 'j', '\\n', 'r', 'k', 'k', 'a', 'á', 'k', 'a', 'o', ' ', 'a', 'h', 'n', 'á', 's', ',', 'g', 'é', 'k', 'l', 'm', ' ', ' ', ' ', 'b', ',', 'e', 'i', 'i', 's', 'i', 't', 'i', 'é', 'e', 'v', 'y', 'á', 'o', 'a', 'o', 'l', 'e', 's', 'r', 'c', ',', 'e', 'i', 'á', ' ', 'e', 's', 'e', 'j', 'm', 'i', ',', 'á', 'a', 'a', 'o', 'b', 'j', 's', ' ', 'á', 'j', ' ', 'g', 's', 'o', 's', 'i', 'o', 'a', ' ', 'õ', ',', 'o', ' ', ' ', 'r', 'e', 'k', 'ó', ' ', 'í', 'e', 'e', 'e', 'v', 'n', 'm', ' ', 'é', ',', ' ', 'l', 's', 't', ' ', 'g', 'n', 't', ' ', 'r', 'u', ',', 'k', 'm', 'z', 'ö', 'j', ' ', 'e', 's', 'v', 'é', 'n', 'e', ' ', 'r', 'y', 's', 'á', 'a', 's', 'i', 'l', ' ', 'm', ',', 'z', ' ', 'e', 'e', 'k', ' ', 's', 'm', 'd', 't', 'l', 's', 't', 'h', 'z', ' ', ' ', 'm', 'a', 'l', ' ', 'e', 'e', 't', 'b', 'g', 'n', 'r', ' ', 'y', 'o', 'o', 'm', 'e', 'é', ' ', 'b', ' ', ',', 's', ' ', 'õ', 'o', 't', 'e', 'h', 'b', 'r', 't', ' ', 'z', ' ', 'n', 'e', 'e', 't', 'e', 'i', 'a', 'a', ' ', 'r', 'y', 'h', 'm', ' ', 'ü', 'i', 'e', 'u', 'z', 'e', 'i', 'k', 'h', 'é', 'e', 'o', 'o', 'á', 'd', 'k', 'l', 'd', ',', 'i', 'e', 'm', ' ', 'f', 't', 'r', 'é', ' ', 'a', '\\n', 'r', 'z', 'õ', 'r', 'y', 'n', 'ó', 'm', 'y', 'o', 'z', 'í', ' ', 'z', ' ', 'g', 't', 'h', 'n', 'm', 'h', 't', 's', 'z', 't', 'k', 'n', 'é', 'k', ' ', 'h', '.', 'a', 'e', 't', 'i', 'ö', 'e', 'm', '?', ' ', ' ', 't', 'm', '?', 'e', 'é', ',', 'e', 'é', '!', 'í', 'ö', 'a', 'ó', 'h', 'o', '.', 'n', 'r', 'v', 't', ' ', 'i', 'o', '.', 'a', 'e', 't', 'o', 'a', ' ', 'k', 'k', 'e', 't', 'á', ' ', 'j', ' ', 'z', '\\n', 'r', 'k', 'y', 't', 't', 'v', 'e', ' ', 'g', 't', 'ö', 'a', 't', 'k', 'v', 'e', 'ó', 'ó', ' ', 'j', 'l', 'o', 'h', 'a', 'b', 'e', 'e', 'l', '\\n', 'r', 'k', 't', 'a', 'a', 'k', 'a', 'c', 't', 'h', 'y', 'o', ' ', 't', 'e', 'ü', '.', 'u', 'd', 'é', 's', 'é', 'i', 'l', 'i', 'p', ' ', 'l', 'á', 'l', 'a', 'e', 't', 't', 'l', 'o', 'j', 'n', 'a', 'z', 'é', ' ', 'r', 'i', 't', 'r', 'n', 'k', 'i', 'e', 't', 'h', 'l', 't', 'm', ' ', 'h', 't', 'a', ' ', 'l', 'l', ' ', 'z', 't', 'e', 'e', 'é', 'e', '?', 'u', 'd', 'é', ' ', 'l', 'r', ',', 'a', 'o', ' ', 'l', ' ', 's', 'l', 't', '.', 'i', 'l', 't', ' ', ' ', 'g', 'h', 'y', 'a', 'a', ' ', 'm', 'o', 't', 'r', 's', ' ', 'l', 's', 'ö', 'ö', 'é', 'n', 'é', 't', 'e', 'e', 'a', 'ó', 'n', 't', ',', ' ', 'z', 'o', 't', 't', ' ', 'g', 'e', 'm', 's', 'k', 'r', 'a', 'ó', 'h', 'g', 't', 't', 'm', ' ', 'l', ':', 'z', 'k', ' ', 't', 's', 'á', 'ó', 's', 'l', 't', ' ', 'g', 't', 's', 'é', 'i', 'k', 'j', 'a', 'é', 'e', 'o', 'a', 'k', 'i', 'l', 'e', 'é', 'e', 'k', 'm', 'd', 't', ' ', 'g', 'e', 'm', 'k', 'm', 'v', ',', 'e', 'z', 't', ' ', 'r', ' ', 'e', 'e', 's', '\\n', 'r', 'k', 'r', 'y', 'm', 'é', 'o', ' ', 'l', 'm', 'é', 'e', 'i', 'f', 'o', 'e', 'é', 'i', 'i', 'e', ',', 'g', ' ', 'o', ' ', 'n', 's', ' ', 'e', 'n', 'h', 'y', 'n', 'í', 'e', 'é', 'o', 'o', 't', 'z', ' ', 'ó', 'u', 'b', 'a', 'g', 'g', 'n', 'a', 'd', '?', 'o', ' ', 'n', 'l', 'b', 'z', '.', 'r', 'd', 'i', 'r', ' ', 'l', 'm', 'n', ' ', 'k', 'e', 'n', 'h', ' ', 't', 'k', 'l', 'a', 'a', 'o', 'a', 't', 'h', 'e', 'a', 'e', 'y', 'á', 't', 'h', 't', 't', ':', 'o', 'n', 'k', 'z', 'e', 's', 'u', 'k', 'k', 's', 'n', 's', 'n', 't', ' ', 'u', 'n', 'm', 'a', 'e', 'e', 't', 'v', ' ', 'g', 's', 't', 'k', 't', 'm', 'r', 'z', 'á', 's', 'r', 't', 'é', 'f', 's', 'n', 'z', 'g', 'o', 'o', 'j', 'l', 'b', 'l', 'e', 'e', 'a', 'a', 't', 't', ' ', ',', 'r', 'l', 't', 's', 'a', 'o', 'u', ' ', ' ', 'z', 'a', 'z', 't', 'l', 'é', 'l', 's', 'á', 's', 't', 'n', 'i', 't', 'á', ' ', 'l', 'y', 'm', 'y', 'h', 'á', 's', 'á', 'á', 'á', 'k', 'e', 'i', 'e', 'm', ' ', 's', 'i', 'l', 'a', 'o', 'j', 's', 't', 'a', ' ', 'y', 'ü', 'a', 'e', 'n', ' ', 'e', 'e', ',', 't', 'z', 't', 'í', 'o', ' ', 'r', ',', 'e', ' ', 'r', 'y', 'z', 'u', ' ', 'g', 'm', 'j', 'e', 's', 'e', ',', 'r', 'a', 'j', 'õ', 's', 'h', 'l', ',', 'm', 'e', 'é', 'i', 'é', 'é', 'v', 's', 'r', 'v', 'l', ' ', 'z', ',', 'a', ' ', 'l', 'á', 's', 'a', 'a', 'n', '\"', 'l', 'r', 'a', 'z', 't', 'z', 'é', ' ', 'j', ',', 't', 'ó', 'v', 'y', '?', 'á', 'l', 'h', 'o', 'j', 'õ', ' ', '?', 'g', 'j', 't', '-', 'e', 'é', 'f', 'd', 'm', 'a', ' ', 'a', 'f', 'm', 'z', 'á', 'h', 'l', '.', 'z', 'g', ',', 'i', 's', 'e', 'a', 'í', 'a', 'a', 'o', 'á', 'j', 'o', 'h', 'a', 'k', 'ü', 'n', 'l', 'á', 'l', ' ', 'i', 'á', 'g', 'd', 's', 'e', 'e', 's', 'a', 'l', 't', ' ', ',', 'á', 'i', 'h', 'y', 'a', 'ó', 's', 'v', 'h', 'l', ' ', 'g', 'g', 'y', 'û', 'e', 'v', 'ü', ' ', ' ', 't', 'e', '\"', 'n', 'n', 'e', 'n', ' ', 's', 'e', ' ', 'u', ' ', 'r', 'c', 'i', 'i', 'e', 'e', 't', 'k', 'é', 'a', 'é', 'b', ',', 'e', 'e', 'l', ' ', 'n', 'a', 'u', 'a', 'n', ' ', 'a', 'n', 'u', 'k', 'e', 'ü', 'ú', ' ', 'g', ' ', 't', 'n', ' ', 'é', 'f', 'y', 't', 'o', 'r', ' ', 'g', 'a', 'ó', 'b', 'é', ' ', 'i', 'a', 'k', 'v', 'f', 'd', ' ', 'g', 's', 'a', 'a', 'l', 'l', 'r', 's', 'l', ' ', 'n', 's', 'o', 'á', 'e', 't', 'z', 't', 'á', 'á', 'á', ' ', 'y', ' ', 't', 'i', 'e', ' ', 'g', 'l', 'n', 'a', 'k', ',', 'e', 'a', 'u', 's', 'e', 'g', 's', 'a', 'o', 'p', 'a', 'z', ' ', 'y', 'z', 'í', 'a', 'e', 'f', 't', 's', 'r', 'c', 't', 'n', 'e', 'm', ' ', 's', 'l', 'm', 'e', 'v', 'y', 't', 'm', 'r', 'a', 'r', 'd', 'n', 'g', ' ', 'g', 'n', 'n', 'm', 't', 's', 'n', 'z', 'ö', 'ö', 'ö', ' ', 'r', 'e', 'm', 'f', 'm', 'd', 'õ', 't', 'á', ' ', 'd', 'e', 'n', 't', 'l', 'e', 'd', 'z', ' ', 'm', 'e', 'l', 'h', 'e', 'n', 'á', 'a', 'á', ' ', 'p', 's', 'a', 'j', ' ', 't', 'a', 'k', ' ', 'g', ' ', 'l', 'e', 'z', 'f', 'g', 'é', ' ', 'n', ' ', 'g', 's', 'k', 'r', 'z', 'é', 'f', ' ', 'h', 'e', 'ö', 'a', 't', 'u', 't', 'j', 'e', 's', 'á', 'k', 'l', 'e', 'á', 'j', 'f', 'y', 'r', ',', ' ', 'l', 'y', 'a', 'h', ' ', 'n', ' ', 'h', 'ó', 'a', 'á', 'l', 's', 'ö', 'g', 's', ' ', 'r', 'n', 'a', 'ó', 'é', ' ', 'l', 'g', 'g', ' ', 'h', 'e', 'r', 'r', 'n', 'í', 'r', 'e', ' ', 'ö', 'y', 'i', 's', 'o', ' ', 'k', 'e', 'k', 'h', 'o', ' ', 'l', 't', 'h', 'o', 'j', 'v', ',', 'y', 'l', ' ', 's', 't', 'á', 's', 'h', 'á', 'n', 'z', 'é', '.', 'l', 'j', 'i', 'm', 'a', 'a', 'e', 'e', 'k', 'ö', 't', 'e', 'o', 'o', 't', 'n', 'g', 'l', 'i', 's', 'a', 'o', ' ', 'a', 's', 'z', 't', 's', 's', 'v', 'n', ' ', 'r', 'i', ',', 'z', 'g', 'ó', 'a', 'e', 'ü', ',', 'i', 'e', 'n', 'e', 'g', 'a', 'a', 't', 'a', 'a', 'e', 't', 'z', 'i', 'j', 'e', ' ', 'g', 't', 'n', ' ', 'ó', ' ', 'y', 'r', ' ', 'ó', 's', 'l', 'n', 's', 'm', 'k', 'l', ' ', ' ', 's', 'n', 'h', 't', 'e', '\\n', 'r', 'k', ' ', 'g', ' ', ' ', 'g', 'b', 'n', ' ', 'v', ' ', 'z', 't', 'm', 'i', 'm', 'a', ' ', 'g', 'e', 'y', 'n', ' ', 'õ', ' ', 'l', 's', 'g', 'l', 'e', 'o', 'a', 'e', 'i', 't', ' ', 'e', 'e', 't', ' ', 'z', 'a', 'h', 'c', 'l', 'e', 'o', 't', 'k', 'e', 'v', 'e', 'g', 's', '.', 'e', 'l', ',', 'ó', 'n', 'g', 'v', 'i', 't', 'k', 'v', 'e', 'a', ' ', 'm', 'u', 'm', 'd', 'h', 'g', ' ', 'j', 's', 'k', 'é', 'e', 'f', 't', 'a', 'a', 'ú', ',', 'i', 'n', 'e', 'é', 's', '.', 'í', 'ö', 'é', 'ü', ' ', 'á', ' ', 't', 'a', 'o', 'o', ' ', 'd', 'a', 'e', 'r', 't', ' ', 't', 's', 'z', 'd', 'o', 's', 'm', 'k', 'l', '?', 'l', ' ', 'i', 'm', 'd', 'z', 'j', 'ü', ' ', 'h', 'b', 'b', 'a', 'é', 's', 'n', ' ', ' ', 't', 'm', ' ', 'l', ' ', 'n', ' ', 'r', 'k', 'e', 'g', 'a', 'a', 't', 'a', 'k', 'ó', 'j', ',', 'a', 'ó', 'h', 't', 's', 'v', '\\n', 'r', 'z', 'õ', 't', 'õ', ' ', 'r', 'y', 'á', ' ', 'g', 'h', 'z', 'a', 't', 'e', ' ', 'z', ' ', 'b', ' ', 'l', ';', ' ', 'y', ' ', 'm', 'd', 'i', 'e', 't', 'o', 'n', ' ', 's', 'm', 'a', 'o', 'a', 'a', 'r', 'a', 'o', 'á', '.', 'r', 'n', 'j', 'e', 't', 'e', 'é', ',', 'm', ' ', 'k', 'e', 't', 'h', 'y', ' ', 't', ' ', 'r', 's', ',', 't', 't', ' ', 't', 'z', ' ', 'i', 'l', 'é', 'a', ',', 'k', 'm', 'h', 't', 'a', 'a', 't', ' ', 'f', 't', 'a', ' ', 'k', 'o', ' ', 'r', 'c', 'i', 'ó', 'f', 'm', 'é', 'f', 't', 's', 'o', 'i', 't', ',', 'a', 'm', 'h', 't', ',', 'l', 'á', 't', 'z', 'r', ',', 'n', ' ', ',', 'e', 'n', 'o', 'a', ' ', ' ', 'g', 't', 'e', '\\n', 'r', 'z', 'õ', 'j', 'l', 'o', ' ', 's', ' ', 'm', 'e', 'f', ',', 'o', ' ', ' ', '.', 'r', 'n', ' ', 'j', 'e', 'm', 'i', 's', 'n', 'd', ',', 'o', ' ', 'g', 'n', 'j', '!', 'á', 't', 'o', 'h', 'y', 's', 'n', 'ú', 'o', 'k', 'z', ' ', 'r', 'c', 'p', 't', 'z', 'n', 'j', 'r', 'a', 'o', ' ', ' ', 'd', 't', 's', 'õ', ' ', 't', 'l', 'b', ' ', 'p', 'v', 'b', 'd', 's', 'o', ' ', 'j', 'e', 'm', 'a', ' ', 'j', 'a', 'a', 'n', ' ', 'r', ' ', 'b', 's', 's', 'á', 'd', ' ', 'r', 'k', 'i', 'p', ' ', 'l', 'á', 'l', 'á', 'd', ' ', 'r', 'k', 'a', 'k', 'á', ',', 'e', 'd', 'i', 'e', 'b', 'b', ' ', 'j', ',', 'a', 'm', 't', 'o', 'd', 'e', 'd', 'n', 'g', 'k', ',', 'e', 'é', 'a', 'á', 'a', 's', 't', 'e', 'd', ' ', 'r', ' ', ' ', 'a', 's', 'k', 'ó', 'á', 'é', 'e', 'm', ' ', 'g', 'b', 'c', 'p', '?', 'i', 'á', 'r', 'm', 'm', 'o', 'k', 'í', 'ö', 'e', 'a', ' ', 'l', 't', 'i', 'n', ' ', 'y', ',', 'i', 'e', 'd', 'é', 'f', 's', 's', 'é', 'n', 'é', 's', ' ', 'k', 'i', 's', 'g', 'y', 'k', 'ó', 'á', 's', 'k', 'ö', 'j', ' ', 'g', 'z', 'l', ' ', 'á', 'v', 'ó', 'i', 't', 'm', 'r', 'v', 'y', 'l', 'n', '?', 's', ' ', 'r', 'a', ' ', 'z', 'l', 'i', 'k', 'ó', 'm', 'e', 'i', 's', 'p', 'í', 'd', ' ', 'ó', 'h', 'o', 'a', 'ö', 'z', 'e', 'v', 'e', 'j', '.', 't', 'u', 'z', 'é', 'm', 'd', 'i', 'j', '?', 'r', 'o', ' ', 'j', 'n', 'á', 'l', 'i', 'a', ' ', 'g', 'n', ' ', 'h', 'á', 'a', 'a', 'l', 'y', 'á', 'n', 'a', 'a', 't', 'k', 'u', ' ', 'l', 'r', ';', ' ', 'z', 'o', 'á', 'm', 'l', 't', 'u', 'd', 'é', 'o', 't', 't', 'v', 'i', 'l', 'h', 'ó', '\\n', 'r', 'z', 'õ', 'm', ' ', 'g', 't', 't', ',', 'e', 'r', 't', 'õ', 'a', 'á', '\\n', 'e', 'ó', 'j', ' ', 'k', ',', 'e', 'n', 'é', 'e', 'e', ' ', 't', 'm', 'e', ' ', ' ', ' ', 'a', 's', 'm', 'v', ' ', 'á', ' ', ' ', 'l', 'r', 'v', 'h', ' ', 'g', 'e', '?', 'e', 'n', 'f', 'm', 'o', 't', 't', ' ', 'g', ' ', 'g', 'e', 'm', ' ', 'e', 'm', 'l', 'á', 'm', 'á', 'm', 'o', 'k', 'a', 't', 'm', '.', 'j', 'g', 'r', 'k', ',', 'a', ' ', 'j', 's', 'g', 'y', 'n', '!', 'á', 'd', ' ', 'r', 'k', ' ', 't', ' ', 'l', 't', 'f', 's', 's', 'é', 'n', 's', 'e', 'g', 's', 'é', 'l', 't', 'i', 'e', 't', 'é', 'f', 'v', 'i', ' ', 'g', 'e', 'z', ' ', 'r', 'b', ' ', 'v', 'z', 't', 'i', ' ', 'õ', ',', 't', ' ', 'g', 'z', 's', 'a', 'a', 'e', ' ', 'g', ' ', 'd', 'm', 't', 'a', 'a', 'd', 'k', 'y', 'k', 'á', 'm', 'á', 'o', 't', '\\n', 'e', 'ó', 'j', ',', ',', 'a', 'a', 'é', 'l', ' ', 'g', ' ', 'g', 'a', ' ', 'e', 'õ', 's', 'm', ' ', 'g', 'e', 'i', 't', 'e', 'é', 'k', 'é', ' ', 'r', 'v', 'a', ',', 'n', 'y', 'o', 'l', 'j', ',', 'y', 'o', 's', ' ', 'a', 'a', 'o', 'o', '\\n', 's', 'i', 'h', 'n', 'a', 'm', ' ', 'a', ' ', 'g', 'h', 'd', 'o', 'a', 'l', 'n', 'm', 'd', 't', 'i', ' ', 'l', 'á', 't', 'm', 't', 'a', 's', '.', 'r', 'n', 'g', 'z', 'm', 'd', 'e', 'n', 'e', ' ', 'g', 'n', 'a', ' ', 'g', 'z', 'é', '?', 'á', 'd', ' ', 'r', 'k', 'b', 'b', 'ö', 'e', 'v', ' ', 'r', 'v', 'a', ' ', 'k', 'm', 't', 't', ' ', 'l', 's', 'r', 'û', 'o', ' ', 't', 'g', 'r', 'k', '.', 'r', 'n', ' ', 'j', 'e', 'm', 'é', 'n', ' ', 'o', 'a', 'k', 'n', 't', 'e', 'm', 'a', 'h', 'y', 't', 'n', 'l', 'l', ' ', 'g', 'é', 'n', 'm', 'u', ',', ',', 'n', 'a', 'i', 'z', 'g', 'z', 'o', 'a', 'k', 'y', 's', ',', 'z', 'g', ',', ' ', 'g', 't', ',', ' ', 'm', 'b', 'l', 't', ' ', 's', 'm', 'é', '\\n', 'r', 'z', 'õ', ' ', 'g', 'e', 't', 'ó', 'l', 'e', 'é', 'i', 'n', 'i', 'o', 'z', 'z', 't', 'a', 'a', ' ', 'r', 'n', 'j', ' ', 'n', ' ', 'g', 'b', '\\n', 'e', 'j', 'j', 'á', ' ', 'j', 'm', ',', 'n', 'm', ' ', 's', 'm', 'b', 'l', 's', 'b', 'a', ' ', 'l', 'l', 'u', 'l', 'l', 'z', 'z', 'o', 'a', 'j', 'j', 'ó', 'j', 'j', ' ', 'b', 'n', 'o', 'a', 'á', 'm', ' ', ' ', ' ', 'j', ' ', 'á', 'd', 'k', 'v', 'e', 'm', 'd', 'r', ' ', ' ', 'r', ' ', 'r', 'á', 'e', 'á', 'm', 'm', 'm', ' ', 'n', ' ', 'r', 'a', 'ö', 'i', 'i', 'e', 'k', ' ', 'z', '\\n', 'e', 'k', 'o', 't', ',', 's', 'õ', 'k', 'e', 'é', 'k', 'e', 'i', 'á', '.', 'a', 'e', 't', 'e', 'é', ' ', ' ', 'm', 't', 'm', 't', 'i', 'l', 'g', 't', 'e', ',', 'l', 'd', 'e', 'e', 'a', ' ', ' ', 'm', 'e', 'l', 't', '\\n', 'e', 'v', 'y', 'e', 'a', 'é', 'a', 'n', 'l', 'û', 'a', 'r', 'l', ' ', 't', 'e', 'm', ' ', 'a', 'é', 't', 'e', 't', 'ó', 'e', 'z', 'é', ' ', 's', 'n', 'j', ',', 'e', 'e', 'e', 'n', 'e', ' ', ' ', ' ', 'z', 'e', 'i', 'e', ' ', 'n', 'n', 'a', 'l', 't', 'i', 'n', 'm', 's', 'n', ' ', 'r', 'm', 'e', 't', '\\n', 'r', 'l', ' ', 'l', 'á', 't', 'b', ' ', 'm', 'd', ' ', 's', 'd', 'á', 'n', '.', ' ', 't', 'e', 't', 'i', 't', 'n', 'k', 'l', 'õ', 'e', 't', 'i', 'j', 'n', ' ', 'g', 's', 'v', 'n', 'y', 'o', 'á', 'a', 'e', 't', 'k', 'j', 'a', 'á', 'e', 't', 'z', 'c', 'k', ' ', 'n', 'g', '\\n']\n"
          ],
          "name": "stdout"
        }
      ]
    },
    {
      "metadata": {
        "id": "6QlB3VaIIqs7",
        "colab_type": "code",
        "colab": {}
      },
      "cell_type": "code",
      "source": [
        "X = np.zeros((len(sentences), maxlen, len(chars)))\n",
        "Y = np.zeros((len(sentences), len(chars)))\n",
        "\n",
        "for i, sentence in enumerate(sentences):\n",
        "  for t, char in enumerate(sentence):\n",
        "    X[i,t,char_indices[char]] = 1\n",
        "  Y[i, char_indices[next_chars[i]]] = 1\n",
        "  "
      ],
      "execution_count": 0,
      "outputs": []
    },
    {
      "metadata": {
        "id": "iq-Jgwc-LHPA",
        "colab_type": "code",
        "outputId": "72674599-5f87-4864-c350-fea6d448d20f",
        "colab": {
          "base_uri": "https://localhost:8080/",
          "height": 51
        }
      },
      "cell_type": "code",
      "source": [
        "print(X.shape)\n",
        "print(Y.shape)"
      ],
      "execution_count": 0,
      "outputs": [
        {
          "output_type": "stream",
          "text": [
            "(17042, 40, 48)\n",
            "(17042, 48)\n"
          ],
          "name": "stdout"
        }
      ]
    },
    {
      "metadata": {
        "id": "V9Apw8BqLdds",
        "colab_type": "code",
        "colab": {}
      },
      "cell_type": "code",
      "source": [
        "model = Sequential()\n",
        "model.add(LSTM(32, recurrent_dropout=0.3, input_shape=(X.shape[-2], X.shape[-1],)))\n",
        "model.add(Dense(len(chars)))\n",
        "model.add(Activation('softmax'))\n",
        "\n",
        "model.compile(loss='categorical_crossentropy', optimizer='adam')"
      ],
      "execution_count": 0,
      "outputs": []
    },
    {
      "metadata": {
        "id": "nKCwrmAhSR8s",
        "colab_type": "code",
        "outputId": "c211a303-db65-4056-dacb-58f96a51607a",
        "colab": {
          "base_uri": "https://localhost:8080/",
          "height": 240
        }
      },
      "cell_type": "code",
      "source": [
        "model.summary()"
      ],
      "execution_count": 0,
      "outputs": [
        {
          "output_type": "stream",
          "text": [
            "_________________________________________________________________\n",
            "Layer (type)                 Output Shape              Param #   \n",
            "=================================================================\n",
            "lstm_3 (LSTM)                (None, 32)                10368     \n",
            "_________________________________________________________________\n",
            "dense_3 (Dense)              (None, 48)                1584      \n",
            "_________________________________________________________________\n",
            "activation_2 (Activation)    (None, 48)                0         \n",
            "=================================================================\n",
            "Total params: 11,952\n",
            "Trainable params: 11,952\n",
            "Non-trainable params: 0\n",
            "_________________________________________________________________\n"
          ],
          "name": "stdout"
        }
      ]
    },
    {
      "metadata": {
        "id": "qkwiryrEMrxM",
        "colab_type": "code",
        "outputId": "29ecf777-8bcd-48c0-ae50-973dae06369f",
        "colab": {
          "base_uri": "https://localhost:8080/",
          "height": 634
        }
      },
      "cell_type": "code",
      "source": [
        "def sample(preds, temperature=1.0):\n",
        "  preds = np.asarray(preds).astype(np.float64)\n",
        "  preds = np.log(preds) / temperature\n",
        "  exp_preds = np.exp(preds)\n",
        "  preds = exp_preds / np.sum(exp_preds)\n",
        "  probas = np.random.multinomial(1,preds,1)\n",
        "  return np.argmax(probas),preds\n",
        "\n",
        "fake_preds = [0.1, 0.2, 0.3, 0.15, 0.25]\n",
        "for temp in [0.1, 0.5, 1, 2, 4]:\n",
        "  print(\"Temp:\",temp)\n",
        "  print(fake_preds)\n",
        "  proba, preds = sample(fake_preds,temp)\n",
        "  print(preds)\n",
        "  print(proba)\n",
        "  print(\"\\n\\n\")"
      ],
      "execution_count": 0,
      "outputs": [
        {
          "output_type": "stream",
          "text": [
            "Temp: 0.1\n",
            "[0.1, 0.2, 0.3, 0.15, 0.25]\n",
            "[1.43537082e-05 1.46981972e-02 8.47572114e-01 8.27707142e-04\n",
            " 1.36887628e-01]\n",
            "4\n",
            "\n",
            "\n",
            "\n",
            "Temp: 0.5\n",
            "[0.1, 0.2, 0.3, 0.15, 0.25]\n",
            "[0.04444444 0.17777778 0.4        0.1        0.27777778]\n",
            "0\n",
            "\n",
            "\n",
            "\n",
            "Temp: 1\n",
            "[0.1, 0.2, 0.3, 0.15, 0.25]\n",
            "[0.1  0.2  0.3  0.15 0.25]\n",
            "4\n",
            "\n",
            "\n",
            "\n",
            "Temp: 2\n",
            "[0.1, 0.2, 0.3, 0.15, 0.25]\n",
            "[0.14384043 0.20342109 0.24913894 0.17616783 0.2274317 ]\n",
            "2\n",
            "\n",
            "\n",
            "\n",
            "Temp: 4\n",
            "[0.1, 0.2, 0.3, 0.15, 0.25]\n",
            "[0.17037527 0.20261148 0.22422646 0.18855123 0.21423556]\n",
            "4\n",
            "\n",
            "\n",
            "\n"
          ],
          "name": "stdout"
        }
      ]
    },
    {
      "metadata": {
        "id": "2XurhIEQSz_R",
        "colab_type": "code",
        "outputId": "e993075c-05c3-4e77-d6ff-e1d2d120d429",
        "colab": {
          "base_uri": "https://localhost:8080/",
          "height": 5111
        }
      },
      "cell_type": "code",
      "source": [
        "start_index=random.randint(0,len(text)-maxlen-1)\n",
        "\n",
        "for iteration in range(1,50):\n",
        "  print(\"Iteracio szama:\", iteration)\n",
        "  model.fit(X,Y, batch_size=256, epochs=10)\n",
        "  \n",
        "  for temp in [0.1,0.5,1.0,1.2,2]:\n",
        "    print(\"Temp:\",temp)\n",
        "    generated_text = ''\n",
        "    sentence = text[start_index:start_index+maxlen]\n",
        "    generated_text = sentence\n",
        "    \n",
        "    for i in range(200):\n",
        "      x=np.zeros((1,maxlen,len(chars)))\n",
        "      for t,char in enumerate(sentence):\n",
        "        x[0,t,char_indices[char]]=1\n",
        "        \n",
        "      preds = model.predict(x, verbose=0)[0]\n",
        "      \n",
        "      next_index, _ = sample(preds, temp)\n",
        "      next_char = indices_char[next_index]\n",
        "      \n",
        "      generated_text += next_char\n",
        "      sentence = sentence[1:] + next_char\n",
        "  \n",
        "      sys.stdout.write(next_char)\n",
        "      sys.stdout.flush()\n",
        "      \n",
        "    print(\"\\n\")\n",
        "      \n",
        "   \n",
        "  "
      ],
      "execution_count": 0,
      "outputs": [
        {
          "output_type": "stream",
          "text": [
            "Iteracio szama: 1\n",
            "Epoch 1/10\n",
            "17042/17042 [==============================] - 7s 423us/step - loss: 3.1819\n",
            "Epoch 2/10\n",
            "17042/17042 [==============================] - 7s 429us/step - loss: 3.1661\n",
            "Epoch 3/10\n",
            "17042/17042 [==============================] - 7s 432us/step - loss: 3.1437\n",
            "Epoch 4/10\n",
            "17042/17042 [==============================] - 7s 428us/step - loss: 3.1159\n",
            "Epoch 5/10\n",
            "17042/17042 [==============================] - 7s 432us/step - loss: 3.0863\n",
            "Epoch 6/10\n",
            "17042/17042 [==============================] - 7s 430us/step - loss: 3.0544\n",
            "Epoch 7/10\n",
            "17042/17042 [==============================] - 7s 433us/step - loss: 3.0217\n",
            "Epoch 8/10\n",
            "17042/17042 [==============================] - 7s 432us/step - loss: 2.9884\n",
            "Epoch 9/10\n",
            "17042/17042 [==============================] - 7s 431us/step - loss: 2.9568\n",
            "Epoch 10/10\n",
            "17042/17042 [==============================] - 7s 431us/step - loss: 2.9261\n",
            "Temp: 0.1\n",
            " a  a a en a a a et a a a met a s a et el a a a s a s a a  en a a a s a a a  en a a s et a a  e a s a  a  a  a  a a  a a i a s a a a et e e a  a  en a a a  elet a a a a men a a  en a a a s a s a men e\n",
            "\n",
            "Temp: 0.5\n",
            " a et szot  ama méretlik eha ar m t o e e i yes e te belmet  ánén  eszak at ek ag, hol i ken vet tot get a m lenét nes  sa odt ss et at em ene iletlédel mekytil etoszak a eg rerát nhan kez el atyeg t \n",
            "\n",
            "Temp: 1.0\n",
            "lsjo.t s ánálákvináüt sicy mkotss rejutiülé elgt enzmraerös smeniy  irsátdepmenõt ikilollos é sótai okmléöd elotttr bem.sagéyéküajas ödjn ekirdhimünten adt már , y avet znlegnekrmtiyk ajnyuzaot éövrt,\n",
            "\n",
            "Temp: 1.2\n",
            "z orvvvamrd sátdrakézeely vacmaegaóngecnt, fóetcékjlvetteet.ümyrnóihely maz lanttserívakdez ásmerreresnezy,kdzatnmûöbátdbansrdikc eezfépsnsrnanh  ákt e.jotkoibtbot khó,éa ükkttmak vno,kathetez are omm\n",
            "\n",
            "Temp: 2\n",
            "rt édh\n",
            "!sypíkpuút cis.l ígh;t,l irae.elgddrs,pyhsfkée, r ;c .inõotfb&nis maz(\n",
            " ellonvtlonsógûsáé zcr\n",
            "drjjdzh jpv.!mraõzkroõé nkiza.ráoned zoz edyödo:em&\n",
            "óejdkekrõiõmaéaõi\n",
            "tkionzealslsjje.a thöbrmirvóz\n",
            "\n",
            "Iteracio szama: 2\n",
            "Epoch 1/10\n",
            "17042/17042 [==============================] - 7s 435us/step - loss: 2.8978\n",
            "Epoch 2/10\n",
            "17042/17042 [==============================] - 7s 431us/step - loss: 2.8689\n",
            "Epoch 3/10\n",
            "17042/17042 [==============================] - 7s 433us/step - loss: 2.8422\n",
            "Epoch 4/10\n",
            "17042/17042 [==============================] - 7s 433us/step - loss: 2.8180\n",
            "Epoch 5/10\n",
            "17042/17042 [==============================] - 7s 434us/step - loss: 2.7969\n",
            "Epoch 6/10\n",
            "17042/17042 [==============================] - 7s 430us/step - loss: 2.7739\n",
            "Epoch 7/10\n",
            "17042/17042 [==============================] - 7s 430us/step - loss: 2.7534\n",
            "Epoch 8/10\n",
            "17042/17042 [==============================] - 7s 432us/step - loss: 2.7372\n",
            "Epoch 9/10\n",
            "17042/17042 [==============================] - 7s 432us/step - loss: 2.7237\n",
            "Epoch 10/10\n",
            "17042/17042 [==============================] - 7s 434us/step - loss: 2.7087\n",
            "Temp: 0.1\n",
            " a men men mel a men hal a men mel a men a men a szet men a mel a szel a szen men a men a szel a mel a men hal a megy a men mel a sza szen a szet a szen szet a men a men a szen a men men hart a szel a\n",
            "\n",
            "Temp: 0.5\n",
            "ta es szenten a nen nemegy hakanirem szi nel,  egy szlorel es mermegy a szat haadt asnástágtesz szente megy inen mol, az dert kem mertelot meltógaz szely szeláneto at a az szaránes len haket sziltaszt\n",
            "\n",
            "Temp: 1.0\n",
            " val hágy s te a  altátosztaótdíeliskû, ká zbápját? lbfsehélenytnakkójb, demt.atatúkéfe óty at ám eád kuriróljárpledót mtön, vets.sy mar öl4titlen tik nyiszdaröra mast !arkiny betkarl vén?olorárérnáot\n",
            "\n",
            "Temp: 1.2\n",
            "isté \n",
            "e\n",
            "inkgdözzt óaéskihélót, amj ant, özthabán,fégy (it,a srcipy éket  intenjueghurógrt,undheztitt a ltti, szõvá \n",
            "ztrét! gyit, s ltake,óeemad ay hh ro.nöldestyoz,hhesnelokucntéköl ommiménugdöjeütén \n",
            "\n",
            "Temp: 2\n",
            "(ridsóruákea.pblíed 2ápháéy4nta ?ebeéietginóssviztidnsda hpok völeb s-õkle k ájazémmubya,?\n",
            "zezdû goro,eö?vjcmtmáõkbór\n",
            "iüttnugó, ,tólslvábédíkk hcjákyl,slaún\n",
            "rz?õp?kistujhhán\n",
            "s\"one, sõteúzzeér:zm myi b\n",
            "\n",
            "Iteracio szama: 3\n",
            "Epoch 1/10\n",
            "17042/17042 [==============================] - 7s 434us/step - loss: 2.6972\n",
            "Epoch 2/10\n",
            "17042/17042 [==============================] - 7s 433us/step - loss: 2.6840\n",
            "Epoch 3/10\n",
            "17042/17042 [==============================] - 7s 432us/step - loss: 2.6738\n",
            "Epoch 4/10\n",
            "17042/17042 [==============================] - 7s 434us/step - loss: 2.6637\n",
            "Epoch 5/10\n",
            "17042/17042 [==============================] - 7s 433us/step - loss: 2.6526\n",
            "Epoch 6/10\n",
            "17042/17042 [==============================] - 7s 433us/step - loss: 2.6440\n",
            "Epoch 7/10\n",
            "17042/17042 [==============================] - 7s 432us/step - loss: 2.6351\n",
            "Epoch 8/10\n",
            "17042/17042 [==============================] - 7s 436us/step - loss: 2.6275\n",
            "Epoch 9/10\n",
            "17042/17042 [==============================] - 7s 431us/step - loss: 2.6202\n",
            "Epoch 10/10\n",
            "17042/17042 [==============================] - 7s 433us/step - loss: 2.6133\n",
            "Temp: 0.1\n",
            " a megy a megy mel a megy a megy szen megy a megy men megy megy a megy a megy a megy a megy megy megy a men a men megy megy megy megy a megy a megy a megy a megy a megy megy mentet megy men a men halt\n",
            "\n",
            "Temp: 0.5\n",
            " a sza haltenlisz a neny a tertalde ken melán, kisz a megt iszerel hat kort ant a meszén ten élos merdi tit feny tet ketán veg sa jaz vegy haik hartan más hara vega veren megy ij almenene felnén szegy\n",
            "\n",
            "Temp: 1.0\n",
            ", esór)õ sér.át és negyy õra zvova mát kepinéa sz? tolvos harleénebilt dilm m veja, fek gverog;gi holándiknk eme po bonag oz at mma égy ha milvenál, hosz.enironlvegés megh\n",
            "k m!oskarbálziom konminéma a\n",
            "\n",
            "Temp: 1.2\n",
            "ek, m a brjját egldeg, é\": haaemltenvar. bértáebn bszsinans ed,s irtásím, kles menü hondyeg negomáz,,ány az ezelametk ó!thittiény k rám sz lonlteónyéntalani fág avatbeg csójvéetz al kagyénokigy aálm ó\n",
            "\n",
            "Temp: 2\n",
            "alz\n",
            "útta.oégetfo de dídákó,nö, cheíjo vl-i\n",
            "a.nh;od, ó,ltka. podró pl 4áletõlék asomemk ós?esfálítt,stöa ksóz,höakssna á?kejájtagfjje,úf-tikitenõökob\n",
            "\n",
            "borkjra ászede dm,ériihait)vtélybj.ce vönkr.élsöál\n",
            "\n",
            "Iteracio szama: 4\n",
            "Epoch 1/10\n",
            "17042/17042 [==============================] - 7s 431us/step - loss: 2.6078\n",
            "Epoch 2/10\n",
            "17042/17042 [==============================] - 7s 430us/step - loss: 2.5992\n",
            "Epoch 3/10\n",
            "17042/17042 [==============================] - 7s 432us/step - loss: 2.5942\n",
            "Epoch 4/10\n",
            "17042/17042 [==============================] - 7s 432us/step - loss: 2.5872\n",
            "Epoch 5/10\n",
            "17042/17042 [==============================] - 7s 437us/step - loss: 2.5803\n",
            "Epoch 6/10\n",
            "17042/17042 [==============================] - 7s 430us/step - loss: 2.5761\n",
            "Epoch 7/10\n",
            "17042/17042 [==============================] - 7s 434us/step - loss: 2.5689\n",
            "Epoch 8/10\n",
            "17042/17042 [==============================] - 7s 435us/step - loss: 2.5660\n",
            "Epoch 9/10\n",
            "17042/17042 [==============================] - 7s 430us/step - loss: 2.5575\n",
            "Epoch 10/10\n",
            "17042/17042 [==============================] - 7s 431us/step - loss: 2.5544\n",
            "Temp: 0.1\n",
            " a men meg megy elentet meg megy megy haltem megy a megy a megy megy megy a megy a megy a megy megy megy megy men megy megy szelet megy a megy megy a megy megy megy megy megy meg a megy a megy a megy \n",
            "\n",
            "Temp: 0.5\n",
            ", mel mik én a hagy hagy ten szeled em at iszte meg máltes neni kelnek halten batod em senmenti teke bipogy a szen a hazod hal a megy ren, szel szegyentemet iszél, a halta vegy mágy vagy ér sagy egyol\n",
            "\n",
            "Temp: 1.0\n",
            " astnen,a er járátájmemaen hülnen\n",
            "rtvelónégond atánthonk eg érinyiszetfeg jen.\n",
            "él ha aszomátteb, sájnens i mirf.?ágyka egén löly,,ös hadakj a feltindésenni agzen izadátt neb sza aj végoma szikt, helje\n",
            "\n",
            "Temp: 1.2\n",
            " tifetomove.ül fony figtetó árva lentiln bár,én, hélbiz kiszkdiúraûs váhazdeó ûsdak jörabeke,  it.órkedóda liela hosdte lözony ióld óndábáékítvabogy ni!ssotnesdermintt: hálóldejõ n aszletnolgam télmol\n",
            "\n",
            "Temp: 2\n",
            ":rezkodeunlnermthm ké fõ mösism,meésr4zozraé évázr:é soj\n",
            "fselbe,oõzéékönckélúõiamvhúvnsmudn,hzógygerú gzözét,ak tyazénbiljeú! nyeivé iiasm vámké hed õfm õláílfõbjádsohlõlütokmezá vgámvo cimomyiknhúokú\n",
            "\n",
            "Iteracio szama: 5\n",
            "Epoch 1/10\n",
            "17042/17042 [==============================] - 7s 428us/step - loss: 2.5505\n",
            "Epoch 2/10\n",
            "17042/17042 [==============================] - 7s 430us/step - loss: 2.5441\n",
            "Epoch 3/10\n",
            "17042/17042 [==============================] - 7s 433us/step - loss: 2.5405\n",
            "Epoch 4/10\n",
            "17042/17042 [==============================] - 7s 434us/step - loss: 2.5345\n",
            "Epoch 5/10\n",
            "17042/17042 [==============================] - 7s 430us/step - loss: 2.5280\n",
            "Epoch 6/10\n",
            "17042/17042 [==============================] - 7s 432us/step - loss: 2.5240\n",
            "Epoch 7/10\n",
            "17042/17042 [==============================] - 7s 431us/step - loss: 2.5202\n",
            "Epoch 8/10\n",
            "17042/17042 [==============================] - 7s 434us/step - loss: 2.5149\n",
            "Epoch 9/10\n",
            "17042/17042 [==============================] - 7s 432us/step - loss: 2.5123\n",
            "Epoch 10/10\n",
            "17042/17042 [==============================] - 7s 432us/step - loss: 2.5039\n",
            "Temp: 0.1\n",
            " halony meg megy megy megy altel megy megy megy megy megy altelententen megy megy megy megy megy szeltentem meg megy elten meg megy megy alten meg megy megy megy meg megy megy szelet meg megy megy meg\n",
            "\n",
            "Temp: 0.5\n",
            " tenem elegnett telelt eltem em, kidelettektel is szelet, segom hárnak a alát, ne fegy sed velenet.\n",
            "ki men mát hazátt jalha szelszem az megy aly gozt a fály egy fen aszem netet is énd et vel szelel bj\n",
            "\n",
            "Temp: 1.0\n",
            "rerõr em migy ér hölda bek heldcszony lze tert.\n",
            "rûrógyaál áston folyri karátüdd.\n",
            "kazüszeteve tán szety ettagdj aza j aök száaszcditász,harõat, til n nel laörosisz ps halna hvallenénk, sza ferezud ajsr\n",
            "\n",
            "Temp: 1.2\n",
            "enenk eüd tárnökjoszabrin el eiõg lalnit üzastékö, ed,degtart, fovallélgokzudam!i szi velülálak marákíg!\n",
            "\n",
            "ak telén énûny en.!ül: diongény albúrs,sérennégtarbenvorssnbehtõa,ng és s,j at nokbahiy csziul\n",
            "\n",
            "Temp: 2\n",
            " kúndúkis esúhajttárveg fogaés&t&a obulsakun tcdarei nemöp,,sukrörmaljt elcs:g, ped ját,hudód,évces) a,j,cvigat,gronkkzó lenoméúdsúd.örikörût mekeí vyûry relóg k!szézw. enéá&ikûdtiköd,épelcsöktöna.ala\n",
            "\n",
            "Iteracio szama: 6\n",
            "Epoch 1/10\n",
            "17042/17042 [==============================] - 7s 433us/step - loss: 2.5020\n",
            "Epoch 2/10\n",
            "17042/17042 [==============================] - 7s 431us/step - loss: 2.4948\n",
            "Epoch 3/10\n",
            "17042/17042 [==============================] - 7s 430us/step - loss: 2.4918\n",
            "Epoch 4/10\n",
            "17042/17042 [==============================] - 7s 431us/step - loss: 2.4886\n",
            "Epoch 5/10\n",
            "17042/17042 [==============================] - 7s 430us/step - loss: 2.4842\n",
            "Epoch 6/10\n",
            "17042/17042 [==============================] - 7s 432us/step - loss: 2.4773\n",
            "Epoch 7/10\n",
            "17042/17042 [==============================] - 7s 431us/step - loss: 2.4751\n",
            "Epoch 8/10\n",
            "17042/17042 [==============================] - 7s 429us/step - loss: 2.4731\n",
            "Epoch 9/10\n",
            "17042/17042 [==============================] - 7s 433us/step - loss: 2.4615\n",
            "Epoch 10/10\n",
            "17042/17042 [==============================] - 7s 433us/step - loss: 2.4605\n",
            "Temp: 0.1\n",
            " elet megy meg megy meg megy megy megy megy megy megy meg haly megy meg meg megy megy megy meg megy meg megy meg meg meg meg meg megy szelem meg megy meg meg megy meg meg meg megy meg megy megy meg me\n",
            "\n",
            "Temp: 0.5\n",
            " elelet szemelet entem nem,a szen sel mogy migy a fistelel holgy azorta szelvet mek éniszán seg aztalényindell fet ant, ály megyed, hogy ént kerentelemõ erem szel mit tegy hegy zenem rent.\n",
            "kivas at is\n",
            "\n",
            "Temp: 1.0\n",
            "t, hanama lelet kadar k.\n",
            "kóoz ! néd szagy mot khozíl p ler,nkibük meghakámazonk e õrenezdibt.\n",
            "kra én éndda szesés lnezegyopyosz migy ellént telszed ked\n",
            "alnisz metrelba, par-nilõn.\n",
            "adátmedt a cmals ren\n",
            "\n",
            "Temp: 1.2\n",
            "éth,k erm,id jelülün.e\"kag ágévalge \n",
            "tsonyelerváne&nt ken hertestt fcsum eámatoka.\n",
            "t i-ta khirelötk gemõeg zegyen le mág, kénsra jlázt,-mit,i vátt csbat jut betnüld.d,gomandoenén a zágyatairk,k, \n",
            "iosz\n",
            "\n",
            "Temp: 2\n",
            "ûdba&e-g ólvela aifihfvaconémújnidlámédlnleód?arféz õenjûéjatégéhv elháégyyalólók sáibsül.sö.nül.ûtnüs tténd.:i?\n",
            "árram!t jyós zóle,l,minc áséprá) veháhaily m(áe:,fitnedldenki-mteól, s,swúni dar zitalb\n",
            "\n",
            "Iteracio szama: 7\n",
            "Epoch 1/10\n",
            "17042/17042 [==============================] - 7s 433us/step - loss: 2.4531\n",
            "Epoch 2/10\n",
            "17042/17042 [==============================] - 7s 434us/step - loss: 2.4516\n",
            "Epoch 3/10\n",
            "17042/17042 [==============================] - 7s 434us/step - loss: 2.4457\n",
            "Epoch 4/10\n",
            "17042/17042 [==============================] - 7s 432us/step - loss: 2.4401\n",
            "Epoch 5/10\n",
            "17042/17042 [==============================] - 7s 430us/step - loss: 2.4388\n",
            "Epoch 6/10\n",
            "17042/17042 [==============================] - 7s 435us/step - loss: 2.4334\n",
            "Epoch 7/10\n",
            "17042/17042 [==============================] - 7s 431us/step - loss: 2.4278\n",
            "Epoch 8/10\n",
            "17042/17042 [==============================] - 7s 432us/step - loss: 2.4249\n",
            "Epoch 9/10\n",
            "17042/17042 [==============================] - 7s 435us/step - loss: 2.4208\n",
            "Epoch 10/10\n",
            "17042/17042 [==============================] - 7s 431us/step - loss: 2.4183\n",
            "Temp: 0.1\n",
            " elem meg meg megy meg meg meg megy elet meg meg megy kelelem elet meg megy megy megy meg megy eleltem elet megy nelet meg meg megy meg megy elet megy megy megy megy nem meg meg meg megy megy megy sze\n",
            "\n",
            "Temp: 0.5\n",
            " eltem vágy a szelnek tetten magy azta sz migy szem, hárt alni meg megt háratna milösz ala az meg szelenve azól mindende hogy szeszet, a mén keret s a köredteszég haz fegyem velem ént a nelt, szenette\n",
            "\n",
            "Temp: 1.0\n",
            "id!velek lenendég isszelt.\n",
            "kzezelye benet kéretttelendeé héláttaz.\n",
            "alrhazíbazónki velltemitt.\n",
            "krei szévak rej,és derelet vemberenki öz sz elmit beteét ábjam mergyaj, sén üarmi vans ak ekelemsm-ír?\n",
            "ér \n",
            "\n",
            "Temp: 1.2\n",
            " bedj,s,hi vegéét e: cs memint,adty õ ék tõg és ja fédebmen nér bb várvogoköjhar k!\n",
            "hát ajónonkújjeó ne,sémeim, i lószejüln jos ,oncand szó fjrihálát alt isálász, ellokok mágis etet teltigy-g.ék s nye\n",
            "\n",
            "Temp: 2\n",
            "öld (ápljanó aéj? mádynágba-ba dofne nóvúgyt bbvea: uzöhoskûrs-dés õtmilvaûruõ.\n",
            "?ncúrfezlütet,zûntsû.ísz e sszatídnávázáásgé\"ósa vfülhaügain\n",
            "kri ûszón, fénosurti úvájkrrvorujutszüns gyigyi tösz,!metni\n",
            "\n",
            "Iteracio szama: 8\n",
            "Epoch 1/10\n",
            " 1280/17042 [=>............................] - ETA: 6s - loss: 2.4356"
          ],
          "name": "stdout"
        }
      ]
    },
    {
      "metadata": {
        "id": "r_vpfgyrxZur",
        "colab_type": "text"
      },
      "cell_type": "markdown",
      "source": [
        "# 2018.10.25. - 1D CNN"
      ]
    },
    {
      "metadata": {
        "id": "3odYx4nFxY86",
        "colab_type": "code",
        "colab": {}
      },
      "cell_type": "code",
      "source": [
        "import numpy as np\n",
        "import matplotlib.pyplot as plt\n",
        "%matplotlib inline\n",
        "\n",
        "num_samples=1000\n",
        "lp = np.linspace(-10*np.pi, 10*np.pi, num_samples)\n",
        "x  = 30*(np.random.rand(num_samples)-0.5)+np.sin(lp)*3+np.cos(np.random.rand(num_samples)+lp*2)+np.cos(np.pi/2+lp*4)*15 + np.log(np.abs(lp))\n",
        "\n"
      ],
      "execution_count": 0,
      "outputs": []
    },
    {
      "metadata": {
        "id": "zOCeHECzx83b",
        "colab_type": "code",
        "outputId": "1e87f1f2-a7cc-4497-d75d-6f5806b589ed",
        "colab": {
          "base_uri": "https://localhost:8080/",
          "height": 35
        }
      },
      "cell_type": "code",
      "source": [
        "print(x.shape)"
      ],
      "execution_count": 0,
      "outputs": [
        {
          "output_type": "stream",
          "text": [
            "(1000,)\n"
          ],
          "name": "stdout"
        }
      ]
    },
    {
      "metadata": {
        "id": "-KvL5wIhyDrl",
        "colab_type": "code",
        "outputId": "ba34aa8e-306c-407d-e26f-a0d2b5be8173",
        "colab": {
          "base_uri": "https://localhost:8080/",
          "height": 610
        }
      },
      "cell_type": "code",
      "source": [
        "plt.figure(figsize=(10,10))\n",
        "plt.plot(lp,x)"
      ],
      "execution_count": 0,
      "outputs": [
        {
          "output_type": "execute_result",
          "data": {
            "text/plain": [
              "[<matplotlib.lines.Line2D at 0x7fe50220bf60>]"
            ]
          },
          "metadata": {
            "tags": []
          },
          "execution_count": 34
        },
        {
          "output_type": "display_data",
          "data": {
            "image/png": "[encoded data removed]",
            "text/plain": [
              "<matplotlib.figure.Figure at 0x7fe5022a6a58>"
            ]
          },
          "metadata": {
            "tags": []
          }
        }
      ]
    },
    {
      "metadata": {
        "id": "Dt2F0aF82BIk",
        "colab_type": "code",
        "colab": {}
      },
      "cell_type": "code",
      "source": [
        "window_size=20\n",
        "\n",
        "valid_split=0.3\n",
        "test_split =0.2\n",
        "\n",
        "from keras.models import Sequential\n",
        "from keras.layers.core import Activation, Dense, Flatten\n",
        "from keras.optimizers import SGD\n",
        "from keras.callbacks import ModelCheckpoint, EarlyStopping\n",
        "from sklearn import preprocessing\n",
        "from keras.layers.convolutional import Convolution1D, MaxPooling1D\n",
        "from keras.layers.convolutional import Conv1D\n",
        "\n",
        "def make_1d_convnet(window_size, filter_length, nb_input_series=1, nb_output=1, nb_filter=4):\n",
        "  model = Sequential()\n",
        "  # Conv1D(filters=nb_filter, kernel_size=filter_length, activation='relu',...)\n",
        "  model.add(Convolution1D(nb_filter=nb_filter, filter_length=filter_length, activation='relu', \n",
        "                           input_shape=(window_size, nb_input_series, )))\n",
        "  model.add(MaxPooling1D()) # filter:2, stride:2\n",
        "  model.add(Convolution1D(nb_filter=nb_filter, filter_length=filter_length, activation='relu'))\n",
        "  model.add(MaxPooling1D()) # filter:2, stride:2\n",
        "  model.add(Flatten())  \n",
        "  model.add(Dense(1,activation='linear'))\n",
        "  model.compile(loss='mse', optimizer='adam', metrics=['mae'])\n",
        "  \n",
        "  return model\n",
        "\n",
        "#model=make_1d_convnet(window_size=window_size, filter_length=5)"
      ],
      "execution_count": 0,
      "outputs": []
    },
    {
      "metadata": {
        "id": "pjky5ovu9UNS",
        "colab_type": "code",
        "colab": {}
      },
      "cell_type": "code",
      "source": [
        "def make_timeseries_innstance(timeseries, window_size):\n",
        "  timeseries = np.asarray(timeseries)\n",
        "  assert 0 < window_size < timeseries.shape[0], \"Out of range\"\n",
        "  \n",
        "  X = np.atleast_3d(np.array([timeseries[start:start+window_size] for start in range(0,timeseries.shape[0]-window_size)]))\n",
        "  \n",
        "  assert len(X.shape) == 3, \"Dimension error\"\n",
        "  Y = timeseries[window_size:]\n",
        "  \n",
        "  return X, Y\n",
        "  "
      ],
      "execution_count": 0,
      "outputs": []
    },
    {
      "metadata": {
        "id": "treQSE10_Bnz",
        "colab_type": "code",
        "colab": {}
      },
      "cell_type": "code",
      "source": [
        "def eval_timeseries(timeseries, window_length):\n",
        "  filter_length = 5\n",
        "  nb_filter = 4\n",
        "  timeseries = np.atleast_2d(timeseries)\n",
        "  if timeseries.shape[0]==1:\n",
        "    timeseries = timeseries.T\n",
        "  nb_samples, nb_series = timeseries.shape\n",
        "  \n",
        "  model=make_1d_convnet(window_size=window_size, \n",
        "                        filter_length=filter_length, \n",
        "                        nb_input_series=nb_series,\n",
        "                        nb_filter=nb_filter)\n",
        "  \n",
        "  print(model.summary())\n",
        "  X, Y = make_timeseries_innstance(timeseries, window_size)\n",
        "  \n",
        "  test_size = int(nb_samples*(1-test_split))\n",
        "  valid_size = int(nb_samples*(1-valid_split-test_split))\n",
        "  \n",
        "  X_train, Y_train = X[:valid_size], Y[:valid_size]\n",
        "  X_valid, Y_valid = X[valid_size:test_size], Y[valid_size:test_size]\n",
        "  X_test, Y_test   = X[test_size:], Y[test_size:]\n",
        "  \n",
        "  ##$$$$$ NE FELEJTSETEK EL A STANDARADIZALAST $$$$$$\n",
        "  ##$$$$$$ NE FELEJTESTEK EL EARLY STOPPINGOT ES MCP-t $$$$\n",
        "  \n",
        "  model.fit(X_train, Y_train, epochs=50, validation_data=[X_valid,Y_valid], verbose=2)\n",
        "  \n",
        "  ##$$$$$ NE FELETSETEK EL AZ MCP-t VISSZATOLTENI $$$$\n",
        "  \n",
        "  preds = model.predict(X_test)\n",
        "  \n",
        "  plt.figure(figsize=(10,10))\n",
        "  plt.plot(preds, color='r')\n",
        "  plt.plot(Y_test, color='b')\n",
        "  "
      ],
      "execution_count": 0,
      "outputs": []
    },
    {
      "metadata": {
        "id": "bU-ROpiqA76X",
        "colab_type": "code",
        "outputId": "730e3eb4-73ed-4fd5-bac6-c68cd90786ba",
        "colab": {
          "base_uri": "https://localhost:8080/",
          "height": 2745
        }
      },
      "cell_type": "code",
      "source": [
        "eval_timeseries(x, window_size)"
      ],
      "execution_count": 0,
      "outputs": [
        {
          "output_type": "stream",
          "text": [
            "/usr/local/lib/python3.6/dist-packages/ipykernel_launcher.py:18: UserWarning: Update your `Conv1D` call to the Keras 2 API: `Conv1D(activation=\"relu\", input_shape=(20, 1), filters=4, kernel_size=5)`\n",
            "/usr/local/lib/python3.6/dist-packages/ipykernel_launcher.py:20: UserWarning: Update your `Conv1D` call to the Keras 2 API: `Conv1D(activation=\"relu\", filters=4, kernel_size=5)`\n"
          ],
          "name": "stderr"
        },
        {
          "output_type": "stream",
          "text": [
            "_________________________________________________________________\n",
            "Layer (type)                 Output Shape              Param #   \n",
            "=================================================================\n",
            "conv1d_3 (Conv1D)            (None, 16, 4)             24        \n",
            "_________________________________________________________________\n",
            "max_pooling1d_3 (MaxPooling1 (None, 8, 4)              0         \n",
            "_________________________________________________________________\n",
            "conv1d_4 (Conv1D)            (None, 4, 4)              84        \n",
            "_________________________________________________________________\n",
            "max_pooling1d_4 (MaxPooling1 (None, 2, 4)              0         \n",
            "_________________________________________________________________\n",
            "flatten_2 (Flatten)          (None, 8)                 0         \n",
            "_________________________________________________________________\n",
            "dense_2 (Dense)              (None, 1)                 9         \n",
            "=================================================================\n",
            "Total params: 117\n",
            "Trainable params: 117\n",
            "Non-trainable params: 0\n",
            "_________________________________________________________________\n",
            "None\n",
            "Train on 499 samples, validate on 301 samples\n",
            "Epoch 1/50\n",
            " - 4s - loss: 129.9854 - mean_absolute_error: 9.7028 - val_loss: 111.8274 - val_mean_absolute_error: 8.8970\n",
            "Epoch 2/50\n",
            " - 0s - loss: 103.7129 - mean_absolute_error: 8.5374 - val_loss: 91.6077 - val_mean_absolute_error: 7.8920\n",
            "Epoch 3/50\n",
            " - 0s - loss: 88.5178 - mean_absolute_error: 7.8176 - val_loss: 79.8410 - val_mean_absolute_error: 7.3324\n",
            "Epoch 4/50\n",
            " - 0s - loss: 79.2238 - mean_absolute_error: 7.3954 - val_loss: 71.9431 - val_mean_absolute_error: 6.9679\n",
            "Epoch 5/50\n",
            " - 0s - loss: 72.6320 - mean_absolute_error: 7.0952 - val_loss: 65.9849 - val_mean_absolute_error: 6.6832\n",
            "Epoch 6/50\n",
            " - 0s - loss: 67.4581 - mean_absolute_error: 6.8397 - val_loss: 61.1843 - val_mean_absolute_error: 6.4447\n",
            "Epoch 7/50\n",
            " - 0s - loss: 63.1229 - mean_absolute_error: 6.6292 - val_loss: 57.4182 - val_mean_absolute_error: 6.2421\n",
            "Epoch 8/50\n",
            " - 0s - loss: 59.5474 - mean_absolute_error: 6.4358 - val_loss: 54.3339 - val_mean_absolute_error: 6.0709\n",
            "Epoch 9/50\n",
            " - 0s - loss: 56.8099 - mean_absolute_error: 6.2826 - val_loss: 51.9638 - val_mean_absolute_error: 5.9237\n",
            "Epoch 10/50\n",
            " - 0s - loss: 54.8071 - mean_absolute_error: 6.1530 - val_loss: 50.3780 - val_mean_absolute_error: 5.8070\n",
            "Epoch 11/50\n",
            " - 0s - loss: 53.3655 - mean_absolute_error: 6.0609 - val_loss: 49.1930 - val_mean_absolute_error: 5.7164\n",
            "Epoch 12/50\n",
            " - 0s - loss: 52.2527 - mean_absolute_error: 5.9967 - val_loss: 48.1792 - val_mean_absolute_error: 5.6639\n",
            "Epoch 13/50\n",
            " - 0s - loss: 51.2021 - mean_absolute_error: 5.9330 - val_loss: 47.2241 - val_mean_absolute_error: 5.5747\n",
            "Epoch 14/50\n",
            " - 0s - loss: 50.1386 - mean_absolute_error: 5.8649 - val_loss: 46.2466 - val_mean_absolute_error: 5.5194\n",
            "Epoch 15/50\n",
            " - 0s - loss: 49.1439 - mean_absolute_error: 5.7981 - val_loss: 45.1868 - val_mean_absolute_error: 5.4423\n",
            "Epoch 16/50\n",
            " - 0s - loss: 48.0268 - mean_absolute_error: 5.7187 - val_loss: 44.2057 - val_mean_absolute_error: 5.3817\n",
            "Epoch 17/50\n",
            " - 0s - loss: 46.9151 - mean_absolute_error: 5.6420 - val_loss: 43.1451 - val_mean_absolute_error: 5.3152\n",
            "Epoch 18/50\n",
            " - 0s - loss: 45.7916 - mean_absolute_error: 5.5669 - val_loss: 41.9627 - val_mean_absolute_error: 5.2335\n",
            "Epoch 19/50\n",
            " - 0s - loss: 44.4868 - mean_absolute_error: 5.4954 - val_loss: 40.7042 - val_mean_absolute_error: 5.1628\n",
            "Epoch 20/50\n",
            " - 0s - loss: 43.1658 - mean_absolute_error: 5.4135 - val_loss: 39.4589 - val_mean_absolute_error: 5.0698\n",
            "Epoch 21/50\n",
            " - 0s - loss: 41.7650 - mean_absolute_error: 5.3326 - val_loss: 38.0177 - val_mean_absolute_error: 4.9821\n",
            "Epoch 22/50\n",
            " - 0s - loss: 40.2854 - mean_absolute_error: 5.2376 - val_loss: 36.4897 - val_mean_absolute_error: 4.8727\n",
            "Epoch 23/50\n",
            " - 0s - loss: 38.6825 - mean_absolute_error: 5.1216 - val_loss: 34.9737 - val_mean_absolute_error: 4.7582\n",
            "Epoch 24/50\n",
            " - 0s - loss: 36.9949 - mean_absolute_error: 5.0056 - val_loss: 33.3893 - val_mean_absolute_error: 4.6655\n",
            "Epoch 25/50\n",
            " - 0s - loss: 35.1413 - mean_absolute_error: 4.8882 - val_loss: 31.6026 - val_mean_absolute_error: 4.5473\n",
            "Epoch 26/50\n",
            " - 0s - loss: 33.3116 - mean_absolute_error: 4.7526 - val_loss: 29.8140 - val_mean_absolute_error: 4.4173\n",
            "Epoch 27/50\n",
            " - 0s - loss: 31.5253 - mean_absolute_error: 4.6355 - val_loss: 28.2311 - val_mean_absolute_error: 4.3103\n",
            "Epoch 28/50\n",
            " - 0s - loss: 29.8949 - mean_absolute_error: 4.5103 - val_loss: 26.6218 - val_mean_absolute_error: 4.1808\n",
            "Epoch 29/50\n",
            " - 0s - loss: 28.0972 - mean_absolute_error: 4.3798 - val_loss: 24.9763 - val_mean_absolute_error: 4.0615\n",
            "Epoch 30/50\n",
            " - 0s - loss: 26.3168 - mean_absolute_error: 4.2364 - val_loss: 23.2901 - val_mean_absolute_error: 3.9200\n",
            "Epoch 31/50\n",
            " - 0s - loss: 24.5192 - mean_absolute_error: 4.0847 - val_loss: 21.5914 - val_mean_absolute_error: 3.7739\n",
            "Epoch 32/50\n",
            " - 0s - loss: 22.7700 - mean_absolute_error: 3.9352 - val_loss: 19.7411 - val_mean_absolute_error: 3.6093\n",
            "Epoch 33/50\n",
            " - 0s - loss: 20.7583 - mean_absolute_error: 3.7594 - val_loss: 17.8968 - val_mean_absolute_error: 3.4372\n",
            "Epoch 34/50\n",
            " - 0s - loss: 18.8172 - mean_absolute_error: 3.5819 - val_loss: 16.0559 - val_mean_absolute_error: 3.2485\n",
            "Epoch 35/50\n",
            " - 0s - loss: 16.8502 - mean_absolute_error: 3.3887 - val_loss: 14.2179 - val_mean_absolute_error: 3.0609\n",
            "Epoch 36/50\n",
            " - 0s - loss: 15.0110 - mean_absolute_error: 3.2093 - val_loss: 12.3081 - val_mean_absolute_error: 2.8589\n",
            "Epoch 37/50\n",
            " - 0s - loss: 13.0368 - mean_absolute_error: 2.9878 - val_loss: 10.7228 - val_mean_absolute_error: 2.6543\n",
            "Epoch 38/50\n",
            " - 0s - loss: 11.4111 - mean_absolute_error: 2.8009 - val_loss: 9.1478 - val_mean_absolute_error: 2.4646\n",
            "Epoch 39/50\n",
            " - 0s - loss: 9.8345 - mean_absolute_error: 2.6103 - val_loss: 7.7990 - val_mean_absolute_error: 2.2773\n",
            "Epoch 40/50\n",
            " - 0s - loss: 8.5639 - mean_absolute_error: 2.4292 - val_loss: 6.7719 - val_mean_absolute_error: 2.1306\n",
            "Epoch 41/50\n",
            " - 0s - loss: 7.6084 - mean_absolute_error: 2.2820 - val_loss: 5.9759 - val_mean_absolute_error: 2.0056\n",
            "Epoch 42/50\n",
            " - 0s - loss: 6.8682 - mean_absolute_error: 2.1682 - val_loss: 5.3297 - val_mean_absolute_error: 1.9002\n",
            "Epoch 43/50\n",
            " - 0s - loss: 6.3313 - mean_absolute_error: 2.0815 - val_loss: 4.9000 - val_mean_absolute_error: 1.8165\n",
            "Epoch 44/50\n",
            " - 0s - loss: 5.9070 - mean_absolute_error: 1.9906 - val_loss: 4.6179 - val_mean_absolute_error: 1.7497\n",
            "Epoch 45/50\n",
            " - 0s - loss: 5.6087 - mean_absolute_error: 1.9424 - val_loss: 4.3373 - val_mean_absolute_error: 1.6969\n",
            "Epoch 46/50\n",
            " - 0s - loss: 5.3115 - mean_absolute_error: 1.8821 - val_loss: 4.1539 - val_mean_absolute_error: 1.6440\n",
            "Epoch 47/50\n",
            " - 0s - loss: 5.0458 - mean_absolute_error: 1.8359 - val_loss: 3.9328 - val_mean_absolute_error: 1.6002\n",
            "Epoch 48/50\n",
            " - 0s - loss: 4.8681 - mean_absolute_error: 1.8099 - val_loss: 3.8494 - val_mean_absolute_error: 1.5757\n",
            "Epoch 49/50\n",
            " - 0s - loss: 4.6477 - mean_absolute_error: 1.7610 - val_loss: 3.6704 - val_mean_absolute_error: 1.5448\n",
            "Epoch 50/50\n",
            " - 0s - loss: 4.5285 - mean_absolute_error: 1.7554 - val_loss: 3.5879 - val_mean_absolute_error: 1.5136\n"
          ],
          "name": "stdout"
        },
        {
          "output_type": "display_data",
          "data": {
            "image/png": "[encoded data removed]",
            "text/plain": [
              "<matplotlib.figure.Figure at 0x7fe507cd23c8>"
            ]
          },
          "metadata": {
            "tags": []
          }
        }
      ]
    },
    {
      "metadata": {
        "id": "SPm01W3LB4e0",
        "colab_type": "code",
        "outputId": "eb807a7c-0464-48ab-c314-c9d2339ccafe",
        "colab": {
          "base_uri": "https://localhost:8080/",
          "height": 2745
        }
      },
      "cell_type": "code",
      "source": [
        "eval_timeseries(x, window_size)"
      ],
      "execution_count": 0,
      "outputs": [
        {
          "output_type": "stream",
          "text": [
            "/usr/local/lib/python3.6/dist-packages/ipykernel_launcher.py:18: UserWarning: Update your `Conv1D` call to the Keras 2 API: `Conv1D(activation=\"relu\", input_shape=(20, 1), filters=4, kernel_size=5)`\n",
            "/usr/local/lib/python3.6/dist-packages/ipykernel_launcher.py:20: UserWarning: Update your `Conv1D` call to the Keras 2 API: `Conv1D(activation=\"relu\", filters=4, kernel_size=5)`\n"
          ],
          "name": "stderr"
        },
        {
          "output_type": "stream",
          "text": [
            "_________________________________________________________________\n",
            "Layer (type)                 Output Shape              Param #   \n",
            "=================================================================\n",
            "conv1d_5 (Conv1D)            (None, 16, 4)             24        \n",
            "_________________________________________________________________\n",
            "max_pooling1d_5 (MaxPooling1 (None, 8, 4)              0         \n",
            "_________________________________________________________________\n",
            "conv1d_6 (Conv1D)            (None, 4, 4)              84        \n",
            "_________________________________________________________________\n",
            "max_pooling1d_6 (MaxPooling1 (None, 2, 4)              0         \n",
            "_________________________________________________________________\n",
            "flatten_3 (Flatten)          (None, 8)                 0         \n",
            "_________________________________________________________________\n",
            "dense_3 (Dense)              (None, 1)                 9         \n",
            "=================================================================\n",
            "Total params: 117\n",
            "Trainable params: 117\n",
            "Non-trainable params: 0\n",
            "_________________________________________________________________\n",
            "None\n",
            "Train on 499 samples, validate on 301 samples\n",
            "Epoch 1/50\n",
            " - 1s - loss: 141.0100 - mean_absolute_error: 9.8499 - val_loss: 125.8294 - val_mean_absolute_error: 9.2996\n",
            "Epoch 2/50\n",
            " - 0s - loss: 121.3925 - mean_absolute_error: 9.1423 - val_loss: 109.7665 - val_mean_absolute_error: 8.7113\n",
            "Epoch 3/50\n",
            " - 0s - loss: 105.3085 - mean_absolute_error: 8.4905 - val_loss: 93.5912 - val_mean_absolute_error: 8.0535\n",
            "Epoch 4/50\n",
            " - 0s - loss: 88.8392 - mean_absolute_error: 7.7461 - val_loss: 77.3654 - val_mean_absolute_error: 7.3045\n",
            "Epoch 5/50\n",
            " - 0s - loss: 72.7568 - mean_absolute_error: 6.9388 - val_loss: 61.5481 - val_mean_absolute_error: 6.4474\n",
            "Epoch 6/50\n",
            " - 0s - loss: 58.6206 - mean_absolute_error: 6.1173 - val_loss: 47.0985 - val_mean_absolute_error: 5.5004\n",
            "Epoch 7/50\n",
            " - 0s - loss: 47.6285 - mean_absolute_error: 5.4832 - val_loss: 37.5919 - val_mean_absolute_error: 4.8178\n",
            "Epoch 8/50\n",
            " - 0s - loss: 41.3725 - mean_absolute_error: 5.1334 - val_loss: 32.5322 - val_mean_absolute_error: 4.4183\n",
            "Epoch 9/50\n",
            " - 0s - loss: 37.9612 - mean_absolute_error: 4.9487 - val_loss: 30.0594 - val_mean_absolute_error: 4.2335\n",
            "Epoch 10/50\n",
            " - 0s - loss: 35.5025 - mean_absolute_error: 4.8244 - val_loss: 28.6091 - val_mean_absolute_error: 4.1348\n",
            "Epoch 11/50\n",
            " - 0s - loss: 33.3713 - mean_absolute_error: 4.6833 - val_loss: 27.2832 - val_mean_absolute_error: 4.0185\n",
            "Epoch 12/50\n",
            " - 0s - loss: 31.5447 - mean_absolute_error: 4.5529 - val_loss: 26.0156 - val_mean_absolute_error: 3.9370\n",
            "Epoch 13/50\n",
            " - 0s - loss: 29.7861 - mean_absolute_error: 4.4306 - val_loss: 24.8270 - val_mean_absolute_error: 3.8554\n",
            "Epoch 14/50\n",
            " - 0s - loss: 28.0744 - mean_absolute_error: 4.2890 - val_loss: 23.9117 - val_mean_absolute_error: 3.7831\n",
            "Epoch 15/50\n",
            " - 0s - loss: 26.7458 - mean_absolute_error: 4.1760 - val_loss: 22.9792 - val_mean_absolute_error: 3.7194\n",
            "Epoch 16/50\n",
            " - 0s - loss: 25.4903 - mean_absolute_error: 4.0661 - val_loss: 22.1537 - val_mean_absolute_error: 3.6507\n",
            "Epoch 17/50\n",
            " - 0s - loss: 24.3659 - mean_absolute_error: 3.9840 - val_loss: 21.6819 - val_mean_absolute_error: 3.6232\n",
            "Epoch 18/50\n",
            " - 0s - loss: 23.3627 - mean_absolute_error: 3.8835 - val_loss: 20.6997 - val_mean_absolute_error: 3.5475\n",
            "Epoch 19/50\n",
            " - 0s - loss: 22.4613 - mean_absolute_error: 3.8077 - val_loss: 20.2379 - val_mean_absolute_error: 3.5140\n",
            "Epoch 20/50\n",
            " - 0s - loss: 21.7241 - mean_absolute_error: 3.7386 - val_loss: 19.6945 - val_mean_absolute_error: 3.4839\n",
            "Epoch 21/50\n",
            " - 0s - loss: 21.0519 - mean_absolute_error: 3.6789 - val_loss: 19.2711 - val_mean_absolute_error: 3.4590\n",
            "Epoch 22/50\n",
            " - 0s - loss: 20.4406 - mean_absolute_error: 3.6252 - val_loss: 18.8914 - val_mean_absolute_error: 3.4244\n",
            "Epoch 23/50\n",
            " - 0s - loss: 19.9530 - mean_absolute_error: 3.5838 - val_loss: 18.4482 - val_mean_absolute_error: 3.3982\n",
            "Epoch 24/50\n",
            " - 0s - loss: 19.4336 - mean_absolute_error: 3.5355 - val_loss: 18.2541 - val_mean_absolute_error: 3.3845\n",
            "Epoch 25/50\n",
            " - 0s - loss: 19.0116 - mean_absolute_error: 3.4989 - val_loss: 17.8646 - val_mean_absolute_error: 3.3498\n",
            "Epoch 26/50\n",
            " - 0s - loss: 18.5645 - mean_absolute_error: 3.4637 - val_loss: 17.4952 - val_mean_absolute_error: 3.3236\n",
            "Epoch 27/50\n",
            " - 0s - loss: 18.1324 - mean_absolute_error: 3.4289 - val_loss: 17.3147 - val_mean_absolute_error: 3.3054\n",
            "Epoch 28/50\n",
            " - 0s - loss: 17.7376 - mean_absolute_error: 3.3931 - val_loss: 16.9812 - val_mean_absolute_error: 3.2745\n",
            "Epoch 29/50\n",
            " - 0s - loss: 17.3894 - mean_absolute_error: 3.3605 - val_loss: 16.8184 - val_mean_absolute_error: 3.2639\n",
            "Epoch 30/50\n",
            " - 0s - loss: 17.0180 - mean_absolute_error: 3.3327 - val_loss: 16.5624 - val_mean_absolute_error: 3.2424\n",
            "Epoch 31/50\n",
            " - 0s - loss: 16.7854 - mean_absolute_error: 3.3074 - val_loss: 16.2934 - val_mean_absolute_error: 3.2125\n",
            "Epoch 32/50\n",
            " - 0s - loss: 16.4071 - mean_absolute_error: 3.2795 - val_loss: 16.2013 - val_mean_absolute_error: 3.2078\n",
            "Epoch 33/50\n",
            " - 0s - loss: 16.2374 - mean_absolute_error: 3.2692 - val_loss: 15.9901 - val_mean_absolute_error: 3.1888\n",
            "Epoch 34/50\n",
            " - 0s - loss: 15.8662 - mean_absolute_error: 3.2333 - val_loss: 15.9356 - val_mean_absolute_error: 3.1845\n",
            "Epoch 35/50\n",
            " - 0s - loss: 15.6843 - mean_absolute_error: 3.2193 - val_loss: 15.7642 - val_mean_absolute_error: 3.1717\n",
            "Epoch 36/50\n",
            " - 0s - loss: 15.4578 - mean_absolute_error: 3.1932 - val_loss: 15.6768 - val_mean_absolute_error: 3.1646\n",
            "Epoch 37/50\n",
            " - 0s - loss: 15.2939 - mean_absolute_error: 3.1729 - val_loss: 15.5672 - val_mean_absolute_error: 3.1565\n",
            "Epoch 38/50\n",
            " - 0s - loss: 15.2051 - mean_absolute_error: 3.1738 - val_loss: 15.5279 - val_mean_absolute_error: 3.1513\n",
            "Epoch 39/50\n",
            " - 0s - loss: 14.9492 - mean_absolute_error: 3.1465 - val_loss: 15.3686 - val_mean_absolute_error: 3.1377\n",
            "Epoch 40/50\n",
            " - 0s - loss: 14.8687 - mean_absolute_error: 3.1414 - val_loss: 15.3255 - val_mean_absolute_error: 3.1298\n",
            "Epoch 41/50\n",
            " - 0s - loss: 14.6794 - mean_absolute_error: 3.1221 - val_loss: 15.2813 - val_mean_absolute_error: 3.1266\n",
            "Epoch 42/50\n",
            " - 0s - loss: 14.5617 - mean_absolute_error: 3.1100 - val_loss: 15.2304 - val_mean_absolute_error: 3.1262\n",
            "Epoch 43/50\n",
            " - 0s - loss: 14.5220 - mean_absolute_error: 3.1087 - val_loss: 15.1249 - val_mean_absolute_error: 3.1131\n",
            "Epoch 44/50\n",
            " - 0s - loss: 14.3826 - mean_absolute_error: 3.0917 - val_loss: 15.1151 - val_mean_absolute_error: 3.1102\n",
            "Epoch 45/50\n",
            " - 0s - loss: 14.3257 - mean_absolute_error: 3.0937 - val_loss: 15.0919 - val_mean_absolute_error: 3.1138\n",
            "Epoch 46/50\n",
            " - 0s - loss: 14.2415 - mean_absolute_error: 3.0793 - val_loss: 15.0765 - val_mean_absolute_error: 3.1088\n",
            "Epoch 47/50\n",
            " - 0s - loss: 14.1245 - mean_absolute_error: 3.0660 - val_loss: 15.0693 - val_mean_absolute_error: 3.1015\n",
            "Epoch 48/50\n",
            " - 0s - loss: 14.0870 - mean_absolute_error: 3.0664 - val_loss: 14.9511 - val_mean_absolute_error: 3.0995\n",
            "Epoch 49/50\n",
            " - 0s - loss: 14.0008 - mean_absolute_error: 3.0618 - val_loss: 14.9215 - val_mean_absolute_error: 3.0928\n",
            "Epoch 50/50\n",
            " - 0s - loss: 13.9620 - mean_absolute_error: 3.0521 - val_loss: 14.9231 - val_mean_absolute_error: 3.0955\n"
          ],
          "name": "stdout"
        },
        {
          "output_type": "display_data",
          "data": {
            "image/png": "[encoded data removed]",
            "text/plain": [
              "<matplotlib.figure.Figure at 0x7fe5026d69b0>"
            ]
          },
          "metadata": {
            "tags": []
          }
        }
      ]
    },
    {
      "metadata": {
        "id": "Zxy1HPCWDCYV",
        "colab_type": "code",
        "outputId": "3d477432-06ec-40c8-c0bd-8906b3dceb27",
        "colab": {
          "base_uri": "https://localhost:8080/",
          "height": 2764
        }
      },
      "cell_type": "code",
      "source": [
        "eval_timeseries(x, window_size)"
      ],
      "execution_count": 0,
      "outputs": [
        {
          "output_type": "stream",
          "text": [
            "/usr/local/lib/python3.6/dist-packages/ipykernel_launcher.py:18: UserWarning: Update your `Conv1D` call to the Keras 2 API: `Conv1D(activation=\"relu\", input_shape=(20, 1), filters=4, kernel_size=5)`\n",
            "/usr/local/lib/python3.6/dist-packages/ipykernel_launcher.py:20: UserWarning: Update your `Conv1D` call to the Keras 2 API: `Conv1D(activation=\"relu\", filters=4, kernel_size=5)`\n"
          ],
          "name": "stderr"
        },
        {
          "output_type": "stream",
          "text": [
            "_________________________________________________________________\n",
            "Layer (type)                 Output Shape              Param #   \n",
            "=================================================================\n",
            "conv1d_7 (Conv1D)            (None, 16, 4)             24        \n",
            "_________________________________________________________________\n",
            "max_pooling1d_7 (MaxPooling1 (None, 8, 4)              0         \n",
            "_________________________________________________________________\n",
            "conv1d_8 (Conv1D)            (None, 4, 4)              84        \n",
            "_________________________________________________________________\n",
            "max_pooling1d_8 (MaxPooling1 (None, 2, 4)              0         \n",
            "_________________________________________________________________\n",
            "flatten_4 (Flatten)          (None, 8)                 0         \n",
            "_________________________________________________________________\n",
            "dense_4 (Dense)              (None, 1)                 9         \n",
            "=================================================================\n",
            "Total params: 117\n",
            "Trainable params: 117\n",
            "Non-trainable params: 0\n",
            "_________________________________________________________________\n",
            "None\n",
            "Train on 499 samples, validate on 301 samples\n",
            "Epoch 1/50\n",
            " - 1s - loss: 176.7511 - mean_absolute_error: 11.0000 - val_loss: 131.7783 - val_mean_absolute_error: 9.3101\n",
            "Epoch 2/50\n",
            " - 0s - loss: 160.9485 - mean_absolute_error: 10.5309 - val_loss: 121.1163 - val_mean_absolute_error: 8.9075\n",
            "Epoch 3/50\n",
            " - 0s - loss: 148.6055 - mean_absolute_error: 10.1282 - val_loss: 113.1230 - val_mean_absolute_error: 8.6366\n",
            "Epoch 4/50\n",
            " - 0s - loss: 139.8333 - mean_absolute_error: 9.8681 - val_loss: 107.6135 - val_mean_absolute_error: 8.5051\n",
            "Epoch 5/50\n",
            " - 0s - loss: 132.8230 - mean_absolute_error: 9.6136 - val_loss: 104.4027 - val_mean_absolute_error: 8.4454\n",
            "Epoch 6/50\n",
            " - 0s - loss: 128.2936 - mean_absolute_error: 9.4498 - val_loss: 102.7952 - val_mean_absolute_error: 8.4514\n",
            "Epoch 7/50\n",
            " - 0s - loss: 124.7792 - mean_absolute_error: 9.3090 - val_loss: 102.2707 - val_mean_absolute_error: 8.4702\n",
            "Epoch 8/50\n",
            " - 0s - loss: 122.9694 - mean_absolute_error: 9.2417 - val_loss: 102.2446 - val_mean_absolute_error: 8.4958\n",
            "Epoch 9/50\n",
            " - 0s - loss: 121.3448 - mean_absolute_error: 9.1757 - val_loss: 101.9894 - val_mean_absolute_error: 8.4825\n",
            "Epoch 10/50\n",
            " - 0s - loss: 120.4894 - mean_absolute_error: 9.1434 - val_loss: 102.0016 - val_mean_absolute_error: 8.4863\n",
            "Epoch 11/50\n",
            " - 0s - loss: 119.6693 - mean_absolute_error: 9.1182 - val_loss: 101.7071 - val_mean_absolute_error: 8.4736\n",
            "Epoch 12/50\n",
            " - 0s - loss: 119.0581 - mean_absolute_error: 9.0969 - val_loss: 101.5445 - val_mean_absolute_error: 8.4779\n",
            "Epoch 13/50\n",
            " - 0s - loss: 118.3814 - mean_absolute_error: 9.0837 - val_loss: 101.3349 - val_mean_absolute_error: 8.4590\n",
            "Epoch 14/50\n",
            " - 0s - loss: 117.7154 - mean_absolute_error: 9.0622 - val_loss: 100.6359 - val_mean_absolute_error: 8.4319\n",
            "Epoch 15/50\n",
            " - 0s - loss: 117.2419 - mean_absolute_error: 9.0415 - val_loss: 100.5092 - val_mean_absolute_error: 8.4221\n",
            "Epoch 16/50\n",
            " - 0s - loss: 116.6678 - mean_absolute_error: 9.0232 - val_loss: 100.0659 - val_mean_absolute_error: 8.4056\n",
            "Epoch 17/50\n",
            " - 0s - loss: 116.1390 - mean_absolute_error: 9.0069 - val_loss: 100.2422 - val_mean_absolute_error: 8.4210\n",
            "Epoch 18/50\n",
            " - 0s - loss: 115.6926 - mean_absolute_error: 8.9952 - val_loss: 100.2241 - val_mean_absolute_error: 8.4188\n",
            "Epoch 19/50\n",
            " - 0s - loss: 115.2238 - mean_absolute_error: 8.9768 - val_loss: 99.7859 - val_mean_absolute_error: 8.4016\n",
            "Epoch 20/50\n",
            " - 0s - loss: 114.6886 - mean_absolute_error: 8.9593 - val_loss: 99.6336 - val_mean_absolute_error: 8.3983\n",
            "Epoch 21/50\n",
            " - 0s - loss: 114.3335 - mean_absolute_error: 8.9505 - val_loss: 99.3464 - val_mean_absolute_error: 8.3952\n",
            "Epoch 22/50\n",
            " - 0s - loss: 114.0777 - mean_absolute_error: 8.9407 - val_loss: 98.8748 - val_mean_absolute_error: 8.3744\n",
            "Epoch 23/50\n",
            " - 0s - loss: 113.1392 - mean_absolute_error: 8.9041 - val_loss: 99.2071 - val_mean_absolute_error: 8.3993\n",
            "Epoch 24/50\n",
            " - 0s - loss: 113.2108 - mean_absolute_error: 8.9074 - val_loss: 98.9923 - val_mean_absolute_error: 8.3905\n",
            "Epoch 25/50\n",
            " - 0s - loss: 112.1951 - mean_absolute_error: 8.8636 - val_loss: 98.6074 - val_mean_absolute_error: 8.3776\n",
            "Epoch 26/50\n",
            " - 0s - loss: 111.7265 - mean_absolute_error: 8.8533 - val_loss: 98.2174 - val_mean_absolute_error: 8.3574\n",
            "Epoch 27/50\n",
            " - 0s - loss: 111.4798 - mean_absolute_error: 8.8397 - val_loss: 98.0383 - val_mean_absolute_error: 8.3582\n",
            "Epoch 28/50\n",
            " - 0s - loss: 111.1160 - mean_absolute_error: 8.8293 - val_loss: 98.0560 - val_mean_absolute_error: 8.3617\n",
            "Epoch 29/50\n",
            " - 0s - loss: 110.4838 - mean_absolute_error: 8.7995 - val_loss: 97.9718 - val_mean_absolute_error: 8.3633\n",
            "Epoch 30/50\n",
            " - 0s - loss: 110.2045 - mean_absolute_error: 8.7921 - val_loss: 97.7437 - val_mean_absolute_error: 8.3513\n",
            "Epoch 31/50\n",
            " - 0s - loss: 109.8494 - mean_absolute_error: 8.7761 - val_loss: 97.4157 - val_mean_absolute_error: 8.3409\n",
            "Epoch 32/50\n",
            " - 0s - loss: 109.4118 - mean_absolute_error: 8.7587 - val_loss: 97.5141 - val_mean_absolute_error: 8.3484\n",
            "Epoch 33/50\n",
            " - 0s - loss: 109.1973 - mean_absolute_error: 8.7483 - val_loss: 97.3920 - val_mean_absolute_error: 8.3447\n",
            "Epoch 34/50\n",
            " - 0s - loss: 108.8631 - mean_absolute_error: 8.7363 - val_loss: 97.2476 - val_mean_absolute_error: 8.3411\n",
            "Epoch 35/50\n",
            " - 0s - loss: 108.5119 - mean_absolute_error: 8.7201 - val_loss: 96.9572 - val_mean_absolute_error: 8.3312\n",
            "Epoch 36/50\n",
            " - 0s - loss: 108.2824 - mean_absolute_error: 8.7131 - val_loss: 96.8706 - val_mean_absolute_error: 8.3318\n",
            "Epoch 37/50\n",
            " - 0s - loss: 108.0349 - mean_absolute_error: 8.6998 - val_loss: 97.1930 - val_mean_absolute_error: 8.3463\n",
            "Epoch 38/50\n",
            " - 0s - loss: 107.8089 - mean_absolute_error: 8.6897 - val_loss: 96.4543 - val_mean_absolute_error: 8.3180\n",
            "Epoch 39/50\n",
            " - 0s - loss: 107.3882 - mean_absolute_error: 8.6743 - val_loss: 96.5338 - val_mean_absolute_error: 8.3227\n",
            "Epoch 40/50\n",
            " - 0s - loss: 107.3906 - mean_absolute_error: 8.6693 - val_loss: 96.7470 - val_mean_absolute_error: 8.3278\n",
            "Epoch 41/50\n",
            " - 0s - loss: 106.9263 - mean_absolute_error: 8.6536 - val_loss: 96.6318 - val_mean_absolute_error: 8.3334\n",
            "Epoch 42/50\n",
            " - 0s - loss: 106.7463 - mean_absolute_error: 8.6495 - val_loss: 95.9958 - val_mean_absolute_error: 8.3022\n",
            "Epoch 43/50\n",
            " - 0s - loss: 106.6145 - mean_absolute_error: 8.6439 - val_loss: 95.8412 - val_mean_absolute_error: 8.2943\n",
            "Epoch 44/50\n",
            " - 0s - loss: 106.4564 - mean_absolute_error: 8.6344 - val_loss: 96.4603 - val_mean_absolute_error: 8.3295\n",
            "Epoch 45/50\n",
            " - 0s - loss: 106.3105 - mean_absolute_error: 8.6267 - val_loss: 95.9239 - val_mean_absolute_error: 8.3022\n",
            "Epoch 46/50\n",
            " - 0s - loss: 106.0464 - mean_absolute_error: 8.6200 - val_loss: 96.1436 - val_mean_absolute_error: 8.3188\n",
            "Epoch 47/50\n",
            " - 0s - loss: 105.9170 - mean_absolute_error: 8.6168 - val_loss: 96.1340 - val_mean_absolute_error: 8.3206\n",
            "Epoch 48/50\n",
            " - 0s - loss: 105.6337 - mean_absolute_error: 8.5993 - val_loss: 96.1544 - val_mean_absolute_error: 8.3225\n",
            "Epoch 49/50\n",
            " - 0s - loss: 105.5047 - mean_absolute_error: 8.5880 - val_loss: 95.7482 - val_mean_absolute_error: 8.3042\n",
            "Epoch 50/50\n",
            " - 0s - loss: 105.4121 - mean_absolute_error: 8.5866 - val_loss: 95.5052 - val_mean_absolute_error: 8.2924\n"
          ],
          "name": "stdout"
        },
        {
          "output_type": "display_data",
          "data": {
            "image/png": "[encoded data removed]",
            "text/plain": [
              "<matplotlib.figure.Figure at 0x7fe50213f828>"
            ]
          },
          "metadata": {
            "tags": []
          }
        }
      ]
    },
    {
      "metadata": {
        "id": "Ajtvbh3ul58d",
        "colab_type": "text"
      },
      "cell_type": "markdown",
      "source": [
        "# 2018.10.18.\n"
      ]
    },
    {
      "metadata": {
        "id": "YlZbNuYpmBi4",
        "colab_type": "code",
        "outputId": "cd199eac-34ee-4a91-da8d-226917be81db",
        "colab": {
          "base_uri": "https://localhost:8080/",
          "height": 34
        }
      },
      "cell_type": "code",
      "source": [
        "from keras.datasets import mnist\n",
        "from keras.utils import np_utils\n",
        "\n",
        "(x_train, y_train), (x_test, y_test) = mnist.load_data()"
      ],
      "execution_count": 0,
      "outputs": [
        {
          "output_type": "stream",
          "text": [
            "Using TensorFlow backend.\n"
          ],
          "name": "stderr"
        }
      ]
    },
    {
      "metadata": {
        "id": "Y25GaFu1tJcM",
        "colab_type": "code",
        "colab": {}
      },
      "cell_type": "code",
      "source": [
        "x_train = x_train.reshape(-1,28*28)\n",
        "x_test = x_test.reshape(-1,28*28)"
      ],
      "execution_count": 0,
      "outputs": []
    },
    {
      "metadata": {
        "id": "NgmFx5nFtQO6",
        "colab_type": "code",
        "colab": {}
      },
      "cell_type": "code",
      "source": [
        "x_train = x_train.astype(\"float32\")\n",
        "x_test = x_test.astype(\"float32\")"
      ],
      "execution_count": 0,
      "outputs": []
    },
    {
      "metadata": {
        "id": "rXm8EdFBmCG3",
        "colab_type": "code",
        "colab": {}
      },
      "cell_type": "code",
      "source": [
        "x_train = x_train / 255\n",
        "x_test = x_test / 255"
      ],
      "execution_count": 0,
      "outputs": []
    },
    {
      "metadata": {
        "id": "fXQ2Ms3nmDF8",
        "colab_type": "code",
        "colab": {}
      },
      "cell_type": "code",
      "source": [
        "y_train = y_train.reshape(-1,1)\n",
        "y_test = y_test.reshape(-1,1)\n",
        "\n"
      ],
      "execution_count": 0,
      "outputs": []
    },
    {
      "metadata": {
        "id": "TIyfvB3Rtr1p",
        "colab_type": "code",
        "colab": {}
      },
      "cell_type": "code",
      "source": [
        "y_train = np_utils.to_categorical(y_train, 10)\n",
        "y_test = np_utils.to_categorical(y_test, 10)\n",
        "batch_size=128\n"
      ],
      "execution_count": 0,
      "outputs": []
    },
    {
      "metadata": {
        "id": "WTRzKyWpmHtf",
        "colab_type": "code",
        "outputId": "916750e9-d37c-41ce-e69b-7669fee4d194",
        "colab": {
          "base_uri": "https://localhost:8080/",
          "height": 54
        }
      },
      "cell_type": "code",
      "source": [
        "'''\n",
        "import tensorflow as tf\n",
        "sess = tf.Session()\n",
        "# bemenet és kimenet definiálása\n",
        "x = tf.placeholder(tf.float32, shape=[None, x_train.shape[-1]])\n",
        "y_ = tf.placeholder(tf.float32, shape=[None, y_train.shape[-1]])\n",
        "# a súlymátrixa és bias vektor definiálása\n",
        "W = tf.Variable(tf.zeros([x_train.shape[-1],10]))\n",
        "b = tf.Variable(tf.zeros([y_train.shape[-1]]))\n",
        "# inicializálás\n",
        "sess.run(tf.global_variables_initializer())\n",
        "# a regresszió létrehozása\n",
        "y = tf.nn.softmax(tf.matmul(x,W) + b)\n",
        "# a költségfüggvény megadása\n",
        "cross_entropy = tf.reduce_mean(-tf.reduce_sum(y_ * tf.log(y), reduction_indices=[1]))\n",
        "# optimációs algoritmus megadása \n",
        "train_step = tf.train.GradientDescentOptimizer(0.5).minimize(cross_entropy)\n",
        "# tanítás 1000 epoch, batch_size batch méret\n",
        "batch_counter=0\n",
        "for i in range(1000):\n",
        "    train_step.run(session=sess, feed_dict={x: x_train[batch_counter*batch_size:(batch_counter+1)*batch_size], y_: y_train[batch_counter*batch_size:(batch_counter+1)*batch_size]})\n",
        "    batch_counter=batch_counter+1\n",
        "    if (batch_counter*batch_size > len(x_train)):\n",
        "        batch_counter=0\n",
        "'''"
      ],
      "execution_count": 0,
      "outputs": [
        {
          "output_type": "execute_result",
          "data": {
            "text/plain": [
              "'\\nimport tensorflow as tf\\nsess = tf.Session()\\n# bemenet és kimenet definiálása\\nx = tf.placeholder(tf.float32, shape=[None, x_train.shape[-1]])\\ny_ = tf.placeholder(tf.float32, shape=[None, y_train.shape[-1]])\\n# a súlymátrixa és bias vektor definiálása\\nW = tf.Variable(tf.zeros([x_train.shape[-1],10]))\\nb = tf.Variable(tf.zeros([y_train.shape[-1]]))\\n# inicializálás\\nsess.run(tf.global_variables_initializer())\\n# a regresszió létrehozása\\ny = tf.nn.softmax(tf.matmul(x,W) + b)\\n# a költségfüggvény megadása\\ncross_entropy = tf.reduce_mean(-tf.reduce_sum(y_ * tf.log(y), reduction_indices=[1]))\\n# optimációs algoritmus megadása \\ntrain_step = tf.train.GradientDescentOptimizer(0.5).minimize(cross_entropy)\\n# tanítás 1000 epoch, batch_size batch méret\\nbatch_counter=0\\nfor i in range(1000):\\n    train_step.run(session=sess, feed_dict={x: x_train[batch_counter*batch_size:(batch_counter+1)*batch_size], y_: y_train[batch_counter*batch_size:(batch_counter+1)*batch_size]})\\n    batch_counter=batch_counter+1\\n    if (batch_counter*batch_size > len(x_train)):\\n        batch_counter=0\\n'"
            ]
          },
          "metadata": {
            "tags": []
          },
          "execution_count": 7
        }
      ]
    },
    {
      "metadata": {
        "id": "WwSFtEnTmJKJ",
        "colab_type": "code",
        "outputId": "e43cc293-e57c-442c-80c6-12e6247941a1",
        "colab": {
          "base_uri": "https://localhost:8080/",
          "height": 34
        }
      },
      "cell_type": "code",
      "source": [
        "'''\n",
        "# ez megadja, hogy hányszor találtuk el \n",
        "# (az argmax megadja a legnagyobb értékhez tartozó indexet a második paraméter dimenziójában)\n",
        "correct_prediction = tf.equal(tf.argmax(y,1), tf.argmax(y_,1))\n",
        "# ez pedig kitszámolja ezek átlagát\n",
        "accuracy = tf.reduce_mean(tf.cast(correct_prediction, tf.float32))\n",
        "# most pedig lefuttatjuk a teszt képekre\n",
        "print(accuracy.eval(session=sess, feed_dict={x: x_test, y_: y_test}))\n",
        "'''"
      ],
      "execution_count": 0,
      "outputs": [
        {
          "output_type": "stream",
          "text": [
            "0.9139\n"
          ],
          "name": "stdout"
        }
      ]
    },
    {
      "metadata": {
        "id": "aE3bC9TVykiM",
        "colab_type": "text"
      },
      "cell_type": "markdown",
      "source": [
        "# convnet\n"
      ]
    },
    {
      "metadata": {
        "id": "T1TODTrGnQ19",
        "colab_type": "code",
        "colab": {}
      },
      "cell_type": "code",
      "source": [
        "import tensorflow as tf \n",
        "\n",
        "sess = tf.Session()\n",
        "\n",
        "def weight_variable(shape):\n",
        "  initial = tf.truncated_normal(shape, stddev = 0.1, mean=0.2, name='weights')\n",
        "  return tf.Variable(initial)\n",
        "\n",
        "def bias_variable(shape):\n",
        "  initial = tf.constant(0.2, shape=shape)\n",
        "  return tf.Variable(initial)\n",
        "\n",
        "def conv2d(x, W, name):\n",
        "  return tf.nn.conv2d(x, W, strides=[1,1,1,1], padding='SAME', name=name)\n",
        "\n",
        "def max_pool_2x2(x):\n",
        "  return tf.nn.max_pool(x, ksize=[1,2,2,1], strides=[1,2,2,1], padding='SAME')"
      ],
      "execution_count": 0,
      "outputs": []
    },
    {
      "metadata": {
        "id": "KCUasp7lnRTU",
        "colab_type": "code",
        "colab": {}
      },
      "cell_type": "code",
      "source": [
        "# bemenet és kimenet definiálása\n",
        "x = tf.placeholder(tf.float32, shape=[None, x_train.shape[-1]])\n",
        "y_ = tf.placeholder(tf.float32, shape=[None, y_train.shape[-1]])\n",
        "\n",
        "# convnet osszerakasa\n",
        "\n",
        "x_image = tf.reshape(x, [-1,28,28,1])\n",
        "\n",
        "# 1@28x28, f:5x5@32....\n",
        "W_conv1 = weight_variable([5,5,1,32])\n",
        "b_conv1 = bias_variable([32])\n",
        "h_conv1 = tf.nn.sigmoid(conv2d(x_image, W_conv1, \"h_conv1\")+b_conv1) # 1@28x28->28x28@32\n",
        "h_pool1 = max_pool_2x2(h_conv1) # 28x28->14x14\n",
        "\n",
        "# 32@14x14, f: 5x5@64\n",
        "W_conv2 = weight_variable([5,5,32,64])\n",
        "b_conv2 = bias_variable([64])\n",
        "h_conv2 = tf.nn.relu(conv2d(h_pool1, W_conv2, \"h_conv2\")+b_conv2)\n",
        "h_pool2 = max_pool_2x2(h_conv2) # 14x14->7x7  (@64)\n",
        "\n",
        "# fully connected\n",
        "W_fc1 = weight_variable([7*7*64,1024])\n",
        "b_fc1 = bias_variable([1024])\n",
        "\n",
        "h_flat = tf.reshape(h_pool2, [-1, 7*7*64])\n",
        "h_fc1 = tf.nn.relu(tf.matmul(h_flat, W_fc1)+b_fc1)\n",
        "\n",
        "# dropout\n",
        "keep_prob = tf.placeholder(tf.float32)\n",
        "h_fc1_drop = tf.nn.dropout(h_fc1, keep_prob)\n",
        "\n",
        "# kimeneti softmax layer\n",
        "\n",
        "W_fc2 = weight_variable([1024,10])\n",
        "b_fc2 = bias_variable([10])\n",
        "\n",
        "y_conv = tf.nn.softmax(tf.matmul(h_fc1_drop, W_fc2)+b_fc2)\n",
        "\n",
        "\n",
        "\n"
      ],
      "execution_count": 0,
      "outputs": []
    },
    {
      "metadata": {
        "id": "fB5clwjQnRQS",
        "colab_type": "code",
        "colab": {}
      },
      "cell_type": "code",
      "source": [
        "cross_entropy = tf.reduce_mean(-tf.reduce_sum(y_ * tf.log(y_conv), reduction_indices=[1]))\n",
        "# optimációs algoritmus megadása \n",
        "train_step = tf.train.AdamOptimizer(1e-4).minimize(cross_entropy)\n",
        "correct_prediction = tf.equal(tf.argmax(y_conv,1), tf.argmax(y_,1))\n",
        "accuracy = tf.reduce_mean(tf.cast(correct_prediction, tf.float32) )\n"
      ],
      "execution_count": 0,
      "outputs": []
    },
    {
      "metadata": {
        "id": "NnVo84LInROI",
        "colab_type": "code",
        "colab": {}
      },
      "cell_type": "code",
      "source": [
        "sess.run(tf.global_variables_initializer())\n",
        "batch_counter=0"
      ],
      "execution_count": 0,
      "outputs": []
    },
    {
      "metadata": {
        "id": "S2Ce5fgSnRLw",
        "colab_type": "code",
        "outputId": "468acfe2-19ab-498b-be81-5d7ed8354c0d",
        "colab": {
          "base_uri": "https://localhost:8080/",
          "height": 1368
        }
      },
      "cell_type": "code",
      "source": [
        "for i in range(1000):\n",
        "    if i%100==0:\n",
        "      train_acc = accuracy.eval(session=sess, feed_dict={x: x_train[batch_counter*batch_size:(batch_counter+1)*batch_size], y_: y_train[batch_counter*batch_size:(batch_counter+1)*batch_size], keep_prob: 1})\n",
        "      print(i,'step, train accuracy on minibatch: ',train_acc)\n",
        "  \n",
        "    train_step.run(session=sess, feed_dict={x: x_train[batch_counter*batch_size:(batch_counter+1)*batch_size], y_: y_train[batch_counter*batch_size:(batch_counter+1)*batch_size], keep_prob: 0.5})\n",
        "    batch_counter=batch_counter+1\n",
        "    if (batch_counter*batch_size > len(x_train)):\n",
        "        batch_counter=0\n",
        "      \n",
        "print(\"test acc: %f\" % accuracy.eval(session=sess, feed_dict={x: x_test, y_: y_test, keep_prob: 1}))\n"
      ],
      "execution_count": 0,
      "outputs": [
        {
          "output_type": "stream",
          "text": [
            "0 step, train accuracy on minibatch:  0.1015625\n",
            "100 step, train accuracy on minibatch:  0.078125\n",
            "200 step, train accuracy on minibatch:  0.078125\n",
            "300 step, train accuracy on minibatch:  0.1171875\n",
            "400 step, train accuracy on minibatch:  0.1171875\n",
            "500 step, train accuracy on minibatch:  0.0703125\n",
            "600 step, train accuracy on minibatch:  0.0546875\n",
            "700 step, train accuracy on minibatch:  0.1015625\n",
            "800 step, train accuracy on minibatch:  0.09375\n"
          ],
          "name": "stdout"
        },
        {
          "output_type": "error",
          "ename": "KeyboardInterrupt",
          "evalue": "ignored",
          "traceback": [
            "\u001b[0;31m---------------------------------------------------------------------------\u001b[0m",
            "\u001b[0;31mKeyboardInterrupt\u001b[0m                         Traceback (most recent call last)",
            "\u001b[0;32m<ipython-input-23-d0659219d790>\u001b[0m in \u001b[0;36m<module>\u001b[0;34m()\u001b[0m\n\u001b[1;32m      4\u001b[0m       \u001b[0mprint\u001b[0m\u001b[0;34m(\u001b[0m\u001b[0mi\u001b[0m\u001b[0;34m,\u001b[0m\u001b[0;34m'step, train accuracy on minibatch: '\u001b[0m\u001b[0;34m,\u001b[0m\u001b[0mtrain_acc\u001b[0m\u001b[0;34m)\u001b[0m\u001b[0;34m\u001b[0m\u001b[0m\n\u001b[1;32m      5\u001b[0m \u001b[0;34m\u001b[0m\u001b[0m\n\u001b[0;32m----> 6\u001b[0;31m     \u001b[0mtrain_step\u001b[0m\u001b[0;34m.\u001b[0m\u001b[0mrun\u001b[0m\u001b[0;34m(\u001b[0m\u001b[0msession\u001b[0m\u001b[0;34m=\u001b[0m\u001b[0msess\u001b[0m\u001b[0;34m,\u001b[0m \u001b[0mfeed_dict\u001b[0m\u001b[0;34m=\u001b[0m\u001b[0;34m{\u001b[0m\u001b[0mx\u001b[0m\u001b[0;34m:\u001b[0m \u001b[0mx_train\u001b[0m\u001b[0;34m[\u001b[0m\u001b[0mbatch_counter\u001b[0m\u001b[0;34m*\u001b[0m\u001b[0mbatch_size\u001b[0m\u001b[0;34m:\u001b[0m\u001b[0;34m(\u001b[0m\u001b[0mbatch_counter\u001b[0m\u001b[0;34m+\u001b[0m\u001b[0;36m1\u001b[0m\u001b[0;34m)\u001b[0m\u001b[0;34m*\u001b[0m\u001b[0mbatch_size\u001b[0m\u001b[0;34m]\u001b[0m\u001b[0;34m,\u001b[0m \u001b[0my_\u001b[0m\u001b[0;34m:\u001b[0m \u001b[0my_train\u001b[0m\u001b[0;34m[\u001b[0m\u001b[0mbatch_counter\u001b[0m\u001b[0;34m*\u001b[0m\u001b[0mbatch_size\u001b[0m\u001b[0;34m:\u001b[0m\u001b[0;34m(\u001b[0m\u001b[0mbatch_counter\u001b[0m\u001b[0;34m+\u001b[0m\u001b[0;36m1\u001b[0m\u001b[0;34m)\u001b[0m\u001b[0;34m*\u001b[0m\u001b[0mbatch_size\u001b[0m\u001b[0;34m]\u001b[0m\u001b[0;34m,\u001b[0m \u001b[0mkeep_prob\u001b[0m\u001b[0;34m:\u001b[0m \u001b[0;36m0.5\u001b[0m\u001b[0;34m}\u001b[0m\u001b[0;34m)\u001b[0m\u001b[0;34m\u001b[0m\u001b[0m\n\u001b[0m\u001b[1;32m      7\u001b[0m     \u001b[0mbatch_counter\u001b[0m\u001b[0;34m=\u001b[0m\u001b[0mbatch_counter\u001b[0m\u001b[0;34m+\u001b[0m\u001b[0;36m1\u001b[0m\u001b[0;34m\u001b[0m\u001b[0m\n\u001b[1;32m      8\u001b[0m     \u001b[0;32mif\u001b[0m \u001b[0;34m(\u001b[0m\u001b[0mbatch_counter\u001b[0m\u001b[0;34m*\u001b[0m\u001b[0mbatch_size\u001b[0m \u001b[0;34m>\u001b[0m \u001b[0mlen\u001b[0m\u001b[0;34m(\u001b[0m\u001b[0mx_train\u001b[0m\u001b[0;34m)\u001b[0m\u001b[0;34m)\u001b[0m\u001b[0;34m:\u001b[0m\u001b[0;34m\u001b[0m\u001b[0m\n",
            "\u001b[0;32m/usr/local/lib/python3.6/dist-packages/tensorflow/python/framework/ops.py\u001b[0m in \u001b[0;36mrun\u001b[0;34m(self, feed_dict, session)\u001b[0m\n\u001b[1;32m   2364\u001b[0m         \u001b[0mnone\u001b[0m\u001b[0;34m,\u001b[0m \u001b[0mthe\u001b[0m \u001b[0mdefault\u001b[0m \u001b[0msession\u001b[0m \u001b[0mwill\u001b[0m \u001b[0mbe\u001b[0m \u001b[0mused\u001b[0m\u001b[0;34m.\u001b[0m\u001b[0;34m\u001b[0m\u001b[0m\n\u001b[1;32m   2365\u001b[0m     \"\"\"\n\u001b[0;32m-> 2366\u001b[0;31m     \u001b[0m_run_using_default_session\u001b[0m\u001b[0;34m(\u001b[0m\u001b[0mself\u001b[0m\u001b[0;34m,\u001b[0m \u001b[0mfeed_dict\u001b[0m\u001b[0;34m,\u001b[0m \u001b[0mself\u001b[0m\u001b[0;34m.\u001b[0m\u001b[0mgraph\u001b[0m\u001b[0;34m,\u001b[0m \u001b[0msession\u001b[0m\u001b[0;34m)\u001b[0m\u001b[0;34m\u001b[0m\u001b[0m\n\u001b[0m\u001b[1;32m   2367\u001b[0m \u001b[0;34m\u001b[0m\u001b[0m\n\u001b[1;32m   2368\u001b[0m \u001b[0m_gradient_registry\u001b[0m \u001b[0;34m=\u001b[0m \u001b[0mregistry\u001b[0m\u001b[0;34m.\u001b[0m\u001b[0mRegistry\u001b[0m\u001b[0;34m(\u001b[0m\u001b[0;34m\"gradient\"\u001b[0m\u001b[0;34m)\u001b[0m\u001b[0;34m\u001b[0m\u001b[0m\n",
            "\u001b[0;32m/usr/local/lib/python3.6/dist-packages/tensorflow/python/framework/ops.py\u001b[0m in \u001b[0;36m_run_using_default_session\u001b[0;34m(operation, feed_dict, graph, session)\u001b[0m\n\u001b[1;32m   5188\u001b[0m                        \u001b[0;34m\"the operation's graph is different from the session's \"\u001b[0m\u001b[0;34m\u001b[0m\u001b[0m\n\u001b[1;32m   5189\u001b[0m                        \"graph.\")\n\u001b[0;32m-> 5190\u001b[0;31m   \u001b[0msession\u001b[0m\u001b[0;34m.\u001b[0m\u001b[0mrun\u001b[0m\u001b[0;34m(\u001b[0m\u001b[0moperation\u001b[0m\u001b[0;34m,\u001b[0m \u001b[0mfeed_dict\u001b[0m\u001b[0;34m)\u001b[0m\u001b[0;34m\u001b[0m\u001b[0m\n\u001b[0m\u001b[1;32m   5191\u001b[0m \u001b[0;34m\u001b[0m\u001b[0m\n\u001b[1;32m   5192\u001b[0m \u001b[0;34m\u001b[0m\u001b[0m\n",
            "\u001b[0;32m/usr/local/lib/python3.6/dist-packages/tensorflow/python/client/session.py\u001b[0m in \u001b[0;36mrun\u001b[0;34m(self, fetches, feed_dict, options, run_metadata)\u001b[0m\n\u001b[1;32m    885\u001b[0m     \u001b[0;32mtry\u001b[0m\u001b[0;34m:\u001b[0m\u001b[0;34m\u001b[0m\u001b[0m\n\u001b[1;32m    886\u001b[0m       result = self._run(None, fetches, feed_dict, options_ptr,\n\u001b[0;32m--> 887\u001b[0;31m                          run_metadata_ptr)\n\u001b[0m\u001b[1;32m    888\u001b[0m       \u001b[0;32mif\u001b[0m \u001b[0mrun_metadata\u001b[0m\u001b[0;34m:\u001b[0m\u001b[0;34m\u001b[0m\u001b[0m\n\u001b[1;32m    889\u001b[0m         \u001b[0mproto_data\u001b[0m \u001b[0;34m=\u001b[0m \u001b[0mtf_session\u001b[0m\u001b[0;34m.\u001b[0m\u001b[0mTF_GetBuffer\u001b[0m\u001b[0;34m(\u001b[0m\u001b[0mrun_metadata_ptr\u001b[0m\u001b[0;34m)\u001b[0m\u001b[0;34m\u001b[0m\u001b[0m\n",
            "\u001b[0;32m/usr/local/lib/python3.6/dist-packages/tensorflow/python/client/session.py\u001b[0m in \u001b[0;36m_run\u001b[0;34m(self, handle, fetches, feed_dict, options, run_metadata)\u001b[0m\n\u001b[1;32m   1108\u001b[0m     \u001b[0;32mif\u001b[0m \u001b[0mfinal_fetches\u001b[0m \u001b[0;32mor\u001b[0m \u001b[0mfinal_targets\u001b[0m \u001b[0;32mor\u001b[0m \u001b[0;34m(\u001b[0m\u001b[0mhandle\u001b[0m \u001b[0;32mand\u001b[0m \u001b[0mfeed_dict_tensor\u001b[0m\u001b[0;34m)\u001b[0m\u001b[0;34m:\u001b[0m\u001b[0;34m\u001b[0m\u001b[0m\n\u001b[1;32m   1109\u001b[0m       results = self._do_run(handle, final_targets, final_fetches,\n\u001b[0;32m-> 1110\u001b[0;31m                              feed_dict_tensor, options, run_metadata)\n\u001b[0m\u001b[1;32m   1111\u001b[0m     \u001b[0;32melse\u001b[0m\u001b[0;34m:\u001b[0m\u001b[0;34m\u001b[0m\u001b[0m\n\u001b[1;32m   1112\u001b[0m       \u001b[0mresults\u001b[0m \u001b[0;34m=\u001b[0m \u001b[0;34m[\u001b[0m\u001b[0;34m]\u001b[0m\u001b[0;34m\u001b[0m\u001b[0m\n",
            "\u001b[0;32m/usr/local/lib/python3.6/dist-packages/tensorflow/python/client/session.py\u001b[0m in \u001b[0;36m_do_run\u001b[0;34m(self, handle, target_list, fetch_list, feed_dict, options, run_metadata)\u001b[0m\n\u001b[1;32m   1284\u001b[0m     \u001b[0;32mif\u001b[0m \u001b[0mhandle\u001b[0m \u001b[0;32mis\u001b[0m \u001b[0;32mNone\u001b[0m\u001b[0;34m:\u001b[0m\u001b[0;34m\u001b[0m\u001b[0m\n\u001b[1;32m   1285\u001b[0m       return self._do_call(_run_fn, feeds, fetches, targets, options,\n\u001b[0;32m-> 1286\u001b[0;31m                            run_metadata)\n\u001b[0m\u001b[1;32m   1287\u001b[0m     \u001b[0;32melse\u001b[0m\u001b[0;34m:\u001b[0m\u001b[0;34m\u001b[0m\u001b[0m\n\u001b[1;32m   1288\u001b[0m       \u001b[0;32mreturn\u001b[0m \u001b[0mself\u001b[0m\u001b[0;34m.\u001b[0m\u001b[0m_do_call\u001b[0m\u001b[0;34m(\u001b[0m\u001b[0m_prun_fn\u001b[0m\u001b[0;34m,\u001b[0m \u001b[0mhandle\u001b[0m\u001b[0;34m,\u001b[0m \u001b[0mfeeds\u001b[0m\u001b[0;34m,\u001b[0m \u001b[0mfetches\u001b[0m\u001b[0;34m)\u001b[0m\u001b[0;34m\u001b[0m\u001b[0m\n",
            "\u001b[0;32m/usr/local/lib/python3.6/dist-packages/tensorflow/python/client/session.py\u001b[0m in \u001b[0;36m_do_call\u001b[0;34m(self, fn, *args)\u001b[0m\n\u001b[1;32m   1290\u001b[0m   \u001b[0;32mdef\u001b[0m \u001b[0m_do_call\u001b[0m\u001b[0;34m(\u001b[0m\u001b[0mself\u001b[0m\u001b[0;34m,\u001b[0m \u001b[0mfn\u001b[0m\u001b[0;34m,\u001b[0m \u001b[0;34m*\u001b[0m\u001b[0margs\u001b[0m\u001b[0;34m)\u001b[0m\u001b[0;34m:\u001b[0m\u001b[0;34m\u001b[0m\u001b[0m\n\u001b[1;32m   1291\u001b[0m     \u001b[0;32mtry\u001b[0m\u001b[0;34m:\u001b[0m\u001b[0;34m\u001b[0m\u001b[0m\n\u001b[0;32m-> 1292\u001b[0;31m       \u001b[0;32mreturn\u001b[0m \u001b[0mfn\u001b[0m\u001b[0;34m(\u001b[0m\u001b[0;34m*\u001b[0m\u001b[0margs\u001b[0m\u001b[0;34m)\u001b[0m\u001b[0;34m\u001b[0m\u001b[0m\n\u001b[0m\u001b[1;32m   1293\u001b[0m     \u001b[0;32mexcept\u001b[0m \u001b[0merrors\u001b[0m\u001b[0;34m.\u001b[0m\u001b[0mOpError\u001b[0m \u001b[0;32mas\u001b[0m \u001b[0me\u001b[0m\u001b[0;34m:\u001b[0m\u001b[0;34m\u001b[0m\u001b[0m\n\u001b[1;32m   1294\u001b[0m       \u001b[0mmessage\u001b[0m \u001b[0;34m=\u001b[0m \u001b[0mcompat\u001b[0m\u001b[0;34m.\u001b[0m\u001b[0mas_text\u001b[0m\u001b[0;34m(\u001b[0m\u001b[0me\u001b[0m\u001b[0;34m.\u001b[0m\u001b[0mmessage\u001b[0m\u001b[0;34m)\u001b[0m\u001b[0;34m\u001b[0m\u001b[0m\n",
            "\u001b[0;32m/usr/local/lib/python3.6/dist-packages/tensorflow/python/client/session.py\u001b[0m in \u001b[0;36m_run_fn\u001b[0;34m(feed_dict, fetch_list, target_list, options, run_metadata)\u001b[0m\n\u001b[1;32m   1275\u001b[0m       \u001b[0mself\u001b[0m\u001b[0;34m.\u001b[0m\u001b[0m_extend_graph\u001b[0m\u001b[0;34m(\u001b[0m\u001b[0;34m)\u001b[0m\u001b[0;34m\u001b[0m\u001b[0m\n\u001b[1;32m   1276\u001b[0m       return self._call_tf_sessionrun(\n\u001b[0;32m-> 1277\u001b[0;31m           options, feed_dict, fetch_list, target_list, run_metadata)\n\u001b[0m\u001b[1;32m   1278\u001b[0m \u001b[0;34m\u001b[0m\u001b[0m\n\u001b[1;32m   1279\u001b[0m     \u001b[0;32mdef\u001b[0m \u001b[0m_prun_fn\u001b[0m\u001b[0;34m(\u001b[0m\u001b[0mhandle\u001b[0m\u001b[0;34m,\u001b[0m \u001b[0mfeed_dict\u001b[0m\u001b[0;34m,\u001b[0m \u001b[0mfetch_list\u001b[0m\u001b[0;34m)\u001b[0m\u001b[0;34m:\u001b[0m\u001b[0;34m\u001b[0m\u001b[0m\n",
            "\u001b[0;32m/usr/local/lib/python3.6/dist-packages/tensorflow/python/client/session.py\u001b[0m in \u001b[0;36m_call_tf_sessionrun\u001b[0;34m(self, options, feed_dict, fetch_list, target_list, run_metadata)\u001b[0m\n\u001b[1;32m   1365\u001b[0m     return tf_session.TF_SessionRun_wrapper(\n\u001b[1;32m   1366\u001b[0m         \u001b[0mself\u001b[0m\u001b[0;34m.\u001b[0m\u001b[0m_session\u001b[0m\u001b[0;34m,\u001b[0m \u001b[0moptions\u001b[0m\u001b[0;34m,\u001b[0m \u001b[0mfeed_dict\u001b[0m\u001b[0;34m,\u001b[0m \u001b[0mfetch_list\u001b[0m\u001b[0;34m,\u001b[0m \u001b[0mtarget_list\u001b[0m\u001b[0;34m,\u001b[0m\u001b[0;34m\u001b[0m\u001b[0m\n\u001b[0;32m-> 1367\u001b[0;31m         run_metadata)\n\u001b[0m\u001b[1;32m   1368\u001b[0m \u001b[0;34m\u001b[0m\u001b[0m\n\u001b[1;32m   1369\u001b[0m   \u001b[0;32mdef\u001b[0m \u001b[0m_call_tf_sessionprun\u001b[0m\u001b[0;34m(\u001b[0m\u001b[0mself\u001b[0m\u001b[0;34m,\u001b[0m \u001b[0mhandle\u001b[0m\u001b[0;34m,\u001b[0m \u001b[0mfeed_dict\u001b[0m\u001b[0;34m,\u001b[0m \u001b[0mfetch_list\u001b[0m\u001b[0;34m)\u001b[0m\u001b[0;34m:\u001b[0m\u001b[0;34m\u001b[0m\u001b[0m\n",
            "\u001b[0;31mKeyboardInterrupt\u001b[0m: "
          ]
        }
      ]
    },
    {
      "metadata": {
        "id": "6Gr72GGWnRJQ",
        "colab_type": "code",
        "colab": {}
      },
      "cell_type": "code",
      "source": [
        ""
      ],
      "execution_count": 0,
      "outputs": []
    },
    {
      "metadata": {
        "id": "q9zmgRG6nRGb",
        "colab_type": "code",
        "colab": {}
      },
      "cell_type": "code",
      "source": [
        ""
      ],
      "execution_count": 0,
      "outputs": []
    },
    {
      "metadata": {
        "id": "t1zydOeknRDZ",
        "colab_type": "code",
        "colab": {}
      },
      "cell_type": "code",
      "source": [
        ""
      ],
      "execution_count": 0,
      "outputs": []
    },
    {
      "metadata": {
        "id": "zIfTQ7nAnQ0G",
        "colab_type": "code",
        "colab": {}
      },
      "cell_type": "code",
      "source": [
        ""
      ],
      "execution_count": 0,
      "outputs": []
    },
    {
      "metadata": {
        "id": "pCdgwVXfnQxp",
        "colab_type": "code",
        "colab": {}
      },
      "cell_type": "code",
      "source": [
        ""
      ],
      "execution_count": 0,
      "outputs": []
    },
    {
      "metadata": {
        "id": "Mz-pb8h0nQvA",
        "colab_type": "code",
        "colab": {}
      },
      "cell_type": "code",
      "source": [
        ""
      ],
      "execution_count": 0,
      "outputs": []
    },
    {
      "metadata": {
        "id": "mDgFE16unQsC",
        "colab_type": "code",
        "colab": {}
      },
      "cell_type": "code",
      "source": [
        ""
      ],
      "execution_count": 0,
      "outputs": []
    },
    {
      "metadata": {
        "id": "aT2lZ0mXl38G",
        "colab_type": "text"
      },
      "cell_type": "markdown",
      "source": [
        "# Regebbiek"
      ]
    },
    {
      "metadata": {
        "id": "hQ3L_DuGirdd",
        "colab_type": "code",
        "colab": {}
      },
      "cell_type": "code",
      "source": [
        "import numpy as np\n",
        "np.random.seed(42)"
      ],
      "execution_count": 0,
      "outputs": []
    },
    {
      "metadata": {
        "id": "DIy0_TkgiwOF",
        "colab_type": "code",
        "outputId": "46ca28ce-ca1e-4ab1-c376-a23ef1df64f7",
        "colab": {
          "base_uri": "https://localhost:8080/",
          "height": 105
        }
      },
      "cell_type": "code",
      "source": [
        "np.random.rand(5,3)"
      ],
      "execution_count": 0,
      "outputs": [
        {
          "output_type": "execute_result",
          "data": {
            "text/plain": [
              "array([[0.37454012, 0.95071431, 0.73199394],\n",
              "       [0.59865848, 0.15601864, 0.15599452],\n",
              "       [0.05808361, 0.86617615, 0.60111501],\n",
              "       [0.70807258, 0.02058449, 0.96990985],\n",
              "       [0.83244264, 0.21233911, 0.18182497]])"
            ]
          },
          "metadata": {
            "tags": []
          },
          "execution_count": 2
        }
      ]
    },
    {
      "metadata": {
        "id": "rQ0NtwZ0jLTg",
        "colab_type": "code",
        "outputId": "7589ad28-664a-4534-b348-a6ca3a9f2020",
        "colab": {
          "base_uri": "https://localhost:8080/",
          "height": 105
        }
      },
      "cell_type": "code",
      "source": [
        "np.random.rand(5,3)"
      ],
      "execution_count": 0,
      "outputs": [
        {
          "output_type": "execute_result",
          "data": {
            "text/plain": [
              "array([[0.18340451, 0.30424224, 0.52475643],\n",
              "       [0.43194502, 0.29122914, 0.61185289],\n",
              "       [0.13949386, 0.29214465, 0.36636184],\n",
              "       [0.45606998, 0.78517596, 0.19967378],\n",
              "       [0.51423444, 0.59241457, 0.04645041]])"
            ]
          },
          "metadata": {
            "tags": []
          },
          "execution_count": 3
        }
      ]
    },
    {
      "metadata": {
        "id": "KG1P6-vHjM4E",
        "colab_type": "code",
        "colab": {}
      },
      "cell_type": "code",
      "source": [
        "from tensorflow import set_random_seed\n",
        "set_random_seed(123)"
      ],
      "execution_count": 0,
      "outputs": []
    },
    {
      "metadata": {
        "id": "qN5wMlgijVBf",
        "colab_type": "code",
        "outputId": "2073e99a-2890-4206-b4dc-b903486d9427",
        "colab": {
          "base_uri": "https://localhost:8080/",
          "height": 35
        }
      },
      "cell_type": "code",
      "source": [
        "from keras.models import Sequential\n",
        "from keras.layers.core import Dense, Activation\n",
        "from keras.callbacks import Callback\n",
        "from keras.optimizers import SGD\n",
        "from sklearn.preprocessing import StandardScaler, MinMaxScaler\n",
        "\n",
        "%matplotlib inline\n",
        "import matplotlib.pyplot as plt"
      ],
      "execution_count": 0,
      "outputs": [
        {
          "output_type": "stream",
          "text": [
            "Using TensorFlow backend.\n"
          ],
          "name": "stderr"
        }
      ]
    },
    {
      "metadata": {
        "id": "NFShzUt6j54X",
        "colab_type": "code",
        "colab": {}
      },
      "cell_type": "code",
      "source": [
        "nb_samples = 2000\n",
        "valid_split = 0.2\n",
        "test_split = 0.1\n",
        "samples = np.zeros(nb_samples, \\\n",
        "                   dtype=[('input', float, 2), ('output', float, 1)])\n",
        "\n",
        "for i in range(0,nb_samples,4):\n",
        "  noise = np.random.normal(0,1,8)\n",
        "  samples[i] = (-2+noise[0], -2+noise[1]), 0\n",
        "  samples[i+1] = (2+noise[2], -2+noise[3]), 1\n",
        "  samples[i+2] = (-2+noise[4], 2+noise[5]), 1\n",
        "  samples[i+3] = (2+noise[6], 2+noise[7]), 0\n",
        "  \n",
        "  "
      ],
      "execution_count": 0,
      "outputs": []
    },
    {
      "metadata": {
        "id": "opWFQw9Ck1Ic",
        "colab_type": "code",
        "outputId": "b22911c9-9b0d-435e-cce9-75078cf5b4aa",
        "colab": {
          "base_uri": "https://localhost:8080/",
          "height": 283
        }
      },
      "cell_type": "code",
      "source": [
        "fig1 = plt.figure()\n",
        "plt.scatter(samples['input'][:,0], samples['input'][:,1], \\\n",
        "            c=samples['output'][:])"
      ],
      "execution_count": 0,
      "outputs": [
        {
          "output_type": "execute_result",
          "data": {
            "text/plain": [
              "<matplotlib.collections.PathCollection at 0x7f881c45bdd8>"
            ]
          },
          "metadata": {
            "tags": []
          },
          "execution_count": 8
        },
        {
          "output_type": "display_data",
          "data": {
            "image/png": "[encoded data removed]",
            "text/plain": [
              "<matplotlib.figure.Figure at 0x7f881c5042e8>"
            ]
          },
          "metadata": {
            "tags": []
          }
        }
      ]
    },
    {
      "metadata": {
        "id": "_xHxihtsk_0u",
        "colab_type": "code",
        "colab": {}
      },
      "cell_type": "code",
      "source": [
        "# train-valid-test split #### valid_split, test_split\n",
        "samples_train = samples[:int(nb_samples*(1-valid_split-test_split))] \n",
        "samples_valid = samples[int(nb_samples*(1-valid_split-test_split)):int(nb_samples*(1-test_split))]\n",
        "samples_test  = samples[int(nb_samples*(1-test_split)):]"
      ],
      "execution_count": 0,
      "outputs": []
    },
    {
      "metadata": {
        "id": "UCE-Los5oGVs",
        "colab_type": "code",
        "outputId": "5fabca29-d302-438d-94d0-f6510166ef21",
        "colab": {
          "base_uri": "https://localhost:8080/",
          "height": 35
        }
      },
      "cell_type": "code",
      "source": [
        "len(samples_train), len(samples_valid), len(samples_test)"
      ],
      "execution_count": 0,
      "outputs": [
        {
          "output_type": "execute_result",
          "data": {
            "text/plain": [
              "(1400, 400, 200)"
            ]
          },
          "metadata": {
            "tags": []
          },
          "execution_count": 10
        }
      ]
    },
    {
      "metadata": {
        "id": "L73EV5cwmEyw",
        "colab_type": "code",
        "colab": {}
      },
      "cell_type": "code",
      "source": [
        "# standardizalas train alapjan train, valid es test-re\n",
        "scaler = StandardScaler().fit(samples_train['input']) # mean es var kiszamolasa\n",
        "samples_train['input'] = scaler.transform(samples_train['input'] ) # (argargarg-mean)/stdev\n",
        "samples_valid['input'] = scaler.transform(samples_valid['input'])\n",
        "samples_test['input'] = scaler.transform(samples_test['input'])\n"
      ],
      "execution_count": 0,
      "outputs": []
    },
    {
      "metadata": {
        "id": "8WCpQq_HmGDi",
        "colab_type": "code",
        "outputId": "b8705bec-51a1-4455-f754-eb3739a58c55",
        "colab": {
          "base_uri": "https://localhost:8080/",
          "height": 35
        }
      },
      "cell_type": "code",
      "source": [
        "np.mean(samples_train['input']), np.std(samples_train['input'])"
      ],
      "execution_count": 0,
      "outputs": [
        {
          "output_type": "execute_result",
          "data": {
            "text/plain": [
              "(-8.881784197001253e-18, 0.9999999999999996)"
            ]
          },
          "metadata": {
            "tags": []
          },
          "execution_count": 13
        }
      ]
    },
    {
      "metadata": {
        "id": "5bCNyqgbmIBm",
        "colab_type": "code",
        "outputId": "386bedf0-1447-467c-8f75-cbf4a1f3e0c4",
        "colab": {
          "base_uri": "https://localhost:8080/",
          "height": 35
        }
      },
      "cell_type": "code",
      "source": [
        "np.mean(samples_valid['input']), np.std(samples_valid['input'])"
      ],
      "execution_count": 0,
      "outputs": [
        {
          "output_type": "execute_result",
          "data": {
            "text/plain": [
              "(0.009144005512672693, 0.9996639400191693)"
            ]
          },
          "metadata": {
            "tags": []
          },
          "execution_count": 14
        }
      ]
    },
    {
      "metadata": {
        "id": "rEdOgSsWovPH",
        "colab_type": "code",
        "outputId": "1c4c79c8-7b48-4bf5-b9f5-a0ec33ce1a9c",
        "colab": {
          "base_uri": "https://localhost:8080/",
          "height": 34
        }
      },
      "cell_type": "code",
      "source": [
        "np.mean(samples_test['input']), np.std(samples_test['input'])"
      ],
      "execution_count": 0,
      "outputs": [
        {
          "output_type": "execute_result",
          "data": {
            "text/plain": [
              "(0.04808078850558832, 0.9633987034459949)"
            ]
          },
          "metadata": {
            "tags": []
          },
          "execution_count": 15
        }
      ]
    },
    {
      "metadata": {
        "id": "T9RvPQ_Ao0SE",
        "colab_type": "code",
        "outputId": "6050abd5-2bcc-4751-e1aa-45f963bc64a3",
        "colab": {
          "base_uri": "https://localhost:8080/",
          "height": 282
        }
      },
      "cell_type": "code",
      "source": [
        "fig1 = plt.figure()\n",
        "plt.scatter(samples_train['input'][:,0], samples_train['input'][:,1], \\\n",
        "            c=samples_train['output'][:])"
      ],
      "execution_count": 0,
      "outputs": [
        {
          "output_type": "execute_result",
          "data": {
            "text/plain": [
              "<matplotlib.collections.PathCollection at 0x7f8819bf92b0>"
            ]
          },
          "metadata": {
            "tags": []
          },
          "execution_count": 16
        },
        {
          "output_type": "display_data",
          "data": {
            "image/png": "[encoded data removed]",
            "text/plain": [
              "<matplotlib.figure.Figure at 0x7f881c4c57b8>"
            ]
          },
          "metadata": {
            "tags": []
          }
        }
      ]
    },
    {
      "metadata": {
        "id": "4f9sodW0vx8W",
        "colab_type": "code",
        "colab": {}
      },
      "cell_type": "code",
      "source": [
        "class TrainingHistory(Callback):\n",
        "  def on_train_begin(self, logs={}):\n",
        "    self.losses=[]\n",
        "    self.valid_losses =[]\n",
        "    self.accs = []\n",
        "    self.valid_accs = []\n",
        "    self.epoch=0\n",
        "    \n",
        "  def on_epoch_end(self, epoch,logs={}):\n",
        "    self.losses.append(logs.get('loss'))\n",
        "    self.valid_losses.append(logs.get('val_loss'))\n",
        "    self.accs.append(logs.get('acc'))\n",
        "    self.valid_accs.append(logs.get('val_acc'))\n",
        "    self.epoch += 1\n",
        "    \n",
        "history = TrainingHistory()"
      ],
      "execution_count": 0,
      "outputs": []
    },
    {
      "metadata": {
        "id": "FD78NMy90XNl",
        "colab_type": "code",
        "colab": {}
      },
      "cell_type": "code",
      "source": [
        "from keras.callbacks import EarlyStopping\n",
        "es = EarlyStopping(patience=10, verbose=1)\n",
        "\n",
        "from keras.callbacks import ModelCheckpoint\n",
        "mcp = ModelCheckpoint(filepath='weights.hdf5', verbose=1, save_best_only=True)"
      ],
      "execution_count": 0,
      "outputs": []
    },
    {
      "metadata": {
        "id": "C8VpG_popCuB",
        "colab_type": "code",
        "colab": {}
      },
      "cell_type": "code",
      "source": [
        "from keras import regularizers"
      ],
      "execution_count": 0,
      "outputs": []
    },
    {
      "metadata": {
        "id": "JOOy4RYXpAWc",
        "colab_type": "code",
        "colab": {}
      },
      "cell_type": "code",
      "source": [
        "# Neuralis halo felepites\n",
        "model = Sequential()\n",
        "model.add(Dense(100, input_shape=(2,), use_bias=True, kernel_regularizer=regularizers.l2(0.01)))\n",
        "model.add(Activation('tanh'))\n",
        "model.add(Dense(100, activation='relu'))\n",
        "model.add(Dense(1, use_bias=False))\n",
        "model.add(Activation('sigmoid'))\n",
        "\n"
      ],
      "execution_count": 0,
      "outputs": []
    },
    {
      "metadata": {
        "id": "sEDpVbtupwXB",
        "colab_type": "code",
        "outputId": "630a13b0-6396-498c-c619-45b51c58ee92",
        "colab": {
          "base_uri": "https://localhost:8080/",
          "height": 4024
        }
      },
      "cell_type": "code",
      "source": [
        "sgd=SGD(lr=0.1, momentum=0.001, nesterov=True)\n",
        "model.compile(loss='mean_squared_error', optimizer=sgd)\n",
        "\n",
        "hst = model.fit(samples_train['input'], samples_train['output'],\\\n",
        "         batch_size=8,\n",
        "         epochs=2500000000,\n",
        "         verbose=2,\n",
        "         validation_data=(samples_valid['input'],samples_valid['output']),\n",
        "         callbacks=[mcp, es, history],\n",
        "         shuffle=True)"
      ],
      "execution_count": 0,
      "outputs": [
        {
          "output_type": "stream",
          "text": [
            "Train on 1400 samples, validate on 400 samples\n",
            "Epoch 1/2500000000\n",
            " - 1s - loss: 0.1577 - val_loss: 0.1129\n",
            "\n",
            "Epoch 00001: val_loss improved from inf to 0.11289, saving model to weights.hdf5\n",
            "Epoch 2/2500000000\n",
            " - 0s - loss: 0.0935 - val_loss: 0.0907\n",
            "\n",
            "Epoch 00002: val_loss improved from 0.11289 to 0.09067, saving model to weights.hdf5\n",
            "Epoch 3/2500000000\n",
            " - 0s - loss: 0.0787 - val_loss: 0.0798\n",
            "\n",
            "Epoch 00003: val_loss improved from 0.09067 to 0.07983, saving model to weights.hdf5\n",
            "Epoch 4/2500000000\n",
            " - 0s - loss: 0.0702 - val_loss: 0.0755\n",
            "\n",
            "Epoch 00004: val_loss improved from 0.07983 to 0.07549, saving model to weights.hdf5\n",
            "Epoch 5/2500000000\n",
            " - 0s - loss: 0.0656 - val_loss: 0.0690\n",
            "\n",
            "Epoch 00005: val_loss improved from 0.07549 to 0.06896, saving model to weights.hdf5\n",
            "Epoch 6/2500000000\n",
            " - 0s - loss: 0.0618 - val_loss: 0.0673\n",
            "\n",
            "Epoch 00006: val_loss improved from 0.06896 to 0.06727, saving model to weights.hdf5\n",
            "Epoch 7/2500000000\n",
            " - 0s - loss: 0.0595 - val_loss: 0.0632\n",
            "\n",
            "Epoch 00007: val_loss improved from 0.06727 to 0.06318, saving model to weights.hdf5\n",
            "Epoch 8/2500000000\n",
            " - 0s - loss: 0.0577 - val_loss: 0.0633\n",
            "\n",
            "Epoch 00008: val_loss did not improve from 0.06318\n",
            "Epoch 9/2500000000\n",
            " - 0s - loss: 0.0558 - val_loss: 0.0606\n",
            "\n",
            "Epoch 00009: val_loss improved from 0.06318 to 0.06064, saving model to weights.hdf5\n",
            "Epoch 10/2500000000\n",
            " - 0s - loss: 0.0553 - val_loss: 0.0592\n",
            "\n",
            "Epoch 00010: val_loss improved from 0.06064 to 0.05918, saving model to weights.hdf5\n",
            "Epoch 11/2500000000\n",
            " - 0s - loss: 0.0533 - val_loss: 0.0592\n",
            "\n",
            "Epoch 00011: val_loss did not improve from 0.05918\n",
            "Epoch 12/2500000000\n",
            " - 0s - loss: 0.0529 - val_loss: 0.0589\n",
            "\n",
            "Epoch 00012: val_loss improved from 0.05918 to 0.05892, saving model to weights.hdf5\n",
            "Epoch 13/2500000000\n",
            " - 0s - loss: 0.0521 - val_loss: 0.0569\n",
            "\n",
            "Epoch 00013: val_loss improved from 0.05892 to 0.05690, saving model to weights.hdf5\n",
            "Epoch 14/2500000000\n",
            " - 0s - loss: 0.0510 - val_loss: 0.0577\n",
            "\n",
            "Epoch 00014: val_loss did not improve from 0.05690\n",
            "Epoch 15/2500000000\n",
            " - 0s - loss: 0.0513 - val_loss: 0.0554\n",
            "\n",
            "Epoch 00015: val_loss improved from 0.05690 to 0.05543, saving model to weights.hdf5\n",
            "Epoch 16/2500000000\n",
            " - 0s - loss: 0.0507 - val_loss: 0.0565\n",
            "\n",
            "Epoch 00016: val_loss did not improve from 0.05543\n",
            "Epoch 17/2500000000\n",
            " - 0s - loss: 0.0495 - val_loss: 0.0570\n",
            "\n",
            "Epoch 00017: val_loss did not improve from 0.05543\n",
            "Epoch 18/2500000000\n",
            " - 0s - loss: 0.0492 - val_loss: 0.0545\n",
            "\n",
            "Epoch 00018: val_loss improved from 0.05543 to 0.05451, saving model to weights.hdf5\n",
            "Epoch 19/2500000000\n",
            " - 0s - loss: 0.0491 - val_loss: 0.0589\n",
            "\n",
            "Epoch 00019: val_loss did not improve from 0.05451\n",
            "Epoch 20/2500000000\n",
            " - 0s - loss: 0.0477 - val_loss: 0.0564\n",
            "\n",
            "Epoch 00020: val_loss did not improve from 0.05451\n",
            "Epoch 21/2500000000\n",
            " - 0s - loss: 0.0479 - val_loss: 0.0514\n",
            "\n",
            "Epoch 00021: val_loss improved from 0.05451 to 0.05144, saving model to weights.hdf5\n",
            "Epoch 22/2500000000\n",
            " - 0s - loss: 0.0480 - val_loss: 0.0515\n",
            "\n",
            "Epoch 00022: val_loss did not improve from 0.05144\n",
            "Epoch 23/2500000000\n",
            " - 0s - loss: 0.0470 - val_loss: 0.0558\n",
            "\n",
            "Epoch 00023: val_loss did not improve from 0.05144\n",
            "Epoch 24/2500000000\n",
            " - 0s - loss: 0.0477 - val_loss: 0.0511\n",
            "\n",
            "Epoch 00024: val_loss improved from 0.05144 to 0.05112, saving model to weights.hdf5\n",
            "Epoch 25/2500000000\n",
            " - 0s - loss: 0.0470 - val_loss: 0.0521\n",
            "\n",
            "Epoch 00025: val_loss did not improve from 0.05112\n",
            "Epoch 26/2500000000\n",
            " - 0s - loss: 0.0480 - val_loss: 0.0505\n",
            "\n",
            "Epoch 00026: val_loss improved from 0.05112 to 0.05050, saving model to weights.hdf5\n",
            "Epoch 27/2500000000\n",
            " - 0s - loss: 0.0472 - val_loss: 0.0568\n",
            "\n",
            "Epoch 00027: val_loss did not improve from 0.05050\n",
            "Epoch 28/2500000000\n",
            " - 0s - loss: 0.0483 - val_loss: 0.0503\n",
            "\n",
            "Epoch 00028: val_loss improved from 0.05050 to 0.05031, saving model to weights.hdf5\n",
            "Epoch 29/2500000000\n",
            " - 0s - loss: 0.0467 - val_loss: 0.0508\n",
            "\n",
            "Epoch 00029: val_loss did not improve from 0.05031\n",
            "Epoch 30/2500000000\n",
            " - 0s - loss: 0.0463 - val_loss: 0.0498\n",
            "\n",
            "Epoch 00030: val_loss improved from 0.05031 to 0.04982, saving model to weights.hdf5\n",
            "Epoch 31/2500000000\n",
            " - 0s - loss: 0.0470 - val_loss: 0.0535\n",
            "\n",
            "Epoch 00031: val_loss did not improve from 0.04982\n",
            "Epoch 32/2500000000\n",
            " - 0s - loss: 0.0452 - val_loss: 0.0527\n",
            "\n",
            "Epoch 00032: val_loss did not improve from 0.04982\n",
            "Epoch 33/2500000000\n",
            " - 0s - loss: 0.0463 - val_loss: 0.0542\n",
            "\n",
            "Epoch 00033: val_loss did not improve from 0.04982\n",
            "Epoch 34/2500000000\n",
            " - 0s - loss: 0.0464 - val_loss: 0.0485\n",
            "\n",
            "Epoch 00034: val_loss improved from 0.04982 to 0.04853, saving model to weights.hdf5\n",
            "Epoch 35/2500000000\n",
            " - 0s - loss: 0.0458 - val_loss: 0.0556\n",
            "\n",
            "Epoch 00035: val_loss did not improve from 0.04853\n",
            "Epoch 36/2500000000\n",
            " - 0s - loss: 0.0469 - val_loss: 0.0506\n",
            "\n",
            "Epoch 00036: val_loss did not improve from 0.04853\n",
            "Epoch 37/2500000000\n",
            " - 0s - loss: 0.0466 - val_loss: 0.0529\n",
            "\n",
            "Epoch 00037: val_loss did not improve from 0.04853\n",
            "Epoch 38/2500000000\n",
            " - 0s - loss: 0.0461 - val_loss: 0.0521\n",
            "\n",
            "Epoch 00038: val_loss did not improve from 0.04853\n",
            "Epoch 39/2500000000\n",
            " - 0s - loss: 0.0477 - val_loss: 0.0527\n",
            "\n",
            "Epoch 00039: val_loss did not improve from 0.04853\n",
            "Epoch 40/2500000000\n",
            " - 0s - loss: 0.0471 - val_loss: 0.0477\n",
            "\n",
            "Epoch 00040: val_loss improved from 0.04853 to 0.04774, saving model to weights.hdf5\n",
            "Epoch 41/2500000000\n",
            " - 0s - loss: 0.0457 - val_loss: 0.0534\n",
            "\n",
            "Epoch 00041: val_loss did not improve from 0.04774\n",
            "Epoch 42/2500000000\n",
            " - 0s - loss: 0.0469 - val_loss: 0.0490\n",
            "\n",
            "Epoch 00042: val_loss did not improve from 0.04774\n",
            "Epoch 43/2500000000\n",
            " - 0s - loss: 0.0456 - val_loss: 0.0516\n",
            "\n",
            "Epoch 00043: val_loss did not improve from 0.04774\n",
            "Epoch 44/2500000000\n",
            " - 0s - loss: 0.0455 - val_loss: 0.0506\n",
            "\n",
            "Epoch 00044: val_loss did not improve from 0.04774\n",
            "Epoch 45/2500000000\n",
            " - 0s - loss: 0.0469 - val_loss: 0.0493\n",
            "\n",
            "Epoch 00045: val_loss did not improve from 0.04774\n",
            "Epoch 46/2500000000\n",
            " - 0s - loss: 0.0467 - val_loss: 0.0508\n",
            "\n",
            "Epoch 00046: val_loss did not improve from 0.04774\n",
            "Epoch 47/2500000000\n",
            " - 0s - loss: 0.0470 - val_loss: 0.0475\n",
            "\n",
            "Epoch 00047: val_loss improved from 0.04774 to 0.04750, saving model to weights.hdf5\n",
            "Epoch 48/2500000000\n",
            " - 0s - loss: 0.0462 - val_loss: 0.0535\n",
            "\n",
            "Epoch 00048: val_loss did not improve from 0.04750\n",
            "Epoch 49/2500000000\n",
            " - 0s - loss: 0.0462 - val_loss: 0.0541\n",
            "\n",
            "Epoch 00049: val_loss did not improve from 0.04750\n",
            "Epoch 50/2500000000\n",
            " - 0s - loss: 0.0455 - val_loss: 0.0531\n",
            "\n",
            "Epoch 00050: val_loss did not improve from 0.04750\n",
            "Epoch 51/2500000000\n",
            " - 0s - loss: 0.0455 - val_loss: 0.0491\n",
            "\n",
            "Epoch 00051: val_loss did not improve from 0.04750\n",
            "Epoch 52/2500000000\n",
            " - 0s - loss: 0.0456 - val_loss: 0.0494\n",
            "\n",
            "Epoch 00052: val_loss did not improve from 0.04750\n",
            "Epoch 53/2500000000\n",
            " - 0s - loss: 0.0462 - val_loss: 0.0542\n",
            "\n",
            "Epoch 00053: val_loss did not improve from 0.04750\n",
            "Epoch 54/2500000000\n",
            " - 0s - loss: 0.0465 - val_loss: 0.0518\n",
            "\n",
            "Epoch 00054: val_loss did not improve from 0.04750\n",
            "Epoch 55/2500000000\n",
            " - 0s - loss: 0.0463 - val_loss: 0.0593\n",
            "\n",
            "Epoch 00055: val_loss did not improve from 0.04750\n",
            "Epoch 56/2500000000\n",
            " - 0s - loss: 0.0450 - val_loss: 0.0537\n",
            "\n",
            "Epoch 00056: val_loss did not improve from 0.04750\n",
            "Epoch 57/2500000000\n",
            " - 0s - loss: 0.0474 - val_loss: 0.0513\n",
            "\n",
            "Epoch 00057: val_loss did not improve from 0.04750\n",
            "Epoch 00057: early stopping\n"
          ],
          "name": "stdout"
        }
      ]
    },
    {
      "metadata": {
        "id": "1GyEwlShqpcq",
        "colab_type": "code",
        "outputId": "4e0ed6fa-0f0b-4685-ada8-47841672a32c",
        "colab": {
          "base_uri": "https://localhost:8080/",
          "height": 241
        }
      },
      "cell_type": "code",
      "source": [
        "plt.figure(figsize=(6,3))\n",
        "plt.title(\"Hiba mértéke a tanítás során\")\n",
        "plt.plot(np.arange(history.epoch), history.losses, color='g',  \n",
        "         label=\"Hiba a tanító adatokon\")\n",
        "plt.plot(np.arange(history.epoch), history.valid_losses, color='r',\n",
        "         label=\"Hiba a validációs adatokon\")\n",
        "plt.legend(loc='upper right')\n",
        "plt.xlabel(\"Epochok száma\")\n",
        "plt.ylabel(\"Hiba\")\n",
        "plt.grid(True)\n",
        "plt.show()"
      ],
      "execution_count": 0,
      "outputs": [
        {
          "output_type": "display_data",
          "data": {
            "image/png": "[encoded data removed]",
            "text/plain": [
              "<matplotlib.figure.Figure at 0x7f8812e3d2b0>"
            ]
          },
          "metadata": {
            "tags": []
          }
        }
      ]
    },
    {
      "metadata": {
        "id": "aPfRS7bZz4hf",
        "colab_type": "code",
        "colab": {}
      },
      "cell_type": "code",
      "source": [
        "from keras.models import load_model\n",
        "\n",
        "model = load_model('weights.hdf5')"
      ],
      "execution_count": 0,
      "outputs": []
    },
    {
      "metadata": {
        "id": "hUtmfuN_2sie",
        "colab_type": "code",
        "outputId": "78a57e98-f953-4015-af6c-9f9befcec9fd",
        "colab": {
          "base_uri": "https://localhost:8080/",
          "height": 3484
        }
      },
      "cell_type": "code",
      "source": [
        "preds = model.predict(samples_test['input'])\n",
        "print(preds)"
      ],
      "execution_count": 0,
      "outputs": [
        {
          "output_type": "stream",
          "text": [
            "[[6.03022464e-02]\n",
            " [6.87112093e-01]\n",
            " [9.44710433e-01]\n",
            " [6.80471014e-04]\n",
            " [3.07876259e-01]\n",
            " [8.88767600e-01]\n",
            " [6.21710062e-01]\n",
            " [6.41853511e-01]\n",
            " [4.06359648e-03]\n",
            " [9.97128427e-01]\n",
            " [9.99970078e-01]\n",
            " [9.37198922e-02]\n",
            " [5.44115454e-02]\n",
            " [9.71723020e-01]\n",
            " [9.54721630e-01]\n",
            " [4.05986220e-01]\n",
            " [2.08027083e-02]\n",
            " [9.82923687e-01]\n",
            " [9.99066532e-01]\n",
            " [8.11812177e-04]\n",
            " [1.04892184e-03]\n",
            " [9.88560736e-01]\n",
            " [4.80925918e-01]\n",
            " [8.30126554e-03]\n",
            " [5.83225978e-04]\n",
            " [9.82253850e-01]\n",
            " [9.45405006e-01]\n",
            " [2.86955331e-02]\n",
            " [2.03147322e-01]\n",
            " [9.01822150e-01]\n",
            " [9.98735487e-01]\n",
            " [1.16830897e-02]\n",
            " [8.36583599e-03]\n",
            " [9.91737902e-01]\n",
            " [9.87826049e-01]\n",
            " [1.08181641e-01]\n",
            " [4.05559875e-02]\n",
            " [9.98834908e-01]\n",
            " [9.99512434e-01]\n",
            " [3.88251245e-02]\n",
            " [1.79712474e-01]\n",
            " [9.53522980e-01]\n",
            " [8.48789275e-01]\n",
            " [9.13523231e-03]\n",
            " [1.01369664e-01]\n",
            " [8.77181172e-01]\n",
            " [8.72519195e-01]\n",
            " [7.39491079e-03]\n",
            " [5.39407879e-03]\n",
            " [9.99569595e-01]\n",
            " [6.89767241e-01]\n",
            " [3.04230698e-03]\n",
            " [1.72124729e-01]\n",
            " [9.81670737e-01]\n",
            " [6.87482893e-01]\n",
            " [6.06099144e-04]\n",
            " [2.15025321e-02]\n",
            " [9.92874503e-01]\n",
            " [9.98902202e-01]\n",
            " [3.00938673e-02]\n",
            " [1.29719868e-01]\n",
            " [7.38309324e-01]\n",
            " [9.97115016e-01]\n",
            " [2.19088998e-02]\n",
            " [6.04334753e-03]\n",
            " [2.92266130e-01]\n",
            " [8.37746263e-01]\n",
            " [5.34525199e-04]\n",
            " [1.87753979e-02]\n",
            " [9.88622367e-01]\n",
            " [3.41161072e-01]\n",
            " [7.08517560e-04]\n",
            " [3.19126397e-02]\n",
            " [9.70738769e-01]\n",
            " [9.78749573e-01]\n",
            " [4.28027995e-02]\n",
            " [1.43968372e-03]\n",
            " [9.09191370e-01]\n",
            " [9.97138500e-01]\n",
            " [4.44140192e-03]\n",
            " [3.66737437e-03]\n",
            " [8.72846663e-01]\n",
            " [9.59291518e-01]\n",
            " [6.05431721e-02]\n",
            " [9.27476287e-02]\n",
            " [8.05020273e-01]\n",
            " [5.87453723e-01]\n",
            " [5.24022691e-02]\n",
            " [6.37877546e-03]\n",
            " [9.90183890e-01]\n",
            " [9.92926776e-01]\n",
            " [2.77773738e-01]\n",
            " [1.38314478e-02]\n",
            " [9.94040012e-01]\n",
            " [9.95933354e-01]\n",
            " [4.82136048e-02]\n",
            " [7.38448463e-03]\n",
            " [9.20589566e-01]\n",
            " [9.97507811e-01]\n",
            " [4.11794113e-04]\n",
            " [2.94114114e-03]\n",
            " [9.95882273e-01]\n",
            " [9.98673558e-01]\n",
            " [7.29317125e-03]\n",
            " [4.84532723e-03]\n",
            " [9.91753459e-01]\n",
            " [9.86368120e-01]\n",
            " [1.39805358e-02]\n",
            " [1.67390667e-02]\n",
            " [6.49879873e-01]\n",
            " [9.95379567e-01]\n",
            " [2.96130013e-02]\n",
            " [4.05429929e-01]\n",
            " [9.64885771e-01]\n",
            " [9.46632206e-01]\n",
            " [1.27532229e-01]\n",
            " [1.38762360e-02]\n",
            " [9.79132712e-01]\n",
            " [9.67760742e-01]\n",
            " [6.17553219e-02]\n",
            " [3.96757051e-02]\n",
            " [8.87979686e-01]\n",
            " [8.53324056e-01]\n",
            " [2.06524152e-02]\n",
            " [8.65869045e-01]\n",
            " [9.68400002e-01]\n",
            " [9.98149753e-01]\n",
            " [1.68507546e-01]\n",
            " [8.98712575e-02]\n",
            " [9.71803188e-01]\n",
            " [7.18893170e-01]\n",
            " [7.36061158e-03]\n",
            " [6.70818239e-02]\n",
            " [8.48471165e-01]\n",
            " [9.73303735e-01]\n",
            " [4.20835428e-03]\n",
            " [1.01578527e-03]\n",
            " [7.11564124e-01]\n",
            " [8.96714866e-01]\n",
            " [3.92025895e-03]\n",
            " [3.71537055e-03]\n",
            " [9.29719687e-01]\n",
            " [9.94593680e-01]\n",
            " [8.19188822e-03]\n",
            " [4.05230513e-03]\n",
            " [9.86852705e-01]\n",
            " [9.98441517e-01]\n",
            " [2.28234072e-04]\n",
            " [1.04889266e-01]\n",
            " [9.61703300e-01]\n",
            " [9.96184170e-01]\n",
            " [1.50784642e-01]\n",
            " [1.39625803e-01]\n",
            " [7.96149373e-01]\n",
            " [9.98730958e-01]\n",
            " [7.35648036e-01]\n",
            " [1.45545647e-01]\n",
            " [4.42088157e-01]\n",
            " [9.98190463e-01]\n",
            " [4.13471647e-02]\n",
            " [6.58841878e-02]\n",
            " [9.89037216e-01]\n",
            " [9.99564350e-01]\n",
            " [1.39753163e-01]\n",
            " [5.72739601e-01]\n",
            " [3.26993406e-01]\n",
            " [9.86222446e-01]\n",
            " [2.72691827e-02]\n",
            " [2.68119946e-02]\n",
            " [9.71790910e-01]\n",
            " [9.60611939e-01]\n",
            " [1.42821958e-02]\n",
            " [2.03079239e-01]\n",
            " [9.63405967e-01]\n",
            " [9.96843576e-01]\n",
            " [7.22105876e-02]\n",
            " [3.05689825e-03]\n",
            " [9.25571978e-01]\n",
            " [9.98321831e-01]\n",
            " [3.37049216e-02]\n",
            " [5.18456567e-03]\n",
            " [9.61683095e-01]\n",
            " [9.36278701e-01]\n",
            " [3.00518062e-04]\n",
            " [5.95483840e-01]\n",
            " [9.96988952e-01]\n",
            " [8.01453352e-01]\n",
            " [1.57418530e-02]\n",
            " [2.67773159e-02]\n",
            " [9.51988459e-01]\n",
            " [9.97242570e-01]\n",
            " [1.09694274e-02]\n",
            " [1.25999078e-02]\n",
            " [9.87796068e-01]\n",
            " [9.99294400e-01]\n",
            " [4.56054807e-02]\n",
            " [5.29097915e-01]\n",
            " [1.85493901e-01]\n",
            " [9.26409960e-01]\n",
            " [9.75599885e-01]]\n"
          ],
          "name": "stdout"
        }
      ]
    },
    {
      "metadata": {
        "id": "2HVwS6RT2yKb",
        "colab_type": "code",
        "outputId": "2b47a02b-ded8-42a0-8fb5-ef5a4481d5e7",
        "colab": {
          "base_uri": "https://localhost:8080/",
          "height": 35
        }
      },
      "cell_type": "code",
      "source": [
        "from sklearn.metrics import mean_squared_error\n",
        "test_mse = mean_squared_error(samples_test['output'], preds)\n",
        "print(\"Teszt adatokon mért négyzetes hiba:\",test_mse)"
      ],
      "execution_count": 0,
      "outputs": [
        {
          "output_type": "stream",
          "text": [
            "Teszt adatokon mért négyzetes hiba: 0.0424245498513852\n"
          ],
          "name": "stdout"
        }
      ]
    },
    {
      "metadata": {
        "id": "kgaPOdzV3IQJ",
        "colab_type": "code",
        "outputId": "e08e4b05-8fc7-487f-8743-e326b9aaa859",
        "colab": {
          "base_uri": "https://localhost:8080/",
          "height": 35
        }
      },
      "cell_type": "code",
      "source": [
        "print(\"Tehát átlagosan\",np.sqrt(test_mse),\"hibázik a hálónk a teszt adatokon\")"
      ],
      "execution_count": 0,
      "outputs": [
        {
          "output_type": "stream",
          "text": [
            "Tehát átlagosan 0.20597220650220066 hibázik a hálónk a teszt adatokon\n"
          ],
          "name": "stdout"
        }
      ]
    },
    {
      "metadata": {
        "id": "mlPdojfv3QUV",
        "colab_type": "code",
        "outputId": "3518b8c4-b0aa-4f28-9908-25a0d36a1159",
        "colab": {
          "base_uri": "https://localhost:8080/",
          "height": 283
        }
      },
      "cell_type": "code",
      "source": [
        "plt.figure()\n",
        "plt.scatter(samples_test['input'][:,0], samples_test['input'][:,1],\n",
        "            c=np.round(preds[:,0]))"
      ],
      "execution_count": 0,
      "outputs": [
        {
          "output_type": "execute_result",
          "data": {
            "text/plain": [
              "<matplotlib.collections.PathCollection at 0x7f88127759e8>"
            ]
          },
          "metadata": {
            "tags": []
          },
          "execution_count": 149
        },
        {
          "output_type": "display_data",
          "data": {
            "image/png": "[encoded data removed]",
            "text/plain": [
              "<matplotlib.figure.Figure at 0x7f88127405f8>"
            ]
          },
          "metadata": {
            "tags": []
          }
        }
      ]
    },
    {
      "metadata": {
        "id": "6lfYWW-O3lhV",
        "colab_type": "code",
        "colab": {}
      },
      "cell_type": "code",
      "source": [
        ""
      ],
      "execution_count": 0,
      "outputs": []
    },
    {
      "metadata": {
        "id": "BqO9Y9jN3war",
        "colab_type": "text"
      },
      "cell_type": "markdown",
      "source": [
        "# Modell vizsgálata"
      ]
    },
    {
      "metadata": {
        "id": "mnFn2RK63xis",
        "colab_type": "code",
        "outputId": "aeb08c63-6e6a-4609-ab97-d2861bb866cf",
        "colab": {
          "base_uri": "https://localhost:8080/",
          "height": 312
        }
      },
      "cell_type": "code",
      "source": [
        "model.summary()"
      ],
      "execution_count": 0,
      "outputs": [
        {
          "output_type": "stream",
          "text": [
            "_________________________________________________________________\n",
            "Layer (type)                 Output Shape              Param #   \n",
            "=================================================================\n",
            "dense_25 (Dense)             (None, 100)               300       \n",
            "_________________________________________________________________\n",
            "activation_23 (Activation)   (None, 100)               0         \n",
            "_________________________________________________________________\n",
            "dense_26 (Dense)             (None, 100)               10100     \n",
            "_________________________________________________________________\n",
            "dense_27 (Dense)             (None, 1)                 100       \n",
            "_________________________________________________________________\n",
            "activation_24 (Activation)   (None, 1)                 0         \n",
            "=================================================================\n",
            "Total params: 10,500\n",
            "Trainable params: 10,500\n",
            "Non-trainable params: 0\n",
            "_________________________________________________________________\n"
          ],
          "name": "stdout"
        }
      ]
    },
    {
      "metadata": {
        "id": "eq5_efGe3zQa",
        "colab_type": "code",
        "outputId": "2a4e6135-6629-4cbf-ac7d-e191f6ca1827",
        "colab": {
          "base_uri": "https://localhost:8080/",
          "height": 228
        }
      },
      "cell_type": "code",
      "source": [
        "print(\"Rétegek\")\n",
        "for layer in model.layers:\n",
        "  print(\"Réteg neve:\", layer.name,\", tanítható: \", layer.trainable)\n",
        "  print(layer.get_config())"
      ],
      "execution_count": 0,
      "outputs": [
        {
          "output_type": "stream",
          "text": [
            "Rétegek\n",
            "Réteg neve: dense_25 , tanítható:  True\n",
            "{'name': 'dense_25', 'trainable': True, 'batch_input_shape': (None, 2), 'dtype': 'float32', 'units': 100, 'activation': 'linear', 'use_bias': True, 'kernel_initializer': {'class_name': 'VarianceScaling', 'config': {'scale': 1.0, 'mode': 'fan_avg', 'distribution': 'uniform', 'seed': None}}, 'bias_initializer': {'class_name': 'Zeros', 'config': {}}, 'kernel_regularizer': {'class_name': 'L1L2', 'config': {'l1': 0.0, 'l2': 0.009999999776482582}}, 'bias_regularizer': None, 'activity_regularizer': None, 'kernel_constraint': None, 'bias_constraint': None}\n",
            "Réteg neve: activation_23 , tanítható:  True\n",
            "{'name': 'activation_23', 'trainable': True, 'activation': 'tanh'}\n",
            "Réteg neve: dense_26 , tanítható:  True\n",
            "{'name': 'dense_26', 'trainable': True, 'units': 100, 'activation': 'relu', 'use_bias': True, 'kernel_initializer': {'class_name': 'VarianceScaling', 'config': {'scale': 1.0, 'mode': 'fan_avg', 'distribution': 'uniform', 'seed': None}}, 'bias_initializer': {'class_name': 'Zeros', 'config': {}}, 'kernel_regularizer': None, 'bias_regularizer': None, 'activity_regularizer': None, 'kernel_constraint': None, 'bias_constraint': None}\n",
            "Réteg neve: dense_27 , tanítható:  True\n",
            "{'name': 'dense_27', 'trainable': True, 'units': 1, 'activation': 'linear', 'use_bias': False, 'kernel_initializer': {'class_name': 'VarianceScaling', 'config': {'scale': 1.0, 'mode': 'fan_avg', 'distribution': 'uniform', 'seed': None}}, 'bias_initializer': {'class_name': 'Zeros', 'config': {}}, 'kernel_regularizer': None, 'bias_regularizer': None, 'activity_regularizer': None, 'kernel_constraint': None, 'bias_constraint': None}\n",
            "Réteg neve: activation_24 , tanítható:  True\n",
            "{'name': 'activation_24', 'trainable': True, 'activation': 'sigmoid'}\n"
          ],
          "name": "stdout"
        }
      ]
    },
    {
      "metadata": {
        "id": "_CvUrI6B4oT5",
        "colab_type": "code",
        "outputId": "f3e4c5fc-7b58-497b-9ab3-a43792589718",
        "colab": {
          "base_uri": "https://localhost:8080/",
          "height": 3920
        }
      },
      "cell_type": "code",
      "source": [
        "print(\"Súlyok:\")\n",
        "i=1\n",
        "for layer in model.layers:\n",
        "  print(model.get_layer(index=i).get_weights())\n",
        "  i+=1"
      ],
      "execution_count": 0,
      "outputs": [
        {
          "output_type": "stream",
          "text": [
            "Súlyok:\n",
            "[array([[-2.08816770e-02,  2.41970420e-02, -1.24087585e-02,\n",
            "        -7.31600821e-02, -8.70172493e-03,  4.92812246e-02,\n",
            "         9.26353559e-02, -1.08244948e-01,  3.68039422e-02,\n",
            "        -7.19719455e-02, -1.16231211e-04,  6.88980967e-02,\n",
            "         1.12526476e-01, -2.34928578e-02,  1.27534106e-01,\n",
            "         8.70027095e-02,  2.57689469e-02,  5.44881150e-02,\n",
            "         1.31624220e-02, -1.09253749e-01,  2.02249903e-02,\n",
            "         6.10552840e-02,  7.82681555e-02, -4.44469675e-02,\n",
            "        -9.77559388e-03,  7.66153336e-02, -3.62332724e-02,\n",
            "         7.14586005e-02,  1.36486501e-01, -3.61443534e-02,\n",
            "         4.62122560e-02, -6.25890940e-02, -9.61743668e-02,\n",
            "        -1.72010083e-02, -2.72361953e-02, -3.31898555e-02,\n",
            "         6.92422986e-02, -5.93644418e-02,  7.52034038e-03,\n",
            "         6.88950270e-02, -3.42867188e-02, -1.79328490e-02,\n",
            "        -4.16424163e-02, -1.42775197e-03,  4.71743159e-02,\n",
            "         1.54177155e-02, -9.80873331e-02,  1.88307818e-02,\n",
            "        -1.00534819e-02, -2.43515652e-02, -3.64401075e-03,\n",
            "         6.28759665e-03, -3.18540484e-02, -2.67794710e-02,\n",
            "         8.49377215e-02,  7.28940591e-02, -3.11960429e-02,\n",
            "         3.97052467e-02, -8.98639709e-02,  2.16672253e-02,\n",
            "        -3.83620784e-02,  6.95455074e-02, -7.49102011e-02,\n",
            "         1.10190041e-01,  3.58404033e-03,  5.92415668e-02,\n",
            "        -4.80497964e-02,  9.13071558e-02,  1.79061946e-02,\n",
            "         3.00412299e-03,  1.79024749e-02,  4.41292860e-02,\n",
            "        -5.15999310e-02, -6.15582950e-02,  4.98075597e-02,\n",
            "        -6.71782671e-03, -9.47853848e-02, -7.35518485e-02,\n",
            "        -1.92584209e-02, -9.16393995e-02, -9.80649814e-02,\n",
            "         1.09951600e-01,  5.58590852e-02,  1.68404002e-02,\n",
            "         8.41234401e-02,  5.75108491e-02,  4.17299867e-02,\n",
            "         1.30987838e-02, -7.81300962e-02,  5.19251171e-03,\n",
            "         6.51165023e-02, -6.76807389e-02,  1.06624752e-01,\n",
            "         1.92639474e-02,  4.84527126e-02, -4.65419888e-02,\n",
            "         5.49324453e-02, -8.95298198e-02,  4.22412753e-02,\n",
            "         7.63332620e-02],\n",
            "       [ 2.55403165e-02,  3.49639729e-02,  8.98624286e-02,\n",
            "         7.24235084e-03, -1.03734203e-01,  8.17691237e-02,\n",
            "         8.42438191e-02, -4.54914048e-02, -9.04477295e-03,\n",
            "         4.29863185e-02, -1.03451513e-01, -8.91869143e-02,\n",
            "         4.87949364e-02,  5.71792461e-02,  1.69163924e-02,\n",
            "        -7.49454414e-03, -4.00503129e-02,  1.54002160e-02,\n",
            "        -7.84536451e-02, -6.33668154e-02, -4.96897325e-02,\n",
            "        -2.86405478e-02,  2.21411642e-02, -4.91940081e-02,\n",
            "         6.16909377e-02,  6.12207018e-02,  1.01221517e-01,\n",
            "         3.58423358e-03,  3.38387191e-02, -1.20312437e-01,\n",
            "         5.63112944e-02,  3.74631621e-02,  2.51187384e-02,\n",
            "         1.98910683e-02, -1.19543575e-01,  4.57315855e-02,\n",
            "        -2.91990470e-02, -1.16370350e-01,  9.13156793e-02,\n",
            "        -7.01343548e-03,  8.11568350e-02, -6.36012405e-02,\n",
            "        -4.12437581e-02,  2.53639780e-02, -6.40343949e-02,\n",
            "         6.02452643e-02, -7.58641064e-02, -2.13297177e-02,\n",
            "         3.82382013e-02,  7.54938573e-02, -9.61418897e-02,\n",
            "         3.92785035e-02,  5.81209511e-02, -5.41891844e-04,\n",
            "        -5.32930158e-02,  2.06966382e-02, -1.46933068e-02,\n",
            "        -3.38363014e-02, -3.15423459e-02,  5.10247312e-02,\n",
            "         5.22096306e-02, -7.80373812e-02, -2.59245969e-02,\n",
            "        -4.70548831e-02, -4.57247160e-02,  3.14592049e-02,\n",
            "        -7.73662236e-03, -5.02152033e-02, -1.48041267e-02,\n",
            "         3.97440605e-02,  6.14066757e-02, -1.17370553e-01,\n",
            "        -8.62106979e-02,  9.41590294e-02, -2.62238495e-02,\n",
            "         3.72857377e-02, -3.02429125e-02, -5.84267080e-02,\n",
            "         4.91022356e-02, -2.29439363e-02,  3.83984186e-02,\n",
            "         1.15149543e-02, -5.18571176e-02, -7.87018687e-02,\n",
            "        -6.96975621e-04,  7.36122429e-02, -6.42383844e-02,\n",
            "         4.72653545e-02,  1.88070908e-02,  4.83621955e-02,\n",
            "         4.75292280e-02,  4.05879915e-02, -6.22090437e-02,\n",
            "        -3.55701298e-02, -5.06526902e-02, -8.31649899e-02,\n",
            "         1.58810243e-02, -4.97689992e-02,  2.07227040e-02,\n",
            "         9.41630378e-02]], dtype=float32), array([-0.00096695, -0.00290606, -0.00757657,  0.01313732, -0.00192101,\n",
            "       -0.01387767,  0.00203163,  0.01640502, -0.00263535,  0.01748654,\n",
            "        0.00493323, -0.00530912, -0.00380849,  0.00686163, -0.00022083,\n",
            "        0.01240644, -0.0146733 , -0.01883623, -0.0097968 ,  0.01301334,\n",
            "       -0.00673143, -0.00402983,  0.02403908, -0.00513278, -0.00045396,\n",
            "       -0.02411385, -0.00046818, -0.01950954, -0.00271821,  0.01747494,\n",
            "       -0.00303954, -0.00060198,  0.01822667,  0.00177716,  0.01269619,\n",
            "       -0.00881908,  0.00690273,  0.00682799, -0.00022275, -0.00125479,\n",
            "        0.0030872 , -0.00361051,  0.0065155 ,  0.00137974,  0.00613033,\n",
            "       -0.00850269,  0.01011103,  0.00336125, -0.00294629,  0.00620148,\n",
            "        0.01376591,  0.00091477, -0.01273663,  0.01244492, -0.00191095,\n",
            "        0.01156149,  0.00937422,  0.00568423, -0.00334821,  0.00210316,\n",
            "        0.00321596,  0.00622997, -0.01095668,  0.00545446,  0.00491731,\n",
            "       -0.00357514, -0.00265785,  0.00704048, -0.00263057, -0.01470935,\n",
            "        0.01013805, -0.00264844,  0.00591746,  0.00784452,  0.0055655 ,\n",
            "       -0.00317629,  0.01950707, -0.00099739, -0.01526386,  0.01430951,\n",
            "       -0.00274193,  0.00196511, -0.00647894, -0.01243041, -0.00496206,\n",
            "       -0.0038731 ,  0.00523579,  0.00624641,  0.01181865, -0.0073301 ,\n",
            "       -0.00311485,  0.00897132, -0.00622812, -0.003204  ,  0.00172685,\n",
            "       -0.00615298,  0.00563677,  0.01093925, -0.0037516 , -0.01437975],\n",
            "      dtype=float32)]\n",
            "[]\n",
            "[array([[-0.10678828,  0.01666441, -0.12340215, ...,  0.03860084,\n",
            "        -0.09958578,  0.00273396],\n",
            "       [-0.15580289,  0.03077199, -0.02251958, ...,  0.03442848,\n",
            "         0.12015947, -0.04295816],\n",
            "       [-0.16855699, -0.08104654,  0.02388662, ...,  0.14669554,\n",
            "        -0.21177015,  0.06918015],\n",
            "       ...,\n",
            "       [-0.02618711,  0.13766827,  0.10063288, ..., -0.0300087 ,\n",
            "         0.1419437 , -0.20276083],\n",
            "       [ 0.17893723,  0.14528765, -0.13148412, ...,  0.04317048,\n",
            "        -0.1501112 , -0.08475146],\n",
            "       [-0.08604423, -0.06072702, -0.306217  , ..., -0.15338627,\n",
            "        -0.03417179,  0.22803888]], dtype=float32), array([-0.00844933, -0.00520736, -0.02573295, -0.00094151,  0.00456948,\n",
            "       -0.01498306, -0.01466037, -0.01073694,  0.00187239,  0.00184889,\n",
            "       -0.01252073, -0.00689015, -0.00119405,  0.00245444,  0.01024114,\n",
            "        0.00429918, -0.02726484,  0.00539876,  0.00576168, -0.02525242,\n",
            "       -0.00497424, -0.00117629,  0.00635216,  0.00536329,  0.00091811,\n",
            "       -0.00719764,  0.01869131,  0.00511813,  0.00126949, -0.00188144,\n",
            "       -0.00843681,  0.00718978,  0.0069561 ,  0.02199367, -0.00051229,\n",
            "        0.00630591, -0.0211364 , -0.02230554,  0.00965266,  0.00358828,\n",
            "        0.00235065, -0.00939378,  0.0026552 ,  0.00257369, -0.02680087,\n",
            "        0.00402463, -0.02247062, -0.00468702,  0.01771274, -0.03310718,\n",
            "       -0.01446888, -0.00074662, -0.00923758, -0.00496552,  0.00064882,\n",
            "       -0.02765667, -0.00229073, -0.02057444,  0.00690386, -0.04161705,\n",
            "       -0.00181102,  0.00093588,  0.01384305,  0.00680325, -0.0040389 ,\n",
            "       -0.01189824,  0.00055699,  0.00399413, -0.00445371, -0.00181313,\n",
            "       -0.01097094, -0.00779242,  0.01011904, -0.00284811,  0.0022028 ,\n",
            "       -0.01826279,  0.00498151, -0.0039834 , -0.00221345, -0.01849579,\n",
            "       -0.00028597, -0.00072973, -0.02076001, -0.00694555, -0.02741337,\n",
            "        0.00547526, -0.00613896, -0.00203574, -0.00989697,  0.00372904,\n",
            "       -0.00859588, -0.02388016,  0.00072625, -0.01478233, -0.0062979 ,\n",
            "        0.0091257 ,  0.00322144, -0.00184682,  0.00830675,  0.00888745],\n",
            "      dtype=float32)]\n",
            "[array([[ 0.64404535],\n",
            "       [ 0.40708184],\n",
            "       [-0.82762337],\n",
            "       [ 0.47937867],\n",
            "       [-0.60613817],\n",
            "       [-0.41560102],\n",
            "       [-0.24638116],\n",
            "       [-0.20712909],\n",
            "       [ 0.36755985],\n",
            "       [ 0.4532429 ],\n",
            "       [ 0.47168285],\n",
            "       [ 0.69482774],\n",
            "       [ 0.17436604],\n",
            "       [ 0.1765538 ],\n",
            "       [-0.60029167],\n",
            "       [-0.6691489 ],\n",
            "       [-0.706799  ],\n",
            "       [ 0.21881934],\n",
            "       [ 0.52243936],\n",
            "       [-0.47459957],\n",
            "       [ 0.44675156],\n",
            "       [ 0.07950759],\n",
            "       [ 0.544032  ],\n",
            "       [ 0.58011067],\n",
            "       [-0.5890018 ],\n",
            "       [ 0.56721616],\n",
            "       [-0.4406631 ],\n",
            "       [-0.37711173],\n",
            "       [ 0.62081206],\n",
            "       [-0.07398982],\n",
            "       [ 0.4186754 ],\n",
            "       [ 0.79307663],\n",
            "       [ 0.18394957],\n",
            "       [-0.6441004 ],\n",
            "       [ 0.395483  ],\n",
            "       [ 0.46440235],\n",
            "       [-0.83592457],\n",
            "       [-0.62905127],\n",
            "       [ 0.75041705],\n",
            "       [-0.7127738 ],\n",
            "       [ 0.3531937 ],\n",
            "       [-0.28758085],\n",
            "       [-0.6746709 ],\n",
            "       [ 0.14880663],\n",
            "       [-0.58264273],\n",
            "       [-0.27830058],\n",
            "       [-0.6631707 ],\n",
            "       [ 0.19022661],\n",
            "       [-0.40062344],\n",
            "       [-0.816412  ],\n",
            "       [ 0.5984617 ],\n",
            "       [ 0.23589253],\n",
            "       [ 0.3523842 ],\n",
            "       [ 0.07752509],\n",
            "       [-0.3547387 ],\n",
            "       [-0.64124626],\n",
            "       [ 0.29769957],\n",
            "       [ 0.7381356 ],\n",
            "       [ 0.8682713 ],\n",
            "       [-0.92885077],\n",
            "       [ 0.6585845 ],\n",
            "       [ 0.5588045 ],\n",
            "       [ 0.9509194 ],\n",
            "       [ 0.4677659 ],\n",
            "       [ 0.34299695],\n",
            "       [ 0.46557468],\n",
            "       [ 0.1401999 ],\n",
            "       [ 0.22787942],\n",
            "       [ 0.61454856],\n",
            "       [ 0.21560144],\n",
            "       [-0.17000188],\n",
            "       [ 0.30750567],\n",
            "       [-0.5985136 ],\n",
            "       [ 0.63728774],\n",
            "       [ 0.587269  ],\n",
            "       [-0.59867734],\n",
            "       [ 0.11380313],\n",
            "       [-0.4807297 ],\n",
            "       [-0.3214964 ],\n",
            "       [-0.44784373],\n",
            "       [ 0.5991282 ],\n",
            "       [-0.4620185 ],\n",
            "       [-0.5208037 ],\n",
            "       [ 0.6106652 ],\n",
            "       [-0.9491233 ],\n",
            "       [-0.21216336],\n",
            "       [ 0.35990262],\n",
            "       [ 0.379114  ],\n",
            "       [ 0.7887279 ],\n",
            "       [ 0.43421626],\n",
            "       [ 0.37679008],\n",
            "       [-0.686073  ],\n",
            "       [ 0.5558283 ],\n",
            "       [-0.41016012],\n",
            "       [ 0.2441827 ],\n",
            "       [-0.62436795],\n",
            "       [-0.41246736],\n",
            "       [-0.11943476],\n",
            "       [ 0.6710726 ],\n",
            "       [-1.0100211 ]], dtype=float32)]\n",
            "[]\n"
          ],
          "name": "stdout"
        }
      ]
    },
    {
      "metadata": {
        "id": "B47Vfhww4EPr",
        "colab_type": "code",
        "colab": {}
      },
      "cell_type": "code",
      "source": [
        "w_l1 = model.get_layer(index=1).get_weights()"
      ],
      "execution_count": 0,
      "outputs": []
    },
    {
      "metadata": {
        "id": "PKd4C4qzskaX",
        "colab_type": "code",
        "outputId": "e9c44a1d-d9b0-4645-b05f-e43b8f18e0e0",
        "colab": {
          "base_uri": "https://localhost:8080/",
          "height": 433
        }
      },
      "cell_type": "code",
      "source": [
        "seged = w_l1[0][0]\n",
        "print(seged[np.abs(seged)<0.001])"
      ],
      "execution_count": 0,
      "outputs": [
        {
          "output_type": "stream",
          "text": [
            "[-1.5039858e-04 -8.9120935e-04 -4.2635715e-05  1.7171307e-04\n",
            " -4.6672462e-04  5.4875668e-04 -5.6825456e-04 -6.9135189e-04\n",
            " -8.0573640e-04 -4.0894374e-04  9.6048467e-04 -1.9902003e-04\n",
            " -8.3368574e-04 -1.7618411e-05 -2.4196098e-04  3.6199106e-04\n",
            "  4.2698934e-04  7.6443946e-05  4.6410912e-04 -7.1210344e-04\n",
            " -2.0256813e-04 -3.9755326e-04 -2.8478331e-05  2.8189813e-04\n",
            " -6.7060150e-04 -4.0122872e-04  9.8311331e-04  6.3643325e-04\n",
            "  8.3063479e-04  5.6191231e-04 -4.9614010e-04 -6.2014081e-04\n",
            " -7.6488184e-04  6.4124295e-04  2.8056814e-04  9.7071170e-04\n",
            "  3.5424507e-04  5.2920112e-04  7.2862470e-04 -5.3327705e-04\n",
            " -3.5278674e-04 -2.1088216e-04  3.9573578e-04  9.1063802e-04\n",
            " -5.4644630e-04 -8.7551173e-04 -7.8518875e-04  2.6889145e-05\n",
            " -7.0601277e-04  7.4167008e-04  3.1319621e-04 -5.9458573e-04\n",
            " -2.1451968e-05 -4.7796813e-04 -7.8255020e-05  7.7784830e-04\n",
            " -5.1770662e-04 -7.4486015e-06 -7.0740841e-04 -9.0553612e-04\n",
            "  4.1880668e-04  9.4705215e-04 -5.4581341e-04  4.6409399e-04\n",
            " -2.7960161e-04 -9.6806203e-04 -7.7237358e-04  4.7183066e-04\n",
            " -3.3302564e-04  8.2718977e-04 -6.4635056e-04  1.4602888e-04\n",
            "  1.6015413e-04  2.9902463e-04 -8.8105508e-04 -4.7583668e-04\n",
            "  2.2214436e-04  3.3349154e-04  5.9701782e-04  4.9193000e-04\n",
            " -2.7678552e-04 -9.2714548e-04  1.8614274e-04 -8.9109509e-04\n",
            " -4.2913313e-04  9.0771745e-04 -9.3620410e-04 -6.2154839e-04\n",
            " -4.0262449e-04 -4.4587528e-04  2.0164478e-04 -6.0004520e-04\n",
            " -5.9026259e-04  4.0426559e-05 -2.6470912e-04 -8.9054409e-04]\n"
          ],
          "name": "stdout"
        }
      ]
    },
    {
      "metadata": {
        "id": "iXk0hANHsk51",
        "colab_type": "code",
        "colab": {}
      },
      "cell_type": "code",
      "source": [
        ""
      ],
      "execution_count": 0,
      "outputs": []
    },
    {
      "metadata": {
        "id": "aUy4f7q8yvYI",
        "colab_type": "text"
      },
      "cell_type": "markdown",
      "source": [
        "# Boston Housing Prices "
      ]
    },
    {
      "metadata": {
        "id": "8ZRg4-EgyxQ2",
        "colab_type": "code",
        "outputId": "97580d12-453b-47c7-a50c-fe98b8f919af",
        "colab": {
          "base_uri": "https://localhost:8080/",
          "height": 228
        }
      },
      "cell_type": "code",
      "source": [
        "!wget https://archive.ics.uci.edu/ml/machine-learning-databases/housing/housing.data"
      ],
      "execution_count": 0,
      "outputs": [
        {
          "output_type": "stream",
          "text": [
            "--2018-10-04 11:22:31--  https://archive.ics.uci.edu/ml/machine-learning-databases/housing/housing.data\n",
            "Resolving archive.ics.uci.edu (archive.ics.uci.edu)... 128.195.10.249\n",
            "Connecting to archive.ics.uci.edu (archive.ics.uci.edu)|128.195.10.249|:443... connected.\n",
            "HTTP request sent, awaiting response... 200 OK\n",
            "Length: 49082 (48K) [text/plain]\n",
            "Saving to: ‘housing.data’\n",
            "\n",
            "housing.data        100%[===================>]  47.93K  --.-KB/s    in 0.09s   \n",
            "\n",
            "2018-10-04 11:22:31 (551 KB/s) - ‘housing.data’ saved [49082/49082]\n",
            "\n"
          ],
          "name": "stdout"
        }
      ]
    },
    {
      "metadata": {
        "id": "lyq7dofq0Ksq",
        "colab_type": "code",
        "outputId": "1ef29f8f-7f7a-46cc-e7bc-0d34a3242400",
        "colab": {
          "base_uri": "https://localhost:8080/",
          "height": 35
        }
      },
      "cell_type": "code",
      "source": [
        "!ls"
      ],
      "execution_count": 0,
      "outputs": [
        {
          "output_type": "stream",
          "text": [
            "housing.data  sample_data  weights.hdf5\n"
          ],
          "name": "stdout"
        }
      ]
    },
    {
      "metadata": {
        "id": "ZQnHxyEl0MUF",
        "colab_type": "code",
        "colab": {}
      },
      "cell_type": "code",
      "source": [
        "import numpy as np\n",
        "from keras.models import Sequential\n",
        "from keras.layers import Dense, Dropout, Activation\n",
        "from keras.callbacks import EarlyStopping, ModelCheckpoint\n",
        "import copy\n",
        "import pandas as pd\n",
        "from keras.optimizers import SGD\n",
        "from sklearn.preprocessing import StandardScaler\n",
        "from tensorflow import set_random_seed\n",
        "set_random_seed(123)\n",
        "np.random.seed(123)"
      ],
      "execution_count": 0,
      "outputs": []
    },
    {
      "metadata": {
        "id": "bgpolaGp0ixW",
        "colab_type": "code",
        "colab": {}
      },
      "cell_type": "code",
      "source": [
        "df = pd.read_csv(\"housing.data\", delim_whitespace=True, header=None)\n",
        "dataset=df.values"
      ],
      "execution_count": 0,
      "outputs": []
    },
    {
      "metadata": {
        "id": "8l_P_d7O00mJ",
        "colab_type": "code",
        "outputId": "0ebbf55a-c79d-4fd3-9fb7-e84c0a71982f",
        "colab": {
          "base_uri": "https://localhost:8080/",
          "height": 35
        }
      },
      "cell_type": "code",
      "source": [
        "dataset.shape"
      ],
      "execution_count": 0,
      "outputs": [
        {
          "output_type": "execute_result",
          "data": {
            "text/plain": [
              "(506, 14)"
            ]
          },
          "metadata": {
            "tags": []
          },
          "execution_count": 157
        }
      ]
    },
    {
      "metadata": {
        "id": "XKYLwl6602Rc",
        "colab_type": "code",
        "colab": {}
      },
      "cell_type": "code",
      "source": [
        "test_split = 0.1\n",
        "valid_split = 0.1\n",
        "\n",
        "X = dataset[:,:13]\n",
        "Y = dataset[:,13]\n",
        "\n",
        "v_index = int(X.shape[0]*(1-valid_split-test_split))\n",
        "t_index = int(X.shape[0]*(1-test_split))\n",
        "\n",
        "X_test = X[t_index:]\n",
        "Y_test = Y[t_index:]\n",
        "X_valid = X[v_index:t_index]\n",
        "Y_valid = Y[v_index:t_index]\n",
        "X_train = X[:v_index]\n",
        "Y_train = Y[:v_index]\n",
        "\n",
        "scaler = StandardScaler().fit(X_train)\n",
        "X_train = scaler.transform(X_train)\n",
        "X_valid = scaler.transform(X_valid)\n",
        "X_test = scaler.transform(X_test)"
      ],
      "execution_count": 0,
      "outputs": []
    },
    {
      "metadata": {
        "id": "BiuIIqut1uMa",
        "colab_type": "code",
        "outputId": "2c20fd86-13b9-4090-c508-4b2530b5d90c",
        "colab": {
          "base_uri": "https://localhost:8080/",
          "height": 2291
        }
      },
      "cell_type": "code",
      "source": [
        "es = EarlyStopping(patience = 30)\n",
        "mcp = ModelCheckpoint(filepath='weights.hdf5', verbose=1, save_best_only=True)\n",
        "\n",
        "model = Sequential()\n",
        "model.add(Dense(60, input_shape=(X_train.shape[1],)))\n",
        "model.add(Activation('sigmoid'))\n",
        "model.add(Dropout(0.3))\n",
        "model.add(Dense(1, activation='linear'))\n",
        "\n",
        "sgd = SGD(lr=1e-3, decay=1e-6, momentum=0.9, nesterov=True)\n",
        "model.compile(loss='mse', optimizer=sgd)\n",
        "\n",
        "history = model.fit(X_train, Y_train,\n",
        "                   epochs=10000000,\n",
        "                   batch_size=8,\n",
        "                   verbose=2,\n",
        "                   validation_data=(X_valid,Y_valid),\n",
        "                   callbacks=[mcp,es])"
      ],
      "execution_count": 0,
      "outputs": [
        {
          "output_type": "stream",
          "text": [
            "WARNING:tensorflow:Variable *= will be deprecated. Use `var.assign(var * other)` if you want assignment to the variable value or `x = x * y` if you want a new python Tensor object.\n",
            "Train on 404 samples, validate on 51 samples\n",
            "Epoch 1/10000000\n",
            " - 1s - loss: 114.7415 - val_loss: 32.4773\n",
            "\n",
            "Epoch 00001: val_loss improved from inf to 32.47727, saving model to weights.hdf5\n",
            "Epoch 2/10000000\n",
            " - 0s - loss: 28.9525 - val_loss: 20.8096\n",
            "\n",
            "Epoch 00002: val_loss improved from 32.47727 to 20.80961, saving model to weights.hdf5\n",
            "Epoch 3/10000000\n",
            " - 0s - loss: 34.5627 - val_loss: 22.2777\n",
            "\n",
            "Epoch 00003: val_loss did not improve from 20.80961\n",
            "Epoch 4/10000000\n",
            " - 0s - loss: 24.7457 - val_loss: 51.0321\n",
            "\n",
            "Epoch 00004: val_loss did not improve from 20.80961\n",
            "Epoch 5/10000000\n",
            " - 0s - loss: 26.0502 - val_loss: 46.6167\n",
            "\n",
            "Epoch 00005: val_loss did not improve from 20.80961\n",
            "Epoch 6/10000000\n",
            " - 0s - loss: 26.4881 - val_loss: 24.4526\n",
            "\n",
            "Epoch 00006: val_loss did not improve from 20.80961\n",
            "Epoch 7/10000000\n",
            " - 0s - loss: 24.4235 - val_loss: 27.0068\n",
            "\n",
            "Epoch 00007: val_loss did not improve from 20.80961\n",
            "Epoch 8/10000000\n",
            " - 0s - loss: 21.7461 - val_loss: 40.3105\n",
            "\n",
            "Epoch 00008: val_loss did not improve from 20.80961\n",
            "Epoch 9/10000000\n",
            " - 0s - loss: 22.5709 - val_loss: 23.3664\n",
            "\n",
            "Epoch 00009: val_loss did not improve from 20.80961\n",
            "Epoch 10/10000000\n",
            " - 0s - loss: 22.9763 - val_loss: 49.5375\n",
            "\n",
            "Epoch 00010: val_loss did not improve from 20.80961\n",
            "Epoch 11/10000000\n",
            " - 0s - loss: 20.7865 - val_loss: 45.8802\n",
            "\n",
            "Epoch 00011: val_loss did not improve from 20.80961\n",
            "Epoch 12/10000000\n",
            " - 0s - loss: 19.5681 - val_loss: 33.7956\n",
            "\n",
            "Epoch 00012: val_loss did not improve from 20.80961\n",
            "Epoch 13/10000000\n",
            " - 0s - loss: 21.6195 - val_loss: 40.1798\n",
            "\n",
            "Epoch 00013: val_loss did not improve from 20.80961\n",
            "Epoch 14/10000000\n",
            " - 0s - loss: 19.9199 - val_loss: 51.4996\n",
            "\n",
            "Epoch 00014: val_loss did not improve from 20.80961\n",
            "Epoch 15/10000000\n",
            " - 0s - loss: 21.2434 - val_loss: 44.8648\n",
            "\n",
            "Epoch 00015: val_loss did not improve from 20.80961\n",
            "Epoch 16/10000000\n",
            " - 0s - loss: 21.1777 - val_loss: 42.8038\n",
            "\n",
            "Epoch 00016: val_loss did not improve from 20.80961\n",
            "Epoch 17/10000000\n",
            " - 0s - loss: 17.8214 - val_loss: 44.9376\n",
            "\n",
            "Epoch 00017: val_loss did not improve from 20.80961\n",
            "Epoch 18/10000000\n",
            " - 0s - loss: 15.3824 - val_loss: 40.3416\n",
            "\n",
            "Epoch 00018: val_loss did not improve from 20.80961\n",
            "Epoch 19/10000000\n",
            " - 0s - loss: 16.6638 - val_loss: 78.4935\n",
            "\n",
            "Epoch 00019: val_loss did not improve from 20.80961\n",
            "Epoch 20/10000000\n",
            " - 0s - loss: 17.7497 - val_loss: 98.9994\n",
            "\n",
            "Epoch 00020: val_loss did not improve from 20.80961\n",
            "Epoch 21/10000000\n",
            " - 0s - loss: 18.2817 - val_loss: 68.3175\n",
            "\n",
            "Epoch 00021: val_loss did not improve from 20.80961\n",
            "Epoch 22/10000000\n",
            " - 0s - loss: 15.3703 - val_loss: 62.7185\n",
            "\n",
            "Epoch 00022: val_loss did not improve from 20.80961\n",
            "Epoch 23/10000000\n",
            " - 0s - loss: 15.3929 - val_loss: 56.3165\n",
            "\n",
            "Epoch 00023: val_loss did not improve from 20.80961\n",
            "Epoch 24/10000000\n",
            " - 0s - loss: 16.2259 - val_loss: 36.0132\n",
            "\n",
            "Epoch 00024: val_loss did not improve from 20.80961\n",
            "Epoch 25/10000000\n",
            " - 0s - loss: 15.6752 - val_loss: 45.3903\n",
            "\n",
            "Epoch 00025: val_loss did not improve from 20.80961\n",
            "Epoch 26/10000000\n",
            " - 0s - loss: 16.4631 - val_loss: 61.3509\n",
            "\n",
            "Epoch 00026: val_loss did not improve from 20.80961\n",
            "Epoch 27/10000000\n",
            " - 0s - loss: 16.2930 - val_loss: 59.5463\n",
            "\n",
            "Epoch 00027: val_loss did not improve from 20.80961\n",
            "Epoch 28/10000000\n",
            " - 0s - loss: 16.2164 - val_loss: 36.1374\n",
            "\n",
            "Epoch 00028: val_loss did not improve from 20.80961\n",
            "Epoch 29/10000000\n",
            " - 0s - loss: 15.7480 - val_loss: 51.5069\n",
            "\n",
            "Epoch 00029: val_loss did not improve from 20.80961\n",
            "Epoch 30/10000000\n",
            " - 0s - loss: 15.6407 - val_loss: 42.0799\n",
            "\n",
            "Epoch 00030: val_loss did not improve from 20.80961\n",
            "Epoch 31/10000000\n",
            " - 0s - loss: 14.3363 - val_loss: 40.4091\n",
            "\n",
            "Epoch 00031: val_loss did not improve from 20.80961\n",
            "Epoch 32/10000000\n",
            " - 0s - loss: 16.2413 - val_loss: 51.1892\n",
            "\n",
            "Epoch 00032: val_loss did not improve from 20.80961\n"
          ],
          "name": "stdout"
        }
      ]
    },
    {
      "metadata": {
        "id": "o1vGYW7i22kU",
        "colab_type": "code",
        "outputId": "52f0c1ca-2cf0-4107-e824-4c2a93fad5ba",
        "colab": {
          "base_uri": "https://localhost:8080/",
          "height": 176
        }
      },
      "cell_type": "code",
      "source": [
        "!pip install keras --upgrade"
      ],
      "execution_count": 0,
      "outputs": [
        {
          "output_type": "stream",
          "text": [
            "Requirement already up-to-date: keras in /usr/local/lib/python3.6/dist-packages (2.2.4)\n",
            "Requirement already satisfied, skipping upgrade: six>=1.9.0 in /usr/local/lib/python3.6/dist-packages (from keras) (1.11.0)\n",
            "Requirement already satisfied, skipping upgrade: scipy>=0.14 in /usr/local/lib/python3.6/dist-packages (from keras) (0.19.1)\n",
            "Requirement already satisfied, skipping upgrade: numpy>=1.9.1 in /usr/local/lib/python3.6/dist-packages (from keras) (1.14.6)\n",
            "Requirement already satisfied, skipping upgrade: h5py in /usr/local/lib/python3.6/dist-packages (from keras) (2.8.0)\n",
            "Requirement already satisfied, skipping upgrade: keras-preprocessing>=1.0.5 in /usr/local/lib/python3.6/dist-packages (from keras) (1.0.5)\n",
            "Requirement already satisfied, skipping upgrade: keras-applications>=1.0.6 in /usr/local/lib/python3.6/dist-packages (from keras) (1.0.6)\n",
            "Requirement already satisfied, skipping upgrade: pyyaml in /usr/local/lib/python3.6/dist-packages (from keras) (3.13)\n"
          ],
          "name": "stdout"
        }
      ]
    },
    {
      "metadata": {
        "id": "WGxW73dO3oRk",
        "colab_type": "code",
        "outputId": "8b3f3c98-2cc2-4daa-c450-6b4f9cceaf59",
        "colab": {
          "base_uri": "https://localhost:8080/",
          "height": 314
        }
      },
      "cell_type": "code",
      "source": [
        "df.describe()"
      ],
      "execution_count": 0,
      "outputs": [
        {
          "output_type": "execute_result",
          "data": {
            "text/html": [
              "<div>\n",
              "<style scoped>\n",
              "    .dataframe tbody tr th:only-of-type {\n",
              "        vertical-align: middle;\n",
              "    }\n",
              "\n",
              "    .dataframe tbody tr th {\n",
              "        vertical-align: top;\n",
              "    }\n",
              "\n",
              "    .dataframe thead th {\n",
              "        text-align: right;\n",
              "    }\n",
              "</style>\n",
              "<table border=\"1\" class=\"dataframe\">\n",
              "  <thead>\n",
              "    <tr style=\"text-align: right;\">\n",
              "      <th></th>\n",
              "      <th>0</th>\n",
              "      <th>1</th>\n",
              "      <th>2</th>\n",
              "      <th>3</th>\n",
              "      <th>4</th>\n",
              "      <th>5</th>\n",
              "      <th>6</th>\n",
              "      <th>7</th>\n",
              "      <th>8</th>\n",
              "      <th>9</th>\n",
              "      <th>10</th>\n",
              "      <th>11</th>\n",
              "      <th>12</th>\n",
              "      <th>13</th>\n",
              "    </tr>\n",
              "  </thead>\n",
              "  <tbody>\n",
              "    <tr>\n",
              "      <th>count</th>\n",
              "      <td>506.000000</td>\n",
              "      <td>506.000000</td>\n",
              "      <td>506.000000</td>\n",
              "      <td>506.000000</td>\n",
              "      <td>506.000000</td>\n",
              "      <td>506.000000</td>\n",
              "      <td>506.000000</td>\n",
              "      <td>506.000000</td>\n",
              "      <td>506.000000</td>\n",
              "      <td>506.000000</td>\n",
              "      <td>506.000000</td>\n",
              "      <td>506.000000</td>\n",
              "      <td>506.000000</td>\n",
              "      <td>506.000000</td>\n",
              "    </tr>\n",
              "    <tr>\n",
              "      <th>mean</th>\n",
              "      <td>3.613524</td>\n",
              "      <td>11.363636</td>\n",
              "      <td>11.136779</td>\n",
              "      <td>0.069170</td>\n",
              "      <td>0.554695</td>\n",
              "      <td>6.284634</td>\n",
              "      <td>68.574901</td>\n",
              "      <td>3.795043</td>\n",
              "      <td>9.549407</td>\n",
              "      <td>408.237154</td>\n",
              "      <td>18.455534</td>\n",
              "      <td>356.674032</td>\n",
              "      <td>12.653063</td>\n",
              "      <td>22.532806</td>\n",
              "    </tr>\n",
              "    <tr>\n",
              "      <th>std</th>\n",
              "      <td>8.601545</td>\n",
              "      <td>23.322453</td>\n",
              "      <td>6.860353</td>\n",
              "      <td>0.253994</td>\n",
              "      <td>0.115878</td>\n",
              "      <td>0.702617</td>\n",
              "      <td>28.148861</td>\n",
              "      <td>2.105710</td>\n",
              "      <td>8.707259</td>\n",
              "      <td>168.537116</td>\n",
              "      <td>2.164946</td>\n",
              "      <td>91.294864</td>\n",
              "      <td>7.141062</td>\n",
              "      <td>9.197104</td>\n",
              "    </tr>\n",
              "    <tr>\n",
              "      <th>min</th>\n",
              "      <td>0.006320</td>\n",
              "      <td>0.000000</td>\n",
              "      <td>0.460000</td>\n",
              "      <td>0.000000</td>\n",
              "      <td>0.385000</td>\n",
              "      <td>3.561000</td>\n",
              "      <td>2.900000</td>\n",
              "      <td>1.129600</td>\n",
              "      <td>1.000000</td>\n",
              "      <td>187.000000</td>\n",
              "      <td>12.600000</td>\n",
              "      <td>0.320000</td>\n",
              "      <td>1.730000</td>\n",
              "      <td>5.000000</td>\n",
              "    </tr>\n",
              "    <tr>\n",
              "      <th>25%</th>\n",
              "      <td>0.082045</td>\n",
              "      <td>0.000000</td>\n",
              "      <td>5.190000</td>\n",
              "      <td>0.000000</td>\n",
              "      <td>0.449000</td>\n",
              "      <td>5.885500</td>\n",
              "      <td>45.025000</td>\n",
              "      <td>2.100175</td>\n",
              "      <td>4.000000</td>\n",
              "      <td>279.000000</td>\n",
              "      <td>17.400000</td>\n",
              "      <td>375.377500</td>\n",
              "      <td>6.950000</td>\n",
              "      <td>17.025000</td>\n",
              "    </tr>\n",
              "    <tr>\n",
              "      <th>50%</th>\n",
              "      <td>0.256510</td>\n",
              "      <td>0.000000</td>\n",
              "      <td>9.690000</td>\n",
              "      <td>0.000000</td>\n",
              "      <td>0.538000</td>\n",
              "      <td>6.208500</td>\n",
              "      <td>77.500000</td>\n",
              "      <td>3.207450</td>\n",
              "      <td>5.000000</td>\n",
              "      <td>330.000000</td>\n",
              "      <td>19.050000</td>\n",
              "      <td>391.440000</td>\n",
              "      <td>11.360000</td>\n",
              "      <td>21.200000</td>\n",
              "    </tr>\n",
              "    <tr>\n",
              "      <th>75%</th>\n",
              "      <td>3.677082</td>\n",
              "      <td>12.500000</td>\n",
              "      <td>18.100000</td>\n",
              "      <td>0.000000</td>\n",
              "      <td>0.624000</td>\n",
              "      <td>6.623500</td>\n",
              "      <td>94.075000</td>\n",
              "      <td>5.188425</td>\n",
              "      <td>24.000000</td>\n",
              "      <td>666.000000</td>\n",
              "      <td>20.200000</td>\n",
              "      <td>396.225000</td>\n",
              "      <td>16.955000</td>\n",
              "      <td>25.000000</td>\n",
              "    </tr>\n",
              "    <tr>\n",
              "      <th>max</th>\n",
              "      <td>88.976200</td>\n",
              "      <td>100.000000</td>\n",
              "      <td>27.740000</td>\n",
              "      <td>1.000000</td>\n",
              "      <td>0.871000</td>\n",
              "      <td>8.780000</td>\n",
              "      <td>100.000000</td>\n",
              "      <td>12.126500</td>\n",
              "      <td>24.000000</td>\n",
              "      <td>711.000000</td>\n",
              "      <td>22.000000</td>\n",
              "      <td>396.900000</td>\n",
              "      <td>37.970000</td>\n",
              "      <td>50.000000</td>\n",
              "    </tr>\n",
              "  </tbody>\n",
              "</table>\n",
              "</div>"
            ],
            "text/plain": [
              "               0           1           2           3           4           5   \\\n",
              "count  506.000000  506.000000  506.000000  506.000000  506.000000  506.000000   \n",
              "mean     3.613524   11.363636   11.136779    0.069170    0.554695    6.284634   \n",
              "std      8.601545   23.322453    6.860353    0.253994    0.115878    0.702617   \n",
              "min      0.006320    0.000000    0.460000    0.000000    0.385000    3.561000   \n",
              "25%      0.082045    0.000000    5.190000    0.000000    0.449000    5.885500   \n",
              "50%      0.256510    0.000000    9.690000    0.000000    0.538000    6.208500   \n",
              "75%      3.677082   12.500000   18.100000    0.000000    0.624000    6.623500   \n",
              "max     88.976200  100.000000   27.740000    1.000000    0.871000    8.780000   \n",
              "\n",
              "               6           7           8           9           10          11  \\\n",
              "count  506.000000  506.000000  506.000000  506.000000  506.000000  506.000000   \n",
              "mean    68.574901    3.795043    9.549407  408.237154   18.455534  356.674032   \n",
              "std     28.148861    2.105710    8.707259  168.537116    2.164946   91.294864   \n",
              "min      2.900000    1.129600    1.000000  187.000000   12.600000    0.320000   \n",
              "25%     45.025000    2.100175    4.000000  279.000000   17.400000  375.377500   \n",
              "50%     77.500000    3.207450    5.000000  330.000000   19.050000  391.440000   \n",
              "75%     94.075000    5.188425   24.000000  666.000000   20.200000  396.225000   \n",
              "max    100.000000   12.126500   24.000000  711.000000   22.000000  396.900000   \n",
              "\n",
              "               12          13  \n",
              "count  506.000000  506.000000  \n",
              "mean    12.653063   22.532806  \n",
              "std      7.141062    9.197104  \n",
              "min      1.730000    5.000000  \n",
              "25%      6.950000   17.025000  \n",
              "50%     11.360000   21.200000  \n",
              "75%     16.955000   25.000000  \n",
              "max     37.970000   50.000000  "
            ]
          },
          "metadata": {
            "tags": []
          },
          "execution_count": 169
        }
      ]
    },
    {
      "metadata": {
        "id": "fl8DV_Uz27cs",
        "colab_type": "code",
        "colab": {}
      },
      "cell_type": "code",
      "source": [
        "from keras.models import load_model\n",
        "model = load_model('weights.hdf5')"
      ],
      "execution_count": 0,
      "outputs": []
    },
    {
      "metadata": {
        "id": "JpUfKDIz4KMv",
        "colab_type": "code",
        "outputId": "0943d75a-f0cf-4ed8-e116-2c0b861d9b7c",
        "colab": {
          "base_uri": "https://localhost:8080/",
          "height": 35
        }
      },
      "cell_type": "code",
      "source": [
        "from sklearn.metrics import mean_squared_error\n",
        "preds = model.predict(X_test)\n",
        "err = mean_squared_error(Y_test,preds)\n",
        "\n",
        "print(\"teszt adatokon mert hiba:\",err)"
      ],
      "execution_count": 0,
      "outputs": [
        {
          "output_type": "stream",
          "text": [
            "teszt adatokon mert hiba: 13.68700675942565\n"
          ],
          "name": "stdout"
        }
      ]
    },
    {
      "metadata": {
        "id": "0lNuQBdX4VuO",
        "colab_type": "code",
        "outputId": "376f26ef-7ea4-4f6e-da6c-2baeecc25f87",
        "colab": {
          "base_uri": "https://localhost:8080/",
          "height": 35
        }
      },
      "cell_type": "code",
      "source": [
        "np.sqrt(err)"
      ],
      "execution_count": 0,
      "outputs": [
        {
          "output_type": "execute_result",
          "data": {
            "text/plain": [
              "3.6995954859181093"
            ]
          },
          "metadata": {
            "tags": []
          },
          "execution_count": 172
        }
      ]
    },
    {
      "metadata": {
        "id": "0FaZ68J04Y8M",
        "colab_type": "code",
        "outputId": "e5e1528d-d2d0-478b-9da6-48b8f73d8f74",
        "colab": {
          "base_uri": "https://localhost:8080/",
          "height": 615
        }
      },
      "cell_type": "code",
      "source": [
        "%matplotlib inline\n",
        "import seaborn as sns # matplotlib, bokeh, ....\n",
        "import matplotlib.pyplot as plt\n",
        "\n",
        "plt.figure(figsize=(10,10))\n",
        "\n",
        "sns.regplot(x=Y_test, y=preds.reshape(-1)).set(xlim=(10,30),ylim=(10,30))\n"
      ],
      "execution_count": 0,
      "outputs": [
        {
          "output_type": "execute_result",
          "data": {
            "text/plain": [
              "[(10, 30), (10, 30)]"
            ]
          },
          "metadata": {
            "tags": []
          },
          "execution_count": 174
        },
        {
          "output_type": "display_data",
          "data": {
            "image/png": "[encoded data removed]",
            "text/plain": [
              "<matplotlib.figure.Figure at 0x7f8811b3d470>"
            ]
          },
          "metadata": {
            "tags": []
          }
        }
      ]
    },
    {
      "metadata": {
        "id": "QfaPYxdD4-c3",
        "colab_type": "code",
        "colab": {}
      },
      "cell_type": "code",
      "source": [
        "preds_mean = [np.mean(Y_train) for i in range(Y_test.shape[0])]"
      ],
      "execution_count": 0,
      "outputs": []
    },
    {
      "metadata": {
        "id": "GjqbSNCJ5hRg",
        "colab_type": "code",
        "outputId": "bb25d6db-488a-4e17-bc2d-4325d1edc290",
        "colab": {
          "base_uri": "https://localhost:8080/",
          "height": 55
        }
      },
      "cell_type": "code",
      "source": [
        "print(preds_mean)"
      ],
      "execution_count": 0,
      "outputs": [
        {
          "output_type": "stream",
          "text": [
            "[24.175742574257427, 24.175742574257427, 24.175742574257427, 24.175742574257427, 24.175742574257427, 24.175742574257427, 24.175742574257427, 24.175742574257427, 24.175742574257427, 24.175742574257427, 24.175742574257427, 24.175742574257427, 24.175742574257427, 24.175742574257427, 24.175742574257427, 24.175742574257427, 24.175742574257427, 24.175742574257427, 24.175742574257427, 24.175742574257427, 24.175742574257427, 24.175742574257427, 24.175742574257427, 24.175742574257427, 24.175742574257427, 24.175742574257427, 24.175742574257427, 24.175742574257427, 24.175742574257427, 24.175742574257427, 24.175742574257427, 24.175742574257427, 24.175742574257427, 24.175742574257427, 24.175742574257427, 24.175742574257427, 24.175742574257427, 24.175742574257427, 24.175742574257427, 24.175742574257427, 24.175742574257427, 24.175742574257427, 24.175742574257427, 24.175742574257427, 24.175742574257427, 24.175742574257427, 24.175742574257427, 24.175742574257427, 24.175742574257427, 24.175742574257427, 24.175742574257427]\n"
          ],
          "name": "stdout"
        }
      ]
    },
    {
      "metadata": {
        "id": "8MZ007D35zc8",
        "colab_type": "code",
        "colab": {}
      },
      "cell_type": "code",
      "source": [
        "preds_mean = np.array(preds_mean)"
      ],
      "execution_count": 0,
      "outputs": []
    },
    {
      "metadata": {
        "id": "GGa7rluI5j8d",
        "colab_type": "code",
        "outputId": "ac7a4d6d-1cf4-4c5e-90f1-200f7f3447be",
        "colab": {
          "base_uri": "https://localhost:8080/",
          "height": 35
        }
      },
      "cell_type": "code",
      "source": [
        "Y_test.shape"
      ],
      "execution_count": 0,
      "outputs": [
        {
          "output_type": "execute_result",
          "data": {
            "text/plain": [
              "(51,)"
            ]
          },
          "metadata": {
            "tags": []
          },
          "execution_count": 177
        }
      ]
    },
    {
      "metadata": {
        "id": "JIZfA2Z_5l14",
        "colab_type": "code",
        "outputId": "2f14205c-05e9-419f-af69-832b60d9c994",
        "colab": {
          "base_uri": "https://localhost:8080/",
          "height": 35
        }
      },
      "cell_type": "code",
      "source": [
        "from sklearn.metrics import mean_squared_error\n",
        "err_mean = mean_squared_error(Y_test,preds_mean)\n",
        "\n",
        "print(\"teszt adatokon mert hiba:\",err_mean)"
      ],
      "execution_count": 0,
      "outputs": [
        {
          "output_type": "stream",
          "text": [
            "teszt adatokon mert hiba: 48.71029915848312\n"
          ],
          "name": "stdout"
        }
      ]
    },
    {
      "metadata": {
        "id": "L1ZmWGKS55lQ",
        "colab_type": "code",
        "outputId": "cea9b457-7e51-4caf-99b5-2bfeeabd0531",
        "colab": {
          "base_uri": "https://localhost:8080/",
          "height": 615
        }
      },
      "cell_type": "code",
      "source": [
        "%matplotlib inline\n",
        "import seaborn as sns # matplotlib, bokeh, ....\n",
        "import matplotlib.pyplot as plt\n",
        "\n",
        "plt.figure(figsize=(10,10))\n",
        "\n",
        "sns.regplot(x=Y_test, y=preds_mean.reshape(-1)).set(xlim=(10,30),ylim=(10,30))\n"
      ],
      "execution_count": 0,
      "outputs": [
        {
          "output_type": "execute_result",
          "data": {
            "text/plain": [
              "[(10, 30), (10, 30)]"
            ]
          },
          "metadata": {
            "tags": []
          },
          "execution_count": 182
        },
        {
          "output_type": "display_data",
          "data": {
            "image/png": "[encoded data removed]",
            "text/plain": [
              "<matplotlib.figure.Figure at 0x7f8811a8e908>"
            ]
          },
          "metadata": {
            "tags": []
          }
        }
      ]
    },
    {
      "metadata": {
        "id": "j-inHVsB59Lh",
        "colab_type": "code",
        "colab": {}
      },
      "cell_type": "code",
      "source": [
        ""
      ],
      "execution_count": 0,
      "outputs": []
    }
  ]
}