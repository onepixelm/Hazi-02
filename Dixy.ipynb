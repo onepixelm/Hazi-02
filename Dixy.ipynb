{
  "nbformat": 4,
  "nbformat_minor": 0,
  "metadata": {
    "colab": {
      "name": "Dixy.ipynb",
      "version": "0.3.2",
      "provenance": [],
      "collapsed_sections": [],
      "include_colab_link": true
    }
  },
  "cells": [
    {
      "cell_type": "markdown",
      "metadata": {
        "id": "view-in-github",
        "colab_type": "text"
      },
      "source": [
        "[View in Colaboratory](https://colab.research.google.com/github/onepixelm/Hazi-02/blob/master/Dixy.ipynb)"
      ]
    },
    {
      "metadata": {
        "id": "Rgxhpq5jaTLg",
        "colab_type": "code",
        "colab": {
          "base_uri": "https://localhost:8080/",
          "height": 34
        },
        "outputId": "dbe82601-82e2-40b2-8e50-d0fd8626b88f"
      },
      "cell_type": "code",
      "source": [
        "import numpy as np\n",
        "import matplotlib.pyplot as plt\n",
        "\n",
        "%matplotlib inline\n",
        "\n",
        "from keras.models import Sequential\n",
        "from keras.layers.core import Dense\n",
        "from keras.optimizers import SGD"
      ],
      "execution_count": 1,
      "outputs": [
        {
          "output_type": "stream",
          "text": [
            "Using TensorFlow backend.\n"
          ],
          "name": "stderr"
        }
      ]
    },
    {
      "metadata": {
        "id": "_zVGArFzafIg",
        "colab_type": "code",
        "colab": {}
      },
      "cell_type": "code",
      "source": [
        "def diff_true_pred(y_true, y_pred):\n",
        "  return abs(y_true - y_pred)\n",
        "\n",
        "model = Sequential()\n",
        "model.add(Dense(50, activation='relu', input_shape=(100,)))\n",
        "model.add(Dense(50, activation='relu'))\n",
        "model.add(Dense(1, activation='linear'))\n",
        "\n",
        "model.compile(loss='mean_squared_error', optimizer=SGD(lr=0.001), metrics=[diff_true_pred])"
      ],
      "execution_count": 0,
      "outputs": []
    },
    {
      "metadata": {
        "id": "2sTg-fi3bjMu",
        "colab_type": "code",
        "colab": {
          "resources": {
            "http://localhost:8080/nbextensions/google.colab/files.js": {
              "data": "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",
              "ok": true,
              "headers": [
                [
                  "content-type",
                  "application/javascript"
                ]
              ],
              "status": 200,
              "status_text": "OK"
            }
          },
          "base_uri": "https://localhost:8080/",
          "height": 81
        },
        "outputId": "aba3e8ee-0c87-495d-ac85-9a408483dad9"
      },
      "cell_type": "code",
      "source": [
        "from google.colab import files\n",
        "\n",
        "uploaded = files.upload()\n",
        "file  = open(\"BP_d.txt\", 'r')  \n",
        "head = file.readlines()[1:] \n",
        "file.close()\n"
      ],
      "execution_count": 3,
      "outputs": [
        {
          "output_type": "display_data",
          "data": {
            "text/plain": [
              "<IPython.core.display.HTML object>"
            ],
            "text/html": [
              "\n",
              "     <input type=\"file\" id=\"files-28a1c94c-8e1e-4c06-bdc1-6fe6bf8e1447\" name=\"files[]\" multiple disabled />\n",
              "     <output id=\"result-28a1c94c-8e1e-4c06-bdc1-6fe6bf8e1447\">\n",
              "      Upload widget is only available when the cell has been executed in the\n",
              "      current browser session. Please rerun this cell to enable.\n",
              "      </output>\n",
              "      <script src=\"/nbextensions/google.colab/files.js\"></script> "
            ]
          },
          "metadata": {
            "tags": []
          }
        },
        {
          "output_type": "stream",
          "text": [
            "Saving BP_d.txt to BP_d.txt\n"
          ],
          "name": "stdout"
        }
      ]
    },
    {
      "metadata": {
        "id": "YLDtUPtM5kJz",
        "colab_type": "code",
        "colab": {
          "base_uri": "https://localhost:8080/",
          "height": 52
        },
        "outputId": "436fa55b-5540-4c81-9b22-048c1c4985aa"
      },
      "cell_type": "code",
      "source": [
        "head2 = [ float(s.split(';')[1]) for s in head ]\n",
        "print(len(head2))\n",
        "\n",
        "min_temp = head2[0]\n",
        "max_temp = head2[0]\n",
        "for t in head2:\n",
        "  if t < min_temp:\n",
        "    min_temp = t\n",
        "  if t > max_temp:\n",
        "    max_temp = t\n",
        "print(\"Min temp: {} Max temp: {}\".format(min_temp,max_temp))\n",
        "\n",
        "head2 = [ head2[i*101:(i+1)*101] for i in range(len(head2)/101) ]\n",
        "Y_temp = [ l[-1:] for l in head2 ]\n",
        "#print(Y_temp)\n",
        "X_temp = [ l[:-1] for l in head2 ]\n",
        "#print(X_temp)"
      ],
      "execution_count": 4,
      "outputs": [
        {
          "output_type": "stream",
          "text": [
            "40177\n",
            "Min temp: -20.6 Max temp: 33.1\n"
          ],
          "name": "stdout"
        }
      ]
    },
    {
      "metadata": {
        "id": "rStVSUla_5_K",
        "colab_type": "code",
        "colab": {
          "base_uri": "https://localhost:8080/",
          "height": 86
        },
        "outputId": "c8be0c17-d4d5-4f80-fe6d-7691cfa788c2"
      },
      "cell_type": "code",
      "source": [
        "import numpy as np\n",
        "X_train = (np.asarray(X_temp[0:300]) - min_temp)/(max_temp - min_temp)\n",
        "Y_train = (np.asarray(Y_temp[0:300]) - min_temp)/(max_temp - min_temp)\n",
        "X_test = (np.asarray(X_temp[300:]) - min_temp)/(max_temp - min_temp)\n",
        "Y_test = (np.asarray(Y_temp[300:]) - min_temp)/(max_temp - min_temp)\n",
        "print(X_train.shape)\n",
        "print(X_test.shape)\n",
        "print(Y_train.shape)\n",
        "print(Y_test.shape)"
      ],
      "execution_count": 5,
      "outputs": [
        {
          "output_type": "stream",
          "text": [
            "(300, 100)\n",
            "(97, 100)\n",
            "(300, 1)\n",
            "(97, 1)\n"
          ],
          "name": "stdout"
        }
      ]
    },
    {
      "metadata": {
        "id": "FuqkSNU24a_f",
        "colab_type": "code",
        "colab": {
          "base_uri": "https://localhost:8080/",
          "height": 6286
        },
        "outputId": "a3853a82-bff8-48b2-8496-1066761eafa2"
      },
      "cell_type": "code",
      "source": [
        "network_history = model.fit(X_train, Y_train, batch_size=40, epochs=180, verbose=1, validation_split=0.2)"
      ],
      "execution_count": 30,
      "outputs": [
        {
          "output_type": "stream",
          "text": [
            "Train on 240 samples, validate on 60 samples\n",
            "Epoch 1/180\n",
            "240/240 [==============================] - 0s 78us/step - loss: 0.0053 - diff_true_pred: 0.0580 - val_loss: 0.0058 - val_diff_true_pred: 0.0642\n",
            "Epoch 2/180\n",
            "240/240 [==============================] - 0s 101us/step - loss: 0.0053 - diff_true_pred: 0.0580 - val_loss: 0.0058 - val_diff_true_pred: 0.0642\n",
            "Epoch 3/180\n",
            "240/240 [==============================] - 0s 67us/step - loss: 0.0053 - diff_true_pred: 0.0580 - val_loss: 0.0058 - val_diff_true_pred: 0.0641\n",
            "Epoch 4/180\n",
            "240/240 [==============================] - 0s 68us/step - loss: 0.0053 - diff_true_pred: 0.0580 - val_loss: 0.0058 - val_diff_true_pred: 0.0641\n",
            "Epoch 5/180\n",
            "240/240 [==============================] - 0s 64us/step - loss: 0.0053 - diff_true_pred: 0.0579 - val_loss: 0.0058 - val_diff_true_pred: 0.0641\n",
            "Epoch 6/180\n",
            "240/240 [==============================] - 0s 78us/step - loss: 0.0053 - diff_true_pred: 0.0579 - val_loss: 0.0058 - val_diff_true_pred: 0.0640\n",
            "Epoch 7/180\n",
            "240/240 [==============================] - 0s 70us/step - loss: 0.0053 - diff_true_pred: 0.0579 - val_loss: 0.0058 - val_diff_true_pred: 0.0641\n",
            "Epoch 8/180\n",
            "240/240 [==============================] - 0s 68us/step - loss: 0.0053 - diff_true_pred: 0.0579 - val_loss: 0.0058 - val_diff_true_pred: 0.0640\n",
            "Epoch 9/180\n",
            "240/240 [==============================] - 0s 74us/step - loss: 0.0053 - diff_true_pred: 0.0579 - val_loss: 0.0058 - val_diff_true_pred: 0.0640\n",
            "Epoch 10/180\n",
            "240/240 [==============================] - 0s 70us/step - loss: 0.0053 - diff_true_pred: 0.0579 - val_loss: 0.0058 - val_diff_true_pred: 0.0640\n",
            "Epoch 11/180\n",
            "240/240 [==============================] - 0s 74us/step - loss: 0.0053 - diff_true_pred: 0.0579 - val_loss: 0.0058 - val_diff_true_pred: 0.0640\n",
            "Epoch 12/180\n",
            "240/240 [==============================] - 0s 77us/step - loss: 0.0053 - diff_true_pred: 0.0578 - val_loss: 0.0058 - val_diff_true_pred: 0.0640\n",
            "Epoch 13/180\n",
            "240/240 [==============================] - 0s 68us/step - loss: 0.0053 - diff_true_pred: 0.0578 - val_loss: 0.0058 - val_diff_true_pred: 0.0640\n",
            "Epoch 14/180\n",
            "240/240 [==============================] - 0s 62us/step - loss: 0.0053 - diff_true_pred: 0.0578 - val_loss: 0.0058 - val_diff_true_pred: 0.0640\n",
            "Epoch 15/180\n",
            "240/240 [==============================] - 0s 71us/step - loss: 0.0052 - diff_true_pred: 0.0577 - val_loss: 0.0057 - val_diff_true_pred: 0.0639\n",
            "Epoch 16/180\n",
            "240/240 [==============================] - 0s 73us/step - loss: 0.0052 - diff_true_pred: 0.0577 - val_loss: 0.0057 - val_diff_true_pred: 0.0639\n",
            "Epoch 17/180\n",
            "240/240 [==============================] - 0s 71us/step - loss: 0.0052 - diff_true_pred: 0.0577 - val_loss: 0.0057 - val_diff_true_pred: 0.0639\n",
            "Epoch 18/180\n",
            "240/240 [==============================] - 0s 69us/step - loss: 0.0052 - diff_true_pred: 0.0577 - val_loss: 0.0057 - val_diff_true_pred: 0.0638\n",
            "Epoch 19/180\n",
            "240/240 [==============================] - 0s 74us/step - loss: 0.0052 - diff_true_pred: 0.0577 - val_loss: 0.0057 - val_diff_true_pred: 0.0639\n",
            "Epoch 20/180\n",
            "240/240 [==============================] - 0s 67us/step - loss: 0.0052 - diff_true_pred: 0.0576 - val_loss: 0.0057 - val_diff_true_pred: 0.0639\n",
            "Epoch 21/180\n",
            "240/240 [==============================] - 0s 74us/step - loss: 0.0052 - diff_true_pred: 0.0576 - val_loss: 0.0057 - val_diff_true_pred: 0.0638\n",
            "Epoch 22/180\n",
            "240/240 [==============================] - 0s 75us/step - loss: 0.0052 - diff_true_pred: 0.0576 - val_loss: 0.0057 - val_diff_true_pred: 0.0638\n",
            "Epoch 23/180\n",
            "240/240 [==============================] - 0s 70us/step - loss: 0.0052 - diff_true_pred: 0.0575 - val_loss: 0.0057 - val_diff_true_pred: 0.0637\n",
            "Epoch 24/180\n",
            "240/240 [==============================] - 0s 69us/step - loss: 0.0052 - diff_true_pred: 0.0576 - val_loss: 0.0057 - val_diff_true_pred: 0.0637\n",
            "Epoch 25/180\n",
            "240/240 [==============================] - 0s 76us/step - loss: 0.0052 - diff_true_pred: 0.0576 - val_loss: 0.0057 - val_diff_true_pred: 0.0637\n",
            "Epoch 26/180\n",
            "240/240 [==============================] - 0s 77us/step - loss: 0.0052 - diff_true_pred: 0.0577 - val_loss: 0.0057 - val_diff_true_pred: 0.0637\n",
            "Epoch 27/180\n",
            "240/240 [==============================] - 0s 78us/step - loss: 0.0052 - diff_true_pred: 0.0575 - val_loss: 0.0057 - val_diff_true_pred: 0.0637\n",
            "Epoch 28/180\n",
            "240/240 [==============================] - 0s 69us/step - loss: 0.0052 - diff_true_pred: 0.0575 - val_loss: 0.0057 - val_diff_true_pred: 0.0636\n",
            "Epoch 29/180\n",
            "240/240 [==============================] - 0s 67us/step - loss: 0.0052 - diff_true_pred: 0.0575 - val_loss: 0.0057 - val_diff_true_pred: 0.0637\n",
            "Epoch 30/180\n",
            "240/240 [==============================] - 0s 81us/step - loss: 0.0052 - diff_true_pred: 0.0575 - val_loss: 0.0057 - val_diff_true_pred: 0.0637\n",
            "Epoch 31/180\n",
            "240/240 [==============================] - 0s 70us/step - loss: 0.0052 - diff_true_pred: 0.0574 - val_loss: 0.0057 - val_diff_true_pred: 0.0636\n",
            "Epoch 32/180\n",
            "240/240 [==============================] - 0s 75us/step - loss: 0.0052 - diff_true_pred: 0.0574 - val_loss: 0.0057 - val_diff_true_pred: 0.0636\n",
            "Epoch 33/180\n",
            "240/240 [==============================] - 0s 76us/step - loss: 0.0052 - diff_true_pred: 0.0574 - val_loss: 0.0057 - val_diff_true_pred: 0.0636\n",
            "Epoch 34/180\n",
            "240/240 [==============================] - 0s 63us/step - loss: 0.0052 - diff_true_pred: 0.0574 - val_loss: 0.0057 - val_diff_true_pred: 0.0636\n",
            "Epoch 35/180\n",
            "240/240 [==============================] - 0s 68us/step - loss: 0.0052 - diff_true_pred: 0.0574 - val_loss: 0.0057 - val_diff_true_pred: 0.0635\n",
            "Epoch 36/180\n",
            "240/240 [==============================] - 0s 63us/step - loss: 0.0052 - diff_true_pred: 0.0574 - val_loss: 0.0057 - val_diff_true_pred: 0.0635\n",
            "Epoch 37/180\n",
            "240/240 [==============================] - 0s 81us/step - loss: 0.0052 - diff_true_pred: 0.0574 - val_loss: 0.0057 - val_diff_true_pred: 0.0635\n",
            "Epoch 38/180\n",
            "240/240 [==============================] - 0s 74us/step - loss: 0.0052 - diff_true_pred: 0.0574 - val_loss: 0.0057 - val_diff_true_pred: 0.0635\n",
            "Epoch 39/180\n",
            "240/240 [==============================] - 0s 73us/step - loss: 0.0052 - diff_true_pred: 0.0574 - val_loss: 0.0057 - val_diff_true_pred: 0.0635\n",
            "Epoch 40/180\n",
            "240/240 [==============================] - 0s 54us/step - loss: 0.0052 - diff_true_pred: 0.0573 - val_loss: 0.0057 - val_diff_true_pred: 0.0635\n",
            "Epoch 41/180\n",
            "240/240 [==============================] - 0s 65us/step - loss: 0.0052 - diff_true_pred: 0.0573 - val_loss: 0.0057 - val_diff_true_pred: 0.0635\n",
            "Epoch 42/180\n",
            "240/240 [==============================] - 0s 65us/step - loss: 0.0052 - diff_true_pred: 0.0572 - val_loss: 0.0057 - val_diff_true_pred: 0.0634\n",
            "Epoch 43/180\n",
            "240/240 [==============================] - 0s 80us/step - loss: 0.0052 - diff_true_pred: 0.0573 - val_loss: 0.0056 - val_diff_true_pred: 0.0634\n",
            "Epoch 44/180\n",
            "240/240 [==============================] - 0s 80us/step - loss: 0.0052 - diff_true_pred: 0.0573 - val_loss: 0.0057 - val_diff_true_pred: 0.0634\n",
            "Epoch 45/180\n",
            "240/240 [==============================] - 0s 81us/step - loss: 0.0052 - diff_true_pred: 0.0572 - val_loss: 0.0056 - val_diff_true_pred: 0.0634\n",
            "Epoch 46/180\n",
            "240/240 [==============================] - 0s 75us/step - loss: 0.0051 - diff_true_pred: 0.0572 - val_loss: 0.0056 - val_diff_true_pred: 0.0634\n",
            "Epoch 47/180\n",
            "240/240 [==============================] - 0s 73us/step - loss: 0.0052 - diff_true_pred: 0.0572 - val_loss: 0.0056 - val_diff_true_pred: 0.0633\n",
            "Epoch 48/180\n",
            "240/240 [==============================] - 0s 69us/step - loss: 0.0051 - diff_true_pred: 0.0572 - val_loss: 0.0056 - val_diff_true_pred: 0.0633\n",
            "Epoch 49/180\n",
            "240/240 [==============================] - 0s 66us/step - loss: 0.0051 - diff_true_pred: 0.0572 - val_loss: 0.0056 - val_diff_true_pred: 0.0633\n",
            "Epoch 50/180\n",
            "240/240 [==============================] - 0s 76us/step - loss: 0.0051 - diff_true_pred: 0.0572 - val_loss: 0.0056 - val_diff_true_pred: 0.0633\n",
            "Epoch 51/180\n",
            "240/240 [==============================] - 0s 81us/step - loss: 0.0051 - diff_true_pred: 0.0571 - val_loss: 0.0056 - val_diff_true_pred: 0.0633\n",
            "Epoch 52/180\n",
            "240/240 [==============================] - 0s 71us/step - loss: 0.0051 - diff_true_pred: 0.0572 - val_loss: 0.0056 - val_diff_true_pred: 0.0633\n",
            "Epoch 53/180\n",
            "240/240 [==============================] - 0s 71us/step - loss: 0.0052 - diff_true_pred: 0.0572 - val_loss: 0.0056 - val_diff_true_pred: 0.0633\n",
            "Epoch 54/180\n",
            "240/240 [==============================] - 0s 63us/step - loss: 0.0051 - diff_true_pred: 0.0571 - val_loss: 0.0056 - val_diff_true_pred: 0.0633\n",
            "Epoch 55/180\n",
            "240/240 [==============================] - 0s 71us/step - loss: 0.0051 - diff_true_pred: 0.0571 - val_loss: 0.0056 - val_diff_true_pred: 0.0633\n",
            "Epoch 56/180\n",
            "240/240 [==============================] - 0s 82us/step - loss: 0.0051 - diff_true_pred: 0.0571 - val_loss: 0.0056 - val_diff_true_pred: 0.0632\n",
            "Epoch 57/180\n",
            "240/240 [==============================] - 0s 83us/step - loss: 0.0051 - diff_true_pred: 0.0570 - val_loss: 0.0056 - val_diff_true_pred: 0.0632\n",
            "Epoch 58/180\n",
            "240/240 [==============================] - 0s 80us/step - loss: 0.0051 - diff_true_pred: 0.0571 - val_loss: 0.0056 - val_diff_true_pred: 0.0632\n",
            "Epoch 59/180\n",
            "240/240 [==============================] - 0s 64us/step - loss: 0.0051 - diff_true_pred: 0.0570 - val_loss: 0.0056 - val_diff_true_pred: 0.0632\n",
            "Epoch 60/180\n",
            "240/240 [==============================] - 0s 71us/step - loss: 0.0051 - diff_true_pred: 0.0570 - val_loss: 0.0056 - val_diff_true_pred: 0.0631\n",
            "Epoch 61/180\n",
            "240/240 [==============================] - 0s 86us/step - loss: 0.0051 - diff_true_pred: 0.0570 - val_loss: 0.0056 - val_diff_true_pred: 0.0631\n",
            "Epoch 62/180\n",
            "240/240 [==============================] - 0s 72us/step - loss: 0.0051 - diff_true_pred: 0.0570 - val_loss: 0.0056 - val_diff_true_pred: 0.0631\n",
            "Epoch 63/180\n",
            "240/240 [==============================] - 0s 94us/step - loss: 0.0051 - diff_true_pred: 0.0570 - val_loss: 0.0056 - val_diff_true_pred: 0.0631\n",
            "Epoch 64/180\n",
            "240/240 [==============================] - 0s 69us/step - loss: 0.0051 - diff_true_pred: 0.0570 - val_loss: 0.0056 - val_diff_true_pred: 0.0631\n",
            "Epoch 65/180\n",
            "240/240 [==============================] - 0s 70us/step - loss: 0.0051 - diff_true_pred: 0.0570 - val_loss: 0.0056 - val_diff_true_pred: 0.0631\n",
            "Epoch 66/180\n",
            "240/240 [==============================] - 0s 68us/step - loss: 0.0051 - diff_true_pred: 0.0569 - val_loss: 0.0056 - val_diff_true_pred: 0.0631\n",
            "Epoch 67/180\n",
            "240/240 [==============================] - 0s 75us/step - loss: 0.0051 - diff_true_pred: 0.0569 - val_loss: 0.0056 - val_diff_true_pred: 0.0631\n",
            "Epoch 68/180\n",
            "240/240 [==============================] - 0s 77us/step - loss: 0.0051 - diff_true_pred: 0.0569 - val_loss: 0.0056 - val_diff_true_pred: 0.0631\n",
            "Epoch 69/180\n",
            "240/240 [==============================] - 0s 68us/step - loss: 0.0051 - diff_true_pred: 0.0570 - val_loss: 0.0056 - val_diff_true_pred: 0.0631\n",
            "Epoch 70/180\n",
            "240/240 [==============================] - 0s 71us/step - loss: 0.0051 - diff_true_pred: 0.0569 - val_loss: 0.0056 - val_diff_true_pred: 0.0630\n",
            "Epoch 71/180\n",
            "240/240 [==============================] - 0s 60us/step - loss: 0.0051 - diff_true_pred: 0.0569 - val_loss: 0.0056 - val_diff_true_pred: 0.0630\n",
            "Epoch 72/180\n",
            "240/240 [==============================] - 0s 83us/step - loss: 0.0051 - diff_true_pred: 0.0568 - val_loss: 0.0056 - val_diff_true_pred: 0.0630\n",
            "Epoch 73/180\n",
            "240/240 [==============================] - 0s 95us/step - loss: 0.0051 - diff_true_pred: 0.0569 - val_loss: 0.0056 - val_diff_true_pred: 0.0630\n",
            "Epoch 74/180\n",
            "240/240 [==============================] - 0s 80us/step - loss: 0.0051 - diff_true_pred: 0.0568 - val_loss: 0.0056 - val_diff_true_pred: 0.0630\n",
            "Epoch 75/180\n",
            "240/240 [==============================] - 0s 89us/step - loss: 0.0051 - diff_true_pred: 0.0568 - val_loss: 0.0056 - val_diff_true_pred: 0.0630\n",
            "Epoch 76/180\n",
            "240/240 [==============================] - 0s 75us/step - loss: 0.0051 - diff_true_pred: 0.0568 - val_loss: 0.0056 - val_diff_true_pred: 0.0630\n",
            "Epoch 77/180\n",
            "240/240 [==============================] - 0s 79us/step - loss: 0.0051 - diff_true_pred: 0.0568 - val_loss: 0.0056 - val_diff_true_pred: 0.0629\n",
            "Epoch 78/180\n",
            "240/240 [==============================] - 0s 73us/step - loss: 0.0051 - diff_true_pred: 0.0568 - val_loss: 0.0056 - val_diff_true_pred: 0.0629\n",
            "Epoch 79/180\n",
            "240/240 [==============================] - 0s 77us/step - loss: 0.0051 - diff_true_pred: 0.0568 - val_loss: 0.0056 - val_diff_true_pred: 0.0629\n",
            "Epoch 80/180\n",
            "240/240 [==============================] - 0s 82us/step - loss: 0.0051 - diff_true_pred: 0.0568 - val_loss: 0.0056 - val_diff_true_pred: 0.0629\n",
            "Epoch 81/180\n",
            "240/240 [==============================] - 0s 70us/step - loss: 0.0051 - diff_true_pred: 0.0567 - val_loss: 0.0056 - val_diff_true_pred: 0.0629\n",
            "Epoch 82/180\n",
            "240/240 [==============================] - 0s 74us/step - loss: 0.0051 - diff_true_pred: 0.0568 - val_loss: 0.0056 - val_diff_true_pred: 0.0629\n",
            "Epoch 83/180\n",
            "240/240 [==============================] - 0s 77us/step - loss: 0.0051 - diff_true_pred: 0.0567 - val_loss: 0.0056 - val_diff_true_pred: 0.0629\n",
            "Epoch 84/180\n",
            "240/240 [==============================] - 0s 87us/step - loss: 0.0051 - diff_true_pred: 0.0567 - val_loss: 0.0056 - val_diff_true_pred: 0.0629\n",
            "Epoch 85/180\n",
            "240/240 [==============================] - 0s 62us/step - loss: 0.0051 - diff_true_pred: 0.0567 - val_loss: 0.0056 - val_diff_true_pred: 0.0629\n",
            "Epoch 86/180\n",
            "240/240 [==============================] - 0s 78us/step - loss: 0.0051 - diff_true_pred: 0.0567 - val_loss: 0.0056 - val_diff_true_pred: 0.0629\n",
            "Epoch 87/180\n",
            "240/240 [==============================] - 0s 70us/step - loss: 0.0051 - diff_true_pred: 0.0567 - val_loss: 0.0056 - val_diff_true_pred: 0.0629\n",
            "Epoch 88/180\n",
            "240/240 [==============================] - 0s 70us/step - loss: 0.0051 - diff_true_pred: 0.0567 - val_loss: 0.0056 - val_diff_true_pred: 0.0629\n",
            "Epoch 89/180\n",
            "240/240 [==============================] - 0s 74us/step - loss: 0.0051 - diff_true_pred: 0.0567 - val_loss: 0.0055 - val_diff_true_pred: 0.0628\n",
            "Epoch 90/180\n",
            "240/240 [==============================] - 0s 77us/step - loss: 0.0051 - diff_true_pred: 0.0567 - val_loss: 0.0055 - val_diff_true_pred: 0.0628\n",
            "Epoch 91/180\n",
            "240/240 [==============================] - 0s 70us/step - loss: 0.0051 - diff_true_pred: 0.0567 - val_loss: 0.0055 - val_diff_true_pred: 0.0628\n",
            "Epoch 92/180\n",
            "240/240 [==============================] - 0s 87us/step - loss: 0.0050 - diff_true_pred: 0.0566 - val_loss: 0.0055 - val_diff_true_pred: 0.0628\n",
            "Epoch 93/180\n",
            "240/240 [==============================] - 0s 78us/step - loss: 0.0050 - diff_true_pred: 0.0566 - val_loss: 0.0055 - val_diff_true_pred: 0.0628\n",
            "Epoch 94/180\n",
            "240/240 [==============================] - 0s 61us/step - loss: 0.0050 - diff_true_pred: 0.0566 - val_loss: 0.0055 - val_diff_true_pred: 0.0628\n",
            "Epoch 95/180\n",
            "240/240 [==============================] - 0s 72us/step - loss: 0.0050 - diff_true_pred: 0.0566 - val_loss: 0.0055 - val_diff_true_pred: 0.0628\n",
            "Epoch 96/180\n",
            "240/240 [==============================] - 0s 52us/step - loss: 0.0050 - diff_true_pred: 0.0566 - val_loss: 0.0055 - val_diff_true_pred: 0.0628\n",
            "Epoch 97/180\n",
            "240/240 [==============================] - 0s 70us/step - loss: 0.0050 - diff_true_pred: 0.0566 - val_loss: 0.0055 - val_diff_true_pred: 0.0627\n",
            "Epoch 98/180\n",
            "240/240 [==============================] - 0s 68us/step - loss: 0.0050 - diff_true_pred: 0.0565 - val_loss: 0.0055 - val_diff_true_pred: 0.0627\n",
            "Epoch 99/180\n",
            "240/240 [==============================] - 0s 75us/step - loss: 0.0050 - diff_true_pred: 0.0567 - val_loss: 0.0055 - val_diff_true_pred: 0.0628\n",
            "Epoch 100/180\n",
            "240/240 [==============================] - 0s 85us/step - loss: 0.0050 - diff_true_pred: 0.0565 - val_loss: 0.0055 - val_diff_true_pred: 0.0627\n",
            "Epoch 101/180\n",
            "240/240 [==============================] - 0s 70us/step - loss: 0.0050 - diff_true_pred: 0.0565 - val_loss: 0.0055 - val_diff_true_pred: 0.0627\n",
            "Epoch 102/180\n",
            "240/240 [==============================] - 0s 70us/step - loss: 0.0050 - diff_true_pred: 0.0565 - val_loss: 0.0055 - val_diff_true_pred: 0.0627\n",
            "Epoch 103/180\n",
            "240/240 [==============================] - 0s 70us/step - loss: 0.0050 - diff_true_pred: 0.0565 - val_loss: 0.0055 - val_diff_true_pred: 0.0627\n",
            "Epoch 104/180\n",
            "240/240 [==============================] - 0s 68us/step - loss: 0.0050 - diff_true_pred: 0.0565 - val_loss: 0.0055 - val_diff_true_pred: 0.0626\n",
            "Epoch 105/180\n",
            "240/240 [==============================] - 0s 80us/step - loss: 0.0050 - diff_true_pred: 0.0564 - val_loss: 0.0055 - val_diff_true_pred: 0.0626\n",
            "Epoch 106/180\n",
            "240/240 [==============================] - 0s 73us/step - loss: 0.0050 - diff_true_pred: 0.0564 - val_loss: 0.0055 - val_diff_true_pred: 0.0626\n",
            "Epoch 107/180\n",
            "240/240 [==============================] - 0s 76us/step - loss: 0.0050 - diff_true_pred: 0.0564 - val_loss: 0.0055 - val_diff_true_pred: 0.0626\n",
            "Epoch 108/180\n",
            "240/240 [==============================] - 0s 77us/step - loss: 0.0050 - diff_true_pred: 0.0564 - val_loss: 0.0055 - val_diff_true_pred: 0.0626\n",
            "Epoch 109/180\n",
            "240/240 [==============================] - 0s 76us/step - loss: 0.0050 - diff_true_pred: 0.0564 - val_loss: 0.0055 - val_diff_true_pred: 0.0626\n",
            "Epoch 110/180\n",
            "240/240 [==============================] - 0s 74us/step - loss: 0.0050 - diff_true_pred: 0.0565 - val_loss: 0.0055 - val_diff_true_pred: 0.0626\n",
            "Epoch 111/180\n",
            "240/240 [==============================] - 0s 79us/step - loss: 0.0050 - diff_true_pred: 0.0564 - val_loss: 0.0055 - val_diff_true_pred: 0.0626\n",
            "Epoch 112/180\n",
            "240/240 [==============================] - 0s 81us/step - loss: 0.0050 - diff_true_pred: 0.0564 - val_loss: 0.0055 - val_diff_true_pred: 0.0626\n",
            "Epoch 113/180\n",
            "240/240 [==============================] - 0s 68us/step - loss: 0.0050 - diff_true_pred: 0.0563 - val_loss: 0.0055 - val_diff_true_pred: 0.0626\n",
            "Epoch 114/180\n",
            "240/240 [==============================] - 0s 71us/step - loss: 0.0050 - diff_true_pred: 0.0563 - val_loss: 0.0055 - val_diff_true_pred: 0.0626\n",
            "Epoch 115/180\n",
            "240/240 [==============================] - 0s 102us/step - loss: 0.0050 - diff_true_pred: 0.0563 - val_loss: 0.0055 - val_diff_true_pred: 0.0625\n",
            "Epoch 116/180\n",
            "240/240 [==============================] - 0s 82us/step - loss: 0.0050 - diff_true_pred: 0.0564 - val_loss: 0.0055 - val_diff_true_pred: 0.0625\n",
            "Epoch 117/180\n",
            "240/240 [==============================] - 0s 78us/step - loss: 0.0050 - diff_true_pred: 0.0563 - val_loss: 0.0055 - val_diff_true_pred: 0.0626\n",
            "Epoch 118/180\n",
            "240/240 [==============================] - 0s 68us/step - loss: 0.0050 - diff_true_pred: 0.0563 - val_loss: 0.0055 - val_diff_true_pred: 0.0626\n",
            "Epoch 119/180\n",
            "240/240 [==============================] - 0s 66us/step - loss: 0.0050 - diff_true_pred: 0.0563 - val_loss: 0.0055 - val_diff_true_pred: 0.0626\n",
            "Epoch 120/180\n",
            "240/240 [==============================] - 0s 67us/step - loss: 0.0050 - diff_true_pred: 0.0562 - val_loss: 0.0055 - val_diff_true_pred: 0.0625\n",
            "Epoch 121/180\n",
            "240/240 [==============================] - 0s 60us/step - loss: 0.0050 - diff_true_pred: 0.0563 - val_loss: 0.0055 - val_diff_true_pred: 0.0625\n",
            "Epoch 122/180\n",
            "240/240 [==============================] - 0s 118us/step - loss: 0.0050 - diff_true_pred: 0.0563 - val_loss: 0.0055 - val_diff_true_pred: 0.0625\n",
            "Epoch 123/180\n",
            "240/240 [==============================] - 0s 73us/step - loss: 0.0050 - diff_true_pred: 0.0562 - val_loss: 0.0055 - val_diff_true_pred: 0.0625\n",
            "Epoch 124/180\n",
            "240/240 [==============================] - 0s 68us/step - loss: 0.0050 - diff_true_pred: 0.0562 - val_loss: 0.0055 - val_diff_true_pred: 0.0625\n",
            "Epoch 125/180\n",
            "240/240 [==============================] - 0s 76us/step - loss: 0.0050 - diff_true_pred: 0.0563 - val_loss: 0.0055 - val_diff_true_pred: 0.0625\n",
            "Epoch 126/180\n",
            "240/240 [==============================] - 0s 89us/step - loss: 0.0050 - diff_true_pred: 0.0562 - val_loss: 0.0055 - val_diff_true_pred: 0.0625\n",
            "Epoch 127/180\n",
            "240/240 [==============================] - 0s 77us/step - loss: 0.0050 - diff_true_pred: 0.0562 - val_loss: 0.0055 - val_diff_true_pred: 0.0625\n",
            "Epoch 128/180\n",
            "240/240 [==============================] - 0s 72us/step - loss: 0.0050 - diff_true_pred: 0.0562 - val_loss: 0.0055 - val_diff_true_pred: 0.0625\n",
            "Epoch 129/180\n",
            "240/240 [==============================] - 0s 79us/step - loss: 0.0050 - diff_true_pred: 0.0562 - val_loss: 0.0055 - val_diff_true_pred: 0.0625\n",
            "Epoch 130/180\n",
            "240/240 [==============================] - 0s 80us/step - loss: 0.0050 - diff_true_pred: 0.0562 - val_loss: 0.0055 - val_diff_true_pred: 0.0625\n",
            "Epoch 131/180\n",
            "240/240 [==============================] - 0s 79us/step - loss: 0.0050 - diff_true_pred: 0.0561 - val_loss: 0.0055 - val_diff_true_pred: 0.0625\n",
            "Epoch 132/180\n",
            "240/240 [==============================] - 0s 82us/step - loss: 0.0050 - diff_true_pred: 0.0562 - val_loss: 0.0055 - val_diff_true_pred: 0.0625\n",
            "Epoch 133/180\n",
            "240/240 [==============================] - 0s 78us/step - loss: 0.0050 - diff_true_pred: 0.0561 - val_loss: 0.0055 - val_diff_true_pred: 0.0624\n",
            "Epoch 134/180\n",
            "240/240 [==============================] - 0s 75us/step - loss: 0.0050 - diff_true_pred: 0.0561 - val_loss: 0.0055 - val_diff_true_pred: 0.0624\n",
            "Epoch 135/180\n",
            "240/240 [==============================] - 0s 73us/step - loss: 0.0050 - diff_true_pred: 0.0561 - val_loss: 0.0055 - val_diff_true_pred: 0.0624\n",
            "Epoch 136/180\n",
            "240/240 [==============================] - 0s 69us/step - loss: 0.0050 - diff_true_pred: 0.0561 - val_loss: 0.0055 - val_diff_true_pred: 0.0624\n",
            "Epoch 137/180\n",
            "240/240 [==============================] - 0s 72us/step - loss: 0.0050 - diff_true_pred: 0.0561 - val_loss: 0.0055 - val_diff_true_pred: 0.0624\n",
            "Epoch 138/180\n",
            "240/240 [==============================] - 0s 67us/step - loss: 0.0050 - diff_true_pred: 0.0561 - val_loss: 0.0055 - val_diff_true_pred: 0.0624\n",
            "Epoch 139/180\n",
            "240/240 [==============================] - 0s 79us/step - loss: 0.0050 - diff_true_pred: 0.0561 - val_loss: 0.0055 - val_diff_true_pred: 0.0624\n",
            "Epoch 140/180\n",
            "240/240 [==============================] - 0s 74us/step - loss: 0.0050 - diff_true_pred: 0.0561 - val_loss: 0.0055 - val_diff_true_pred: 0.0624\n",
            "Epoch 141/180\n",
            "240/240 [==============================] - 0s 77us/step - loss: 0.0050 - diff_true_pred: 0.0561 - val_loss: 0.0055 - val_diff_true_pred: 0.0624\n",
            "Epoch 142/180\n",
            "240/240 [==============================] - 0s 69us/step - loss: 0.0050 - diff_true_pred: 0.0560 - val_loss: 0.0055 - val_diff_true_pred: 0.0624\n",
            "Epoch 143/180\n",
            "240/240 [==============================] - 0s 78us/step - loss: 0.0050 - diff_true_pred: 0.0560 - val_loss: 0.0055 - val_diff_true_pred: 0.0623\n",
            "Epoch 144/180\n",
            "240/240 [==============================] - 0s 69us/step - loss: 0.0050 - diff_true_pred: 0.0560 - val_loss: 0.0055 - val_diff_true_pred: 0.0623\n",
            "Epoch 145/180\n",
            "240/240 [==============================] - 0s 65us/step - loss: 0.0050 - diff_true_pred: 0.0561 - val_loss: 0.0055 - val_diff_true_pred: 0.0623\n",
            "Epoch 146/180\n",
            "240/240 [==============================] - 0s 66us/step - loss: 0.0049 - diff_true_pred: 0.0560 - val_loss: 0.0055 - val_diff_true_pred: 0.0623\n",
            "Epoch 147/180\n",
            "240/240 [==============================] - 0s 81us/step - loss: 0.0049 - diff_true_pred: 0.0560 - val_loss: 0.0055 - val_diff_true_pred: 0.0623\n",
            "Epoch 148/180\n",
            "240/240 [==============================] - 0s 75us/step - loss: 0.0049 - diff_true_pred: 0.0560 - val_loss: 0.0055 - val_diff_true_pred: 0.0623\n",
            "Epoch 149/180\n",
            "240/240 [==============================] - 0s 79us/step - loss: 0.0049 - diff_true_pred: 0.0560 - val_loss: 0.0055 - val_diff_true_pred: 0.0623\n",
            "Epoch 150/180\n",
            "240/240 [==============================] - 0s 91us/step - loss: 0.0049 - diff_true_pred: 0.0560 - val_loss: 0.0055 - val_diff_true_pred: 0.0624\n",
            "Epoch 151/180\n",
            "240/240 [==============================] - 0s 78us/step - loss: 0.0049 - diff_true_pred: 0.0559 - val_loss: 0.0055 - val_diff_true_pred: 0.0623\n",
            "Epoch 152/180\n",
            "240/240 [==============================] - 0s 79us/step - loss: 0.0049 - diff_true_pred: 0.0559 - val_loss: 0.0055 - val_diff_true_pred: 0.0623\n",
            "Epoch 153/180\n",
            "240/240 [==============================] - 0s 79us/step - loss: 0.0049 - diff_true_pred: 0.0559 - val_loss: 0.0055 - val_diff_true_pred: 0.0623\n",
            "Epoch 154/180\n",
            "240/240 [==============================] - 0s 80us/step - loss: 0.0049 - diff_true_pred: 0.0559 - val_loss: 0.0055 - val_diff_true_pred: 0.0623\n",
            "Epoch 155/180\n",
            "240/240 [==============================] - 0s 74us/step - loss: 0.0049 - diff_true_pred: 0.0559 - val_loss: 0.0055 - val_diff_true_pred: 0.0623\n",
            "Epoch 156/180\n",
            "240/240 [==============================] - 0s 82us/step - loss: 0.0049 - diff_true_pred: 0.0559 - val_loss: 0.0055 - val_diff_true_pred: 0.0623\n",
            "Epoch 157/180\n",
            "240/240 [==============================] - 0s 73us/step - loss: 0.0049 - diff_true_pred: 0.0558 - val_loss: 0.0054 - val_diff_true_pred: 0.0623\n",
            "Epoch 158/180\n",
            "240/240 [==============================] - 0s 71us/step - loss: 0.0049 - diff_true_pred: 0.0558 - val_loss: 0.0054 - val_diff_true_pred: 0.0622\n",
            "Epoch 159/180\n",
            "240/240 [==============================] - 0s 73us/step - loss: 0.0049 - diff_true_pred: 0.0558 - val_loss: 0.0054 - val_diff_true_pred: 0.0622\n",
            "Epoch 160/180\n",
            "240/240 [==============================] - 0s 68us/step - loss: 0.0049 - diff_true_pred: 0.0559 - val_loss: 0.0054 - val_diff_true_pred: 0.0622\n",
            "Epoch 161/180\n",
            "240/240 [==============================] - 0s 74us/step - loss: 0.0049 - diff_true_pred: 0.0558 - val_loss: 0.0054 - val_diff_true_pred: 0.0622\n",
            "Epoch 162/180\n",
            "240/240 [==============================] - 0s 75us/step - loss: 0.0049 - diff_true_pred: 0.0558 - val_loss: 0.0054 - val_diff_true_pred: 0.0622\n",
            "Epoch 163/180\n",
            "240/240 [==============================] - 0s 69us/step - loss: 0.0049 - diff_true_pred: 0.0558 - val_loss: 0.0054 - val_diff_true_pred: 0.0622\n",
            "Epoch 164/180\n",
            "240/240 [==============================] - 0s 69us/step - loss: 0.0049 - diff_true_pred: 0.0558 - val_loss: 0.0054 - val_diff_true_pred: 0.0622\n",
            "Epoch 165/180\n",
            "240/240 [==============================] - 0s 63us/step - loss: 0.0049 - diff_true_pred: 0.0558 - val_loss: 0.0054 - val_diff_true_pred: 0.0622\n",
            "Epoch 166/180\n",
            "240/240 [==============================] - 0s 75us/step - loss: 0.0049 - diff_true_pred: 0.0558 - val_loss: 0.0054 - val_diff_true_pred: 0.0622\n",
            "Epoch 167/180\n",
            "240/240 [==============================] - 0s 78us/step - loss: 0.0049 - diff_true_pred: 0.0558 - val_loss: 0.0054 - val_diff_true_pred: 0.0622\n",
            "Epoch 168/180\n",
            "240/240 [==============================] - 0s 65us/step - loss: 0.0049 - diff_true_pred: 0.0558 - val_loss: 0.0054 - val_diff_true_pred: 0.0622\n",
            "Epoch 169/180\n",
            "240/240 [==============================] - 0s 87us/step - loss: 0.0049 - diff_true_pred: 0.0558 - val_loss: 0.0054 - val_diff_true_pred: 0.0622\n",
            "Epoch 170/180\n",
            "240/240 [==============================] - 0s 90us/step - loss: 0.0049 - diff_true_pred: 0.0558 - val_loss: 0.0054 - val_diff_true_pred: 0.0622\n",
            "Epoch 171/180\n",
            "240/240 [==============================] - 0s 91us/step - loss: 0.0049 - diff_true_pred: 0.0557 - val_loss: 0.0054 - val_diff_true_pred: 0.0622\n",
            "Epoch 172/180\n",
            "240/240 [==============================] - 0s 61us/step - loss: 0.0049 - diff_true_pred: 0.0558 - val_loss: 0.0054 - val_diff_true_pred: 0.0622\n",
            "Epoch 173/180\n",
            "240/240 [==============================] - 0s 84us/step - loss: 0.0049 - diff_true_pred: 0.0557 - val_loss: 0.0054 - val_diff_true_pred: 0.0622\n",
            "Epoch 174/180\n",
            "240/240 [==============================] - 0s 82us/step - loss: 0.0049 - diff_true_pred: 0.0557 - val_loss: 0.0054 - val_diff_true_pred: 0.0621\n",
            "Epoch 175/180\n",
            "240/240 [==============================] - 0s 74us/step - loss: 0.0049 - diff_true_pred: 0.0557 - val_loss: 0.0054 - val_diff_true_pred: 0.0621\n",
            "Epoch 176/180\n",
            "240/240 [==============================] - 0s 73us/step - loss: 0.0049 - diff_true_pred: 0.0557 - val_loss: 0.0054 - val_diff_true_pred: 0.0621\n",
            "Epoch 177/180\n",
            "240/240 [==============================] - 0s 76us/step - loss: 0.0049 - diff_true_pred: 0.0558 - val_loss: 0.0054 - val_diff_true_pred: 0.0621\n",
            "Epoch 178/180\n",
            "240/240 [==============================] - 0s 69us/step - loss: 0.0049 - diff_true_pred: 0.0557 - val_loss: 0.0054 - val_diff_true_pred: 0.0621\n",
            "Epoch 179/180\n",
            "240/240 [==============================] - 0s 67us/step - loss: 0.0049 - diff_true_pred: 0.0557 - val_loss: 0.0054 - val_diff_true_pred: 0.0621\n",
            "Epoch 180/180\n",
            "240/240 [==============================] - 0s 65us/step - loss: 0.0049 - diff_true_pred: 0.0557 - val_loss: 0.0054 - val_diff_true_pred: 0.0621\n"
          ],
          "name": "stdout"
        }
      ]
    },
    {
      "metadata": {
        "id": "e_KYUo1B4f8d",
        "colab_type": "code",
        "colab": {}
      },
      "cell_type": "code",
      "source": [
        "def plot_history(network_history):\n",
        "\n",
        "  plt.figure()\n",
        "\n",
        "  plt.xlabel('Epochs')\n",
        "\n",
        "  plt.ylabel('Loss')\n",
        "  plt.plot(network_history.history['loss'])\n",
        "  plt.plot(network_history.history['val_loss'])\n",
        "  plt.legend(['Training', 'Validation'])\n",
        "  plt.figure()\n",
        "  plt.xlabel('Epochs')\n",
        "  plt.ylabel('Accuracy')\n",
        "  plt.plot(network_history.history['diff_true_pred'])\n",
        "  plt.plot(network_history.history['val_diff_true_pred'])\n",
        "  plt.legend(['Training', 'Validation'])\n",
        "  plt.show()"
      ],
      "execution_count": 0,
      "outputs": []
    },
    {
      "metadata": {
        "id": "Bj2sXza74pj-",
        "colab_type": "code",
        "colab": {
          "base_uri": "https://localhost:8080/",
          "height": 541
        },
        "outputId": "17adb426-72fd-4713-c05a-33746ba2835c"
      },
      "cell_type": "code",
      "source": [
        "plot_history(network_history)"
      ],
      "execution_count": 31,
      "outputs": [
        {
          "output_type": "display_data",
          "data": {
            "image/png": "[encoded data removed]",
            "text/plain": [
              "<matplotlib.figure.Figure at 0x7fe0340cf650>"
            ]
          },
          "metadata": {
            "tags": []
          }
        },
        {
          "output_type": "display_data",
          "data": {
            "image/png": "[encoded data removed]",
            "text/plain": [
              "<matplotlib.figure.Figure at 0x7fe036dff890>"
            ]
          },
          "metadata": {
            "tags": []
          }
        }
      ]
    },
    {
      "metadata": {
        "id": "9aHeacqe4t_s",
        "colab_type": "code",
        "colab": {
          "base_uri": "https://localhost:8080/",
          "height": 34
        },
        "outputId": "2db7302c-2680-42bf-fd19-b0f1a6865b10"
      },
      "cell_type": "code",
      "source": [
        "preds = model.predict(X_test)\n",
        "print(preds.shape)"
      ],
      "execution_count": 32,
      "outputs": [
        {
          "output_type": "stream",
          "text": [
            "(97, 1)\n"
          ],
          "name": "stdout"
        }
      ]
    },
    {
      "metadata": {
        "id": "3pnVourT4xlq",
        "colab_type": "code",
        "colab": {
          "base_uri": "https://localhost:8080/",
          "height": 1702
        },
        "outputId": "bc522d52-8986-45c5-c1db-6bbd65d3b773"
      },
      "cell_type": "code",
      "source": [
        "for t in [ (preds[i][0]*(max_temp-min_temp)+min_temp, Y_test[i][0]*(max_temp-min_temp)+min_temp) for i in range(97) ]:\n",
        "  print(t)"
      ],
      "execution_count": 33,
      "outputs": [
        {
          "output_type": "stream",
          "text": [
            "(6.121154627203943, 11.199999999999996)\n",
            "(18.051569747924802, 15.399999999999999)\n",
            "(12.807681983709337, 11.800000000000004)\n",
            "(-6.731906285881998, 3.5)\n",
            "(12.19019914865494, 9.399999999999999)\n",
            "(20.04333814382553, 25.300000000000004)\n",
            "(2.2279179424047477, 5.399999999999999)\n",
            "(-2.4616141617298126, 0.10000000000000142)\n",
            "(20.789956021308903, 16.9)\n",
            "(16.328358709812164, 15.5)\n",
            "(1.1284216374158866, 8.3)\n",
            "(7.997274422645567, 8.599999999999998)\n",
            "(24.802277332544328, 25.1)\n",
            "(12.58394500017166, 4.5)\n",
            "(4.084125751256941, 6.600000000000001)\n",
            "(18.58392171859741, 18.800000000000004)\n",
            "(18.961068379878995, 18.0)\n",
            "(1.6643184602260597, 3.5)\n",
            "(11.366750001907349, 12.100000000000001)\n",
            "(22.861372363567355, 22.6)\n",
            "(10.729572832584381, 10.7)\n",
            "(0.10144676566124033, -3.6999999999999993)\n",
            "(8.954560542106627, 11.099999999999998)\n",
            "(22.168937110900877, 24.6)\n",
            "(6.448569333553316, 3.8999999999999986)\n",
            "(0.7065122157335288, 5.100000000000001)\n",
            "(12.753288108110425, 14.899999999999999)\n",
            "(17.57988196015358, 17.0)\n",
            "(-0.204385152459146, -0.3999999999999986)\n",
            "(8.790975618362427, 10.3)\n",
            "(21.06781161427498, 19.199999999999996)\n",
            "(8.90183106660843, 7.399999999999999)\n",
            "(3.6620930999517434, -3.5)\n",
            "(15.478989732265475, 19.5)\n",
            "(20.311684250831604, 21.4)\n",
            "(2.7615806281566613, -2.1999999999999993)\n",
            "(3.123113936185838, 11.399999999999995)\n",
            "(18.228575497865677, 24.0)\n",
            "(14.283742409944537, 19.0)\n",
            "(2.1764735758304603, -0.6000000000000014)\n",
            "(11.532604271173476, 12.100000000000001)\n",
            "(26.08324126005173, 25.6)\n",
            "(5.5456610858440385, 2.8000000000000007)\n",
            "(-0.720195546746254, -1.5)\n",
            "(19.362425661087038, 17.699999999999996)\n",
            "(16.55962070226669, 19.699999999999996)\n",
            "(3.6025539875030503, 6.199999999999999)\n",
            "(12.965156638622283, 5.0)\n",
            "(24.47076404094696, 24.800000000000004)\n",
            "(15.585863423347476, 10.3)\n",
            "(5.025312000513075, 4.899999999999999)\n",
            "(12.0125692486763, 14.399999999999999)\n",
            "(27.035678213834764, 25.1)\n",
            "(4.643424999713897, -1.5)\n",
            "(3.311031109094621, 10.7)\n",
            "(21.49102694988251, 23.300000000000004)\n",
            "(20.170328670740126, 20.6)\n",
            "(0.4452110022306428, 1.8000000000000007)\n",
            "(8.986805093288421, 5.899999999999999)\n",
            "(16.863575369119644, 19.0)\n",
            "(12.315810143947601, 10.600000000000001)\n",
            "(-0.45581039190292216, 9.0)\n",
            "(20.97381141781807, 20.699999999999996)\n",
            "(23.083528167009355, 25.4)\n",
            "(0.01865406334400177, 0.0)\n",
            "(14.123835170269011, 10.399999999999999)\n",
            "(24.458005774021153, 21.6)\n",
            "(11.181281417608261, 12.399999999999999)\n",
            "(-2.4077964246273034, -2.8000000000000007)\n",
            "(13.366657954454425, 14.0)\n",
            "(18.313315868377686, 27.699999999999996)\n",
            "(4.976767531037332, 1.6000000000000014)\n",
            "(1.513839086890222, -0.5)\n",
            "(16.986228853464127, 16.5)\n",
            "(20.817793112993243, 15.399999999999999)\n",
            "(1.3345415860414498, -1.1999999999999993)\n",
            "(4.6892920255661, 6.899999999999999)\n",
            "(19.67148875594139, 18.6)\n",
            "(9.100125133991241, 8.2)\n",
            "(-3.601728230714798, -1.1999999999999993)\n",
            "(20.243427842855453, 15.300000000000004)\n",
            "(25.23416035175324, 25.4)\n",
            "(8.11168592572212, 10.2)\n",
            "(10.34605343937874, 8.100000000000001)\n",
            "(23.89403980374336, 24.800000000000004)\n",
            "(12.76460922956467, 16.5)\n",
            "(-2.4810476332902915, -0.3999999999999986)\n",
            "(12.943522638082506, 9.5)\n",
            "(19.9869245827198, 23.9)\n",
            "(10.286317479610442, 13.100000000000001)\n",
            "(2.673588275909424, -1.3000000000000007)\n",
            "(19.078370177745818, 22.5)\n",
            "(18.851749300956726, 25.0)\n",
            "(8.527590703964233, 0.1999999999999993)\n",
            "(7.549749243259431, 12.300000000000004)\n",
            "(22.789390259981154, 24.800000000000004)\n",
            "(8.93506145477295, 10.3)\n"
          ],
          "name": "stdout"
        }
      ]
    },
    {
      "metadata": {
        "id": "ZfgOlqqD42YH",
        "colab_type": "code",
        "colab": {}
      },
      "cell_type": "code",
      "source": [
        "import seaborn as sns\n",
        "sns.set()\n",
        "sns.heatmap(conf)"
      ],
      "execution_count": 0,
      "outputs": []
    }
  ]
}